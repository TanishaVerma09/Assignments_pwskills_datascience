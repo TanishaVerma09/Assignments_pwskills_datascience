{
 "cells": [
  {
   "cell_type": "code",
   "execution_count": 1,
   "id": "d98fee28-5194-41f7-a1c9-aaec803bdbf4",
   "metadata": {},
   "outputs": [],
   "source": [
    "#Answer 1"
   ]
  },
  {
   "cell_type": "markdown",
   "id": "bf73a36f-c44a-4064-a6d9-e5358bedc558",
   "metadata": {},
   "source": [
    "Mean,Median,Mode"
   ]
  },
  {
   "cell_type": "code",
   "execution_count": 2,
   "id": "e170c713-b395-4058-b272-8a9e35a84173",
   "metadata": {},
   "outputs": [],
   "source": [
    "#Answer 2"
   ]
  },
  {
   "cell_type": "markdown",
   "id": "b6b0e342-3dcb-4dd6-8227-c579b4afc976",
   "metadata": {},
   "source": [
    "Mean:\n",
    "The mean is calculated by summing up all the values in the dataset and then dividing by the total number of data points. Mathematically, the mean is represented as:\n",
    "Mean = (Sum of all values) / (Number of data points)\n",
    "\n",
    "The mean is sensitive to outliers, meaning that extreme values can significantly impact its value. For example, if you have a dataset of incomes and there is one extremely high-income outlier, the mean income will be heavily influenced by that outlier.\n",
    "\n",
    "Median:\n",
    "The median is the middle value in a dataset when the values are arranged in ascending or descending order. If there is an odd number of data points, the median is the value exactly in the middle. If there is an even number of data points, the median is the average of the two middle values.\n",
    "The median is less affected by extreme values (outliers) in the dataset compared to the mean. It is useful when the dataset contains extreme values or is not symmetrically distributed.\n",
    "\n",
    "Mode:\n",
    "The mode is the value that appears most frequently in the dataset. In some cases, a dataset can be unimodal (one mode), bimodal (two modes), or multimodal (more than two modes).\n",
    "The mode is particularly helpful for datasets with categorical or discrete variables, where the values may not be continuous numbers. It can also be used for continuous data, but it is less informative than the mean or median in that case.\n",
    "\n",
    "How they are used to measure central tendency:\n",
    "\n",
    "The mean is often used when the data is normally distributed or close to normally distributed. It gives a good representation of the central value when there are no significant outliers.\n",
    "The median is preferred when the data has outliers or is skewed, as it is less influenced by extreme values.\n",
    "The mode is useful for describing the most common value or category in the dataset and is commonly used with categorical data."
   ]
  },
  {
   "cell_type": "code",
   "execution_count": 3,
   "id": "f94abef5-a3f9-4fb4-b0ad-d7617b22d32c",
   "metadata": {},
   "outputs": [],
   "source": [
    "#Answer 3"
   ]
  },
  {
   "cell_type": "code",
   "execution_count": 4,
   "id": "69dba75f-7146-4876-845c-be8bf61dcd66",
   "metadata": {},
   "outputs": [],
   "source": [
    "data= [178,177,176,177,178.2,178,175,179,180,175,178.9,176.2,177,172.5,178,176.5]"
   ]
  },
  {
   "cell_type": "code",
   "execution_count": 16,
   "id": "e6fd3c81-656a-45aa-96e9-1a6464dfe0f7",
   "metadata": {},
   "outputs": [],
   "source": [
    "import numpy as np\n",
    "import statistics as st"
   ]
  },
  {
   "cell_type": "code",
   "execution_count": 18,
   "id": "634638c9-0b77-47da-8941-07c546cf48a9",
   "metadata": {},
   "outputs": [
    {
     "name": "stdout",
     "output_type": "stream",
     "text": [
      "Mean : 177.01875\n",
      "Median : 177.0\n",
      "Mode : 178\n"
     ]
    }
   ],
   "source": [
    "data_mean=np.mean(data)\n",
    "data_median=np.median(data)\n",
    "data_mode=st.mode(data)\n",
    "print(\"Mean :\", data_mean)\n",
    "print(\"Median :\", data_median)\n",
    "print(\"Mode :\", data_mode)"
   ]
  },
  {
   "cell_type": "code",
   "execution_count": 19,
   "id": "aea034df-4066-4b9f-b0a7-2638bd2bc581",
   "metadata": {},
   "outputs": [],
   "source": [
    "#Answer 4"
   ]
  },
  {
   "cell_type": "code",
   "execution_count": 20,
   "id": "f9be7990-f5b5-45fa-b0d1-853d3497f147",
   "metadata": {},
   "outputs": [
    {
     "name": "stdout",
     "output_type": "stream",
     "text": [
      "Standard deviation is 1.7885814036548633\n"
     ]
    }
   ],
   "source": [
    "data=[178,177,176,177,178.2,178,175,179,180,175,178.9,176.2,177,172.5,178,176.5]\n",
    "std_deviation=np.std(data)\n",
    "print(\"Standard deviation is\", std_deviation)"
   ]
  },
  {
   "cell_type": "code",
   "execution_count": 21,
   "id": "69a2452d-7d20-4982-a8c1-508d92c39521",
   "metadata": {},
   "outputs": [],
   "source": [
    "#Answer 5"
   ]
  },
  {
   "cell_type": "markdown",
   "id": "ac6e7998-43c3-4435-929c-9bf351365aca",
   "metadata": {},
   "source": [
    "Range:\n",
    "The range is the simplest measure of dispersion and represents the difference between the maximum and minimum values in the dataset. It gives an idea of the total spread in the data but does not take into account the distribution of values between the minimum and maximum.\n",
    "Range = Maximum value - Minimum value\n",
    "\n",
    "Variance:\n",
    "The variance measures how far each data point in the dataset is from the mean. It quantifies the average squared deviation from the mean. A higher variance indicates that the data points are more spread out from the mean, while a lower variance suggests that the data points are closer to the mean.\n",
    "Population Variance = Σ((xi - μ)^2) / N\n",
    "\n",
    "where:\n",
    "\n",
    "xi is each data point in the dataset\n",
    "μ is the mean of the dataset\n",
    "N is the total number of data points\n",
    "\n",
    "Standard Deviation:\n",
    "The standard deviation is the square root of the variance. It is a more interpretable measure of dispersion because it is in the same units as the original data. A higher standard deviation means that the data points are more spread out from the mean, while a lower standard deviation suggests that the data points are closer to the mean.\n",
    "Population Standard Deviation = √(Σ((xi - μ)^2) / N)\n",
    "\n",
    "Example:\n",
    "Consider the following dataset representing the weights of a group of people (in kg):\n",
    "\n",
    "[62, 65, 70, 58, 68, 72, 63]\n",
    "\n",
    "Range:\n",
    "Range = Maximum value - Minimum value = 72 - 58 = 14\n",
    "\n",
    "Variance:\n",
    "Step 1: Calculate the mean\n",
    "Mean = (62 + 65 + 70 + 58 + 68 + 72 + 63) / 7 = 65.57 (approx)\n",
    "\n",
    "Step 2: Calculate the variance\n",
    "Variance = Σ((xi - μ)^2) / N\n",
    "Variance = [(62-65.57)^2 + (65-65.57)^2 + (70-65.57)^2 + (58-65.57)^2 + (68-65.57)^2 + (72-65.57)^2 + (63-65.57)^2] / 7\n",
    "Variance ≈ 15.90 (approx)\n",
    "\n",
    "Standard Deviation:\n",
    "Population Standard Deviation = √Variance ≈ √15.90 ≈ 3.99 (approx)\n",
    "\n",
    "So, the measures of dispersion for this dataset are:\n",
    "\n",
    "Range: 14\n",
    "Variance: 15.90 (approx)\n",
    "Standard Deviation: 3.99 (approx)\n",
    "These measures provide valuable information about how spread out the weights are in the dataset around the mean value. A higher standard deviation indicates greater variability, while a lower standard deviation suggests more consistency in the data."
   ]
  },
  {
   "cell_type": "code",
   "execution_count": 22,
   "id": "ce31ef9b-78e7-4567-b7d8-5bfaaecfa8b2",
   "metadata": {},
   "outputs": [],
   "source": [
    "#Answer 6"
   ]
  },
  {
   "cell_type": "markdown",
   "id": "f04e6903-3f8a-4d1c-832e-ce91fe4d39a6",
   "metadata": {},
   "source": [
    "A Venn diagram is a visual representation used to show the relationships between different sets of elements or groups. It consists of overlapping circles or other shapes, with each circle representing a set and the overlapping regions showing the elements that belong to multiple sets.\n",
    "\n",
    "In a Venn diagram, the elements or items that belong to each set are represented within the circles, and the common elements shared by different sets are placed in the overlapping regions. The non-overlapping areas outside the circles represent elements that do not belong to any of the sets.\n",
    "\n",
    "The main purpose of a Venn diagram is to illustrate the relationships and intersections between sets, making it easier to understand the similarities and differences among various groups of data. Venn diagrams are commonly used in mathematics, logic, statistics, and other fields to visually analyze and compare different datasets or categories."
   ]
  },
  {
   "cell_type": "code",
   "execution_count": 23,
   "id": "94fba475-b467-431f-9dbc-09c7513fa35e",
   "metadata": {},
   "outputs": [],
   "source": [
    "#Answer 7\n",
    "#A = (2,3,4,5,6,7) & B = (0,2,6,8,10)"
   ]
  },
  {
   "cell_type": "markdown",
   "id": "7df1233b-91fb-494f-b45a-5ab8bc9408cc",
   "metadata": {},
   "source": [
    "1. Intersection= (2,6)\n",
    "2. Union= (0,2,3,4,5,6,7,8,10)"
   ]
  },
  {
   "cell_type": "code",
   "execution_count": 24,
   "id": "9c235507-4481-485a-b861-bb6a72413445",
   "metadata": {},
   "outputs": [],
   "source": [
    "#Answer 8"
   ]
  },
  {
   "cell_type": "markdown",
   "id": "dc72d618-bf8c-469b-b365-681c22194fdc",
   "metadata": {},
   "source": [
    "Skewness is a statistical measure that indicates the asymmetry or lack of symmetry in the distribution of data points in a dataset. It provides insights into the shape of the data distribution and the concentration of values around the mean.\n",
    "\n",
    "In a perfectly symmetrical or \"normal\" distribution, the data is evenly distributed around the mean, and the left and right tails of the distribution are mirror images of each other. In such a case, the skewness is close to zero.\n",
    "\n",
    "However, in real-world datasets, it is common to encounter distributions that are not perfectly symmetrical. Skewness can take on three possible values:\n",
    "\n",
    "Positive Skewness (Right Skewness):\n",
    "If the distribution is positively skewed, it means that it has a longer tail on the right side and is \"skewed\" towards higher values. In other words, the majority of the data points are concentrated on the left side of the distribution, and the right tail extends further. The mean tends to be larger than the median in positively skewed data.\n",
    "\n",
    "Negative Skewness (Left Skewness):\n",
    "If the distribution is negatively skewed, it means that it has a longer tail on the left side and is \"skewed\" towards lower values. In this case, the majority of the data points are concentrated on the right side of the distribution, and the left tail extends further. The mean tends to be smaller than the median in negatively skewed data.\n",
    "\n",
    "Zero Skewness:\n",
    "If the skewness is close to zero, the distribution is approximately symmetrical, and the left and right tails are balanced. The mean and median are roughly equal in such cases."
   ]
  },
  {
   "cell_type": "code",
   "execution_count": 25,
   "id": "98a6c954-3aac-4c98-aeaf-d5e30bc1f635",
   "metadata": {},
   "outputs": [],
   "source": [
    "#Answer 9"
   ]
  },
  {
   "cell_type": "markdown",
   "id": "f835dcce-1ff0-46d0-806e-6b0a007eff5b",
   "metadata": {},
   "source": [
    "If a dataset is right-skewed, it means that the distribution has a longer tail on the right side, and the majority of the data points are concentrated on the left side, towards lower values. In this scenario, the mean will be greater than the median."
   ]
  },
  {
   "cell_type": "code",
   "execution_count": 27,
   "id": "3bf45e46-5531-4df9-82a6-25a3c2d9fb1b",
   "metadata": {},
   "outputs": [],
   "source": [
    "#Answer 10 same as Answer 13"
   ]
  },
  {
   "cell_type": "markdown",
   "id": "b1c03a92-4dad-4e52-a2b5-12e70c02e9b2",
   "metadata": {},
   "source": [
    "Covariance:\n",
    "Covariance measures the degree to which two variables change together. It indicates the direction of the relationship (positive or negative) and whether the variables tend to increase or decrease together. A positive covariance means that when one variable increases, the other tends to increase as well, while a negative covariance means that when one variable increases, the other tends to decrease.\n",
    "The formula to calculate the covariance between two variables X and Y in a dataset with N data points is:\n",
    "\n",
    "Cov(X, Y) = Σ((Xi - X̄) * (Yi - Ȳ)) / N\n",
    "\n",
    "where:\n",
    "\n",
    "Xi and Yi are the individual data points of variables X and Y, respectively.\n",
    "X̄ and Ȳ are the means of variables X and Y, respectively.\n",
    "N is the total number of data points.\n",
    "\n",
    "The main limitation of covariance is that its value depends on the scale of the variables being measured. Therefore, it is difficult to interpret the magnitude of the covariance, and comparisons between different datasets may be misleading.\n",
    "\n",
    "Correlation:\n",
    "Correlation, specifically Pearson correlation coefficient, is a standardized version of covariance that ranges between -1 and 1. It normalizes the covariance by dividing it by the product of the standard deviations of the two variables. This normalization scales the correlation and makes it easier to interpret and compare across different datasets.\n",
    "The formula to calculate the correlation coefficient (r) between two variables X and Y is:\n",
    "\n",
    "r = Cov(X, Y) / (σX * σY)\n",
    "\n",
    "where:\n",
    "\n",
    "Cov(X, Y) is the covariance between X and Y.\n",
    "σX and σY are the standard deviations of X and Y, respectively.\n",
    "\n",
    "The correlation coefficient (r) takes values between -1 and 1:\n",
    "\n",
    "r = 1 indicates a perfect positive correlation (both variables move in the same direction with a linear relationship).\n",
    "r = -1 indicates a perfect negative correlation (both variables move in opposite directions with a linear relationship).\n",
    "r ≈ 0 indicates a weak or no linear relationship between the variables.\n",
    "\n",
    "How they are used in statistical analysis:\n",
    "\n",
    "Covariance and correlation are used to understand the relationship between two variables. Positive values indicate that the variables tend to move together, while negative values indicate they move in opposite directions.\n",
    "Correlation is preferred over covariance when comparing the relationships between different datasets, as it standardizes the measure and makes it easier to interpret and compare.\n",
    "Correlation is widely used in linear regression analysis to understand the strength and direction of the relationship between the dependent and independent variables.\n",
    "Both covariance and correlation are valuable in data exploration, identifying patterns, and understanding dependencies between variables in statistical analysis."
   ]
  },
  {
   "cell_type": "code",
   "execution_count": 28,
   "id": "f601df99-d172-415a-b553-75ad0d61ee09",
   "metadata": {},
   "outputs": [],
   "source": [
    "#Answer 11"
   ]
  },
  {
   "cell_type": "markdown",
   "id": "12519065-6733-4d76-af50-333ca849d690",
   "metadata": {},
   "source": [
    "The formula for calculating the sample mean is quite simple. It is the sum of all the data points in the dataset divided by the total number of data points. Mathematically, the sample mean (x̄) is represented as:\n",
    "\n",
    "Sample Mean (x̄) = (Σxi) / N\n",
    "\n",
    "where:\n",
    "\n",
    "xi represents each individual data point in the dataset.\n",
    "Σxi indicates the sum of all data points.\n",
    "N is the total number of data points in the dataset.\n",
    "Now, let's calculate the sample mean for a dataset as an example:\n",
    "\n",
    "Example dataset: [10, 12, 15, 17, 20]\n",
    "Step 1: Add all the data points together:\n",
    "Sum = 10 + 12 + 15 + 17 + 20 = 74\n",
    "\n",
    "Step 2: Find the total number of data points:\n",
    "N = 5\n",
    "\n",
    "Step 3: Calculate the sample mean:\n",
    "Sample Mean (x̄) = Sum / N\n",
    "Sample Mean (x̄) = 74 / 5\n",
    "Sample Mean (x̄) = 14.8\n",
    "\n",
    "So, the sample mean of the given dataset is 14.8."
   ]
  },
  {
   "cell_type": "code",
   "execution_count": 29,
   "id": "6daa33c3-ce61-4b4e-89ad-92bf712dc8ea",
   "metadata": {},
   "outputs": [],
   "source": [
    "#Answer 12"
   ]
  },
  {
   "cell_type": "markdown",
   "id": "218dadec-c45c-49ba-85e0-1bad026ef430",
   "metadata": {},
   "source": [
    "Mean:\n",
    "In a normal distribution, the mean is located at the center of the distribution, and it is equal to the median. This is a defining characteristic of a perfectly symmetrical normal distribution. The mean represents the balance point of the data, where half of the data lies to the left, and the other half lies to the right.\n",
    "\n",
    "Median:\n",
    "As mentioned above, in a normal distribution, the median is equal to the mean. The median is the middle value in the dataset when arranged in ascending or descending order. In a perfectly symmetrical distribution like the normal distribution, the median coincides with the mean, as the distribution is symmetric around the center.\n",
    "\n",
    "Mode:\n",
    "In a normal distribution, the mode also coincides with the mean and median. Since the normal distribution is symmetrical, every value in the distribution is equally likely to occur. Therefore, all values have the same frequency, making the mode identical to the mean and median.\n",
    "\n",
    "To summarize, for a normal distribution:\n",
    "\n",
    "Mean = Median = Mode"
   ]
  },
  {
   "cell_type": "code",
   "execution_count": 30,
   "id": "0ce3ec6b-3475-4c0e-9c18-845eb596ca8c",
   "metadata": {},
   "outputs": [],
   "source": [
    "#Answer 14"
   ]
  },
  {
   "cell_type": "code",
   "execution_count": null,
   "id": "d15f715a-e55a-46a6-b71a-c65fae12938c",
   "metadata": {},
   "outputs": [],
   "source": []
  }
 ],
 "metadata": {
  "kernelspec": {
   "display_name": "Python 3 (ipykernel)",
   "language": "python",
   "name": "python3"
  },
  "language_info": {
   "codemirror_mode": {
    "name": "ipython",
    "version": 3
   },
   "file_extension": ".py",
   "mimetype": "text/x-python",
   "name": "python",
   "nbconvert_exporter": "python",
   "pygments_lexer": "ipython3",
   "version": "3.10.8"
  }
 },
 "nbformat": 4,
 "nbformat_minor": 5
}
