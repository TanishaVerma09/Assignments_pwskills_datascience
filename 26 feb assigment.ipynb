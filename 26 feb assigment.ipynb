{
 "cells": [
  {
   "cell_type": "code",
   "execution_count": 1,
   "id": "c891d72f-d0b1-437f-a6b2-85ac05531796",
   "metadata": {},
   "outputs": [],
   "source": [
    "#Answer 1"
   ]
  },
  {
   "cell_type": "markdown",
   "id": "86fba191-9a37-43e5-90a5-7c210e06d254",
   "metadata": {},
   "source": [
    "Both list_ and array_list variables are of differecnt data types- python list and a numpy array respectivly."
   ]
  },
  {
   "cell_type": "code",
   "execution_count": 4,
   "id": "655eb766-26ee-4afd-b660-dd0a8d416cd4",
   "metadata": {},
   "outputs": [],
   "source": [
    "import numpy as np\n",
    "list_ = ['1','2','3','4','5']\n",
    "array_list = np.array(object = list_)"
   ]
  },
  {
   "cell_type": "code",
   "execution_count": 8,
   "id": "fcfba976-ae7d-4ce7-bb45-c48791f27471",
   "metadata": {},
   "outputs": [
    {
     "name": "stdout",
     "output_type": "stream",
     "text": [
      "<class 'list'>\n",
      "<class 'numpy.ndarray'>\n"
     ]
    }
   ],
   "source": [
    "print(type(list_))\n",
    "print(type(array_list))"
   ]
  },
  {
   "cell_type": "code",
   "execution_count": 9,
   "id": "bb36c87e-bc03-4fdb-8865-389c59833670",
   "metadata": {},
   "outputs": [],
   "source": [
    "#Answer 2"
   ]
  },
  {
   "cell_type": "code",
   "execution_count": 14,
   "id": "a600e747-06dd-4d5d-b5ea-04c6562208d1",
   "metadata": {},
   "outputs": [
    {
     "name": "stdout",
     "output_type": "stream",
     "text": [
      "In variable list_\n",
      "\n",
      "1 <class 'str'>\n",
      "2 <class 'str'>\n",
      "3 <class 'str'>\n",
      "4 <class 'str'>\n",
      "5 <class 'str'>\n",
      " \n",
      "In variable array_list\n",
      "\n",
      "1 <class 'numpy.str_'>\n",
      "2 <class 'numpy.str_'>\n",
      "3 <class 'numpy.str_'>\n",
      "4 <class 'numpy.str_'>\n",
      "5 <class 'numpy.str_'>\n"
     ]
    }
   ],
   "source": [
    "print(\"In variable list_\\n\")\n",
    "for i in list_:\n",
    "    print(i, type(i))\n",
    "print(\" \")   \n",
    "print(\"In variable array_list\\n\")\n",
    "for j in array_list:\n",
    "    print(j, type(j))"
   ]
  },
  {
   "cell_type": "code",
   "execution_count": 15,
   "id": "b94ed742-8f44-482c-9faa-495305abac13",
   "metadata": {},
   "outputs": [],
   "source": [
    "#Answer 3"
   ]
  },
  {
   "cell_type": "code",
   "execution_count": 17,
   "id": "f2481af4-42a6-4527-b0b6-1894e3b02ec8",
   "metadata": {},
   "outputs": [
    {
     "name": "stdout",
     "output_type": "stream",
     "text": [
      "In variable list_\n",
      "\n",
      "1 <class 'str'>\n",
      "2 <class 'str'>\n",
      "3 <class 'str'>\n",
      "4 <class 'str'>\n",
      "5 <class 'str'>\n",
      " \n",
      "In variable array_list\n",
      "\n",
      "1 <class 'numpy.int64'>\n",
      "2 <class 'numpy.int64'>\n",
      "3 <class 'numpy.int64'>\n",
      "4 <class 'numpy.int64'>\n",
      "5 <class 'numpy.int64'>\n"
     ]
    }
   ],
   "source": [
    "array_list = np.array(object = list_, dtype = int)\n",
    "print(\"In variable list_\\n\")\n",
    "for i in list_:\n",
    "    print(i, type(i))\n",
    "print(\" \")   \n",
    "print(\"In variable array_list\\n\")\n",
    "for j in array_list:\n",
    "    print(j, type(j))"
   ]
  },
  {
   "cell_type": "markdown",
   "id": "4f5b218a-bb09-4481-88de-e848f25bfbf8",
   "metadata": {},
   "source": [
    "Yes, there will be change in data type of elements of array_list, they are converted to integer from string however datatype of elements of list_ remains the same."
   ]
  },
  {
   "cell_type": "code",
   "execution_count": 18,
   "id": "c30ec7e3-2e91-4ee6-9f22-099b75a7fbe7",
   "metadata": {},
   "outputs": [],
   "source": [
    "#Answer 4"
   ]
  },
  {
   "cell_type": "code",
   "execution_count": 19,
   "id": "da412165-05a2-492f-bbfd-add6e8994c3f",
   "metadata": {},
   "outputs": [],
   "source": [
    "import numpy as np\n",
    "num_list = [ [ 1 , 2 , 3 ] , [ 4 , 5 , 6 ] ]\n",
    "num_array = np.array(object = num_list)"
   ]
  },
  {
   "cell_type": "code",
   "execution_count": 22,
   "id": "b6042973-f805-41e8-b6c6-d51f0dd95a50",
   "metadata": {},
   "outputs": [
    {
     "name": "stdout",
     "output_type": "stream",
     "text": [
      "shape is (2, 3)\n",
      "size is 6\n"
     ]
    }
   ],
   "source": [
    "import numpy as np\n",
    "print('shape is', num_array.shape)\n",
    "print('size is', num_array.size)"
   ]
  },
  {
   "cell_type": "code",
   "execution_count": 23,
   "id": "5156e6b9-a1c3-45c8-8f15-39e0fc172022",
   "metadata": {},
   "outputs": [],
   "source": [
    "#Answer 5"
   ]
  },
  {
   "cell_type": "code",
   "execution_count": 28,
   "id": "9399b144-36c4-4821-897b-1599135ff726",
   "metadata": {},
   "outputs": [
    {
     "name": "stdout",
     "output_type": "stream",
     "text": [
      "[]\n"
     ]
    }
   ],
   "source": [
    "import numpy as np\n",
    "arr=np.array([[[]]])\n",
    "print(arr)"
   ]
  },
  {
   "cell_type": "code",
   "execution_count": null,
   "id": "e3fb81d2-9e9c-42ca-8bf3-5c356b396360",
   "metadata": {},
   "outputs": [],
   "source": []
  }
 ],
 "metadata": {
  "kernelspec": {
   "display_name": "Python 3 (ipykernel)",
   "language": "python",
   "name": "python3"
  },
  "language_info": {
   "codemirror_mode": {
    "name": "ipython",
    "version": 3
   },
   "file_extension": ".py",
   "mimetype": "text/x-python",
   "name": "python",
   "nbconvert_exporter": "python",
   "pygments_lexer": "ipython3",
   "version": "3.10.8"
  }
 },
 "nbformat": 4,
 "nbformat_minor": 5
}
