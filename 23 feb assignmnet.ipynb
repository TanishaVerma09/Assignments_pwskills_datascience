{
 "cells": [
  {
   "cell_type": "code",
   "execution_count": 1,
   "id": "e3bf3dac-8ec1-46fe-a468-e09627f1ca73",
   "metadata": {},
   "outputs": [
    {
     "name": "stdout",
     "output_type": "stream",
     "text": [
      "Requirement already satisfied: pandas in /opt/conda/lib/python3.10/site-packages (1.5.2)\n",
      "Requirement already satisfied: python-dateutil>=2.8.1 in /opt/conda/lib/python3.10/site-packages (from pandas) (2.8.2)\n",
      "Requirement already satisfied: pytz>=2020.1 in /opt/conda/lib/python3.10/site-packages (from pandas) (2022.6)\n",
      "Requirement already satisfied: numpy>=1.21.0 in /opt/conda/lib/python3.10/site-packages (from pandas) (1.23.5)\n",
      "Requirement already satisfied: six>=1.5 in /opt/conda/lib/python3.10/site-packages (from python-dateutil>=2.8.1->pandas) (1.16.0)\n",
      "Note: you may need to restart the kernel to use updated packages.\n"
     ]
    }
   ],
   "source": [
    "pip install pandas"
   ]
  },
  {
   "cell_type": "code",
   "execution_count": 1,
   "id": "b313499c-81dc-4e8a-a10a-13ff349e9341",
   "metadata": {},
   "outputs": [],
   "source": [
    "import pandas as pd"
   ]
  },
  {
   "cell_type": "code",
   "execution_count": 5,
   "id": "c8d381eb-801e-4db8-a0f1-342178fc119b",
   "metadata": {},
   "outputs": [],
   "source": [
    "#Answer 1"
   ]
  },
  {
   "cell_type": "code",
   "execution_count": 3,
   "id": "e03c0492-0152-4b9c-ab16-02853b4e964e",
   "metadata": {},
   "outputs": [
    {
     "name": "stdout",
     "output_type": "stream",
     "text": [
      "0     4\n",
      "1     8\n",
      "2    15\n",
      "3    16\n",
      "4    23\n",
      "5    42\n",
      "dtype: int64\n"
     ]
    }
   ],
   "source": [
    "import pandas as pd\n",
    "\n",
    "data = [4, 8, 15, 16, 23, 42]\n",
    "series = pd.Series(data)\n",
    "\n",
    "print(series)\n"
   ]
  },
  {
   "cell_type": "code",
   "execution_count": 4,
   "id": "fa16244f-9d53-4df2-a35e-c898c8f31d98",
   "metadata": {},
   "outputs": [],
   "source": [
    "#Answer 2"
   ]
  },
  {
   "cell_type": "code",
   "execution_count": 6,
   "id": "1af36469-df35-480e-bf5b-b4c1ed406e2e",
   "metadata": {},
   "outputs": [
    {
     "name": "stdout",
     "output_type": "stream",
     "text": [
      "0     1\n",
      "1     2\n",
      "2     3\n",
      "3     4\n",
      "4     5\n",
      "5     6\n",
      "6     7\n",
      "7     8\n",
      "8     9\n",
      "9    10\n",
      "dtype: int64\n"
     ]
    }
   ],
   "source": [
    "a=[1,2,3,4,5,6,7,8,9,10]\n",
    "series=pd.Series(a)\n",
    "print(series)"
   ]
  },
  {
   "cell_type": "code",
   "execution_count": 7,
   "id": "2ba11e4e-ce4b-474c-9cdb-36412deaa47a",
   "metadata": {},
   "outputs": [],
   "source": [
    "#Answer 3"
   ]
  },
  {
   "cell_type": "code",
   "execution_count": 9,
   "id": "ddf17c42-f4e5-4990-bcfd-23189c6827b1",
   "metadata": {},
   "outputs": [
    {
     "name": "stdout",
     "output_type": "stream",
     "text": [
      "     Name  Age  Gender\n",
      "0   Alice   25  Female\n",
      "1     Bob   30    Male\n",
      "2  Claire   27  Female\n"
     ]
    }
   ],
   "source": [
    "name=['Alice','Bob','Claire']\n",
    "age=[25,30,27]\n",
    "gender=['Female','Male','Female']\n",
    "\n",
    "data={'Name': name, 'Age': age, 'Gender': gender}\n",
    "df=pd.DataFrame(data)\n",
    "print(df)"
   ]
  },
  {
   "cell_type": "code",
   "execution_count": 10,
   "id": "04a0e125-58e4-4765-b557-e7ceacc1fca9",
   "metadata": {},
   "outputs": [],
   "source": [
    "#Answer 4"
   ]
  },
  {
   "cell_type": "markdown",
   "id": "44631b5d-d6ba-48ec-b9ee-1a0ad8323eec",
   "metadata": {},
   "source": [
    "A dataframe is a tabular data structure that consists of rows and columns. It can be thought of as a collection of Pandas Series objects, where each column represents a Series. A DataFrame provides a convenient way to store, manipulate, and analyze data.\n",
    "\n",
    "A Pandas Series, on the other hand, is a one-dimensional labeled array that can store data of any data type. It is similar to a column in a spreadsheet or a single variable in a dataset. A DataFrame can be seen as a collection of Series, where each column represents a Series."
   ]
  },
  {
   "cell_type": "code",
   "execution_count": 11,
   "id": "f597aaf2-b38b-4617-b525-b147ac1a2276",
   "metadata": {},
   "outputs": [
    {
     "name": "stdout",
     "output_type": "stream",
     "text": [
      "Series:\n",
      "0      Alice\n",
      "1        Bob\n",
      "2    Charlie\n",
      "3      David\n",
      "dtype: object\n",
      "\n",
      "DataFrame:\n",
      "      Name  Age      City\n",
      "0    Alice   25  New York\n",
      "1      Bob   30    London\n",
      "2  Charlie   35     Paris\n",
      "3    David   40     Tokyo\n"
     ]
    }
   ],
   "source": [
    "import pandas as pd\n",
    "\n",
    "# Creating a Series\n",
    "names = pd.Series(['Alice', 'Bob', 'Charlie', 'David'])\n",
    "print(\"Series:\")\n",
    "print(names)\n",
    "print()\n",
    "\n",
    "# Creating a DataFrame\n",
    "data = {'Name': names, 'Age': [25, 30, 35, 40], 'City': ['New York', 'London', 'Paris', 'Tokyo']}\n",
    "df = pd.DataFrame(data)\n",
    "print(\"DataFrame:\")\n",
    "print(df)\n"
   ]
  },
  {
   "cell_type": "code",
   "execution_count": 12,
   "id": "b777ae81-18eb-44c8-920a-e087ee3ec183",
   "metadata": {},
   "outputs": [],
   "source": [
    "#Answer 5"
   ]
  },
  {
   "cell_type": "markdown",
   "id": "2b6ac68a-2408-4b16-8d25-a1b6c1e15e21",
   "metadata": {},
   "source": [
    "head() and tail(): These functions allow you to view the first few rows (head()) or the last few rows (tail()) of a DataFrame. They are useful for quickly inspecting the structure and content of a DataFrame.\n",
    "\n",
    "info(): This function provides a summary of the DataFrame, including the column names, data types, and non-null values. It helps to understand the data types and identify missing or inconsistent values.\n",
    "\n",
    "describe(): This function generates descriptive statistics for numerical columns in the DataFrame, such as count, mean, standard deviation, minimum, maximum, and quartiles. It gives you a quick overview of the central tendencies and distribution of the data.\n",
    "\n",
    "shape: This attribute returns a tuple representing the dimensions of the DataFrame, i.e., the number of rows and columns.\n",
    "\n",
    "columns: This attribute returns a list of column names in the DataFrame.\n",
    "\n",
    "iloc[] and loc[]: These functions allow for indexing and slicing of a DataFrame. iloc[] is used for integer-based indexing, while loc[] is used for label-based indexing. They enable you to select specific rows or columns based on their indices or labels.\n",
    "\n",
    "drop(): This function is used to remove rows or columns from the DataFrame. It allows you to specify the labels or indices of the rows or columns you want to drop.\n",
    "\n",
    "sort_values(): This function is used to sort the DataFrame by one or more columns. It allows you to specify the column(s) by which the DataFrame should be sorted.\n",
    "\n",
    "groupby(): This function is used for grouping and aggregating data based on one or more columns. It allows you to apply functions like sum(), mean(), count(), etc., on specific groups of data.\n",
    "\n",
    "merge(): This function is used to combine two or more DataFrames based on a common column or index. It is useful when you want to combine information from different sources into a single DataFrame."
   ]
  },
  {
   "cell_type": "code",
   "execution_count": 13,
   "id": "c3095e99-6352-42aa-b5c5-f89fd5031088",
   "metadata": {},
   "outputs": [
    {
     "name": "stdout",
     "output_type": "stream",
     "text": [
      "First few rows:\n",
      "      Name  Age      City\n",
      "0    Alice   25  New York\n",
      "1      Bob   30    London\n",
      "2  Charlie   35     Paris\n",
      "3    David   40     Tokyo\n",
      "\n",
      "Data summary:\n",
      "<class 'pandas.core.frame.DataFrame'>\n",
      "RangeIndex: 4 entries, 0 to 3\n",
      "Data columns (total 3 columns):\n",
      " #   Column  Non-Null Count  Dtype \n",
      "---  ------  --------------  ----- \n",
      " 0   Name    4 non-null      object\n",
      " 1   Age     4 non-null      int64 \n",
      " 2   City    4 non-null      object\n",
      "dtypes: int64(1), object(2)\n",
      "memory usage: 224.0+ bytes\n",
      "None\n",
      "\n",
      "Descriptive statistics:\n",
      "             Age\n",
      "count   4.000000\n",
      "mean   32.500000\n",
      "std     6.454972\n",
      "min    25.000000\n",
      "25%    28.750000\n",
      "50%    32.500000\n",
      "75%    36.250000\n",
      "max    40.000000\n",
      "\n",
      "Sorted DataFrame:\n",
      "      Name  Age      City\n",
      "0    Alice   25  New York\n",
      "1      Bob   30    London\n",
      "2  Charlie   35     Paris\n",
      "3    David   40     Tokyo\n"
     ]
    }
   ],
   "source": [
    "import pandas as pd\n",
    "\n",
    "# Creating a DataFrame\n",
    "data = {'Name': ['Alice', 'Bob', 'Charlie', 'David'],\n",
    "        'Age': [25, 30, 35, 40],\n",
    "        'City': ['New York', 'London', 'Paris', 'Tokyo']}\n",
    "df = pd.DataFrame(data)\n",
    "\n",
    "# View the first few rows\n",
    "print(\"First few rows:\")\n",
    "print(df.head())\n",
    "print()\n",
    "\n",
    "# Check the data types and non-null values\n",
    "print(\"Data summary:\")\n",
    "print(df.info())\n",
    "print()\n",
    "\n",
    "# Generate descriptive statistics for numerical columns\n",
    "print(\"Descriptive statistics:\")\n",
    "print(df.describe())\n",
    "print()\n",
    "\n",
    "# Sort the DataFrame by 'Age' column\n",
    "sorted_df = df.sort_values('Age')\n",
    "print(\"Sorted DataFrame:\")\n",
    "print(sorted_df)\n"
   ]
  },
  {
   "cell_type": "code",
   "execution_count": 14,
   "id": "f865ac89-bc42-4859-9d9a-594a06accc41",
   "metadata": {},
   "outputs": [],
   "source": [
    "#Answer 6"
   ]
  },
  {
   "cell_type": "markdown",
   "id": "158ba882-6d88-443e-9e97-08c2cf565355",
   "metadata": {},
   "source": [
    "Among the options provided, both Series and DataFrame are mutable in nature, while Panel is not.\n",
    "\n",
    "In Pandas, a mutable object can be modified after its creation. This means that you can change the values, add or remove rows or columns, and perform other manipulations on the object.\n",
    "\n",
    "Series: A Pandas Series is mutable, meaning you can modify its elements, change the index labels, or add new elements to the Series.\n",
    "\n",
    "DataFrame: A Pandas DataFrame is also mutable. You can modify the values in individual cells, add or remove columns, change the index or column labels, and perform various operations to modify the structure and content of the DataFrame.\n",
    "\n",
    "Panel: However, Panels in Pandas are not mutable. Panels were a data structure in older versions of Pandas but have been deprecated in favor of using multi-indexed DataFrames. Panels are not recommended for new code and lack many of the features and flexibility of DataFrames.\n"
   ]
  },
  {
   "cell_type": "code",
   "execution_count": 15,
   "id": "cd1a574b-bb1f-4efa-96e1-a1fd97ee34a6",
   "metadata": {},
   "outputs": [],
   "source": [
    "#Answer 7"
   ]
  },
  {
   "cell_type": "code",
   "execution_count": 16,
   "id": "97cfb9c6-b571-4dbf-a78c-1af31ed16b32",
   "metadata": {},
   "outputs": [
    {
     "name": "stdout",
     "output_type": "stream",
     "text": [
      "      Name  Age      City\n",
      "0    Alice   25  New York\n",
      "1      Bob   30    London\n",
      "2  Charlie   35     Paris\n"
     ]
    }
   ],
   "source": [
    "import pandas as pd\n",
    "\n",
    "# Creating Series\n",
    "names = pd.Series(['Alice', 'Bob', 'Charlie'])\n",
    "ages = pd.Series([25, 30, 35])\n",
    "cities = pd.Series(['New York', 'London', 'Paris'])\n",
    "\n",
    "# Creating DataFrame using the Series\n",
    "data = {'Name': names, 'Age': ages, 'City': cities}\n",
    "df = pd.DataFrame(data)\n",
    "\n",
    "# Printing the DataFrame\n",
    "print(df)\n"
   ]
  },
  {
   "cell_type": "markdown",
   "id": "3971053a-48e5-4105-b512-cb0695364b39",
   "metadata": {},
   "source": [
    "we create three Series: names, ages, and cities. Each Series represents a column of data.\n",
    "\n",
    "Next, we create a dictionary data where the keys are the column names ('Name', 'Age', 'City') and the values are the corresponding Series. We pass this dictionary to the pd.DataFrame() function to create a DataFrame named df.\n",
    "\n",
    "Finally, we print the DataFrame using the print() function, which displays the tabular structure with three columns: 'Name', 'Age', and 'City'. Each row represents an observation or entry, with values from the respective Series."
   ]
  },
  {
   "cell_type": "code",
   "execution_count": null,
   "id": "88962ccf-742b-4cde-b175-28edd85e16c0",
   "metadata": {},
   "outputs": [],
   "source": []
  }
 ],
 "metadata": {
  "kernelspec": {
   "display_name": "Python 3 (ipykernel)",
   "language": "python",
   "name": "python3"
  },
  "language_info": {
   "codemirror_mode": {
    "name": "ipython",
    "version": 3
   },
   "file_extension": ".py",
   "mimetype": "text/x-python",
   "name": "python",
   "nbconvert_exporter": "python",
   "pygments_lexer": "ipython3",
   "version": "3.10.8"
  }
 },
 "nbformat": 4,
 "nbformat_minor": 5
}
