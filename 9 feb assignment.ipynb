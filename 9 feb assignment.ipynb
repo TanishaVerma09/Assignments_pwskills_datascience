{
 "cells": [
  {
   "cell_type": "code",
   "execution_count": 1,
   "id": "e0593fde-843e-468f-865c-b4033dcd2fa4",
   "metadata": {},
   "outputs": [],
   "source": [
    "#Answer 1"
   ]
  },
  {
   "cell_type": "code",
   "execution_count": 2,
   "id": "2b06e687-aa55-433c-8bf5-94ee03812630",
   "metadata": {},
   "outputs": [],
   "source": [
    "class vehicle():\n",
    "    def __init__(self,name_of_vehicle,max_speed,average_of_vehicle):\n",
    "        self.name_of_vehicle=name_of_vehicle\n",
    "        self.max_speed=max_speed\n",
    "        self.average_of_vehicle=average_of_vehicle"
   ]
  },
  {
   "cell_type": "code",
   "execution_count": 3,
   "id": "382b75d7-2642-4fe0-aed4-7fa1a3a6d1fa",
   "metadata": {},
   "outputs": [],
   "source": [
    "#Answer 2"
   ]
  },
  {
   "cell_type": "code",
   "execution_count": 4,
   "id": "653d6247-1f42-4cdd-a600-705278e919f2",
   "metadata": {},
   "outputs": [],
   "source": [
    "class car(vehicle):\n",
    "    def seating_capacity(self,capacity):\n",
    "        self.capacity=capacity\n",
    "        return self.name_of_vehicle,self.capacity\n",
    "       "
   ]
  },
  {
   "cell_type": "code",
   "execution_count": 5,
   "id": "9ae06954-62f6-4d5d-9232-531ac0e8f390",
   "metadata": {},
   "outputs": [
    {
     "data": {
      "text/plain": [
       "('innova', 6)"
      ]
     },
     "execution_count": 5,
     "metadata": {},
     "output_type": "execute_result"
    }
   ],
   "source": [
    "obj_vehicle=vehicle(\"toyota\",80,20)\n",
    "obj_car=car(\"innova\",100,25)\n",
    "obj_car.seating_capacity(6)"
   ]
  },
  {
   "cell_type": "code",
   "execution_count": 6,
   "id": "317c7d2d-aaf2-4b37-9c4a-35f4b50ac0b2",
   "metadata": {},
   "outputs": [],
   "source": [
    "#Answer 3"
   ]
  },
  {
   "cell_type": "markdown",
   "id": "e75a8530-210c-4ffe-8d53-72704a2d9d90",
   "metadata": {},
   "source": [
    "Multiple inheritance is a concept of inheriting methods and functions from parent class to child class or grandchild class and inheriting methods and functions from child class to grandchild class and so on to achieve reusability of code."
   ]
  },
  {
   "cell_type": "code",
   "execution_count": 36,
   "id": "5bf42a28-6db3-4e2d-b862-9dc61447972f",
   "metadata": {},
   "outputs": [],
   "source": [
    "class vehicle:\n",
    "    def __init__(self,name_of_vehicle,max_speed,average_of_vehicle):\n",
    "        self.name_of_vehicle=name_of_vehicle\n",
    "        self.max_speed=max_speed\n",
    "        self.average_of_vehicle=average_of_vehicle"
   ]
  },
  {
   "cell_type": "code",
   "execution_count": 37,
   "id": "4297fde4-796c-4d70-b869-adcad1a18e17",
   "metadata": {},
   "outputs": [],
   "source": [
    "class car:\n",
    "    def seating_capacity(self,capacity):\n",
    "        self.capacity=capacity\n",
    "        return self.capacity"
   ]
  },
  {
   "cell_type": "code",
   "execution_count": 38,
   "id": "0dd2f2cb-8bbc-451c-936e-0fef525433b6",
   "metadata": {},
   "outputs": [],
   "source": [
    "class bike(vehicle,car):\n",
    "    def average_milaege(self,milaege):\n",
    "        self.milaege=milaege\n",
    "        return self.milaege, self.capacity, self.max_speed, self.average_of_vehicle, self.name_of_vehicle"
   ]
  },
  {
   "cell_type": "code",
   "execution_count": 39,
   "id": "78bbf65a-f4fb-4ce9-a7b1-06e3a92cc62e",
   "metadata": {},
   "outputs": [],
   "source": [
    "obj1_bike = bike(\"honda\",50,100)"
   ]
  },
  {
   "cell_type": "code",
   "execution_count": 40,
   "id": "463e937a-1314-4b1e-8fdf-4fa6ca7bd9df",
   "metadata": {},
   "outputs": [
    {
     "data": {
      "text/plain": [
       "50"
      ]
     },
     "execution_count": 40,
     "metadata": {},
     "output_type": "execute_result"
    }
   ],
   "source": [
    "obj1_bike.max_speed"
   ]
  },
  {
   "cell_type": "code",
   "execution_count": 22,
   "id": "14d6db4b-02f3-4e63-8cae-b80d5ed43cc3",
   "metadata": {},
   "outputs": [],
   "source": [
    "#Answer 4"
   ]
  },
  {
   "cell_type": "markdown",
   "id": "bf101ee3-20e0-4580-a6b6-ae414ed855f8",
   "metadata": {},
   "source": [
    "Getter and Setter are property decorators in python that help the user to get and set vvalues of methods without accesing the main method.Basically they are to ensure data encapsulation."
   ]
  },
  {
   "cell_type": "code",
   "execution_count": 13,
   "id": "c55651e6-b0fd-41b4-ab8c-e134c1f4ddb1",
   "metadata": {},
   "outputs": [],
   "source": [
    "class A():\n",
    "    def __init__(self,name,mobile):\n",
    "        self.name=name\n",
    "        self.__mobile=mobile\n",
    "    #getter\n",
    "    @property\n",
    "    def mobile_get(self):\n",
    "        return self.__mobile\n",
    "    #setter\n",
    "    @mobile_get.setter\n",
    "    def mobile_set(self,new_mobile):\n",
    "         self.__mobile=new_mobile"
   ]
  },
  {
   "cell_type": "code",
   "execution_count": 15,
   "id": "40b78a92-5bb5-416a-a2dc-3fa66bd4ac86",
   "metadata": {},
   "outputs": [],
   "source": [
    "pw=A('Tanisha',987654325)"
   ]
  },
  {
   "cell_type": "code",
   "execution_count": 16,
   "id": "9f84b7c4-5439-4931-8097-b2d7ad5b7beb",
   "metadata": {},
   "outputs": [
    {
     "data": {
      "text/plain": [
       "987654325"
      ]
     },
     "execution_count": 16,
     "metadata": {},
     "output_type": "execute_result"
    }
   ],
   "source": [
    "pw.mobile_get"
   ]
  },
  {
   "cell_type": "code",
   "execution_count": 17,
   "id": "070022b9-7a88-49fa-a6ff-aba87e1ecca6",
   "metadata": {},
   "outputs": [
    {
     "data": {
      "text/plain": [
       "'Tanisha'"
      ]
     },
     "execution_count": 17,
     "metadata": {},
     "output_type": "execute_result"
    }
   ],
   "source": [
    "pw.name"
   ]
  },
  {
   "cell_type": "code",
   "execution_count": 19,
   "id": "27f082a0-b4a2-4f4c-b832-8b233238c046",
   "metadata": {},
   "outputs": [
    {
     "ename": "TypeError",
     "evalue": "'int' object is not callable",
     "output_type": "error",
     "traceback": [
      "\u001b[0;31m---------------------------------------------------------------------------\u001b[0m",
      "\u001b[0;31mTypeError\u001b[0m                                 Traceback (most recent call last)",
      "Cell \u001b[0;32mIn[19], line 1\u001b[0m\n\u001b[0;32m----> 1\u001b[0m \u001b[43mpw\u001b[49m\u001b[38;5;241;43m.\u001b[39;49m\u001b[43mmobile_set\u001b[49m\u001b[43m(\u001b[49m\u001b[38;5;241;43m786543\u001b[39;49m\u001b[43m)\u001b[49m\n",
      "\u001b[0;31mTypeError\u001b[0m: 'int' object is not callable"
     ]
    }
   ],
   "source": [
    "pw.mobile_set(78654398)"
   ]
  },
  {
   "cell_type": "code",
   "execution_count": 20,
   "id": "86f8c77a-14aa-4c78-8f82-9c0675464ae1",
   "metadata": {},
   "outputs": [],
   "source": [
    "#Answer 5"
   ]
  },
  {
   "cell_type": "markdown",
   "id": "e0d37ad2-9a9b-4499-869d-1c131d8e87b2",
   "metadata": {},
   "source": [
    "When a method in a subclass has the same name, same parameters or signature and same return type(or sub-type) as a method in its super-class, then the method in the subclass is said to override the method in the super-class."
   ]
  },
  {
   "cell_type": "code",
   "execution_count": null,
   "id": "a7e99882-f07c-4a48-8d81-e2dcc4126f81",
   "metadata": {},
   "outputs": [],
   "source": [
    "# Defining parent class\n",
    "class Parent():\n",
    "      \n",
    "    # Constructor\n",
    "    def __init__(self):\n",
    "        self.value = \"Inside Parent\"\n",
    "          \n",
    "    # Parent's show method\n",
    "    def show(self):\n",
    "        print(self.value)\n",
    "          \n",
    "# Defining child class\n",
    "class Child(Parent):\n",
    "      \n",
    "    # Constructor\n",
    "    def __init__(self):\n",
    "        self.value = \"Inside Child\"\n",
    "          \n",
    "    # Child's show method\n",
    "    def show(self):\n",
    "        print(self.value)"
   ]
  },
  {
   "cell_type": "code",
   "execution_count": null,
   "id": "d76615da-438c-47c9-b1bb-f9c6be9ad097",
   "metadata": {},
   "outputs": [],
   "source": [
    "obj1 = Parent()\n",
    "obj2 = Child()"
   ]
  },
  {
   "cell_type": "code",
   "execution_count": null,
   "id": "e0401ca9-4887-4e9b-b3a0-526a2c69a3f2",
   "metadata": {},
   "outputs": [],
   "source": [
    "obj1.show()\n",
    "obj2.show()"
   ]
  },
  {
   "cell_type": "code",
   "execution_count": null,
   "id": "9ee88155-ac22-4ab5-b074-0de75a99cb7b",
   "metadata": {},
   "outputs": [],
   "source": []
  }
 ],
 "metadata": {
  "kernelspec": {
   "display_name": "Python 3 (ipykernel)",
   "language": "python",
   "name": "python3"
  },
  "language_info": {
   "codemirror_mode": {
    "name": "ipython",
    "version": 3
   },
   "file_extension": ".py",
   "mimetype": "text/x-python",
   "name": "python",
   "nbconvert_exporter": "python",
   "pygments_lexer": "ipython3",
   "version": "3.10.8"
  }
 },
 "nbformat": 4,
 "nbformat_minor": 5
}
