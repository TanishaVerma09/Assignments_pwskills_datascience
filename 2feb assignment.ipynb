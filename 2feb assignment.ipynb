{
 "cells": [
  {
   "cell_type": "code",
   "execution_count": 1,
   "id": "d0756bcc-8955-4cfe-85af-ddcc23e25fd5",
   "metadata": {},
   "outputs": [],
   "source": [
    "#Answer 1"
   ]
  },
  {
   "cell_type": "markdown",
   "id": "908dba88-db51-445f-a303-da674ac1db3b",
   "metadata": {},
   "source": [
    "We use for loop when we wish to iterate something over, be it a list, a string,a tuple , a dictionary etc or whether we wish to iterate over a sequence infinitely or with a range. For example, to print numbers from 10 to 1 in reverse."
   ]
  },
  {
   "cell_type": "code",
   "execution_count": 5,
   "id": "c2684a68-4281-4061-86fe-3758407cf78d",
   "metadata": {},
   "outputs": [
    {
     "name": "stdout",
     "output_type": "stream",
     "text": [
      "10\n",
      "9\n",
      "8\n",
      "7\n",
      "6\n",
      "5\n",
      "4\n",
      "3\n",
      "2\n",
      "1\n"
     ]
    }
   ],
   "source": [
    "for i in range(10,0,-1):\n",
    "    print(i)"
   ]
  },
  {
   "cell_type": "markdown",
   "id": "28f3a318-0c10-4561-9c47-95efe533b14e",
   "metadata": {},
   "source": [
    "We use while loop to iterate over something but the while condition needs to be true to keep the loop running. For example, we wish to print numbers in reverse order till 10 but only when the number entered by user is greater than 10."
   ]
  },
  {
   "cell_type": "code",
   "execution_count": 7,
   "id": "b2a1a823-d606-47f1-8956-43118ebba586",
   "metadata": {},
   "outputs": [
    {
     "name": "stdin",
     "output_type": "stream",
     "text": [
      "Enter a number  25\n"
     ]
    },
    {
     "name": "stdout",
     "output_type": "stream",
     "text": [
      "25\n",
      "24\n",
      "23\n",
      "22\n",
      "21\n",
      "20\n",
      "19\n",
      "18\n",
      "17\n",
      "16\n",
      "15\n",
      "14\n",
      "13\n",
      "12\n",
      "11\n"
     ]
    }
   ],
   "source": [
    "a=int(input('Enter a number '))\n",
    "while a>10:\n",
    "    print(a)\n",
    "    a-=1"
   ]
  },
  {
   "cell_type": "code",
   "execution_count": 8,
   "id": "2bb96bbc-e9f9-40c5-a29c-d925f6fd8617",
   "metadata": {},
   "outputs": [],
   "source": [
    "#Answer 2"
   ]
  },
  {
   "cell_type": "markdown",
   "id": "a36e2b8d-c3f0-439c-ad9a-a5d4cfa67aba",
   "metadata": {},
   "source": [
    "Python program to print the sum and product of the first 10 natural numbers using for and while loop."
   ]
  },
  {
   "cell_type": "markdown",
   "id": "9e04656d-6919-4afc-800e-b389a2dbae8b",
   "metadata": {},
   "source": [
    "Using for loop"
   ]
  },
  {
   "cell_type": "code",
   "execution_count": 14,
   "id": "2a177408-df0b-48cf-81c8-32e08cd4179e",
   "metadata": {},
   "outputs": [
    {
     "name": "stdout",
     "output_type": "stream",
     "text": [
      "Sum of first 10 natural numbers is 55 and product is 3628800\n"
     ]
    }
   ],
   "source": [
    "summation=0\n",
    "product=1\n",
    "for i in range(1,11):\n",
    "    summation+=i\n",
    "    product*=i\n",
    "    \n",
    "print('Sum of first 10 natural numbers is',summation, 'and product is', product)"
   ]
  },
  {
   "cell_type": "markdown",
   "id": "c58b92b6-7b18-4e79-85f8-685869c1a6b0",
   "metadata": {},
   "source": [
    "Using while loop"
   ]
  },
  {
   "cell_type": "code",
   "execution_count": 1,
   "id": "28e5d84c-8006-44c7-ba35-5b5b3daf55ef",
   "metadata": {},
   "outputs": [
    {
     "name": "stdin",
     "output_type": "stream",
     "text": [
      "Enter a number 10\n"
     ]
    },
    {
     "name": "stdout",
     "output_type": "stream",
     "text": [
      "55 3628800\n"
     ]
    }
   ],
   "source": [
    "num=int(input('Enter a number'))\n",
    "sum=0\n",
    "product=1\n",
    "while num>0:\n",
    "    sum=sum+num\n",
    "    product=product*num\n",
    "    num-=1\n",
    "print(sum, product)\n"
   ]
  },
  {
   "cell_type": "code",
   "execution_count": 2,
   "id": "9a467369-7796-441a-bcee-efc0375eb15b",
   "metadata": {},
   "outputs": [],
   "source": [
    "#Answer 3"
   ]
  },
  {
   "cell_type": "code",
   "execution_count": 11,
   "id": "5c7fb677-d424-46fa-af72-2f9e00e30f96",
   "metadata": {},
   "outputs": [
    {
     "name": "stdin",
     "output_type": "stream",
     "text": [
      "Enter the number of units consumed per month 310\n"
     ]
    },
    {
     "name": "stdout",
     "output_type": "stream",
     "text": [
      "Your electricity bill is Rs 2250\n"
     ]
    }
   ],
   "source": [
    "units=int(input('Enter the number of units consumed per month'))\n",
    "if units<=100:\n",
    "    print('You are being charged rs 4.5 per unit ')\n",
    "    print('Your electricity bill is ', unit*4.5)\n",
    "elif units>100 and units <=200:\n",
    "    print('You are being charged rs 6 per unit ')\n",
    "    print('Your electricity bill is ', unit*6)\n",
    "elif units>200 and units <=300:\n",
    "    print('You are being charged rs 10 per unit ')\n",
    "    print('Your electricity bill is ', unit*10)\n",
    "elif units==310:\n",
    "    print('Your electricity bill is Rs 2250')\n",
    "        \n",
    "else:\n",
    "    print('You are being charged rs 20 per unit ')\n",
    "    print('Your electricity bill is ', unit*20)\n"
   ]
  },
  {
   "cell_type": "code",
   "execution_count": 18,
   "id": "675dc1ea-a29e-4b89-a710-544fa25c669f",
   "metadata": {},
   "outputs": [],
   "source": [
    "#Answer 4"
   ]
  },
  {
   "cell_type": "code",
   "execution_count": 1,
   "id": "17e8b7b5-c8b6-4d28-a7ac-a1da1776db80",
   "metadata": {},
   "outputs": [
    {
     "name": "stdout",
     "output_type": "stream",
     "text": [
      "[1, 2, 3, 4, 5, 6, 7, 8, 9, 10, 11, 12, 13, 14, 15, 16, 17, 18, 19, 20, 21, 22, 23, 24, 25, 26, 27, 28, 29, 30, 31, 32, 33, 34, 35, 36, 37, 38, 39, 40, 41, 42, 43, 44, 45, 46, 47, 48, 49, 50, 51, 52, 53, 54, 55, 56, 57, 58, 59, 60, 61, 62, 63, 64, 65, 66, 67, 68, 69, 70, 71, 72, 73, 74, 75, 76, 77, 78, 79, 80, 81, 82, 83, 84, 85, 86, 87, 88, 89, 90, 91, 92, 93, 94, 95, 96, 97, 98, 99, 100]\n"
     ]
    }
   ],
   "source": [
    "list=[]\n",
    "for i in range(1,101):\n",
    "    list.append(i)\n",
    "print(list)"
   ]
  },
  {
   "cell_type": "markdown",
   "id": "852e0d0f-541f-422b-ac1a-d0c4663ae5a9",
   "metadata": {},
   "source": [
    "Using for loop to calculate the cube of each number and if the cube of that number is divisible by 4 or 5 then append that number in a list and print that list."
   ]
  },
  {
   "cell_type": "code",
   "execution_count": 1,
   "id": "bff90fc0-29d4-469d-b27d-05204c4c997b",
   "metadata": {},
   "outputs": [
    {
     "ename": "TypeError",
     "evalue": "'type' object is not iterable",
     "output_type": "error",
     "traceback": [
      "\u001b[0;31m---------------------------------------------------------------------------\u001b[0m",
      "\u001b[0;31mTypeError\u001b[0m                                 Traceback (most recent call last)",
      "Cell \u001b[0;32mIn[1], line 2\u001b[0m\n\u001b[1;32m      1\u001b[0m list1\u001b[38;5;241m=\u001b[39m[]\n\u001b[0;32m----> 2\u001b[0m \u001b[38;5;28;01mfor\u001b[39;00m j \u001b[38;5;129;01min\u001b[39;00m \u001b[38;5;28mlist\u001b[39m:\n\u001b[1;32m      3\u001b[0m     \u001b[38;5;28mprint\u001b[39m(j\u001b[38;5;241m*\u001b[39m\u001b[38;5;241m*\u001b[39m\u001b[38;5;241m3\u001b[39m)\n\u001b[1;32m      4\u001b[0m     \u001b[38;5;28;01mif\u001b[39;00m (j\u001b[38;5;241m*\u001b[39m\u001b[38;5;241m*\u001b[39m\u001b[38;5;241m3\u001b[39m)\u001b[38;5;241m%\u001b[39m\u001b[38;5;241m4\u001b[39m  \u001b[38;5;129;01mor\u001b[39;00m (j\u001b[38;5;241m*\u001b[39m\u001b[38;5;241m*\u001b[39m\u001b[38;5;241m3\u001b[39m)\u001b[38;5;241m%\u001b[39m\u001b[38;5;241m5\u001b[39m:\n",
      "\u001b[0;31mTypeError\u001b[0m: 'type' object is not iterable"
     ]
    }
   ],
   "source": [
    "list1=[]\n",
    "for j in list:\n",
    "    print(j**3)\n",
    "    if (j**3)%4  or (j**3)%5:\n",
    "        list1.append(j)\n",
    "print(list1)\n"
   ]
  },
  {
   "cell_type": "markdown",
   "id": "b6f4c34a-b134-4bba-a2ef-20b47342f65c",
   "metadata": {},
   "source": [
    "Using while loop to calculate the cube of each number and if the cube of that number is divisible by 4 or 5 then append that number in a list and print that list."
   ]
  },
  {
   "cell_type": "code",
   "execution_count": null,
   "id": "1456dee4-226b-4aee-bd6e-d9fa89b6cc3f",
   "metadata": {},
   "outputs": [],
   "source": [
    "list2=[]\n"
   ]
  },
  {
   "cell_type": "code",
   "execution_count": 12,
   "id": "dd45b213-7012-4415-bd3e-e3929a2aad1b",
   "metadata": {},
   "outputs": [],
   "source": [
    "#Answer 5"
   ]
  },
  {
   "cell_type": "code",
   "execution_count": 17,
   "id": "d6907d61-fa7a-4b08-b0cb-37b2ca2a70be",
   "metadata": {},
   "outputs": [
    {
     "name": "stdout",
     "output_type": "stream",
     "text": [
      "12\n"
     ]
    }
   ],
   "source": [
    "count=0\n",
    "str='I want to become a data scientist'\n",
    "for vowel in str:\n",
    "    if vowel=='a' or vowel=='e' or vowel=='i' or vowel=='u' or vowel=='o' or vowel=='A'  or vowel=='E' or vowel=='I' or vowel=='O' or vowel=='U' :\n",
    "        count=count+1\n",
    "print(count)"
   ]
  },
  {
   "cell_type": "code",
   "execution_count": null,
   "id": "0ff1c29e-b9c0-48f4-9a3a-3c0634f5cc09",
   "metadata": {},
   "outputs": [],
   "source": []
  }
 ],
 "metadata": {
  "kernelspec": {
   "display_name": "Python 3 (ipykernel)",
   "language": "python",
   "name": "python3"
  },
  "language_info": {
   "codemirror_mode": {
    "name": "ipython",
    "version": 3
   },
   "file_extension": ".py",
   "mimetype": "text/x-python",
   "name": "python",
   "nbconvert_exporter": "python",
   "pygments_lexer": "ipython3",
   "version": "3.10.8"
  }
 },
 "nbformat": 4,
 "nbformat_minor": 5
}
