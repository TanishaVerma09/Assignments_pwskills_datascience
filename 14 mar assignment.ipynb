{
 "cells": [
  {
   "cell_type": "code",
   "execution_count": 1,
   "id": "4ab342a9-9f71-4208-a4a2-bd1680e32e61",
   "metadata": {},
   "outputs": [],
   "source": [
    "#Answer 1"
   ]
  },
  {
   "cell_type": "code",
   "execution_count": 2,
   "id": "8c8c3254-3f15-4cde-80bc-7c7a230864c8",
   "metadata": {},
   "outputs": [
    {
     "name": "stdout",
     "output_type": "stream",
     "text": [
      "F-value: 0.5625\n",
      "p-value: 0.704512\n"
     ]
    }
   ],
   "source": [
    "import numpy as np\n",
    "from scipy.stats import f\n",
    "\n",
    "def variance_ratio_test(arr1, arr2):\n",
    "    \n",
    "    n1 = len(arr1)\n",
    "    n2 = len(arr2)\n",
    "\n",
    "    var1 = np.var(arr1, ddof=1)\n",
    "    var2 = np.var(arr2, ddof=1)\n",
    "\n",
    "    F_value = var1 / var2\n",
    "    p_value = 1.0 - f.cdf(F_value, n1 - 1, n2 - 1)\n",
    "\n",
    "    return F_value, p_value\n",
    "data1 = [12, 15, 18, 21, 24]\n",
    "data2 = [10, 14, 18, 22, 26]\n",
    "\n",
    "F_value, p_value = variance_ratio_test(data1, data2)\n",
    "print(\"F-value:\", F_value)\n",
    "print(\"p-value:\", p_value)\n"
   ]
  },
  {
   "cell_type": "code",
   "execution_count": 3,
   "id": "d61385cd-47c6-438d-9633-918b9a52d72f",
   "metadata": {},
   "outputs": [],
   "source": [
    "#Answer 2"
   ]
  },
  {
   "cell_type": "code",
   "execution_count": 4,
   "id": "02e24e3b-0255-4dba-9ce5-87bbecf791b1",
   "metadata": {},
   "outputs": [
    {
     "name": "stdout",
     "output_type": "stream",
     "text": [
      "Critical F-value: 3.8586986662732143\n"
     ]
    }
   ],
   "source": [
    "from scipy.stats import f\n",
    "\n",
    "def critical_f_value(alpha, dfn, dfd):\n",
    "    \n",
    "    tail_prob = alpha / 2  # Divide alpha by 2 for a two-tailed test\n",
    "    critical_f = f.ppf(1 - tail_prob, dfn, dfd)\n",
    "    \n",
    "    return critical_f\n",
    "\n",
    "# Example usage\n",
    "alpha = 0.05\n",
    "dfn = 3\n",
    "dfd = 20\n",
    "\n",
    "critical_f = critical_f_value(alpha, dfn, dfd)\n",
    "print(\"Critical F-value:\", critical_f)\n"
   ]
  },
  {
   "cell_type": "code",
   "execution_count": 5,
   "id": "fb2fd664-74a3-49d4-b87e-eb5f6456d53b",
   "metadata": {},
   "outputs": [],
   "source": [
    "#Answer 3"
   ]
  },
  {
   "cell_type": "code",
   "execution_count": 6,
   "id": "d7df79c2-0848-4766-b30f-ccb75de4ee6f",
   "metadata": {},
   "outputs": [
    {
     "name": "stdout",
     "output_type": "stream",
     "text": [
      "F-value: 0.5027958866099019\n",
      "Degrees of Freedom: 49 , 59\n",
      "P-value: 0.99278335192897\n"
     ]
    }
   ],
   "source": [
    "import numpy as np\n",
    "from scipy.stats import f\n",
    "\n",
    "# Set the parameters\n",
    "mean1 = 0\n",
    "variance1 = 4  # Known variance for distribution 1\n",
    "sample_size1 = 50\n",
    "\n",
    "mean2 = 0\n",
    "variance2 = 6  # Known variance for distribution 2\n",
    "sample_size2 = 60\n",
    "\n",
    "# Generate random samples from the two distributions\n",
    "sample1 = np.random.normal(mean1, np.sqrt(variance1), sample_size1)\n",
    "sample2 = np.random.normal(mean2, np.sqrt(variance2), sample_size2)\n",
    "\n",
    "# Perform F-test\n",
    "f_value = np.var(sample1, ddof=1) / np.var(sample2, ddof=1)\n",
    "df1 = sample_size1 - 1\n",
    "df2 = sample_size2 - 1\n",
    "p_value = 1 - f.cdf(f_value, df1, df2)\n",
    "\n",
    "# Print results\n",
    "print(\"F-value:\", f_value)\n",
    "print(\"Degrees of Freedom:\", df1, \",\", df2)\n",
    "print(\"P-value:\", p_value)\n"
   ]
  },
  {
   "cell_type": "code",
   "execution_count": 7,
   "id": "a573b6c7-8c57-4e4e-b7b1-34d185c39852",
   "metadata": {},
   "outputs": [],
   "source": [
    "#Answer 4"
   ]
  },
  {
   "cell_type": "code",
   "execution_count": 8,
   "id": "fcf1a497-406b-4746-8e64-2c8a0cb38a66",
   "metadata": {},
   "outputs": [
    {
     "name": "stdout",
     "output_type": "stream",
     "text": [
      "F-value: 0.6666666666666666\n",
      "Degrees of Freedom: 11 , 11\n",
      "P-value: 0.7438051006321003\n",
      "Fail to reject the null hypothesis. Variances are not significantly different.\n"
     ]
    }
   ],
   "source": [
    "import numpy as np\n",
    "from scipy.stats import f\n",
    "\n",
    "# Given data\n",
    "variance1 = 10  # Variance of population 1\n",
    "sample_size1 = 12\n",
    "\n",
    "variance2 = 15  # Variance of population 2\n",
    "sample_size2 = 12\n",
    "\n",
    "# Perform F-test\n",
    "f_value = variance1 / variance2\n",
    "df1 = sample_size1 - 1\n",
    "df2 = sample_size2 - 1\n",
    "p_value = 1 - f.cdf(f_value, df1, df2)\n",
    "\n",
    "# Significance level\n",
    "alpha = 0.05\n",
    "\n",
    "# Print results\n",
    "print(\"F-value:\", f_value)\n",
    "print(\"Degrees of Freedom:\", df1, \",\", df2)\n",
    "print(\"P-value:\", p_value)\n",
    "\n",
    "if p_value < alpha:\n",
    "    print(\"Reject the null hypothesis. Variances are significantly different.\")\n",
    "else:\n",
    "    print(\"Fail to reject the null hypothesis. Variances are not significantly different.\")\n"
   ]
  },
  {
   "cell_type": "code",
   "execution_count": 9,
   "id": "6bdc4316-e745-4f01-a7a7-50e967f63e04",
   "metadata": {},
   "outputs": [],
   "source": [
    "#Answer 5"
   ]
  },
  {
   "cell_type": "code",
   "execution_count": 10,
   "id": "ecbf193c-60dd-4ac4-a037-a7e5e5e75411",
   "metadata": {},
   "outputs": [
    {
     "name": "stdout",
     "output_type": "stream",
     "text": [
      "F-value: 1.2\n",
      "Degrees of Freedom: 24 , 24\n",
      "P-value: 0.3293654682817244\n",
      "Fail to reject the null hypothesis. The manufacturer's claim is justified.\n"
     ]
    }
   ],
   "source": [
    "import numpy as np\n",
    "from scipy.stats import f\n",
    "\n",
    "# Given data\n",
    "claimed_variance = 0.005  # Manufacturer's claimed variance\n",
    "sample_size = 25\n",
    "sample_variance = 0.006  # Sample variance\n",
    "\n",
    "# Perform F-test\n",
    "f_value = sample_variance / claimed_variance\n",
    "df1 = sample_size - 1\n",
    "df2 = sample_size - 1\n",
    "p_value = 1 - f.cdf(f_value, df1, df2)\n",
    "\n",
    "# Significance level\n",
    "alpha = 0.01\n",
    "\n",
    "# Print results\n",
    "print(\"F-value:\", f_value)\n",
    "print(\"Degrees of Freedom:\", df1, \",\", df2)\n",
    "print(\"P-value:\", p_value)\n",
    "\n",
    "if p_value < alpha:\n",
    "    print(\"Reject the null hypothesis. The manufacturer's claim is not justified.\")\n",
    "else:\n",
    "    print(\"Fail to reject the null hypothesis. The manufacturer's claim is justified.\")\n"
   ]
  },
  {
   "cell_type": "code",
   "execution_count": 11,
   "id": "ec863f0d-e031-43f5-85e9-62d908bb8fdb",
   "metadata": {},
   "outputs": [],
   "source": [
    "#Answer 6"
   ]
  },
  {
   "cell_type": "code",
   "execution_count": 12,
   "id": "dd5968f4-acde-44ba-ad82-4d4b61f3deb9",
   "metadata": {},
   "outputs": [
    {
     "name": "stdout",
     "output_type": "stream",
     "text": [
      "Mean: 1.1111111111111112\n",
      "Variance: 1.0802469135802468\n"
     ]
    }
   ],
   "source": [
    "def calculate_f_distribution_mean_and_variance(df1, df2):\n",
    "    if df1 <= 0 or df2 <= 0:\n",
    "        raise ValueError(\"Degrees of freedom must be positive.\")\n",
    "\n",
    "    if df2 <= 2:\n",
    "        raise ValueError(\"Degrees of freedom for the denominator must be greater than 2.\")\n",
    "\n",
    "    mean = df2 / (df2 - 2)\n",
    "    variance = (2 * (df2 ** 2) * (df1 + df2 - 2)) / (df1 * (df2 - 2) ** 2 * (df2 - 4))\n",
    "\n",
    "    return mean, variance\n",
    "\n",
    "# Example usage\n",
    "numerator_df = 3\n",
    "denominator_df = 20\n",
    "mean, variance = calculate_f_distribution_mean_and_variance(numerator_df, denominator_df)\n",
    "print(\"Mean:\", mean)\n",
    "print(\"Variance:\", variance)\n"
   ]
  },
  {
   "cell_type": "code",
   "execution_count": 13,
   "id": "c22992d2-a12c-4236-9bdc-eeefe6b0258a",
   "metadata": {},
   "outputs": [],
   "source": [
    "#Answer 7"
   ]
  },
  {
   "cell_type": "code",
   "execution_count": 14,
   "id": "d82ffb53-178f-4697-9232-4267b8cb1c87",
   "metadata": {},
   "outputs": [
    {
     "name": "stdout",
     "output_type": "stream",
     "text": [
      "F-value: 1.25\n",
      "Degrees of Freedom: 9 , 14\n",
      "P-value: 0.3416097191292977\n",
      "Fail to reject the null hypothesis. Variances are not significantly different.\n"
     ]
    }
   ],
   "source": [
    "import numpy as np\n",
    "from scipy.stats import f\n",
    "\n",
    "# Given data\n",
    "sample_variance1 = 25\n",
    "sample_size1 = 10\n",
    "\n",
    "sample_variance2 = 20\n",
    "sample_size2 = 15\n",
    "\n",
    "# Perform F-test\n",
    "f_value = sample_variance1 / sample_variance2\n",
    "df1 = sample_size1 - 1\n",
    "df2 = sample_size2 - 1\n",
    "p_value = 1 - f.cdf(f_value, df1, df2)\n",
    "\n",
    "# Significance level\n",
    "alpha = 0.10\n",
    "\n",
    "# Print results\n",
    "print(\"F-value:\", f_value)\n",
    "print(\"Degrees of Freedom:\", df1, \",\", df2)\n",
    "print(\"P-value:\", p_value)\n",
    "\n",
    "if p_value < alpha:\n",
    "    print(\"Reject the null hypothesis. Variances are significantly different.\")\n",
    "else:\n",
    "    print(\"Fail to reject the null hypothesis. Variances are not significantly different.\")\n"
   ]
  },
  {
   "cell_type": "code",
   "execution_count": 16,
   "id": "d5f07d6f-fcf9-4033-b1b5-279171f93910",
   "metadata": {},
   "outputs": [],
   "source": [
    "#Answer 8"
   ]
  },
  {
   "cell_type": "code",
   "execution_count": 17,
   "id": "a22b3f0e-38fd-46be-9356-4821d8b89d6f",
   "metadata": {},
   "outputs": [
    {
     "name": "stdout",
     "output_type": "stream",
     "text": [
      "F-value: 1.4551907719609583\n",
      "Degrees of Freedom: 6 , 5\n",
      "P-value: 0.3487407873968742\n",
      "Fail to reject the null hypothesis. Variances are not significantly different.\n"
     ]
    }
   ],
   "source": [
    "import numpy as np\n",
    "from scipy.stats import f\n",
    "\n",
    "# Given data\n",
    "data_a = np.array([24, 25, 28, 23, 22, 20, 27])\n",
    "data_b = np.array([31, 33, 35, 30, 32, 36])\n",
    "\n",
    "# Calculate sample variances\n",
    "sample_variance_a = np.var(data_a, ddof=1)\n",
    "sample_variance_b = np.var(data_b, ddof=1)\n",
    "\n",
    "# Perform F-test\n",
    "f_value = sample_variance_a / sample_variance_b\n",
    "df1 = len(data_a) - 1\n",
    "df2 = len(data_b) - 1\n",
    "p_value = 1 - f.cdf(f_value, df1, df2)\n",
    "\n",
    "# Significance level\n",
    "alpha = 0.05\n",
    "\n",
    "# Print results\n",
    "print(\"F-value:\", f_value)\n",
    "print(\"Degrees of Freedom:\", df1, \",\", df2)\n",
    "print(\"P-value:\", p_value)\n",
    "\n",
    "if p_value < alpha:\n",
    "    print(\"Reject the null hypothesis. Variances are significantly different.\")\n",
    "else:\n",
    "    print(\"Fail to reject the null hypothesis. Variances are not significantly different.\")\n"
   ]
  },
  {
   "cell_type": "code",
   "execution_count": 18,
   "id": "3e8323c6-c070-4e51-af9f-2055ceebba97",
   "metadata": {},
   "outputs": [],
   "source": [
    "#Answer 9"
   ]
  },
  {
   "cell_type": "code",
   "execution_count": 19,
   "id": "588735c1-1f65-4a34-b013-9464d488f238",
   "metadata": {},
   "outputs": [
    {
     "name": "stdout",
     "output_type": "stream",
     "text": [
      "F-value: 1.9442622950819677\n",
      "Degrees of Freedom: 5 , 5\n",
      "P-value: 0.2415521774535344\n",
      "Fail to reject the null hypothesis. Variances are not significantly different.\n"
     ]
    }
   ],
   "source": [
    "import numpy as np\n",
    "from scipy.stats import f\n",
    "\n",
    "# Given data\n",
    "data_group_a = np.array([80, 85, 90, 92, 87, 83])\n",
    "data_group_b = np.array([75, 78, 82, 79, 81, 84])\n",
    "\n",
    "# Calculate sample variances\n",
    "sample_variance_group_a = np.var(data_group_a, ddof=1)\n",
    "sample_variance_group_b = np.var(data_group_b, ddof=1)\n",
    "\n",
    "# Perform F-test\n",
    "f_value = sample_variance_group_a / sample_variance_group_b\n",
    "df1 = len(data_group_a) - 1\n",
    "df2 = len(data_group_b) - 1\n",
    "p_value = 1 - f.cdf(f_value, df1, df2)\n",
    "\n",
    "# Significance level\n",
    "alpha = 0.01\n",
    "\n",
    "# Print results\n",
    "print(\"F-value:\", f_value)\n",
    "print(\"Degrees of Freedom:\", df1, \",\", df2)\n",
    "print(\"P-value:\", p_value)\n",
    "\n",
    "if p_value < alpha:\n",
    "    print(\"Reject the null hypothesis. Variances are significantly different.\")\n",
    "else:\n",
    "    print(\"Fail to reject the null hypothesis. Variances are not significantly different.\")\n"
   ]
  },
  {
   "cell_type": "code",
   "execution_count": null,
   "id": "a411a0c3-3240-4cf0-a89c-24458106101b",
   "metadata": {},
   "outputs": [],
   "source": []
  }
 ],
 "metadata": {
  "kernelspec": {
   "display_name": "Python 3 (ipykernel)",
   "language": "python",
   "name": "python3"
  },
  "language_info": {
   "codemirror_mode": {
    "name": "ipython",
    "version": 3
   },
   "file_extension": ".py",
   "mimetype": "text/x-python",
   "name": "python",
   "nbconvert_exporter": "python",
   "pygments_lexer": "ipython3",
   "version": "3.10.8"
  }
 },
 "nbformat": 4,
 "nbformat_minor": 5
}
