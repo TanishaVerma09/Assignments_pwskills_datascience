{
 "cells": [
  {
   "cell_type": "code",
   "execution_count": 1,
   "id": "44f09ac3-0725-4d1c-ba0c-17195f44f251",
   "metadata": {},
   "outputs": [],
   "source": [
    "#Answer 1"
   ]
  },
  {
   "cell_type": "markdown",
   "id": "0856a2e6-90e8-4df9-8cfe-22871fdbf103",
   "metadata": {},
   "source": [
    "Estimation in statistics refers to the process of using sample data to make educated guesses or predictions about population parameters (such as means, proportions, or variances) when it is not feasible or practical to collect data from the entire population. Estimation helps us draw conclusions and make inferences about a population based on a representative sample.\n",
    "\n",
    "There are two main types of estimation: point estimation and interval estimation.\n",
    "\n",
    "Point Estimate:\n",
    "A point estimate is a single value that is used to estimate an unknown population parameter. It's a \"best guess\" based on the sample data. For example, if you're trying to estimate the average height of all adults in a city, you might calculate the average height of a sample of adults and use that value as your point estimate for the population's average height. Point estimates are simple and straightforward to calculate, but they don't provide any information about the uncertainty or variability associated with the estimate.\n",
    "\n",
    "Interval Estimate:\n",
    "An interval estimate, also known as a confidence interval, provides a range of values within which the true population parameter is likely to fall, along with a level of confidence. Confidence intervals take into account the uncertainty inherent in estimating a population parameter from a sample. The interval is calculated based on the sample data and provides a sense of the likely range of values for the parameter.\n",
    "\n",
    "For example, if you calculate a 95% confidence interval for the average height of adults in a city, you might find that the interval is from 165 cm to 175 cm. This means that you are 95% confident that the true average height of the population falls within this interval.\n",
    "\n",
    "Confidence intervals are more informative than point estimates because they provide a sense of the precision of the estimate and convey the potential variability. The level of confidence (such as 95% or 99%) chosen for the interval reflects the degree of certainty you want in capturing the true population parameter.\n",
    "\n",
    "In summary, estimation statistics involves using sample data to make informed guesses about population parameters. Point estimates provide single values as guesses, while interval estimates provide a range of values along with a specified level of confidence. Interval estimates are more informative and account for the uncertainty associated with estimation.\n",
    "\n",
    "\n",
    "\n",
    "\n",
    "\n"
   ]
  },
  {
   "cell_type": "code",
   "execution_count": 1,
   "id": "3f5ab7c9-a714-4ea5-ab1b-6bf09b9c5bce",
   "metadata": {},
   "outputs": [],
   "source": [
    "#Answer 2"
   ]
  },
  {
   "cell_type": "code",
   "execution_count": 2,
   "id": "232fefcd-d009-4c97-88f9-1ce194a4a832",
   "metadata": {},
   "outputs": [
    {
     "name": "stdout",
     "output_type": "stream",
     "text": [
      "Confidence Interval: (147.15803144877626, 152.84196855122374)\n"
     ]
    }
   ],
   "source": [
    "import scipy.stats as stats\n",
    "\n",
    "def estimate_population_mean(sample_mean, sample_std_dev, sample_size, confidence_level=0.95):\n",
    "    # Calculate the standard error of the mean\n",
    "    standard_error = sample_std_dev / (sample_size ** 0.5)\n",
    "    \n",
    "    # Calculate the critical value based on the confidence level and degrees of freedom\n",
    "    degrees_of_freedom = sample_size - 1\n",
    "    alpha = 1 - confidence_level\n",
    "    critical_value = stats.t.ppf(1 - alpha / 2, df=degrees_of_freedom)\n",
    "    \n",
    "    # Calculate the margin of error\n",
    "    margin_of_error = critical_value * standard_error\n",
    "    \n",
    "    # Calculate the lower and upper bounds of the confidence interval\n",
    "    lower_bound = sample_mean - margin_of_error\n",
    "    upper_bound = sample_mean + margin_of_error\n",
    "    \n",
    "    return (lower_bound, upper_bound)\n",
    "\n",
    "# Example usage\n",
    "sample_mean = 150\n",
    "sample_std_dev = 10\n",
    "sample_size = 50\n",
    "confidence_level = 0.95\n",
    "\n",
    "interval = estimate_population_mean(sample_mean, sample_std_dev, sample_size, confidence_level)\n",
    "print(\"Confidence Interval:\", interval)\n"
   ]
  },
  {
   "cell_type": "code",
   "execution_count": 3,
   "id": "27c9d4cf-7feb-4acf-8ff2-32f383d72a63",
   "metadata": {},
   "outputs": [],
   "source": [
    "#Answer 3"
   ]
  },
  {
   "cell_type": "markdown",
   "id": "713a58a6-f216-479d-a4b5-0641adfa49f4",
   "metadata": {},
   "source": [
    "Hypothesis testing is a fundamental concept in statistics used to make decisions about population parameters based on sample data. It involves formulating and testing hypotheses about the characteristics of a population, such as its mean, proportion, variance, or distribution. Hypothesis testing helps researchers and analysts draw conclusions from data and determine whether observed differences or effects are statistically significant or simply due to random chance.\n",
    "\n",
    "The main steps in hypothesis testing are as follows:\n",
    "\n",
    "Formulate Hypotheses: A hypothesis test involves two competing hypotheses: the null hypothesis (H0) and the alternative hypothesis (Ha). The null hypothesis typically represents the status quo or no effect, while the alternative hypothesis proposes a specific effect or difference.\n",
    "\n",
    "Collect and Analyze Data: A sample is collected from the population of interest, and relevant sample statistics (such as mean, proportion, or standard deviation) are calculated.\n",
    "\n",
    "Compute Test Statistic: A test statistic is calculated based on the sample data and the assumed distribution under the null hypothesis. The choice of test statistic depends on the specific hypothesis being tested.\n",
    "\n",
    "Determine the P-value: The p-value is the probability of observing a test statistic as extreme as, or more extreme than, the one calculated from the sample data, assuming the null hypothesis is true. A smaller p-value indicates stronger evidence against the null hypothesis.\n",
    "\n",
    "Make a Decision: If the p-value is less than a predetermined significance level (often denoted as α), the null hypothesis is rejected in favor of the alternative hypothesis. If the p-value is greater than α, there is insufficient evidence to reject the null hypothesis.\n",
    "\n",
    "Draw Conclusions: Based on the decision, researchers draw conclusions about the population parameter being tested. If the null hypothesis is rejected, it suggests that the sample data provide evidence for the alternative hypothesis.\n",
    "\n",
    "Importance of Hypothesis Testing:\n",
    "\n",
    "Inference and Decision Making: Hypothesis testing provides a structured framework for making informed decisions based on data. It helps researchers make conclusions about populations and determine whether observed effects are statistically significant.\n",
    "\n",
    "Scientific Validation: Hypothesis testing is essential in scientific research to validate new theories, concepts, or treatments. It helps researchers determine if their findings are statistically meaningful or if they could have occurred by chance.\n",
    "\n",
    "Quality Control and Process Improvement: In industries, hypothesis testing is used to ensure the quality and consistency of products or processes. It helps identify issues and improvements that can enhance efficiency and reduce defects.\n",
    "\n",
    "Policy and Business Decision-Making: Hypothesis testing plays a crucial role in policy-making and business decisions. For example, it's used in market research to assess the impact of marketing strategies or to evaluate the effectiveness of new products.\n",
    "\n",
    "Statistical Inference: Hypothesis testing is a fundamental part of statistical inference, which is the process of drawing conclusions about populations based on sample data. It provides a way to quantify uncertainty and make generalizations.\n",
    "\n",
    "Overall, hypothesis testing is a powerful tool for making data-driven decisions, validating claims, and advancing scientific knowledge by distinguishing between random variability and meaningful effects. It helps ensure that conclusions drawn from data are well-founded and reliable.\n",
    "\n",
    "\n",
    "\n",
    "\n",
    "\n"
   ]
  },
  {
   "cell_type": "code",
   "execution_count": 4,
   "id": "7241a328-7b83-4cd7-a48e-0b3a5a46a0f7",
   "metadata": {},
   "outputs": [],
   "source": [
    "#Answer 4"
   ]
  },
  {
   "cell_type": "markdown",
   "id": "3c2feca8-f58c-4366-82bb-14fc0ac40d88",
   "metadata": {},
   "source": [
    "Hypothesis testing involves formulating a null hypothesis (H0) and an alternative hypothesis (Ha). In your case, you want to test whether the average weight of male college students is greater than the average weight of female college students. Here's how you can formulate the hypotheses:\n",
    "\n",
    "Null Hypothesis (H0):\n",
    "The average weight of male college students is not greater than the average weight of female college students.\n",
    "H0: μ_male ≤ μ_female\n",
    "\n",
    "Alternative Hypothesis (Ha):\n",
    "The average weight of male college students is greater than the average weight of female college students.\n",
    "Ha: μ_male > μ_female\n",
    "\n",
    "In these hypotheses, μ_male represents the population mean weight of male college students, and μ_female represents the population mean weight of female college students.\n",
    "\n",
    "To perform hypothesis testing, you would collect sample data from both groups, calculate the sample means and other relevant statistics, and then use statistical tests (such as t-test or z-test) to determine whether the observed difference in sample means is statistically significant. If the p-value associated with the test is smaller than a chosen significance level (often denoted as α), you would reject the null hypothesis in favor of the alternative hypothesis, suggesting that there is evidence to support the claim that the average weight of male college students is greater than the average weight of female college students.\n",
    "\n",
    "It's important to note that hypothesis testing requires careful consideration of factors such as sample size, assumptions about the distribution of data, and the chosen significance level. Additionally, the hypotheses and conclusions should be interpreted within the context of the study and the characteristics of the population being studied.\n",
    "\n",
    "\n",
    "\n",
    "\n",
    "\n"
   ]
  },
  {
   "cell_type": "code",
   "execution_count": 5,
   "id": "fde54601-ab56-452c-a444-d4e18c884bbd",
   "metadata": {},
   "outputs": [],
   "source": [
    "#Answer 5"
   ]
  },
  {
   "cell_type": "code",
   "execution_count": 6,
   "id": "7c228d3e-5cb7-4c36-94b7-80baf1b7a647",
   "metadata": {},
   "outputs": [
    {
     "name": "stdout",
     "output_type": "stream",
     "text": [
      "Hypothesis Test Result:\n",
      "t-statistic: 2.179797043652268\n",
      "p-value: 0.03185406825841175\n",
      "Reject the null hypothesis\n"
     ]
    }
   ],
   "source": [
    "import numpy as np\n",
    "import scipy.stats as stats\n",
    "\n",
    "def hypothesis_test(sample1, sample2, alpha=0.05, alternative='two-sided'):\n",
    "    # Calculate sample statistics\n",
    "    n1 = len(sample1)\n",
    "    n2 = len(sample2)\n",
    "    mean1 = np.mean(sample1)\n",
    "    mean2 = np.mean(sample2)\n",
    "    std1 = np.std(sample1, ddof=1)  # Use Bessel's correction for sample standard deviation\n",
    "    std2 = np.std(sample2, ddof=1)\n",
    "    \n",
    "    # Calculate the t-statistic\n",
    "    t_stat = (mean1 - mean2) / np.sqrt((std1**2/n1) + (std2**2/n2))\n",
    "    \n",
    "    # Calculate degrees of freedom\n",
    "    dof = (std1**2/n1 + std2**2/n2)**2 / ((std1**2/n1)**2 / (n1 - 1) + (std2**2/n2)**2 / (n2 - 1))\n",
    "    \n",
    "    # Calculate the p-value\n",
    "    if alternative == 'two-sided':\n",
    "        p_value = 2 * (1 - stats.t.cdf(np.abs(t_stat), dof))\n",
    "    elif alternative == 'greater':\n",
    "        p_value = 1 - stats.t.cdf(t_stat, dof)\n",
    "    elif alternative == 'less':\n",
    "        p_value = stats.t.cdf(t_stat, dof)\n",
    "    \n",
    "    # Compare p-value to significance level\n",
    "    if p_value < alpha:\n",
    "        result = \"Reject the null hypothesis\"\n",
    "    else:\n",
    "        result = \"Fail to reject the null hypothesis\"\n",
    "    \n",
    "    return t_stat, p_value, result\n",
    "\n",
    "# Example usage\n",
    "sample1 = np.array([63, 72, 68, 74, 65])\n",
    "sample2 = np.array([59, 61, 62, 68, 64])\n",
    "alpha = 0.05\n",
    "alternative = 'greater'\n",
    "\n",
    "t_statistic, p_value, conclusion = hypothesis_test(sample1, sample2, alpha, alternative)\n",
    "\n",
    "print(\"Hypothesis Test Result:\")\n",
    "print(\"t-statistic:\", t_statistic)\n",
    "print(\"p-value:\", p_value)\n",
    "print(conclusion)\n"
   ]
  },
  {
   "cell_type": "markdown",
   "id": "f97a3fff-f0f0-4e8b-8463-0df1a53550bf",
   "metadata": {},
   "source": [
    "Explanation of the script:\n",
    "\n",
    "Import necessary libraries: numpy for numerical operations and scipy.stats for statistical calculations.\n",
    "\n",
    "Define the hypothesis_test function that takes two samples, significance level (alpha), and the alternative hypothesis type (alternative) as arguments.\n",
    "\n",
    "Calculate sample statistics: sample sizes, means, and sample standard deviations.\n",
    "\n",
    "Calculate the t-statistic using the formula for the two-sample t-test.\n",
    "\n",
    "Calculate degrees of freedom based on the Welch-Satterthwaite equation.\n",
    "\n",
    "Calculate the p-value based on the specified alternative hypothesis.\n",
    "\n",
    "Compare the p-value to the significance level to determine the conclusion of the hypothesis test.\n",
    "\n",
    "In the example usage section, provide two sample arrays (sample1 and sample2), significance level (alpha), and alternative hypothesis type (alternative).\n",
    "\n",
    "Call the hypothesis_test function with the provided values and print the t-statistic, p-value, and conclusion.\n",
    "\n",
    "This script demonstrates how to perform a hypothesis test on the difference between two population means using a two-sample t-test and interpret the results based on the chosen significance level and alternative hypothesis. Make sure to customize the sample data, significance level, and alternative hypothesis according to your specific scenario.\n",
    "\n",
    "\n",
    "\n",
    "\n",
    "\n"
   ]
  },
  {
   "cell_type": "code",
   "execution_count": 7,
   "id": "444debd7-2ac2-4151-9e8b-28cdbe9f7619",
   "metadata": {},
   "outputs": [],
   "source": [
    "#Answer 6"
   ]
  },
  {
   "cell_type": "markdown",
   "id": "161ca105-db57-4045-bfb3-13a91fb9b5e3",
   "metadata": {},
   "source": [
    "In hypothesis testing, the null hypothesis (H0) and the alternative hypothesis (Ha) are two competing statements that are used to make decisions based on sample data. These hypotheses help researchers assess the validity of a claim or test a specific hypothesis about a population parameter. The null hypothesis usually represents a default or status quo assumption, while the alternative hypothesis proposes a specific effect, difference, or relationship.\n",
    "\n",
    "Here are examples of null and alternative hypotheses for different scenarios:\n",
    "\n",
    "Example: Coin Toss\n",
    "Null Hypothesis (H0): The coin is fair (equally likely to land heads or tails).\n",
    "Alternative Hypothesis (Ha): The coin is biased (not equally likely to land heads or tails).\n",
    "\n",
    "Example: Medical Treatment\n",
    "Null Hypothesis (H0): The new drug is not more effective than the existing treatment.\n",
    "Alternative Hypothesis (Ha): The new drug is more effective than the existing treatment.\n",
    "\n",
    "Example: Gender and Income\n",
    "Null Hypothesis (H0): There is no difference in average income between males and females.\n",
    "Alternative Hypothesis (Ha): There is a difference in average income between males and females.\n",
    "\n",
    "Example: Quality Control\n",
    "Null Hypothesis (H0): The manufacturing process produces items within acceptable quality limits.\n",
    "Alternative Hypothesis (Ha): The manufacturing process produces items outside acceptable quality limits.\n",
    "\n",
    "Example: Educational Method\n",
    "Null Hypothesis (H0): The new teaching method has no effect on students' test scores.\n",
    "Alternative Hypothesis (Ha): The new teaching method improves students' test scores.\n",
    "\n",
    "Example: Climate Change\n",
    "Null Hypothesis (H0): There is no significant change in global temperatures over the last decade.\n",
    "Alternative Hypothesis (Ha): There is a significant change in global temperatures over the last decade.\n",
    "\n",
    "Example: Advertising Effectiveness\n",
    "Null Hypothesis (H0): The new advertising campaign has no impact on sales.\n",
    "Alternative Hypothesis (Ha): The new advertising campaign increases sales.\n",
    "\n",
    "In each example, the null hypothesis represents the absence of a specific effect or difference, while the alternative hypothesis proposes a specific claim about the population. Hypothesis testing involves collecting sample data and using statistical methods to determine whether the evidence from the data supports rejecting the null hypothesis in favor of the alternative hypothesis. The choice between the null and alternative hypotheses depends on the research question and the claim being investigated.\n",
    "\n",
    "\n",
    "\n",
    "\n",
    "\n"
   ]
  },
  {
   "cell_type": "code",
   "execution_count": 8,
   "id": "c76fc5a3-682e-4982-a7d2-27d72dbd5008",
   "metadata": {},
   "outputs": [],
   "source": [
    "#Answer 7"
   ]
  },
  {
   "cell_type": "markdown",
   "id": "08ddffba-0053-4765-adef-c941340ab08a",
   "metadata": {},
   "source": [
    "Hypothesis testing involves a structured process to make informed decisions about population parameters based on sample data. Here are the general steps involved in hypothesis testing:\n",
    "\n",
    "Formulate Hypotheses:\n",
    "\n",
    "Null Hypothesis (H0): State the default assumption or no-effect claim about the population.\n",
    "Alternative Hypothesis (Ha): State the specific effect, difference, or relationship you are testing for.\n",
    "Choose a Significance Level (α):\n",
    "\n",
    "Decide on the level of significance, typically denoted by α (alpha), which determines the threshold for considering a result as statistically significant.\n",
    "Common choices for α include 0.05 or 0.01.\n",
    "Collect Sample Data:\n",
    "\n",
    "Obtain a representative sample from the population of interest.\n",
    "Select a Statistical Test:\n",
    "\n",
    "Choose an appropriate statistical test based on the type of data, the research question, and the characteristics of the population (e.g., t-test, chi-squared test, ANOVA, etc.).\n",
    "Calculate the Test Statistic:\n",
    "\n",
    "Compute the test statistic using the sample data and relevant formulas associated with the chosen statistical test.\n",
    "Determine the Critical Region:\n",
    "\n",
    "Identify the critical region(s) in the distribution of the test statistic based on the chosen significance level and the distribution of the null hypothesis.\n",
    "Calculate the P-value:\n",
    "\n",
    "Calculate the probability of obtaining a test statistic as extreme as, or more extreme than, the one observed, assuming the null hypothesis is true.\n",
    "The p-value represents the strength of evidence against the null hypothesis.\n",
    "Make a Decision:\n",
    "\n",
    "Compare the p-value to the significance level (α).\n",
    "If p-value ≤ α, reject the null hypothesis in favor of the alternative hypothesis.\n",
    "If p-value > α, fail to reject the null hypothesis.\n",
    "Draw Conclusions:\n",
    "\n",
    "Interpret the decision in the context of the research question and the hypotheses.\n",
    "If the null hypothesis is rejected, conclude that there is evidence for the alternative hypothesis.\n",
    "If the null hypothesis is not rejected, acknowledge that there is insufficient evidence to support the alternative hypothesis.\n",
    "Report Results:\n",
    "\n",
    "Communicate the findings, including the test statistic, p-value, decision, and conclusions.\n",
    "Provide context and implications of the results for the research question.\n",
    "It's important to note that hypothesis testing requires careful consideration of assumptions, appropriate sampling methods, and the specific characteristics of the data and population. Additionally, the process may vary slightly based on the chosen statistical test and the nature of the hypotheses being tested.\n",
    "\n",
    "\n",
    "\n",
    "\n",
    "\n"
   ]
  },
  {
   "cell_type": "code",
   "execution_count": 10,
   "id": "9614571f-b68e-4a49-9e7b-8e7df2f4cec9",
   "metadata": {},
   "outputs": [],
   "source": [
    "#Answer 8"
   ]
  },
  {
   "cell_type": "markdown",
   "id": "3394d1a2-4ee3-497d-b05b-fdea61eea03b",
   "metadata": {},
   "source": [
    "The p-value, short for \"probability value,\" is a crucial concept in hypothesis testing within statistics. It quantifies the strength of evidence against the null hypothesis (H0) and helps researchers determine whether their observed data provides enough support to reject the null hypothesis in favor of the alternative hypothesis (Ha). In simpler terms, the p-value indicates how likely it is to observe the data you collected, assuming that the null hypothesis is true.\n",
    "\n",
    "Key points about the p-value and its significance in hypothesis testing:\n",
    "\n",
    "Calculation of the p-value:\n",
    "\n",
    "The p-value is calculated based on the observed test statistic and the assumed distribution of the null hypothesis.\n",
    "It represents the probability of obtaining a test statistic as extreme as, or more extreme than, the one observed in the sample, assuming the null hypothesis is true.\n",
    "Interpretation of the p-value:\n",
    "\n",
    "A small p-value (typically ≤ α, the chosen significance level) suggests that the observed data is unlikely to have occurred by random chance under the null hypothesis. This implies that there is strong evidence against the null hypothesis.\n",
    "A large p-value suggests that the observed data is consistent with the null hypothesis. There is not enough evidence to reject the null hypothesis.\n",
    "Decision Rule:\n",
    "\n",
    "Researchers compare the calculated p-value with the chosen significance level (α).\n",
    "If p-value ≤ α, the null hypothesis is typically rejected, and the result is considered statistically significant.\n",
    "If p-value > α, the null hypothesis is not rejected, and the result is considered not statistically significant.\n",
    "Significance Level (α):\n",
    "\n",
    "The significance level (α) represents the threshold for making a decision about the null hypothesis.\n",
    "Common choices for α include 0.05 or 0.01.\n",
    "A smaller α makes it more challenging to reject the null hypothesis, leading to stronger evidence requirements.\n",
    "Two-Sided and One-Sided Tests:\n",
    "\n",
    "In a two-sided test, the p-value accounts for extreme values in both tails of the distribution.\n",
    "In a one-sided test, the p-value accounts for extreme values in only one tail of the distribution, based on the direction specified by the alternative hypothesis.\n",
    "Effect Size and Sample Size:\n",
    "\n",
    "While p-values indicate statistical significance, they do not provide information about the size of the effect or the practical importance of the results.\n",
    "Large sample sizes can lead to small p-values even for tiny effects, making interpretation important.\n",
    "In summary, the p-value is a measure of how unlikely the observed data is under the assumption of the null hypothesis. It guides researchers in making decisions about accepting or rejecting hypotheses and provides a standardized way to assess the strength of evidence against the null hypothesis based on sample data.\n",
    "\n",
    "\n",
    "\n",
    "\n",
    "\n"
   ]
  },
  {
   "cell_type": "code",
   "execution_count": 12,
   "id": "d149a42c-b6c9-4bf5-ae64-e7ac5f57746b",
   "metadata": {},
   "outputs": [],
   "source": [
    "#Answer 9"
   ]
  },
  {
   "cell_type": "code",
   "execution_count": 13,
   "id": "7c9156d0-1c2b-4aa1-a0f2-92983a37457d",
   "metadata": {},
   "outputs": [
    {
     "data": {
      "image/png": "[encoded data removed]",
      "text/plain": [
       "<Figure size 800x600 with 1 Axes>"
      ]
     },
     "metadata": {},
     "output_type": "display_data"
    }
   ],
   "source": [
    "import numpy as np\n",
    "import matplotlib.pyplot as plt\n",
    "import scipy.stats as stats\n",
    "\n",
    "# Generate data points for the x-axis\n",
    "x = np.linspace(-5, 5, 400)\n",
    "\n",
    "# Calculate the corresponding probability density function (pdf) values using the t-distribution\n",
    "degrees_of_freedom = 10\n",
    "pdf_values = stats.t.pdf(x, df=degrees_of_freedom)\n",
    "\n",
    "# Create the plot\n",
    "plt.figure(figsize=(8, 6))\n",
    "plt.plot(x, pdf_values, label=f\"Degrees of Freedom = {degrees_of_freedom}\")\n",
    "plt.title(\"Student's t-Distribution\")\n",
    "plt.xlabel(\"x\")\n",
    "plt.ylabel(\"Probability Density\")\n",
    "plt.legend()\n",
    "plt.grid(True)\n",
    "\n",
    "# Display the plot\n",
    "plt.show()\n"
   ]
  },
  {
   "cell_type": "code",
   "execution_count": 16,
   "id": "a134f534-5f49-4abb-8f90-c791d1f058d5",
   "metadata": {},
   "outputs": [],
   "source": [
    "#Answer 10"
   ]
  },
  {
   "cell_type": "code",
   "execution_count": 15,
   "id": "1899fc0c-f70d-46e2-89ae-c8cdc5389d1f",
   "metadata": {},
   "outputs": [
    {
     "name": "stdout",
     "output_type": "stream",
     "text": [
      "Two-Sample T-Test Result:\n",
      "t-statistic: -1.9099322933955267\n",
      "p-value: 0.06109114162715357\n",
      "Fail to reject the null hypothesis\n"
     ]
    }
   ],
   "source": [
    "import numpy as np\n",
    "import scipy.stats as stats\n",
    "\n",
    "def two_sample_t_test(sample1, sample2, alpha=0.05):\n",
    "    # Calculate sample statistics\n",
    "    n1 = len(sample1)\n",
    "    n2 = len(sample2)\n",
    "    mean1 = np.mean(sample1)\n",
    "    mean2 = np.mean(sample2)\n",
    "    var1 = np.var(sample1, ddof=1)  # Use Bessel's correction for sample variance\n",
    "    var2 = np.var(sample2, ddof=1)\n",
    "    \n",
    "    # Calculate the pooled standard deviation\n",
    "    pooled_std = np.sqrt((var1*(n1-1) + var2*(n2-1)) / (n1 + n2 - 2))\n",
    "    \n",
    "    # Calculate the test statistic\n",
    "    t_stat = (mean1 - mean2) / (pooled_std * np.sqrt(1/n1 + 1/n2))\n",
    "    \n",
    "    # Calculate degrees of freedom\n",
    "    dof = n1 + n2 - 2\n",
    "    \n",
    "    # Calculate the p-value\n",
    "    p_value = 2 * (1 - stats.t.cdf(np.abs(t_stat), df=dof))\n",
    "    \n",
    "    # Compare p-value to significance level\n",
    "    if p_value < alpha:\n",
    "        result = \"Reject the null hypothesis\"\n",
    "    else:\n",
    "        result = \"Fail to reject the null hypothesis\"\n",
    "    \n",
    "    return t_stat, p_value, result\n",
    "\n",
    "# Generate random samples\n",
    "np.random.seed(123)  # Set seed for reproducibility\n",
    "sample_size = 30\n",
    "sample1 = np.random.normal(60, 10, sample_size)\n",
    "sample2 = np.random.normal(65, 10, sample_size)\n",
    "\n",
    "# Perform the two-sample t-test\n",
    "alpha = 0.05\n",
    "t_statistic, p_value, conclusion = two_sample_t_test(sample1, sample2, alpha)\n",
    "\n",
    "print(\"Two-Sample T-Test Result:\")\n",
    "print(\"t-statistic:\", t_statistic)\n",
    "print(\"p-value:\", p_value)\n",
    "print(conclusion)\n"
   ]
  },
  {
   "cell_type": "code",
   "execution_count": 17,
   "id": "e0bd6161-918c-4088-8af5-e63a8dee63ac",
   "metadata": {},
   "outputs": [],
   "source": [
    "#Answer 11"
   ]
  },
  {
   "cell_type": "markdown",
   "id": "f5b93079-bc6a-41c0-a570-4b948a51a775",
   "metadata": {},
   "source": [
    "The Student's t-distribution, often referred to as the t-distribution, is a probability distribution that is widely used in statistics. It is used for making inferences about population means when the sample size is small or when the population standard deviation is unknown. The t-distribution is similar to the normal distribution but has heavier tails, which makes it more appropriate for small sample sizes.\n",
    "\n",
    "Characteristics of the t-distribution:\n",
    "\n",
    "Shape: The shape of the t-distribution depends on the degrees of freedom (df), which is determined by the sample size. As the degrees of freedom increase, the t-distribution approaches a standard normal distribution (z-distribution).\n",
    "\n",
    "Tails: The t-distribution has heavier tails compared to the normal distribution. This means that extreme values are more likely to occur in the tails of the distribution, making it more suitable for situations with small sample sizes or when dealing with potentially skewed data.\n",
    "\n",
    "Symmetry: Like the normal distribution, the t-distribution is symmetric around the mean.\n",
    "\n",
    "When to use the t-distribution:\n",
    "\n",
    "Small Sample Size: The t-distribution is especially useful when dealing with small sample sizes (typically less than 30). In these cases, the sample standard deviation is often used as an estimate of the population standard deviation, and the t-distribution accounts for the added uncertainty due to the estimation.\n",
    "\n",
    "Unknown Population Standard Deviation: When the population standard deviation is unknown, the t-distribution is used instead of the normal distribution for making inferences about the population mean.\n",
    "\n",
    "Confidence Intervals: When calculating confidence intervals for the population mean using sample data, the t-distribution is used when the sample size is small or when the population standard deviation is unknown.\n",
    "\n",
    "Hypothesis Testing: The t-distribution is commonly used in hypothesis testing to assess the significance of differences in means, especially when working with small samples.\n",
    "\n",
    "Comparing Means: When comparing means of two groups (independent samples) or conducting paired comparisons (dependent samples) and the sample sizes are small, the t-distribution is appropriate.\n",
    "\n",
    "In summary, the Student's t-distribution is a probability distribution that is used when working with small sample sizes or when the population standard deviation is unknown. It is essential for making accurate statistical inferences, constructing confidence intervals, and performing hypothesis tests in situations where the normal distribution assumptions may not hold. As the sample size increases, the t-distribution approaches the standard normal distribution.\n",
    "\n",
    "\n",
    "\n",
    "\n",
    "\n"
   ]
  },
  {
   "cell_type": "code",
   "execution_count": 18,
   "id": "6884d647-4ef4-4940-9150-1633b01fec9b",
   "metadata": {},
   "outputs": [],
   "source": [
    "#Answer 12"
   ]
  },
  {
   "cell_type": "markdown",
   "id": "2db71f54-e57e-466f-9c20-f88045fc7e39",
   "metadata": {},
   "source": [
    "The t-statistic (or t-score) is a measure used in hypothesis testing and confidence interval calculations when the population standard deviation is unknown or when working with small sample sizes. It quantifies how many standard errors the sample mean is away from the hypothesized population mean under the null hypothesis. The t-statistic helps determine whether the observed sample mean is significantly different from the hypothesized population mean.\n",
    "\n",
    "The formula for the t-statistic is:\n",
    "\n",
    "�\n",
    "=\n",
    "�\n",
    "ˉ\n",
    "−\n",
    "�\n",
    "�\n",
    "�\n",
    "t= \n",
    "n\n",
    "​\n",
    " \n",
    "s\n",
    "​\n",
    " \n",
    "x\n",
    "ˉ\n",
    " −μ\n",
    "​\n",
    " \n",
    "\n",
    "Where:\n",
    "\n",
    "�\n",
    "ˉ\n",
    "x\n",
    "ˉ\n",
    "  is the sample mean.\n",
    "�\n",
    "μ is the hypothesized population mean under the null hypothesis.\n",
    "�\n",
    "s is the sample standard deviation (Bessel's corrected) or an estimate of the population standard deviation.\n",
    "�\n",
    "n is the sample size.\n",
    "The t-statistic measures how many standard errors the sample mean is away from the hypothesized population mean. A larger absolute value of the t-statistic indicates a greater difference between the sample mean and the hypothesized population mean.\n",
    "\n",
    "In hypothesis testing, the calculated t-statistic is compared to a critical value from the t-distribution or used to calculate a p-value. If the t-statistic is far from zero (i.e., significantly different from the hypothesized population mean) and the associated p-value is small, the null hypothesis may be rejected in favor of the alternative hypothesis.\n",
    "\n",
    "The t-statistic is a fundamental concept in statistical inference, and it plays a crucial role in determining whether observed differences in sample data are statistically significant and whether conclusions drawn from the sample can be generalized to the population.\n",
    "\n",
    "\n",
    "\n",
    "\n",
    "\n"
   ]
  },
  {
   "cell_type": "code",
   "execution_count": 19,
   "id": "a188bf63-4012-4a9c-a1cd-4cf62e6cb661",
   "metadata": {},
   "outputs": [],
   "source": [
    "#Answer 13"
   ]
  },
  {
   "cell_type": "code",
   "execution_count": 20,
   "id": "4efa72b9-8029-493e-ab55-71519e49057b",
   "metadata": {},
   "outputs": [
    {
     "name": "stdout",
     "output_type": "stream",
     "text": [
      "Confidence Interval: $485.79 to $514.21\n"
     ]
    }
   ],
   "source": [
    "import numpy as np\n",
    "import scipy.stats as stats\n",
    "\n",
    "# Given values\n",
    "sample_mean = 500  # Sample mean revenue\n",
    "sample_std_dev = 50  # Sample standard deviation\n",
    "sample_size = 50  # Sample size\n",
    "confidence_level = 0.95  # Confidence level\n",
    "\n",
    "# Calculate the standard error of the mean\n",
    "standard_error = sample_std_dev / np.sqrt(sample_size)\n",
    "\n",
    "# Calculate the margin of error using the t-distribution\n",
    "degrees_of_freedom = sample_size - 1\n",
    "alpha = 1 - confidence_level\n",
    "critical_value = stats.t.ppf(1 - alpha / 2, df=degrees_of_freedom)\n",
    "margin_of_error = critical_value * standard_error\n",
    "\n",
    "# Calculate the confidence interval\n",
    "lower_bound = sample_mean - margin_of_error\n",
    "upper_bound = sample_mean + margin_of_error\n",
    "\n",
    "# Print the confidence interval\n",
    "print(f\"Confidence Interval: ${lower_bound:.2f} to ${upper_bound:.2f}\")\n"
   ]
  },
  {
   "cell_type": "code",
   "execution_count": 21,
   "id": "f8d27679-c399-4ecb-ae18-4032c8dab362",
   "metadata": {},
   "outputs": [],
   "source": [
    "#Answer 14"
   ]
  },
  {
   "cell_type": "code",
   "execution_count": 22,
   "id": "c0d35528-405b-4c43-8559-643d10e8d9fe",
   "metadata": {},
   "outputs": [
    {
     "name": "stdout",
     "output_type": "stream",
     "text": [
      "Reject the null hypothesis\n"
     ]
    }
   ],
   "source": [
    "import numpy as np\n",
    "import scipy.stats as stats\n",
    "\n",
    "# Given values\n",
    "sample_mean = 8  # Sample mean decrease in blood pressure\n",
    "population_mean_hypothesized = 10  # Hypothesized population mean decrease\n",
    "sample_std_dev = 3  # Sample standard deviation\n",
    "sample_size = 100  # Sample size\n",
    "significance_level = 0.05  # Significance level\n",
    "\n",
    "# Calculate the t-statistic\n",
    "t_statistic = (sample_mean - population_mean_hypothesized) / (sample_std_dev / np.sqrt(sample_size))\n",
    "\n",
    "# Calculate the degrees of freedom\n",
    "degrees_of_freedom = sample_size - 1\n",
    "\n",
    "# Calculate the critical value from the t-distribution for a one-tailed test\n",
    "critical_value = stats.t.ppf(1 - significance_level, df=degrees_of_freedom)\n",
    "\n",
    "# Compare the t-statistic to the critical value\n",
    "if t_statistic < -critical_value or t_statistic > critical_value:\n",
    "    result = \"Reject the null hypothesis\"\n",
    "else:\n",
    "    result = \"Fail to reject the null hypothesis\"\n",
    "\n",
    "# Print the result of the hypothesis test\n",
    "print(result)\n"
   ]
  },
  {
   "cell_type": "code",
   "execution_count": 23,
   "id": "3c148b40-dbc4-4f56-8fc0-8bf25009814e",
   "metadata": {},
   "outputs": [],
   "source": [
    "#Answer 15"
   ]
  },
  {
   "cell_type": "code",
   "execution_count": 24,
   "id": "19c1df37-5eaf-4f5d-8423-4c7faaa51f05",
   "metadata": {},
   "outputs": [
    {
     "name": "stdout",
     "output_type": "stream",
     "text": [
      "Reject the null hypothesis\n"
     ]
    }
   ],
   "source": [
    "import numpy as np\n",
    "import scipy.stats as stats\n",
    "\n",
    "# Given values\n",
    "sample_mean = 4.8  # Sample mean weight\n",
    "population_mean = 5  # Hypothesized population mean weight\n",
    "population_std_dev = 0.5  # Population standard deviation\n",
    "sample_size = 25  # Sample size\n",
    "significance_level = 0.01  # Significance level\n",
    "\n",
    "# Calculate the t-statistic\n",
    "t_statistic = (sample_mean - population_mean) / (population_std_dev / np.sqrt(sample_size))\n",
    "\n",
    "# Calculate the degrees of freedom\n",
    "degrees_of_freedom = sample_size - 1\n",
    "\n",
    "# Calculate the critical value from the t-distribution for a one-tailed test\n",
    "critical_value = stats.t.ppf(significance_level, df=degrees_of_freedom)\n",
    "\n",
    "# Compare the t-statistic to the critical value\n",
    "if t_statistic < -critical_value:\n",
    "    result = \"Reject the null hypothesis\"\n",
    "else:\n",
    "    result = \"Fail to reject the null hypothesis\"\n",
    "\n",
    "# Print the result of the hypothesis test\n",
    "print(result)\n"
   ]
  },
  {
   "cell_type": "code",
   "execution_count": 25,
   "id": "ab5a0344-4421-446b-8617-4c1aed1b2e50",
   "metadata": {},
   "outputs": [],
   "source": [
    "#Answer 16"
   ]
  },
  {
   "cell_type": "code",
   "execution_count": 26,
   "id": "8c1b1de2-5528-40dc-8ef1-1d764a626c6e",
   "metadata": {},
   "outputs": [
    {
     "name": "stdout",
     "output_type": "stream",
     "text": [
      "Fail to reject the null hypothesis\n"
     ]
    }
   ],
   "source": [
    "import numpy as np\n",
    "import scipy.stats as stats\n",
    "\n",
    "# Given values for Group 1\n",
    "sample_mean1 = 80  # Sample mean score for Group 1\n",
    "sample_std_dev1 = 10  # Sample standard deviation for Group 1\n",
    "sample_size1 = 30  # Sample size for Group 1\n",
    "\n",
    "# Given values for Group 2\n",
    "sample_mean2 = 75  # Sample mean score for Group 2\n",
    "sample_std_dev2 = 8  # Sample standard deviation for Group 2\n",
    "sample_size2 = 40  # Sample size for Group 2\n",
    "\n",
    "# Significance level\n",
    "significance_level = 0.01  # Significance level\n",
    "\n",
    "# Calculate the pooled standard deviation\n",
    "pooled_std_dev = np.sqrt(((sample_size1 - 1) * sample_std_dev1**2 + (sample_size2 - 1) * sample_std_dev2**2) / (sample_size1 + sample_size2 - 2))\n",
    "\n",
    "# Calculate the t-statistic\n",
    "t_statistic = (sample_mean1 - sample_mean2) / (pooled_std_dev * np.sqrt((1 / sample_size1) + (1 / sample_size2)))\n",
    "\n",
    "# Calculate the degrees of freedom\n",
    "degrees_of_freedom = sample_size1 + sample_size2 - 2\n",
    "\n",
    "# Calculate the critical value from the t-distribution for a two-tailed test\n",
    "alpha = significance_level / 2\n",
    "critical_value = stats.t.ppf(1 - alpha, df=degrees_of_freedom)\n",
    "\n",
    "# Compare the absolute value of the t-statistic to the critical value\n",
    "if np.abs(t_statistic) > critical_value:\n",
    "    result = \"Reject the null hypothesis\"\n",
    "else:\n",
    "    result = \"Fail to reject the null hypothesis\"\n",
    "\n",
    "# Print the result of the hypothesis test\n",
    "print(result)\n"
   ]
  },
  {
   "cell_type": "code",
   "execution_count": 27,
   "id": "bc85aef0-4987-4fb0-aa63-7f670fdae3a9",
   "metadata": {},
   "outputs": [],
   "source": [
    "#Answer 17"
   ]
  },
  {
   "cell_type": "code",
   "execution_count": 28,
   "id": "17a0226f-f91c-4c12-b4f9-2e6d279f50f6",
   "metadata": {},
   "outputs": [
    {
     "name": "stdout",
     "output_type": "stream",
     "text": [
      "Confidence Interval: 3.43 to 4.57\n"
     ]
    }
   ],
   "source": [
    "import numpy as np\n",
    "import scipy.stats as stats\n",
    "\n",
    "# Given values\n",
    "sample_mean = 4  # Sample mean number of ads watched\n",
    "sample_std_dev = 1.5  # Sample standard deviation\n",
    "sample_size = 50  # Sample size\n",
    "confidence_level = 0.99  # Confidence level\n",
    "\n",
    "# Calculate the standard error of the mean\n",
    "standard_error = sample_std_dev / np.sqrt(sample_size)\n",
    "\n",
    "# Calculate the margin of error using the t-distribution\n",
    "degrees_of_freedom = sample_size - 1\n",
    "alpha = 1 - confidence_level\n",
    "critical_value = stats.t.ppf(1 - alpha / 2, df=degrees_of_freedom)\n",
    "margin_of_error = critical_value * standard_error\n",
    "\n",
    "# Calculate the confidence interval\n",
    "lower_bound = sample_mean - margin_of_error\n",
    "upper_bound = sample_mean + margin_of_error\n",
    "\n",
    "# Print the confidence interval\n",
    "print(f\"Confidence Interval: {lower_bound:.2f} to {upper_bound:.2f}\")\n"
   ]
  },
  {
   "cell_type": "code",
   "execution_count": null,
   "id": "ce04bb49-d511-48a2-802f-8acc28b6c36d",
   "metadata": {},
   "outputs": [],
   "source": []
  }
 ],
 "metadata": {
  "kernelspec": {
   "display_name": "Python 3 (ipykernel)",
   "language": "python",
   "name": "python3"
  },
  "language_info": {
   "codemirror_mode": {
    "name": "ipython",
    "version": 3
   },
   "file_extension": ".py",
   "mimetype": "text/x-python",
   "name": "python",
   "nbconvert_exporter": "python",
   "pygments_lexer": "ipython3",
   "version": "3.10.8"
  }
 },
 "nbformat": 4,
 "nbformat_minor": 5
}
