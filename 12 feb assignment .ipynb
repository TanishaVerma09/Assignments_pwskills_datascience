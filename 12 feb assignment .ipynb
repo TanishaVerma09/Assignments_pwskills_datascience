{
 "cells": [
  {
   "cell_type": "code",
   "execution_count": 1,
   "id": "3fce2fdf-dc3d-4b1f-a864-311e8abdf0c0",
   "metadata": {},
   "outputs": [],
   "source": [
    "#Answer 1"
   ]
  },
  {
   "cell_type": "markdown",
   "id": "6ea07e23-cedf-416c-bb94-370ca303f9f1",
   "metadata": {},
   "source": [
    "An exception in python is a sort of an error raised at runtime because of some issues with the input/output value or zero division error etc which disrupts the normal flow of execution of the program.These can be handles in the program beforehand using the try -except bloock in python which allows us to handle those exceptions and even define our custom exceptions.\n",
    "\n",
    "\n",
    "Syntax errors are the errors which occur before the execution of the program by factors like indentation errors or misspelled keywords etc and these need to be fixed before the execution of the program."
   ]
  },
  {
   "cell_type": "code",
   "execution_count": 2,
   "id": "d9c4fc47-8292-4b58-bf67-6b66255b653c",
   "metadata": {},
   "outputs": [],
   "source": [
    "#Answer 2"
   ]
  },
  {
   "cell_type": "markdown",
   "id": "95cb52f1-ec7e-4252-a469-4290a8b342f8",
   "metadata": {},
   "source": [
    "When an exception is not handled the program stops executing after when error is encountered and an error is displayed. For example:Zero Division Error"
   ]
  },
  {
   "cell_type": "code",
   "execution_count": 3,
   "id": "597ade94-9b1e-4be5-ac27-27e8b88c118f",
   "metadata": {},
   "outputs": [
    {
     "name": "stdout",
     "output_type": "stream",
     "text": [
      "The value of a is 10\n"
     ]
    },
    {
     "ename": "ZeroDivisionError",
     "evalue": "division by zero",
     "output_type": "error",
     "traceback": [
      "\u001b[0;31m---------------------------------------------------------------------------\u001b[0m",
      "\u001b[0;31mZeroDivisionError\u001b[0m                         Traceback (most recent call last)",
      "Cell \u001b[0;32mIn[3], line 3\u001b[0m\n\u001b[1;32m      1\u001b[0m a\u001b[38;5;241m=\u001b[39m\u001b[38;5;241m10\u001b[39m\n\u001b[1;32m      2\u001b[0m \u001b[38;5;28mprint\u001b[39m(\u001b[38;5;124m\"\u001b[39m\u001b[38;5;124mThe value of a is\u001b[39m\u001b[38;5;124m\"\u001b[39m, a)\n\u001b[0;32m----> 3\u001b[0m \u001b[38;5;28mprint\u001b[39m(\u001b[38;5;124m\"\u001b[39m\u001b[38;5;124ma divide by 0 yields\u001b[39m\u001b[38;5;124m\"\u001b[39m, \u001b[43ma\u001b[49m\u001b[38;5;241;43m/\u001b[39;49m\u001b[38;5;241;43m0\u001b[39;49m)\n",
      "\u001b[0;31mZeroDivisionError\u001b[0m: division by zero"
     ]
    }
   ],
   "source": [
    "a=10\n",
    "print(\"The value of a is\", a)\n",
    "print(\"a divide by 0 yields\", a/0)"
   ]
  },
  {
   "cell_type": "code",
   "execution_count": 4,
   "id": "274014a3-9b81-4631-a930-9604bf7d7a91",
   "metadata": {},
   "outputs": [],
   "source": [
    "#Answer 3"
   ]
  },
  {
   "cell_type": "markdown",
   "id": "e224e090-1fac-4c25-9fef-b3f7c7934f89",
   "metadata": {},
   "source": [
    "try and except are used to catch and handle exceptions in python. Try block contains the program which may or may not can yield an error and except block contains the message or error that should be displayed if thr program encounters an error in try block only then the except block will be executed.For example: Zero Division Error"
   ]
  },
  {
   "cell_type": "code",
   "execution_count": 8,
   "id": "72dc662f-f2ee-445b-92a8-1cbe143a7958",
   "metadata": {},
   "outputs": [
    {
     "name": "stdout",
     "output_type": "stream",
     "text": [
      "The value of a is 10\n",
      "There is an error in above program which is division by zero error\n"
     ]
    }
   ],
   "source": [
    "try:\n",
    "    a=10\n",
    "    print(\"The value of a is\", a)\n",
    "    print(\"a divide by 0 yields\", a/0)\n",
    "except Exception as e:\n",
    "    print(\"There is an error in above program which is\" ,e ,\"error\")"
   ]
  },
  {
   "cell_type": "code",
   "execution_count": 9,
   "id": "07f10a8b-aa11-4ea2-8836-bf50afaba5d0",
   "metadata": {},
   "outputs": [],
   "source": [
    "#Answer 4"
   ]
  },
  {
   "cell_type": "markdown",
   "id": "1d92938b-f718-4615-b01a-126f716ebadd",
   "metadata": {},
   "source": [
    "1. try and else:\n",
    "    \n",
    "try block contains the code which is to be executed whereas else block contains the code which should be executed only when the try block is executed succesfully. If the try block encounters any exceptions and it goes into except block then else block cannot be executed. for example:"
   ]
  },
  {
   "cell_type": "code",
   "execution_count": 12,
   "id": "c0f1b6d8-6863-4e4e-9e39-50e3a316b2e2",
   "metadata": {},
   "outputs": [
    {
     "name": "stdin",
     "output_type": "stream",
     "text": [
      "Enter your age 5\n"
     ]
    },
    {
     "name": "stdout",
     "output_type": "stream",
     "text": [
      "valid age\n",
      "The program has an exception which is division by zero error\n"
     ]
    }
   ],
   "source": [
    "try:\n",
    "    a=int(input(\"Enter your age\"))\n",
    "    if a<0:\n",
    "        print(\"Invalid age\")\n",
    "    elif a>150:\n",
    "        print(\"Age is high\")\n",
    "\n",
    "    else:\n",
    "        print(\"valid age\")\n",
    "    a=a/0\n",
    "    print(\"age is\", a)\n",
    "except Exception as e:\n",
    "    print(\"The program has an exception which is\", e , \"error\")\n",
    "    \n",
    "else:\n",
    "    print(\"program is succesfully executed\")"
   ]
  },
  {
   "cell_type": "code",
   "execution_count": 13,
   "id": "76799873-dd65-470f-92ae-4caf5158a5ae",
   "metadata": {},
   "outputs": [
    {
     "name": "stdin",
     "output_type": "stream",
     "text": [
      "Enter your age 200\n"
     ]
    },
    {
     "name": "stdout",
     "output_type": "stream",
     "text": [
      "Age is high\n",
      "program is succesfully executed\n"
     ]
    }
   ],
   "source": [
    "try:\n",
    "    a=int(input(\"Enter your age\"))\n",
    "    if a<0:\n",
    "        print(\"Invalid age\")\n",
    "    elif a>150:\n",
    "        print(\"Age is high\")\n",
    "\n",
    "    else:\n",
    "        print(\"valid age\")\n",
    "    #a=a/0\n",
    "    #print(\"age is\", a)\n",
    "except Exception as e:\n",
    "    print(\"The program has an exception which is\", e , \"error\")\n",
    "    \n",
    "else:\n",
    "    print(\"program is succesfully executed\")"
   ]
  },
  {
   "cell_type": "markdown",
   "id": "591d56d6-8b26-4e9b-bb0b-2e19cab77ef4",
   "metadata": {},
   "source": [
    "2. finally\n",
    "\n",
    "finally is a keyword in python which ensures that even if the error or exception occurs or not it will be executed in any situation regardless of any particular block. For example:"
   ]
  },
  {
   "cell_type": "code",
   "execution_count": null,
   "id": "9e0a2d88-bd27-40d8-be94-eab9b3c6462a",
   "metadata": {},
   "outputs": [],
   "source": []
  },
  {
   "cell_type": "code",
   "execution_count": 14,
   "id": "be38d86e-275b-4579-aee2-890753c74632",
   "metadata": {},
   "outputs": [
    {
     "name": "stdin",
     "output_type": "stream",
     "text": [
      "Enter your age -45\n"
     ]
    },
    {
     "name": "stdout",
     "output_type": "stream",
     "text": [
      "Invalid age\n",
      "The program has an exception which is division by zero error\n",
      "Done\n"
     ]
    }
   ],
   "source": [
    "try:\n",
    "    a=int(input(\"Enter your age\"))\n",
    "    if a<0:\n",
    "        print(\"Invalid age\")\n",
    "    elif a>150:\n",
    "        print(\"Age is high\")\n",
    "\n",
    "    else:\n",
    "        print(\"valid age\")\n",
    "    a=a/0\n",
    "    print(\"age is\", a)\n",
    "except Exception as e:\n",
    "    print(\"The program has an exception which is\", e , \"error\")\n",
    "    \n",
    "else:\n",
    "    print(\"program is succesfully executed\")\n",
    "    \n",
    "finally:\n",
    "    print(\"Done\")"
   ]
  },
  {
   "cell_type": "code",
   "execution_count": null,
   "id": "97740cd7-acf4-4285-9569-108b7370f9ba",
   "metadata": {},
   "outputs": [],
   "source": [
    "3. raise\n",
    "\n",
    "raise is a keyword in python which is used to handle and create custom exceptions.For example:"
   ]
  },
  {
   "cell_type": "code",
   "execution_count": 25,
   "id": "3904d830-481b-4b2a-932a-9788d33e3954",
   "metadata": {},
   "outputs": [],
   "source": [
    "class validateage(Exception):\n",
    "    def __init__(self,msg):\n",
    "        self.msg=msg"
   ]
  },
  {
   "cell_type": "code",
   "execution_count": 26,
   "id": "cb7afa93-2a32-4e5c-a486-f2faaf913db1",
   "metadata": {},
   "outputs": [],
   "source": [
    "def computeage(a):\n",
    "    if a<0:\n",
    "        raise validateage(\"Entered age is negative\")\n",
    "    elif a>150:\n",
    "        raise validateage(\"Age is high invalid age\")\n",
    "    else:\n",
    "        print(\"valid age\")\n",
    "    "
   ]
  },
  {
   "cell_type": "code",
   "execution_count": 27,
   "id": "72b72d6a-56a8-489f-a3ce-33ee6a6591c5",
   "metadata": {},
   "outputs": [
    {
     "name": "stdin",
     "output_type": "stream",
     "text": [
      "enter your age 155\n"
     ]
    },
    {
     "name": "stdout",
     "output_type": "stream",
     "text": [
      "Age is high invalid age\n"
     ]
    }
   ],
   "source": [
    "try:\n",
    "    a=int(input(\"enter your age\"))\n",
    "    computeage(a)\n",
    "except validateage as e:\n",
    "    print(e)"
   ]
  },
  {
   "cell_type": "code",
   "execution_count": 28,
   "id": "2e7d2684-0950-444f-a300-4ca0d4954e77",
   "metadata": {},
   "outputs": [],
   "source": [
    "#Answer 5 and Answer 6"
   ]
  },
  {
   "cell_type": "markdown",
   "id": "d911e20b-2852-439e-98cd-23144e21a81a",
   "metadata": {},
   "source": [
    "custom exceptions in python are those exceptions which are created by user to handle it's own required exceptions which inherits from base Exception class in python. It is important because it increases the program's readability,modularity,robustness,logic,error differentiation. For example:"
   ]
  },
  {
   "cell_type": "code",
   "execution_count": 29,
   "id": "95825273-b148-4cb0-a738-1d3c6ae7c361",
   "metadata": {},
   "outputs": [
    {
     "name": "stdin",
     "output_type": "stream",
     "text": [
      "enter your age 25\n"
     ]
    },
    {
     "name": "stdout",
     "output_type": "stream",
     "text": [
      "valid age\n"
     ]
    }
   ],
   "source": [
    "class validateage(Exception):\n",
    "    def __init__(self,msg):\n",
    "        self.msg=msg\n",
    "def computeage(a):\n",
    "    if a<0:\n",
    "        raise validateage(\"Entered age is negative\")\n",
    "    elif a>150:\n",
    "        raise validateage(\"Age is high invalid age\")\n",
    "    else:\n",
    "        print(\"valid age\")\n",
    "try:\n",
    "    a=int(input(\"enter your age\"))\n",
    "    computeage(a)\n",
    "except validateage as e:\n",
    "    print(e)"
   ]
  },
  {
   "cell_type": "code",
   "execution_count": 30,
   "id": "5bc059d6-ebf5-4189-8ac2-d4f7d3b5f724",
   "metadata": {},
   "outputs": [
    {
     "name": "stdin",
     "output_type": "stream",
     "text": [
      "enter your age -89\n"
     ]
    },
    {
     "name": "stdout",
     "output_type": "stream",
     "text": [
      "Entered age is negative\n"
     ]
    }
   ],
   "source": [
    "class validateage(Exception):\n",
    "    def __init__(self,msg):\n",
    "        self.msg=msg\n",
    "def computeage(a):\n",
    "    if a<0:\n",
    "        raise validateage(\"Entered age is negative\")\n",
    "    elif a>150:\n",
    "        raise validateage(\"Age is high invalid age\")\n",
    "    else:\n",
    "        print(\"valid age\")\n",
    "try:\n",
    "    a=int(input(\"enter your age\"))\n",
    "    computeage(a)\n",
    "except validateage as e:\n",
    "    print(e)"
   ]
  },
  {
   "cell_type": "code",
   "execution_count": null,
   "id": "d81542b6-e811-4e35-b984-c2efa412ada2",
   "metadata": {},
   "outputs": [],
   "source": []
  }
 ],
 "metadata": {
  "kernelspec": {
   "display_name": "Python 3 (ipykernel)",
   "language": "python",
   "name": "python3"
  },
  "language_info": {
   "codemirror_mode": {
    "name": "ipython",
    "version": 3
   },
   "file_extension": ".py",
   "mimetype": "text/x-python",
   "name": "python",
   "nbconvert_exporter": "python",
   "pygments_lexer": "ipython3",
   "version": "3.10.8"
  }
 },
 "nbformat": 4,
 "nbformat_minor": 5
}
