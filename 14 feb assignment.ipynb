{
 "cells": [
  {
   "cell_type": "code",
   "execution_count": 1,
   "id": "9addd34c-46e2-46fe-bb6b-fde45f9cc361",
   "metadata": {},
   "outputs": [],
   "source": [
    "#Answer 1"
   ]
  },
  {
   "cell_type": "markdown",
   "id": "bf492db7-5f0b-4a6e-9a94-fa034534ec65",
   "metadata": {},
   "source": [
    "Multithreading in python is a process of running multiple threads simultaneously within a single thread or program. Module which is used to handle threads in python is Threading"
   ]
  },
  {
   "cell_type": "code",
   "execution_count": 2,
   "id": "dc459a5f-a8ea-4ed6-b7e6-f0ae315627b1",
   "metadata": {},
   "outputs": [],
   "source": [
    "#Answer 2"
   ]
  },
  {
   "cell_type": "markdown",
   "id": "7832defd-04f7-49af-99c6-bc2fa0e2bbce",
   "metadata": {},
   "source": [
    "Threading module is used when we wish to utilise all thr processors of the device and run programs simultaneously within threads.\n",
    "\n",
    "Use of the following functions:\n",
    "    1. activeCount()\n",
    "    It returns the number of Thread objects which are currently alive in the program. It gives you the count of active threads in the program.\n",
    "    \n",
    "    2.currentThread()\n",
    "    The currentThread() function returns the current Thread object, corresponding to the caller's thread of execution. It allows you to access information about the currently executing thread, such as its name or thread ID.\n",
    "    \n",
    "    3.enumerate()\n",
    "    The enumerate() function returns a list of all Thread objects currently alive. It can be used to iterate over all active threads and access their properties."
   ]
  },
  {
   "cell_type": "code",
   "execution_count": 3,
   "id": "d84d4890-c182-40ab-8fec-5b37e6a2c50c",
   "metadata": {},
   "outputs": [],
   "source": [
    "#Answer 3"
   ]
  },
  {
   "cell_type": "markdown",
   "id": "9cbc0966-93b0-44f3-bbf1-2c95a6dfce7a",
   "metadata": {},
   "source": [
    "The run() method is the entry point for thread execution. It contains the code that will be executed in a separate thread when start() is called. By default, the run() method in the Thread class does nothing, so it is recommended to subclass Thread and override the run() method with your desired thread logic python.\n",
    "\n",
    "The start() method is used to start the execution of a thread. It creates a new thread and calls the run() method internally to begin the execution of the thread's code.\n",
    "\n",
    "The join() method is used to wait for a thread to complete its execution. It blocks the calling thread until the target thread finishes.\n",
    "\n",
    "The isAlive() method is used to check whether a thread is currently running. It returns True if the thread is still active (running or blocked), and False otherwise.\n"
   ]
  },
  {
   "cell_type": "code",
   "execution_count": 1,
   "id": "34451646-cf39-485f-a309-11d32f46cab3",
   "metadata": {},
   "outputs": [],
   "source": [
    "#Answer 4"
   ]
  },
  {
   "cell_type": "code",
   "execution_count": 2,
   "id": "5cee8453-fb18-447e-8e1b-755954dc9d4c",
   "metadata": {},
   "outputs": [],
   "source": [
    "def list_of_squares(list):\n",
    "    list1=[]\n",
    "    for i in list:\n",
    "        list1.append(i*i)\n",
    "    print(list1)\n",
    "        "
   ]
  },
  {
   "cell_type": "code",
   "execution_count": 3,
   "id": "c0ee1ca4-d51e-47d3-99bc-bfd6f9bdcb14",
   "metadata": {},
   "outputs": [],
   "source": [
    "def list_of_cubes(list):\n",
    "    list2=[]\n",
    "    for i in list:\n",
    "        list2.append(i**3)\n",
    "    print(list2)\n",
    "        "
   ]
  },
  {
   "cell_type": "code",
   "execution_count": 4,
   "id": "31ded053-8136-4bcc-98c7-0b561244e153",
   "metadata": {},
   "outputs": [],
   "source": [
    "import threading"
   ]
  },
  {
   "cell_type": "code",
   "execution_count": 13,
   "id": "955bab06-a88f-4881-aa6e-0b86fb042e3d",
   "metadata": {},
   "outputs": [],
   "source": [
    "def two_threads(list):\n",
    "    \n",
    "    t1= threading.Thread(target=list_of_squares,args=(list,))\n",
    "    t2= threading.Thread(target=list_of_cubes, args=(list,))\n",
    "    t1.start()\n",
    "    t2.start()\n",
    "    t1.join()\n",
    "    t2.join()"
   ]
  },
  {
   "cell_type": "code",
   "execution_count": 14,
   "id": "dc3ff4bd-c00f-457c-961f-344cb38ad512",
   "metadata": {},
   "outputs": [
    {
     "name": "stdout",
     "output_type": "stream",
     "text": [
      "[1, 4, 9, 16]\n",
      "[1, 8, 27, 64]\n"
     ]
    }
   ],
   "source": [
    "two_threads([1,2,3,4])\n",
    "   \n",
    "    \n",
    "\n"
   ]
  },
  {
   "cell_type": "code",
   "execution_count": 2,
   "id": "350c90ae-63ee-4235-a019-6e6351c91873",
   "metadata": {},
   "outputs": [],
   "source": [
    "#Answer 5"
   ]
  },
  {
   "cell_type": "markdown",
   "id": "c3ce72c8-0a57-4b20-83c4-b283bdcbb111",
   "metadata": {},
   "source": [
    "advantages: Respnsiveness, parallelism, Resource sharing, Enhanced user experience\n",
    "disadvanatges:Complexity, Limited CPU utilisation, Increased memory consumption"
   ]
  },
  {
   "cell_type": "code",
   "execution_count": 3,
   "id": "0cb79226-f74a-4420-8188-3752d5409830",
   "metadata": {},
   "outputs": [],
   "source": [
    "#Answer 6"
   ]
  },
  {
   "cell_type": "markdown",
   "id": "e874260b-506e-4435-85a3-5824499b4a0e",
   "metadata": {},
   "source": [
    "Deadlocks:A deadlock occurs when two or more threads are waiting indefinitely for each other to release resources, resulting in a deadlock state where none of the threads can proceed. Deadlocks typically happen due to a circular dependency of resources or improper resource allocation.\n",
    "\n",
    "Race condition:A race condition occurs when the behavior of a program depends on the relative timing of events or actions performed by multiple threads. It arises when multiple threads access shared resources concurrently, and the final outcome of the program depends on the interleaving or scheduling of those threads.\n",
    "\n",
    "Race conditions can lead to unexpected and incorrect results, as the outcome depends on the timing and order of execution. They often occur when multiple threads try to read and write to a shared resource simultaneously without proper synchronization."
   ]
  },
  {
   "cell_type": "code",
   "execution_count": null,
   "id": "88c3ee3b-09fc-406e-afe6-b6ade80c8f6a",
   "metadata": {},
   "outputs": [],
   "source": []
  }
 ],
 "metadata": {
  "kernelspec": {
   "display_name": "Python 3 (ipykernel)",
   "language": "python",
   "name": "python3"
  },
  "language_info": {
   "codemirror_mode": {
    "name": "ipython",
    "version": 3
   },
   "file_extension": ".py",
   "mimetype": "text/x-python",
   "name": "python",
   "nbconvert_exporter": "python",
   "pygments_lexer": "ipython3",
   "version": "3.10.8"
  }
 },
 "nbformat": 4,
 "nbformat_minor": 5
}
