{
 "cells": [
  {
   "cell_type": "code",
   "execution_count": 1,
   "id": "21d387f4-c056-4781-83d4-ab74bbd80b7a",
   "metadata": {},
   "outputs": [],
   "source": [
    "#Answer 1"
   ]
  },
  {
   "cell_type": "markdown",
   "id": "609b2f9c-5992-48c5-aaff-af0178b6d097",
   "metadata": {},
   "source": [
    "'def' keyword is used to create a function."
   ]
  },
  {
   "cell_type": "markdown",
   "id": "d154fab7-36f5-404e-85f7-5ca476cbb2fa",
   "metadata": {},
   "source": [
    "A function to return a list of odd numbers in the range of 1 to 25."
   ]
  },
  {
   "cell_type": "code",
   "execution_count": 17,
   "id": "0e936be7-9cd4-4963-b38f-9f9268b8d3e5",
   "metadata": {},
   "outputs": [],
   "source": [
    "def odd_num():\n",
    "    l=[]\n",
    "    for i in range(1,26,2):\n",
    "        l.append(i)\n",
    "    return l\n",
    "        "
   ]
  },
  {
   "cell_type": "code",
   "execution_count": 18,
   "id": "026886fa-aea5-4e59-a6d5-688e43a2fbcd",
   "metadata": {},
   "outputs": [
    {
     "data": {
      "text/plain": [
       "[1, 3, 5, 7, 9, 11, 13, 15, 17, 19, 21, 23, 25]"
      ]
     },
     "execution_count": 18,
     "metadata": {},
     "output_type": "execute_result"
    }
   ],
   "source": [
    "odd_num()"
   ]
  },
  {
   "cell_type": "code",
   "execution_count": 19,
   "id": "ec3fc2cc-fbbd-49fb-8d06-1d36e8cc8698",
   "metadata": {},
   "outputs": [],
   "source": [
    "#Answer 2"
   ]
  },
  {
   "cell_type": "markdown",
   "id": "255dbc05-24de-4604-9373-3531f7853367",
   "metadata": {},
   "source": [
    "*args and **kwargs are used in some functions when we need to input multiple values without knowing the number of it. *args return a tuple of the values and **kwargs returns a dictionary of the inputted values."
   ]
  },
  {
   "cell_type": "markdown",
   "id": "e7f2d94d-df9d-4dde-961e-5d6d2c71d91f",
   "metadata": {},
   "source": [
    "Function for *args"
   ]
  },
  {
   "cell_type": "code",
   "execution_count": 20,
   "id": "136ad926-bf20-4689-bd09-22fbafa62bfc",
   "metadata": {},
   "outputs": [],
   "source": [
    "def test(*args):\n",
    "    return args"
   ]
  },
  {
   "cell_type": "code",
   "execution_count": 21,
   "id": "173bd0cc-107c-428f-aee3-1a495b02296b",
   "metadata": {},
   "outputs": [
    {
     "data": {
      "text/plain": [
       "(1, 2, 3, 4, 5)"
      ]
     },
     "execution_count": 21,
     "metadata": {},
     "output_type": "execute_result"
    }
   ],
   "source": [
    "test(1,2,3,4,5)"
   ]
  },
  {
   "cell_type": "markdown",
   "id": "be517bd6-0fa4-41f1-a88c-4ec4d8d42aec",
   "metadata": {},
   "source": [
    "Function for **kwargs"
   ]
  },
  {
   "cell_type": "code",
   "execution_count": 24,
   "id": "1ebbbb48-161a-4001-9fdf-05174f31fcf0",
   "metadata": {},
   "outputs": [],
   "source": [
    "def test1(**kwargs):\n",
    "    return kwargs"
   ]
  },
  {
   "cell_type": "code",
   "execution_count": 25,
   "id": "f9d34681-0e3a-4d69-9ac5-4963e633116d",
   "metadata": {},
   "outputs": [
    {
     "data": {
      "text/plain": [
       "{'a': 1, 'b': 2, 'c': 3}"
      ]
     },
     "execution_count": 25,
     "metadata": {},
     "output_type": "execute_result"
    }
   ],
   "source": [
    "test1(a=1,b=2,c=3)"
   ]
  },
  {
   "cell_type": "code",
   "execution_count": 26,
   "id": "29081e69-440b-412c-96d8-7d29686d25ec",
   "metadata": {},
   "outputs": [],
   "source": [
    "#Answer 3"
   ]
  },
  {
   "cell_type": "markdown",
   "id": "0f510902-7d66-4af4-9a29-78a48e3fee5c",
   "metadata": {},
   "source": [
    "An iterator in python is the object that contains countable number of values. The iterator object is initialized using 'iter()'method and 'next()'method is used for iteration."
   ]
  },
  {
   "cell_type": "markdown",
   "id": "f98e7777-869a-4ead-a426-c0905788295a",
   "metadata": {},
   "source": [
    "Using these methods to print the first five elements of the given list [2, 4, 6, 8, 10, 12, 14, 16, 18, 20]."
   ]
  },
  {
   "cell_type": "code",
   "execution_count": 28,
   "id": "0684f50e-5fd2-47ee-99d7-69440caacd29",
   "metadata": {},
   "outputs": [
    {
     "name": "stdout",
     "output_type": "stream",
     "text": [
      "2\n",
      "4\n",
      "6\n",
      "8\n",
      "10\n"
     ]
    }
   ],
   "source": [
    "l=[2,4,6,8,10,12,14,16,18,20]\n",
    "list_iterator=iter(l)\n",
    "print(next(list_iterator))\n",
    "print(next(list_iterator))\n",
    "print(next(list_iterator))\n",
    "print(next(list_iterator))\n",
    "print(next(list_iterator))"
   ]
  },
  {
   "cell_type": "code",
   "execution_count": 29,
   "id": "f8f72034-45e1-4831-ba36-c1c71df8ad9e",
   "metadata": {},
   "outputs": [],
   "source": [
    "#Answer 4"
   ]
  },
  {
   "cell_type": "markdown",
   "id": "3a78e37a-d3d7-4a93-a105-72dc38bc0b89",
   "metadata": {},
   "source": [
    "A generator-function is defined like a normal function, but whenever it needs to generate a value, it does so with the yield keyword rather than return. If the body of a def contains yield, the function automatically becomes a generator function."
   ]
  },
  {
   "cell_type": "code",
   "execution_count": 34,
   "id": "5e531f18-e9e2-4956-acf0-413517e7de53",
   "metadata": {},
   "outputs": [
    {
     "name": "stdout",
     "output_type": "stream",
     "text": [
      "5\n",
      "7\n"
     ]
    }
   ],
   "source": [
    "def generatorFunction(a,b):\n",
    "    yield a\n",
    "    yield b\n",
    "for value in generatorFunction(5,7):\n",
    "    print(value)"
   ]
  },
  {
   "cell_type": "code",
   "execution_count": 35,
   "id": "d62203fb-b180-40c9-924a-ead532efe05e",
   "metadata": {},
   "outputs": [],
   "source": [
    "#Answer 5 issue"
   ]
  },
  {
   "cell_type": "code",
   "execution_count": 20,
   "id": "382fea99-97fc-408e-a1ab-1539883e68c7",
   "metadata": {},
   "outputs": [
    {
     "name": "stdout",
     "output_type": "stream",
     "text": [
      "3\n",
      "5\n",
      "5\n",
      "5\n",
      "7\n",
      "7\n",
      "7\n",
      "7\n",
      "7\n",
      "9\n",
      "11\n",
      "11\n",
      "11\n",
      "11\n",
      "11\n",
      "11\n",
      "11\n",
      "11\n",
      "11\n",
      "13\n"
     ]
    }
   ],
   "source": [
    "def prime_num():\n",
    "    for i in range(1,1000):\n",
    "        for j in range(2,i):\n",
    "            if (i%j==0):\n",
    "                break\n",
    "            else:\n",
    "                yield i\n",
    "       \n",
    "\n",
    "a=iter(prime_num())  \n",
    "print(next(a))\n",
    "print(next(a))\n",
    "print(next(a))\n",
    "print(next(a))\n",
    "print(next(a))\n",
    "print(next(a))\n",
    "print(next(a))\n",
    "print(next(a))\n",
    "print(next(a))\n",
    "print(next(a))\n",
    "print(next(a))\n",
    "print(next(a))\n",
    "print(next(a))\n",
    "print(next(a))\n",
    "print(next(a))\n",
    "print(next(a))\n",
    "print(next(a))\n",
    "print(next(a))\n",
    "print(next(a))\n",
    "print(next(a))\n",
    "    "
   ]
  },
  {
   "cell_type": "code",
   "execution_count": 16,
   "id": "72f24711-9018-4a94-9113-19a755bbb587",
   "metadata": {},
   "outputs": [
    {
     "data": {
      "text/plain": [
       "<generator object prime_num at 0x7f2d40e1dbd0>"
      ]
     },
     "execution_count": 16,
     "metadata": {},
     "output_type": "execute_result"
    }
   ],
   "source": [
    "prime_num()"
   ]
  },
  {
   "cell_type": "code",
   "execution_count": 1,
   "id": "20b402eb-0a16-483f-ac73-0a151eec0df2",
   "metadata": {},
   "outputs": [],
   "source": [
    "#Answer 6 "
   ]
  },
  {
   "cell_type": "markdown",
   "id": "5e74de7a-0f9e-470c-99fb-92de5fb5de6d",
   "metadata": {},
   "source": [
    "python program to print the first 10 Fibonacci numbers using a while loop."
   ]
  },
  {
   "cell_type": "code",
   "execution_count": 6,
   "id": "d573b874-a755-40e2-8b2e-9bf995b3f890",
   "metadata": {
    "tags": []
   },
   "outputs": [
    {
     "name": "stdin",
     "output_type": "stream",
     "text": [
      "Enter the number you want in fibonacci series 10\n"
     ]
    },
    {
     "name": "stdout",
     "output_type": "stream",
     "text": [
      "[0, 1, 1, 2, 3, 5, 8, 13, 21, 34]\n"
     ]
    }
   ],
   "source": [
    "l=[0,1]\n",
    "n = int(input('Enter the number you want in fibonacci series'))\n",
    "a = 0\n",
    "b = 1\n",
    "sum = 0\n",
    "count = 1\n",
    "while(count <= (n-2)):\n",
    "     sum = a + b\n",
    "     a = b\n",
    "     b = sum\n",
    "     count += 1\n",
    "     l.append(sum)\n",
    "print(l)\n",
    "     \n",
    "        \n",
    "     "
   ]
  },
  {
   "cell_type": "code",
   "execution_count": 7,
   "id": "456349db-b1df-4292-9abc-83db6ea0a548",
   "metadata": {},
   "outputs": [],
   "source": [
    "#Answer 7"
   ]
  },
  {
   "cell_type": "markdown",
   "id": "8b03afce-0f8d-44c4-a9e0-173b3f9aea4d",
   "metadata": {},
   "source": [
    "List Comprehension to iterate through the given string: ‘pwskills’. Expected output: ['p', 'w', 's', 'k', 'i', 'l', 'l', 's']"
   ]
  },
  {
   "cell_type": "code",
   "execution_count": 8,
   "id": "db6de0db-da63-4a69-9ae2-7c5ccdf201e9",
   "metadata": {},
   "outputs": [
    {
     "data": {
      "text/plain": [
       "['p', 'w', 's', 'k', 'i', 'l', 'l', 's']"
      ]
     },
     "execution_count": 8,
     "metadata": {},
     "output_type": "execute_result"
    }
   ],
   "source": [
    "string='pwskills'\n",
    "[i for i in string]"
   ]
  },
  {
   "cell_type": "code",
   "execution_count": 9,
   "id": "f79991a2-1805-4e9b-b79e-1cfa7c12ebbd",
   "metadata": {},
   "outputs": [],
   "source": [
    "#Answer 8 "
   ]
  },
  {
   "cell_type": "markdown",
   "id": "771b55fd-7fd7-4cf6-80ef-a9c8185cb39a",
   "metadata": {},
   "source": [
    "Python program to check whether a given number is Palindrome or not using a while loop."
   ]
  },
  {
   "cell_type": "code",
   "execution_count": 13,
   "id": "29b4b438-578f-402f-a1fb-33627e6effd2",
   "metadata": {},
   "outputs": [
    {
     "name": "stdin",
     "output_type": "stream",
     "text": [
      "Enter number: 101\n"
     ]
    },
    {
     "name": "stdout",
     "output_type": "stream",
     "text": [
      "The number is a palindrome!\n"
     ]
    }
   ],
   "source": [
    "n=int(input(\"Enter number:\"))\n",
    "temp=n\n",
    "rev=0\n",
    "while(n>0):\n",
    "    dig=n%10\n",
    "    rev=rev*10+dig\n",
    "    n=n//10\n",
    "if(temp==rev):\n",
    "    print(\"The number is a palindrome!\")\n",
    "else:\n",
    "    print(\"The number isn't a palindrome!\")"
   ]
  },
  {
   "cell_type": "code",
   "execution_count": 10,
   "id": "ec87ed71-825c-4d3c-94dc-b4cecc4c0bcb",
   "metadata": {},
   "outputs": [],
   "source": [
    "#Answer 9 "
   ]
  },
  {
   "cell_type": "markdown",
   "id": "93540116-2384-4714-922e-612d74223b9a",
   "metadata": {},
   "source": [
    "Code to print odd numbers from 1 to 100 using list comprehension."
   ]
  },
  {
   "cell_type": "code",
   "execution_count": 13,
   "id": "9598068a-b6e3-460c-b546-1b28760b3d81",
   "metadata": {},
   "outputs": [
    {
     "name": "stdout",
     "output_type": "stream",
     "text": [
      "[1, 2, 3, 4, 5, 6, 7, 8, 9, 10, 11, 12, 13, 14, 15, 16, 17, 18, 19, 20, 21, 22, 23, 24, 25, 26, 27, 28, 29, 30, 31, 32, 33, 34, 35, 36, 37, 38, 39, 40, 41, 42, 43, 44, 45, 46, 47, 48, 49, 50, 51, 52, 53, 54, 55, 56, 57, 58, 59, 60, 61, 62, 63, 64, 65, 66, 67, 68, 69, 70, 71, 72, 73, 74, 75, 76, 77, 78, 79, 80, 81, 82, 83, 84, 85, 86, 87, 88, 89, 90, 91, 92, 93, 94, 95, 96, 97, 98, 99, 100]\n"
     ]
    }
   ],
   "source": [
    "\n",
    "print ([i for i in range(1,101) ])"
   ]
  },
  {
   "cell_type": "code",
   "execution_count": 12,
   "id": "90972bc2-5ae8-4017-8bbf-8dcb7055ba1a",
   "metadata": {},
   "outputs": [
    {
     "name": "stdout",
     "output_type": "stream",
     "text": [
      "[1, 3, 5, 7, 9, 11, 13, 15, 17, 19, 21, 23, 25, 27, 29, 31, 33, 35, 37, 39, 41, 43, 45, 47, 49, 51, 53, 55, 57, 59, 61, 63, 65, 67, 69, 71, 73, 75, 77, 79, 81, 83, 85, 87, 89, 91, 93, 95, 97, 99]\n"
     ]
    }
   ],
   "source": [
    "print ([i for i in l if i%2!=0])\n"
   ]
  },
  {
   "cell_type": "code",
   "execution_count": null,
   "id": "88fbe96e-604d-44b4-b2ed-45a9be573ce0",
   "metadata": {},
   "outputs": [],
   "source": []
  }
 ],
 "metadata": {
  "kernelspec": {
   "display_name": "Python 3 (ipykernel)",
   "language": "python",
   "name": "python3"
  },
  "language_info": {
   "codemirror_mode": {
    "name": "ipython",
    "version": 3
   },
   "file_extension": ".py",
   "mimetype": "text/x-python",
   "name": "python",
   "nbconvert_exporter": "python",
   "pygments_lexer": "ipython3",
   "version": "3.10.8"
  }
 },
 "nbformat": 4,
 "nbformat_minor": 5
}
