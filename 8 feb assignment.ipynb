{
 "cells": [
  {
   "cell_type": "code",
   "execution_count": 1,
   "id": "c15a92b0-469e-4ee7-914a-5b581ab52d6a",
   "metadata": {},
   "outputs": [],
   "source": [
    "#Answer 1"
   ]
  },
  {
   "cell_type": "markdown",
   "id": "a058361f-0e99-43fe-adf9-9d60ca214f44",
   "metadata": {},
   "source": [
    "Abstraction in OOPs is defined as the process of handling complexity by hiding unnecessary information from the user.\n",
    "For Example,"
   ]
  },
  {
   "cell_type": "code",
   "execution_count": 3,
   "id": "90841ce3-6ed2-4b8b-b747-337d09166b1b",
   "metadata": {},
   "outputs": [],
   "source": [
    "import abc\n",
    "class test():\n",
    "    @abc.abstractmethod\n",
    "    def test1(self):\n",
    "        pass\n",
    "    @abc.abstractmethod\n",
    "    def test2(self):\n",
    "        pass\n",
    "    "
   ]
  },
  {
   "cell_type": "code",
   "execution_count": 4,
   "id": "182061bd-a645-46fb-bd0f-5cd048908f86",
   "metadata": {},
   "outputs": [],
   "source": [
    "class student(test):\n",
    "    def test1(self):\n",
    "        return \"test1 from student\"\n",
    "    def test2(self):\n",
    "        return 'test2 from student'"
   ]
  },
  {
   "cell_type": "code",
   "execution_count": 20,
   "id": "420df0e6-5d46-4c50-9939-c9e530fdd3e1",
   "metadata": {},
   "outputs": [],
   "source": [
    "class teachers(test):\n",
    "    def test2(self):\n",
    "        return 'test2 from teachers'\n",
    "        "
   ]
  },
  {
   "cell_type": "code",
   "execution_count": 26,
   "id": "7e4cdd72-6ebe-486e-bb11-581603351f86",
   "metadata": {},
   "outputs": [],
   "source": [
    "obj_student=student()"
   ]
  },
  {
   "cell_type": "code",
   "execution_count": 27,
   "id": "0025fea2-8699-440d-8779-ce55de0d9d85",
   "metadata": {},
   "outputs": [
    {
     "data": {
      "text/plain": [
       "<bound method student.test1 of <__main__.student object at 0x7f68a80f0100>>"
      ]
     },
     "execution_count": 27,
     "metadata": {},
     "output_type": "execute_result"
    }
   ],
   "source": [
    "obj_student.test1"
   ]
  },
  {
   "cell_type": "code",
   "execution_count": 2,
   "id": "aacec850-815f-474d-8a4d-6b7ddf25b1bb",
   "metadata": {},
   "outputs": [],
   "source": [
    "#Answer 2"
   ]
  },
  {
   "cell_type": "markdown",
   "id": "4b53edf7-e80b-466e-8e6f-a6b116502381",
   "metadata": {},
   "source": [
    "Abstraction is a process to hide unnecesary information from the user to hide the complexity of the program.For example,"
   ]
  },
  {
   "cell_type": "code",
   "execution_count": 23,
   "id": "9cc2e2db-eb67-4d02-ba8f-17ab379cd808",
   "metadata": {},
   "outputs": [],
   "source": [
    "import abc\n",
    "class test():\n",
    "    @abc.abstractmethod\n",
    "    def test1(self):\n",
    "        pass\n",
    "    @abc.abstractmethod\n",
    "    def test2(self):\n",
    "        pass\n",
    "    "
   ]
  },
  {
   "cell_type": "code",
   "execution_count": 28,
   "id": "fd815cfa-d512-4bad-b421-214e76d53c92",
   "metadata": {},
   "outputs": [],
   "source": [
    "class student(test):\n",
    "    def test1(self):\n",
    "        return \"test1 from student\"\n",
    "    def test2(self):\n",
    "        return 'test2 from student'"
   ]
  },
  {
   "cell_type": "code",
   "execution_count": 29,
   "id": "20374e6b-35f1-46c7-acdb-adcf547e5873",
   "metadata": {},
   "outputs": [],
   "source": [
    "class teachers(test):\n",
    "    def test2(self):\n",
    "        return 'test2 from teachers'\n",
    "        "
   ]
  },
  {
   "cell_type": "code",
   "execution_count": 30,
   "id": "f39810fb-c1dc-4994-abe7-b0e7d94db21c",
   "metadata": {},
   "outputs": [
    {
     "data": {
      "text/plain": [
       "'test2 from student'"
      ]
     },
     "execution_count": 30,
     "metadata": {},
     "output_type": "execute_result"
    }
   ],
   "source": [
    "obj_student_1=student()\n",
    "obj_student_1.test2()"
   ]
  },
  {
   "cell_type": "code",
   "execution_count": 31,
   "id": "dc5b877a-c277-47a1-b707-b3d83120062c",
   "metadata": {},
   "outputs": [
    {
     "data": {
      "text/plain": [
       "'test2 from teachers'"
      ]
     },
     "execution_count": 31,
     "metadata": {},
     "output_type": "execute_result"
    }
   ],
   "source": [
    "obj_teachers_1=teachers()\n",
    "obj_teachers_1.test2()"
   ]
  },
  {
   "cell_type": "markdown",
   "id": "195ccb17-0447-4d70-93f5-547b7cbf6dbd",
   "metadata": {},
   "source": [
    "Encapsulation is a process of binding data from the user together as a single unit in order to hide the variables of a class from other classes.It is done by use of '__'.For example,"
   ]
  },
  {
   "cell_type": "code",
   "execution_count": 32,
   "id": "28778e03-7ad1-4ae7-9597-e73f33c942c1",
   "metadata": {},
   "outputs": [],
   "source": [
    "class students():\n",
    "    def test1(self,marks):\n",
    "        self.__marks=marks\n",
    "        return marks\n",
    "        \n",
    "    "
   ]
  },
  {
   "cell_type": "code",
   "execution_count": 34,
   "id": "e2e22b03-684d-4abc-b169-535c083aeab3",
   "metadata": {},
   "outputs": [
    {
     "data": {
      "text/plain": [
       "89"
      ]
     },
     "execution_count": 34,
     "metadata": {},
     "output_type": "execute_result"
    }
   ],
   "source": [
    "obj_student_1=students()\n",
    "obj_student_1.test1(89)"
   ]
  },
  {
   "cell_type": "code",
   "execution_count": 35,
   "id": "0bb4ec39-2a5b-4fa8-a2de-d4498df9c119",
   "metadata": {},
   "outputs": [],
   "source": [
    "#Answer 3"
   ]
  },
  {
   "cell_type": "markdown",
   "id": "9b0ab35b-0c7a-4f8e-af5d-339930735506",
   "metadata": {},
   "source": [
    "'abc' modulee in python is a module containing methods and function for abstract base classes "
   ]
  },
  {
   "cell_type": "code",
   "execution_count": 36,
   "id": "774c8c5b-5847-457f-a899-154abe67fbde",
   "metadata": {},
   "outputs": [],
   "source": [
    "#Answer 4"
   ]
  },
  {
   "cell_type": "markdown",
   "id": "a78544d4-570c-4edb-b841-7c4edf9bdb93",
   "metadata": {},
   "source": [
    "Data abstraction can be achieved by adding abstract classes and methods in our functions by importing abc module in python and invoking them before defining functions."
   ]
  },
  {
   "cell_type": "code",
   "execution_count": 37,
   "id": "6c47e9c8-875c-4e81-a1da-5532bcff8416",
   "metadata": {},
   "outputs": [],
   "source": [
    "#Answer 5"
   ]
  },
  {
   "cell_type": "markdown",
   "id": "3968ede7-949d-4c41-9f9b-3737cf8bca4f",
   "metadata": {},
   "source": [
    "We can create a instance of abstract class by invoking functions of abstract class into main class and then creating object of the main class."
   ]
  }
 ],
 "metadata": {
  "kernelspec": {
   "display_name": "Python 3 (ipykernel)",
   "language": "python",
   "name": "python3"
  },
  "language_info": {
   "codemirror_mode": {
    "name": "ipython",
    "version": 3
   },
   "file_extension": ".py",
   "mimetype": "text/x-python",
   "name": "python",
   "nbconvert_exporter": "python",
   "pygments_lexer": "ipython3",
   "version": "3.10.8"
  }
 },
 "nbformat": 4,
 "nbformat_minor": 5
}
