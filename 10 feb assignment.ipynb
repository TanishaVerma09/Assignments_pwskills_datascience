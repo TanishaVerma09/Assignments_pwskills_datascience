{
 "cells": [
  {
   "cell_type": "code",
   "execution_count": 1,
   "id": "71d72551-67f1-4dd3-b92d-5ff225d1351c",
   "metadata": {},
   "outputs": [],
   "source": [
    "#Answer 1"
   ]
  },
  {
   "cell_type": "markdown",
   "id": "d237f2e0-1b9a-4e60-9fd1-509302566a17",
   "metadata": {},
   "source": [
    "'open()' function is used to open a file.There are various modes of opening a file,these are:\n",
    "1. read : Helps in opening a file in read only mode\n",
    "2. write : Trruncates the existing file data if it already exists,creates a new file if the file does not exist.\n",
    "3. append : Adds data to end of the file if it exists, if not then it creates a new file.\n"
   ]
  },
  {
   "cell_type": "code",
   "execution_count": 1,
   "id": "857e7fc8-a8a7-4b6d-8640-356f9e8a9dc6",
   "metadata": {},
   "outputs": [],
   "source": [
    "#Answer 2"
   ]
  },
  {
   "cell_type": "markdown",
   "id": "20494e1d-4222-42af-aeb6-524d0f44077f",
   "metadata": {},
   "source": [
    "'close()' function is used to finally close the file after doing operations to show the updated file which in some cases may not occur due to buffering."
   ]
  },
  {
   "cell_type": "code",
   "execution_count": 2,
   "id": "dbff9388-adf0-480b-93a3-1ca90edfc085",
   "metadata": {},
   "outputs": [],
   "source": [
    "#Answer 3"
   ]
  },
  {
   "cell_type": "code",
   "execution_count": 4,
   "id": "8bbf71b8-6560-43c9-822c-6b941862c825",
   "metadata": {},
   "outputs": [],
   "source": [
    "with open ('test.txt','w') as f:\n",
    "    data=f.write(\"I want to become a data scientist\")\n",
    "    f.close()\n",
    "    \n",
    "\n",
    "    "
   ]
  },
  {
   "cell_type": "code",
   "execution_count": 8,
   "id": "6960e538-f131-4e4f-bd8b-cf8ee86f2b7d",
   "metadata": {},
   "outputs": [
    {
     "name": "stdout",
     "output_type": "stream",
     "text": [
      "I want to become a data scientist\n"
     ]
    }
   ],
   "source": [
    "with open('test.txt','r') as f:\n",
    "    data = f.read()\n",
    "    print(data)"
   ]
  },
  {
   "cell_type": "code",
   "execution_count": 9,
   "id": "c2208353-d5e2-4f8d-bed6-3016ef6ffe75",
   "metadata": {},
   "outputs": [],
   "source": [
    "#Answer 4"
   ]
  },
  {
   "cell_type": "markdown",
   "id": "338a4e11-8ea8-42a2-bde9-78dbaf3f5ee5",
   "metadata": {},
   "source": [
    "read() function  simply reads the whole python file but it does not print or display the contents of the file until we use a print statement.For example:"
   ]
  },
  {
   "cell_type": "code",
   "execution_count": 10,
   "id": "814cab18-f389-46bf-b060-7b637e9d8737",
   "metadata": {},
   "outputs": [
    {
     "name": "stdout",
     "output_type": "stream",
     "text": [
      "I want to become a data scientist\n"
     ]
    }
   ],
   "source": [
    "with open('test.txt','r') as f:\n",
    "    data = f.read()\n",
    "    print(data)"
   ]
  },
  {
   "cell_type": "markdown",
   "id": "782c2a82-b1b1-4093-8474-8f52fc06512b",
   "metadata": {},
   "source": [
    "readline() function reads a python file line by line. For example it will return line 1 from a bunch of lines.Example:"
   ]
  },
  {
   "cell_type": "code",
   "execution_count": 37,
   "id": "b44290e4-5683-446b-b55e-dccb6b8a743a",
   "metadata": {},
   "outputs": [],
   "source": [
    "with open ('example.txt','w') as f:\n",
    "    f.write(\"Artificial intelligence is a field, which combines computer science and robust datasets, to enable problem-solving.\\n It also encompasses sub-fields of machine learning and deep learning, which are frequently mentioned in conjunction with artificial intelligence.\")\n",
    "    f.close()\n",
    "    "
   ]
  },
  {
   "cell_type": "code",
   "execution_count": 39,
   "id": "b94bfdec-21ef-42e7-aa36-84271092a93e",
   "metadata": {},
   "outputs": [
    {
     "name": "stdout",
     "output_type": "stream",
     "text": [
      "Artificial intelligence is a field, which combines computer science and robust datasets, to enable problem-solving.\n",
      "\n",
      " It also encom\n"
     ]
    }
   ],
   "source": [
    "file = open(\"example.txt\", \"r\")\n",
    "example1 = file.readline()\n",
    "example2 = file.readline(14)\n",
    "print(example1)\n",
    "print(example2)"
   ]
  },
  {
   "cell_type": "markdown",
   "id": "e15049d6-a186-4f8d-9c27-a8c77b566340",
   "metadata": {},
   "source": [
    "readlines() function reads all lines at the same time and return a list of lines as elemnets.For example:"
   ]
  },
  {
   "cell_type": "code",
   "execution_count": 41,
   "id": "0d84aea5-cc9a-4ba7-947c-86bc159532c7",
   "metadata": {},
   "outputs": [
    {
     "name": "stdout",
     "output_type": "stream",
     "text": [
      "['Artificial intelligence is a field, which combines computer science and robust datasets, to enable problem-solving.\\n', ' It also encompasses sub-fields of machine learning and deep learning, which are frequently mentioned in conjunction with artificial intelligence.']\n"
     ]
    }
   ],
   "source": [
    "file = open(\"example.txt\", \"r\")\n",
    "example1 = file.readlines()\n",
    "print(example1)"
   ]
  },
  {
   "cell_type": "code",
   "execution_count": 42,
   "id": "47d31cc7-7019-4cb6-b0c3-445927aa0f43",
   "metadata": {},
   "outputs": [],
   "source": [
    "#Answer 5"
   ]
  },
  {
   "cell_type": "markdown",
   "id": "1ebed80e-d96a-4778-9a3c-bc47212865a1",
   "metadata": {},
   "source": [
    "\"with\" statement is used with open to close the file automatically and saving on the errors and also when we we wish to put an alias on a file. using an alias on a file helps the coder to code upon complex file names in an easiest way without having to use those complex names again and again in the code."
   ]
  },
  {
   "cell_type": "code",
   "execution_count": 43,
   "id": "e68dca16-aeb9-4ae3-a6fd-ee408147e510",
   "metadata": {},
   "outputs": [],
   "source": [
    "#Answer 6"
   ]
  },
  {
   "cell_type": "markdown",
   "id": "cd9126d5-6fcc-455e-bb5e-be0624b2f75c",
   "metadata": {},
   "source": [
    "The write() function is used to write a single string of data to a file. It takes a string as an argument and writes it to the file at the current position. If the file does not exist, it will be created. If the file already exists, the previous content will be overwritten."
   ]
  },
  {
   "cell_type": "code",
   "execution_count": 44,
   "id": "9fdc51d3-b13a-4238-9b77-8d676f3788ec",
   "metadata": {},
   "outputs": [],
   "source": [
    "# Writing a single string to a file using write()\n",
    "with open('file.txt', 'w') as file:\n",
    "    file.write('Hello, world!')\n"
   ]
  },
  {
   "cell_type": "markdown",
   "id": "548b1ba5-87e6-41f0-8cf3-546f2fe4134a",
   "metadata": {},
   "source": [
    "writelines() function is used to write multiple strings to a file. It takes an iterable (such as a list or a tuple) of strings as its argument and writes each string to the file. Each string will be written on a separate line."
   ]
  },
  {
   "cell_type": "code",
   "execution_count": 47,
   "id": "973f3a25-c2f3-49f3-810d-534d356857fc",
   "metadata": {},
   "outputs": [],
   "source": [
    "# Writing multiple strings to a file using writelines()\n",
    "lines = ['Line 1\\n', 'Line 2\\n', 'Line 3\\n']\n",
    "with open('files.txt', 'w') as file:\n",
    "    file.writelines(lines)\n"
   ]
  },
  {
   "cell_type": "code",
   "execution_count": null,
   "id": "a65c126a-371b-4b63-a9ef-3e9a1e0e4c52",
   "metadata": {},
   "outputs": [],
   "source": []
  }
 ],
 "metadata": {
  "kernelspec": {
   "display_name": "Python 3 (ipykernel)",
   "language": "python",
   "name": "python3"
  },
  "language_info": {
   "codemirror_mode": {
    "name": "ipython",
    "version": 3
   },
   "file_extension": ".py",
   "mimetype": "text/x-python",
   "name": "python",
   "nbconvert_exporter": "python",
   "pygments_lexer": "ipython3",
   "version": "3.10.8"
  }
 },
 "nbformat": 4,
 "nbformat_minor": 5
}
