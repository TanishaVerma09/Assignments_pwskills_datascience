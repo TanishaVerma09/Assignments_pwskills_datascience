{
 "cells": [
  {
   "cell_type": "code",
   "execution_count": 1,
   "id": "f74fb956-b92a-45c5-ab5d-171899bc0677",
   "metadata": {},
   "outputs": [],
   "source": [
    "#Answer 1"
   ]
  },
  {
   "cell_type": "markdown",
   "id": "8bbda2ed-588a-4652-8d43-754a4d1000dd",
   "metadata": {},
   "source": [
    "The \"Filter\" method is one of the techniques used in feature selection, a process in machine learning and data analysis where you select a subset of relevant features (variables) from a larger set of features to improve the performance of a model. The goal of feature selection is to improve model efficiency, reduce overfitting, and enhance interpretability by focusing only on the most informative features.\n",
    "\n",
    "The Filter method is called so because it involves filtering out irrelevant or redundant features based on some predefined criteria before the model training process. It doesn't involve the actual learning process of the model; instead, it ranks or evaluates features independently of the model.\n",
    "\n",
    "Here's how the Filter method generally works:\n",
    "\n",
    "Feature Ranking or Scoring: In the Filter method, each feature is assigned a score or ranking based on a certain metric or statistical measure. The metric used could be correlation, mutual information, chi-squared test, variance, etc. These metrics assess the relationship or importance of each feature with the target variable. For example, if a feature has a high correlation with the target, it might be considered more relevant.\n",
    "\n",
    "Threshold Setting: After obtaining the scores or rankings for each feature, a threshold is set to determine which features will be selected. Features that meet or exceed the threshold are retained, while those below it are discarded.\n",
    "\n",
    "Feature Selection: The features that have passed the threshold are selected as the final subset of features that will be used for model training.\n",
    "\n",
    "Advantages of the Filter method include its simplicity, efficiency, and independence from the model. It's computationally inexpensive and can handle a large number of features. However, it has limitations too. It may not consider interactions between features, and it might remove some potentially useful features if their individual scores are low, even if they contribute meaningfully in combination with other features.\n",
    "\n",
    "Remember that the choice of the metric and threshold can significantly affect the outcome of the feature selection process. It's often a good practice to experiment with different metrics and thresholds or even combine multiple filter methods to make a more informed decision about feature selection.\n",
    "\n",
    "Other methods in feature selection include the Wrapper method (which involves using a specific machine learning algorithm to evaluate feature subsets), and the Embedded method (where feature selection is integrated into the model training process, as seen in algorithms like LASSO and Random Forests). Each method has its own advantages and trade-offs, and the choice of method depends on the specific problem and dataset."
   ]
  },
  {
   "cell_type": "code",
   "execution_count": 2,
   "id": "6e5481e2-30d6-41f6-85bb-c29b507af7af",
   "metadata": {},
   "outputs": [],
   "source": [
    "#Answer 2"
   ]
  },
  {
   "cell_type": "markdown",
   "id": "e236ffc0-bbe0-4aae-820f-031ef59e79c0",
   "metadata": {},
   "source": [
    "The Wrapper method and the Filter method are two different approaches to feature selection in machine learning. They differ in how they involve the machine learning model in the feature selection process and how they evaluate the performance of feature subsets.\n",
    "\n",
    "Wrapper Method:\n",
    "\n",
    "The Wrapper method is a more involved approach to feature selection compared to the Filter method. In the Wrapper method, the selection of features is treated as a search problem, where different subsets of features are evaluated using a chosen machine learning algorithm. The key idea is to use the actual performance of the model on a specific task (e.g., classification or regression) to guide the selection of features.\n",
    "\n",
    "Here's how the Wrapper method generally works:\n",
    "\n",
    "Subset Evaluation: The Wrapper method starts with a subset of features (which can be the entire set initially) and trains a machine learning model on that subset.\n",
    "\n",
    "Model Evaluation: The model's performance is assessed using cross-validation or another appropriate technique. Common metrics like accuracy, F1-score, or mean squared error are used to evaluate performance.\n",
    "\n",
    "Feature Subset Selection: Different subsets of features are generated (either by adding, removing, or swapping features) and the model is trained and evaluated on each subset.\n",
    "\n",
    "Search Strategy: The Wrapper method employs a search strategy (e.g., forward selection, backward elimination, recursive feature elimination) to iteratively add or remove features based on their impact on the model's performance.\n",
    "\n",
    "Selection of Optimal Subset: The process continues until a stopping criterion is met (e.g., a specific number of features or a significant drop in performance). The final subset of features that resulted in the best model performance is selected.\n",
    "\n",
    "Filter Method:\n",
    "\n",
    "The Filter method, as discussed earlier, ranks or evaluates features independently of the model. It involves applying statistical measures or metrics to each feature and selecting features based solely on their individual scores. The model itself is not used during the evaluation process.\n",
    "\n",
    "In summary, the main differences between the Wrapper method and the Filter method are:\n",
    "\n",
    "Model Usage: The Wrapper method uses the machine learning model's performance as a guide to select features, while the Filter method relies on predefined metrics or statistical measures.\n",
    "\n",
    "Computation: The Wrapper method involves training and evaluating the model multiple times, making it computationally more expensive compared to the Filter method, which evaluates features independently.\n",
    "\n",
    "Interactions: The Wrapper method can capture interactions between features that impact the model's performance, while the Filter method typically considers features individually.\n",
    "\n",
    "Flexibility: The Wrapper method is more flexible and can potentially lead to better feature subsets tailored to the specific model and task, but it's more resource-intensive. The Filter method is computationally efficient but may not capture complex feature relationships.\n",
    "\n",
    "Both methods have their advantages and drawbacks, and the choice between them depends on the problem at hand, the available computational resources, and the desired level of feature selection granularity."
   ]
  },
  {
   "cell_type": "code",
   "execution_count": 3,
   "id": "d843e451-9b03-49f7-b660-874a2cc05efa",
   "metadata": {},
   "outputs": [],
   "source": [
    "#Answer 3"
   ]
  },
  {
   "cell_type": "markdown",
   "id": "18ba5e8d-eb7b-4963-9379-02030ce2338e",
   "metadata": {},
   "source": [
    "Embedded feature selection methods are techniques that incorporate feature selection directly into the process of training a machine learning model. These methods aim to find the best subset of features while simultaneously optimizing the model's performance. Here are some common techniques used in embedded feature selection:\n",
    "\n",
    "LASSO (Least Absolute Shrinkage and Selection Operator): LASSO is a linear regression technique that introduces a penalty term based on the absolute values of the coefficients. It encourages some coefficients to be exactly zero, effectively performing feature selection by shrinking less relevant features to zero. LASSO helps in identifying important features while reducing overfitting.\n",
    "\n",
    "Ridge Regression: Similar to LASSO, Ridge Regression introduces a penalty term based on the squared values of the coefficients. While it doesn't perform explicit feature selection by zeroing out coefficients, it can help reduce the impact of less relevant features by shrinking their coefficients.\n",
    "\n",
    "Elastic Net: Elastic Net combines the LASSO and Ridge Regression penalties, striking a balance between feature selection and coefficient shrinkage. It is particularly useful when dealing with correlated features.\n",
    "\n",
    "Random Forest: Random Forest is an ensemble learning method that can provide feature importances based on how much each feature contributes to the reduction of impurity in decision tree nodes. Features with higher importances are considered more relevant.\n",
    "\n",
    "Gradient Boosting Machines: Similar to Random Forest, Gradient Boosting algorithms (e.g., XGBoost, LightGBM) assign feature importances based on their contribution to the model's performance improvement. These importances can be used for feature selection.\n",
    "\n",
    "Recursive Feature Elimination (RFE): While RFE is also used as a standalone wrapper method, it can be considered an embedded technique when used in conjunction with models like SVM (Support Vector Machines). RFE recursively removes the least important features based on model performance until a desired number of features is reached.\n",
    "\n",
    "Regularized Linear Models: Various regularized linear models, such as Elastic Net and LASSO, can be integrated into the model training process to simultaneously perform feature selection and modeling. These methods can effectively balance feature relevance and model complexity.\n",
    "\n",
    "Genetic Algorithms: Genetic algorithms can be embedded into the model training process to evolve feature subsets over multiple generations. The algorithm selects and combines features based on their fitness (performance) and aims to find an optimal feature subset.\n",
    "\n",
    "Neural Networks with Dropout: Dropout is a regularization technique commonly used in neural networks. While it's primarily used to prevent overfitting, it can also indirectly perform feature selection by randomly \"dropping out\" neurons (and their corresponding connections) during training, effectively reducing the impact of certain features.\n",
    "\n",
    "Embedded feature selection methods offer the advantage of jointly optimizing the model and feature selection, potentially leading to better performance and reduced risk of overfitting. The choice of method depends on the specific problem, the algorithm being used, and the desired balance between feature selection and model complexity."
   ]
  },
  {
   "cell_type": "code",
   "execution_count": 4,
   "id": "fbc8e02e-4994-4d5f-84e3-4c504355e776",
   "metadata": {},
   "outputs": [],
   "source": [
    "#Answer 4"
   ]
  },
  {
   "cell_type": "markdown",
   "id": "f2ef1ff1-1a4b-4963-8e18-74f60506b998",
   "metadata": {},
   "source": [
    "While the Filter method is a straightforward and computationally efficient approach to feature selection, it has several drawbacks and limitations that you should be aware of:\n",
    "\n",
    "Lack of Interaction Consideration: The Filter method evaluates features independently of each other. It doesn't consider potential interactions or relationships between features, which can lead to the omission of important features that might contribute to the model's performance when combined with other features.\n",
    "\n",
    "Dependency on Predefined Metrics: The success of the Filter method heavily relies on the choice of metrics used to rank or score features. Selecting an inappropriate metric for a specific problem can lead to suboptimal feature selection. Different metrics may be more suitable for different types of data and tasks.\n",
    "\n",
    "No Consideration of Model Performance: The Filter method doesn't take into account how the selected features will actually affect the performance of the machine learning model. It's possible to end up with a subset of features that, individually, have high scores according to the chosen metric, but collectively do not lead to an improved model performance.\n",
    "\n",
    "Sensitivity to Feature Scaling: Many filter methods are sensitive to the scale of the features. If the features have different scales or units, the filter method might be biased towards features with larger scales, potentially ignoring important smaller-scale features.\n",
    "\n",
    "Fixed Thresholding: Setting an appropriate threshold for feature selection can be challenging. If the threshold is too low, you might retain irrelevant or redundant features. If it's too high, you might exclude potentially useful features. It can be difficult to determine an optimal threshold, especially for complex datasets.\n",
    "\n",
    "Stability Issues: The rankings or scores assigned to features can be unstable if the dataset is small or noisy. Small changes in the data can lead to different rankings, potentially resulting in inconsistent feature selection outcomes.\n",
    "\n",
    "Limited Adaptability: The Filter method might not adapt well to changes in the data or underlying patterns. If the relationship between features and the target variable changes, the selected features might not remain optimal.\n",
    "\n",
    "Missed Feature Combinations: The Filter method might overlook feature combinations that are collectively important. It's possible that certain features might not have high individual scores but contribute significantly when considered together.\n",
    "\n",
    "Domain Knowledge Disregard: The Filter method doesn't take domain knowledge into account. Some features might be important based on domain expertise but might not score well according to the chosen metric.\n",
    "\n",
    "Inability to Handle Nonlinear Relationships: Many filter methods assume linear relationships between features and the target variable. They might not perform well when dealing with complex nonlinear relationships.\n",
    "\n",
    "In summary, while the Filter method can be a useful tool for preliminary feature selection and dimensionality reduction, it's important to consider its limitations and potential drawbacks. It's often a good idea to combine the Filter method with other techniques, such as the Wrapper or Embedded methods, to overcome these limitations and make more informed feature selection decisions."
   ]
  },
  {
   "cell_type": "code",
   "execution_count": 5,
   "id": "f6449238-bcaa-416e-941c-6078583bb433",
   "metadata": {},
   "outputs": [],
   "source": [
    "#Answer 5"
   ]
  },
  {
   "cell_type": "markdown",
   "id": "235e44d2-a3df-484e-befa-80915735f976",
   "metadata": {},
   "source": [
    "The choice between using the Filter method or the Wrapper method for feature selection depends on various factors, including the characteristics of your data, the goals of your analysis, and the available computational resources. Here are some situations where you might prefer using the Filter method over the Wrapper method:\n",
    "\n",
    "Large Datasets: The Filter method is computationally efficient and can handle large datasets with a high number of features. If you have limited computational resources and need a quick initial feature selection step, the Filter method might be a good choice.\n",
    "\n",
    "Exploratory Analysis: When you're exploring a new dataset and want a quick understanding of which features might be relevant without heavily involving the model training process, the Filter method can provide a simple and fast way to identify potentially important features.\n",
    "\n",
    "Preprocessing Step: The Filter method can serve as a preprocessing step to reduce the dimensionality of the data before applying more resource-intensive feature selection methods, like the Wrapper or Embedded methods. This can help in making subsequent steps more manageable.\n",
    "\n",
    "Correlation Analysis: If you are specifically interested in identifying features that have strong linear correlations with the target variable or with each other, the Filter method's correlation-based metrics can be informative.\n",
    "\n",
    "Feature Ranking and Visualization: The Filter method can provide feature rankings or scores that help you visualize the relative importance of features in the dataset. This can be useful for generating insights and communicating findings.\n",
    "\n",
    "Feature Importance Estimation: In cases where you want a rough estimate of feature importance or relevance before building a more complex model, the Filter method can provide a starting point.\n",
    "\n",
    "Speed and Simplicity: If you're looking for a simple, quick, and easy-to-understand approach to feature selection that doesn't require extensive model training and evaluation, the Filter method fits the bill.\n",
    "\n",
    "Dimensionality Reduction: When dealing with high-dimensional data, you can use the Filter method to perform an initial dimensionality reduction, potentially making subsequent modeling and analysis more manageable.\n",
    "\n",
    "Lack of Domain Expertise: If you're not familiar with the specific machine learning algorithms you plan to use or lack domain expertise, the Filter method can provide a more accessible way to start the feature selection process.\n",
    "\n",
    "Comparative Analysis: You might use the Filter method to identify a reduced set of features that you can then compare with the results from other feature selection methods, like the Wrapper method, to assess their consistency and robustness.\n",
    "\n",
    "In summary, the Filter method is useful when you need a quick and computationally efficient way to perform preliminary feature selection, gain initial insights into feature relevance, or reduce the dimensionality of your data. It can serve as a valuable tool, especially in the early stages of your analysis, and can complement more advanced techniques like the Wrapper or Embedded methods.\n",
    "\n",
    "\n",
    "\n",
    "\n",
    "\n"
   ]
  },
  {
   "cell_type": "code",
   "execution_count": 6,
   "id": "1d699b81-8c82-4404-80ec-13cd90b747ec",
   "metadata": {},
   "outputs": [],
   "source": [
    "#Answer 6"
   ]
  },
  {
   "cell_type": "markdown",
   "id": "0e533339-3141-4ee2-b4fc-53f8223419e5",
   "metadata": {},
   "source": [
    "In the context of a telecom company working on a customer churn prediction project, here's how you might use the Filter Method to choose the most pertinent attributes (features) for your predictive model:\n",
    "\n",
    "Understand the Problem: Before diving into feature selection, ensure you have a clear understanding of the problem. Define what constitutes \"churn\" for your telecom company (e.g., canceled subscriptions) and what factors might contribute to churn (e.g., call duration, data usage, customer tenure, customer support interactions).\n",
    "\n",
    "Data Preparation: Preprocess your dataset by handling missing values, encoding categorical variables, and scaling numerical features if necessary. Ensure your data is clean and ready for analysis.\n",
    "\n",
    "Define a Relevance Metric: Choose an appropriate relevance metric to rank or score the features. Common metrics for binary classification problems like churn prediction include correlation coefficient, chi-squared test, mutual information, or Information Gain.\n",
    "\n",
    "Compute Feature Scores: Calculate the chosen relevance metric for each feature with respect to the target variable (churn). This involves quantifying the strength of the relationship between each individual feature and the target.\n",
    "\n",
    "Rank Features: Rank the features based on their scores in descending order. Features with higher scores are considered more relevant or informative for predicting churn.\n",
    "\n",
    "Set a Threshold: Decide on a threshold value to determine which features to retain. You can set this threshold based on domain knowledge, experimentation, or by using techniques like plotting feature scores and selecting an \"elbow point\" on the curve.\n",
    "\n",
    "Select Pertinent Attributes: Retain the features that meet or exceed the threshold you've set. These are the attributes that you consider pertinent for the predictive model.\n",
    "\n",
    "Evaluate Selected Features: Before finalizing the feature selection, it's a good practice to conduct a quick analysis using the selected features. You can build simple visualizations or conduct preliminary modeling using these features to gauge their potential impact on the model's performance.\n",
    "\n",
    "Iterate and Refine: Feature selection is an iterative process. You can experiment with different relevance metrics, thresholds, and combinations of features to find the most optimal subset for your specific churn prediction task.\n",
    "\n",
    "Model Building: Once you've selected the pertinent attributes, proceed to build your predictive model. You can use machine learning algorithms like logistic regression, decision trees, random forests, or gradient boosting with the selected features.\n",
    "\n",
    "Model Evaluation: Evaluate the performance of your model using appropriate evaluation metrics such as accuracy, precision, recall, F1-score, and ROC-AUC. Cross-validation can help ensure the robustness of your model.\n",
    "\n",
    "Iterative Improvement: As you assess the model's performance, you might discover that certain features have more impact than others. You can further refine the feature set based on the model's performance and potentially revisit the feature selection process.\n",
    "\n",
    "Remember that while the Filter Method is a useful preliminary step, it might not capture all complexities of the data. It's important to complement this approach with other techniques like the Wrapper or Embedded methods to ensure a comprehensive feature selection process and improve the overall performance of your churn prediction model.\n",
    "\n",
    "\n",
    "\n",
    "\n",
    "\n"
   ]
  },
  {
   "cell_type": "code",
   "execution_count": 7,
   "id": "e3a3fa60-4c24-4d48-b951-0c10fd79976f",
   "metadata": {},
   "outputs": [],
   "source": [
    "#Answer 7"
   ]
  },
  {
   "cell_type": "markdown",
   "id": "a2a89f8e-45a9-4a02-a8e2-a9651b0a1f68",
   "metadata": {},
   "source": [
    "When working on a project to predict the outcome of a soccer match, the Embedded method can be a powerful technique to select the most relevant features while simultaneously training your predictive model. Embedded methods integrate feature selection directly into the model training process. Here's how you might use the Embedded method to select the most relevant features for your soccer match outcome prediction model:\n",
    "\n",
    "Data Preprocessing: Begin by preparing and preprocessing your dataset. This involves handling missing values, encoding categorical variables, and scaling numerical features if needed. Make sure your data is clean and ready for analysis.\n",
    "\n",
    "Feature Engineering: In addition to the raw player statistics and team rankings, consider creating new features that might capture important interactions or insights related to soccer match outcomes. These could include historical performance, win/loss streaks, recent form, player injuries, and more.\n",
    "\n",
    "Model Selection: Choose a machine learning algorithm that supports embedded feature selection. Some algorithms, like LASSO (L1 regularization) in linear regression or certain tree-based algorithms (e.g., Random Forest, XGBoost), naturally perform feature selection as part of the training process.\n",
    "\n",
    "Feature Importance: Many embedded methods provide a mechanism for estimating feature importance during or after the model training. Feature importance scores indicate how much each feature contributes to the model's predictive performance.\n",
    "\n",
    "Train the Model: Use your chosen machine learning algorithm to train the model on the entire dataset, including all available features. The model will internally evaluate the relevance of features while optimizing its performance.\n",
    "\n",
    "Extract Feature Importance: After the model is trained, extract the feature importance scores. These scores quantify the contribution of each feature to the model's predictive power. Higher scores indicate more relevant features.\n",
    "\n",
    "Feature Selection: Based on the feature importance scores, you can decide on a threshold for retaining features. Features with importance scores above the threshold are considered relevant and will be selected for the final model.\n",
    "\n",
    "Build the Final Model: Use the selected relevant features to train your final predictive model. Include only these features in the training data.\n",
    "\n",
    "Model Evaluation: Evaluate the performance of your final model using appropriate metrics like accuracy, precision, recall, F1-score, or others relevant to your specific problem. Employ techniques like cross-validation to ensure the reliability of your results.\n",
    "\n",
    "Iterative Refinement: As you assess the model's performance, you may want to fine-tune the threshold for feature selection or experiment with different algorithms to identify the best-performing model.\n",
    "\n",
    "Interpret Results: Examine the selected features and their importance scores to gain insights into which player statistics or team rankings have the most influence on predicting soccer match outcomes.\n",
    "\n",
    "Using the Embedded method in this context can help you identify the key player statistics and team rankings that significantly impact match outcomes while automatically training a predictive model that incorporates this feature selection. It's important to note that different algorithms may yield different results, so experimentation and tuning are essential to finding the most effective model for your specific problem.\n",
    "\n",
    "\n",
    "\n",
    "\n",
    "\n"
   ]
  },
  {
   "cell_type": "code",
   "execution_count": 8,
   "id": "4b343d25-6ea9-4633-bab3-69697bc98f55",
   "metadata": {},
   "outputs": [],
   "source": [
    "#Answer 8"
   ]
  },
  {
   "cell_type": "markdown",
   "id": "66809c7b-1382-4264-9092-b28b96d6e70b",
   "metadata": {},
   "source": [
    "When working on a project to predict the price of a house based on its features, the Wrapper method can be a valuable technique for selecting the best set of features to include in your predictor. The Wrapper method involves evaluating different subsets of features using a specific machine learning algorithm and selecting the subset that results in the best predictive performance. Here's how you might use the Wrapper method for feature selection in your house price prediction project:\n",
    "\n",
    "Data Preprocessing: Begin by preparing and preprocessing your dataset. This includes handling missing values, encoding categorical variables, and scaling numerical features if necessary.\n",
    "\n",
    "Algorithm Selection: Choose a machine learning algorithm that will serve as the \"wrapper\" for your feature selection process. Popular choices include decision trees, random forests, support vector machines (SVM), or gradient boosting algorithms like XGBoost or LightGBM.\n",
    "\n",
    "Feature Subset Generation: Start with an initial feature subset (e.g., including all available features) and divide your data into training and validation sets.\n",
    "\n",
    "Feature Subset Evaluation: Train the chosen machine learning algorithm on the training set using the selected feature subset and evaluate its performance on the validation set using an appropriate metric (e.g., mean squared error for regression tasks).\n",
    "\n",
    "Search Strategy: Implement a search strategy to iteratively add or remove features from the current subset. Some common strategies include Forward Selection (adding features one by one), Backward Elimination (removing features one by one), or Recursive Feature Elimination (RFE) where you iteratively remove the least important feature.\n",
    "\n",
    "Model Evaluation: After each iteration, evaluate the model's performance on the validation set. Keep track of the performance for each feature subset.\n",
    "\n",
    "Stopping Criterion: Decide on a stopping criterion for the search process. This could be based on a maximum number of features, a certain drop in performance, or a predefined threshold for improvement.\n",
    "\n",
    "Select Optimal Subset: Once the search process is complete, select the feature subset that resulted in the best predictive performance on the validation set.\n",
    "\n",
    "Build Final Model: Train a final predictive model using the selected feature subset on the entire dataset (including both training and validation data).\n",
    "\n",
    "Model Evaluation: Evaluate the performance of the final model on a separate test dataset to assess its real-world predictive power. Use appropriate evaluation metrics for your regression task.\n",
    "\n",
    "Interpretation: Interpret the selected features to gain insights into which factors are the most influential in predicting house prices.\n",
    "\n",
    "Iterative Refinement: If necessary, you can perform additional iterations, fine-tuning the feature subset selection process or trying different algorithms to identify the best-performing model.\n",
    "\n",
    "Using the Wrapper method in this scenario helps you systematically explore different combinations of features and identify the subset that leads to the best predictive performance for your house price prediction model. It ensures that you select features that are most relevant to the problem and can enhance the interpretability and generalization of your model.\n",
    "\n",
    "\n",
    "\n",
    "\n",
    "\n"
   ]
  },
  {
   "cell_type": "code",
   "execution_count": null,
   "id": "c21cafef-a40a-4d77-925d-803247a5bbef",
   "metadata": {},
   "outputs": [],
   "source": []
  }
 ],
 "metadata": {
  "kernelspec": {
   "display_name": "Python 3 (ipykernel)",
   "language": "python",
   "name": "python3"
  },
  "language_info": {
   "codemirror_mode": {
    "name": "ipython",
    "version": 3
   },
   "file_extension": ".py",
   "mimetype": "text/x-python",
   "name": "python",
   "nbconvert_exporter": "python",
   "pygments_lexer": "ipython3",
   "version": "3.10.8"
  }
 },
 "nbformat": 4,
 "nbformat_minor": 5
}
