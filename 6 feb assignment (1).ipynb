{
 "cells": [
  {
   "cell_type": "code",
   "execution_count": 1,
   "id": "c97872c0-0dc8-4a35-81f0-a20bc4dcca7d",
   "metadata": {},
   "outputs": [],
   "source": [
    "#Answer 1"
   ]
  },
  {
   "cell_type": "code",
   "execution_count": 38,
   "id": "9d7b6e39-882f-4b86-bcf4-0b3d7a10bbeb",
   "metadata": {},
   "outputs": [
    {
     "name": "stdout",
     "output_type": "stream",
     "text": [
      "0\n"
     ]
    }
   ],
   "source": [
    "def get_numeric_product(lst):\n",
    "    flat_list = []\n",
    "    \n",
    "    def flatten_list(input_list):\n",
    "        for item in input_list:\n",
    "            if isinstance(item, (list, tuple)):\n",
    "                flatten_list(item)\n",
    "            elif isinstance(item, dict):\n",
    "                flatten_list(item.values())\n",
    "                flatten_list(item.keys())\n",
    "            elif isinstance(item, (int, float)):\n",
    "                flat_list.append(item)\n",
    "\n",
    "    flatten_list(lst)\n",
    "    \n",
    "    product = 1\n",
    "    for num in flat_list:\n",
    "        product *= num\n",
    "    \n",
    "    return product\n",
    "\n",
    "\n",
    "# Test the function with the given list\n",
    "list1 = [1, 2, 3, 4, [44, 55, 66, True], False, (34, 56, 78, 89, 34), {1, 2, 3, 3, 2, 1},\n",
    "         {1: 34, \"key2\": [55, 67, 78, 89], 4: (45, 22, 61, 34)}, [56, 'data science'], 'Machine Learning']\n",
    "\n",
    "result = get_numeric_product(list1)\n",
    "print(result)\n"
   ]
  },
  {
   "cell_type": "code",
   "execution_count": 22,
   "id": "f2dcae38-80c5-421e-8813-f5b7c7be45ab",
   "metadata": {},
   "outputs": [],
   "source": [
    "#Answer 2"
   ]
  },
  {
   "cell_type": "code",
   "execution_count": 12,
   "id": "17fb859e-8473-4b48-8194-d922adc2683c",
   "metadata": {},
   "outputs": [],
   "source": [
    "def Encrypt(str1):\n",
    "    st = str1.replace(\"a\",\"z\").replace(\"b\",\"y\").replace(\"c\",\"x\").replace(\" \",\"$\")\n",
    "    strr = st.lower()\n",
    "    return strr"
   ]
  },
  {
   "cell_type": "code",
   "execution_count": 14,
   "id": "08ddae83-a546-4da2-af8c-0a7e8d92803b",
   "metadata": {},
   "outputs": [
    {
     "data": {
      "text/plain": [
       "'i$want$to$become$a$data$scientist'"
      ]
     },
     "execution_count": 14,
     "metadata": {},
     "output_type": "execute_result"
    }
   ],
   "source": [
    "Encrypt(\"I WANT TO BECOME A DATA SCIENTIST\")"
   ]
  },
  {
   "cell_type": "code",
   "execution_count": null,
   "id": "6be2b7cf-7067-4df9-aa4a-e1d448b2c619",
   "metadata": {},
   "outputs": [],
   "source": []
  }
 ],
 "metadata": {
  "kernelspec": {
   "display_name": "Python 3 (ipykernel)",
   "language": "python",
   "name": "python3"
  },
  "language_info": {
   "codemirror_mode": {
    "name": "ipython",
    "version": 3
   },
   "file_extension": ".py",
   "mimetype": "text/x-python",
   "name": "python",
   "nbconvert_exporter": "python",
   "pygments_lexer": "ipython3",
   "version": "3.10.8"
  },
  "toc-autonumbering": false
 },
 "nbformat": 4,
 "nbformat_minor": 5
}
