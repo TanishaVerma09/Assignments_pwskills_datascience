{
 "cells": [
  {
   "cell_type": "code",
   "execution_count": 1,
   "id": "b87fe6d6-56dc-4ab1-a704-839ab748ef71",
   "metadata": {},
   "outputs": [],
   "source": [
    "#Answer 1"
   ]
  },
  {
   "cell_type": "code",
   "execution_count": 2,
   "id": "3f230470-f8ed-43e6-be84-16d59e1f2482",
   "metadata": {},
   "outputs": [
    {
     "name": "stdout",
     "output_type": "stream",
     "text": [
      "Pearson Correlation Coefficient: 0.9721293924949782\n",
      "P-value: 2.552491311792101e-06\n"
     ]
    }
   ],
   "source": [
    "import numpy as np\n",
    "from scipy.stats import pearsonr\n",
    "\n",
    "# Amount of time spent studying in hours\n",
    "studying_time = [10, 5, 8, 12, 15, 6, 9, 11, 7, 13]\n",
    "\n",
    "# Final exam scores\n",
    "exam_scores = [85, 60, 75, 90, 95, 70, 80, 88, 72, 92]\n",
    "\n",
    "# Calculate the Pearson correlation coefficient and p-value\n",
    "corr_coefficient, p_value = pearsonr(studying_time, exam_scores)\n",
    "\n",
    "print(\"Pearson Correlation Coefficient:\", corr_coefficient)\n",
    "print(\"P-value:\", p_value)\n"
   ]
  },
  {
   "cell_type": "markdown",
   "id": "69c5a9da-8d30-4347-8486-2317ffab858a",
   "metadata": {},
   "source": [
    "The Pearson correlation coefficient corr_coefficient will provide a value between -1 and 1 that indicates the strength and direction of the linear relationship between the two variables. Here's how to interpret the result:\n",
    "\n",
    "If corr_coefficient is close to 1, it indicates a strong positive linear relationship. This means that as the amount of time spent studying increases, the final exam scores tend to increase as well.\n",
    "\n",
    "If corr_coefficient is close to -1, it indicates a strong negative linear relationship. This means that as the amount of time spent studying increases, the final exam scores tend to decrease.\n",
    "\n",
    "If corr_coefficient is close to 0, it indicates a weak or no linear relationship between the variables.\n",
    "\n",
    "The p_value is a measure of the statistical significance of the correlation. A small p-value (typically < 0.05) suggests that the observed correlation is unlikely to occur by random chance.\n",
    "\n",
    "Keep in mind that correlation does not imply causation. Even if you find a strong correlation between studying time and exam scores, it doesn't necessarily mean that studying more directly causes higher exam scores. Other factors could be at play.\n",
    "\n",
    "\n",
    "\n",
    "\n",
    "\n"
   ]
  },
  {
   "cell_type": "code",
   "execution_count": 3,
   "id": "91d86f22-2cd4-4025-a52d-1afd056c5000",
   "metadata": {},
   "outputs": [],
   "source": [
    "#Answer 2"
   ]
  },
  {
   "cell_type": "code",
   "execution_count": 4,
   "id": "78c62aa3-cc9f-4ca5-9937-1151feb1da01",
   "metadata": {},
   "outputs": [
    {
     "name": "stdout",
     "output_type": "stream",
     "text": [
      "Spearman's Rank Correlation Coefficient: 0.9469489832794035\n",
      "P-value: 3.2496244810187545e-05\n"
     ]
    }
   ],
   "source": [
    "import numpy as np\n",
    "from scipy.stats import spearmanr\n",
    "\n",
    "# Amount of sleep individuals get each night\n",
    "sleep_hours = [7, 6, 8, 5, 7, 9, 6, 8, 5, 7]\n",
    "\n",
    "# Overall job satisfaction level (on a scale of 1 to 10)\n",
    "job_satisfaction = [8, 6, 9, 4, 7, 9, 5, 8, 3, 6]\n",
    "\n",
    "# Calculate the Spearman's rank correlation coefficient and p-value\n",
    "corr_coefficient, p_value = spearmanr(sleep_hours, job_satisfaction)\n",
    "\n",
    "print(\"Spearman's Rank Correlation Coefficient:\", corr_coefficient)\n",
    "print(\"P-value:\", p_value)\n"
   ]
  },
  {
   "cell_type": "markdown",
   "id": "6e310e7c-4ffa-4a17-88fc-54e40d98079c",
   "metadata": {},
   "source": [
    "The Spearman's rank correlation coefficient corr_coefficient will provide a value between -1 and 1 that indicates the strength and direction of the monotonic relationship between the two variables. Here's how to interpret the result:\n",
    "\n",
    "If corr_coefficient is close to 1, it indicates a strong positive monotonic relationship. This means that as the amount of sleep individuals get each night increases, their overall job satisfaction tends to increase as well.\n",
    "\n",
    "If corr_coefficient is close to -1, it indicates a strong negative monotonic relationship. This means that as the amount of sleep individuals get each night increases, their overall job satisfaction tends to decrease.\n",
    "\n",
    "If corr_coefficient is close to 0, it indicates a weak or no monotonic relationship between the variables.\n",
    "\n",
    "The p_value is a measure of the statistical significance of the correlation. A small p-value (typically < 0.05) suggests that the observed correlation is unlikely to occur by random chance.\n",
    "\n",
    "Keep in mind that correlation does not imply causation. Even if you find a strong Spearman's rank correlation between sleep hours and job satisfaction, it doesn't necessarily mean that sleep directly causes job satisfaction. Other factors could be at play.\n",
    "\n",
    "\n",
    "\n",
    "\n",
    "\n"
   ]
  },
  {
   "cell_type": "code",
   "execution_count": 5,
   "id": "dab63a10-5d8a-4b6b-97cb-e6960df199cb",
   "metadata": {},
   "outputs": [],
   "source": [
    "#Answer 3"
   ]
  },
  {
   "cell_type": "code",
   "execution_count": 6,
   "id": "6da7f396-f0c5-435a-b5f3-5fc0f2b117b1",
   "metadata": {},
   "outputs": [
    {
     "name": "stdout",
     "output_type": "stream",
     "text": [
      "Pearson Correlation Coefficient: 0.9832994400098403\n",
      "Pearson P-value: 3.5394725700347036e-37\n",
      "Spearman's Rank Correlation Coefficient: 0.9803619786325739\n",
      "Spearman P-value: 1.673153531763203e-35\n"
     ]
    }
   ],
   "source": [
    "import numpy as np\n",
    "from scipy.stats import pearsonr, spearmanr\n",
    "\n",
    "# Number of hours of exercise per week\n",
    "exercise_hours = [4, 5, 3, 6, 2, 4, 7, 5, 3, 2, 6, 4, 3, 1, 5, 7, 6, 2, 4, 5,\n",
    "                  6, 3, 4, 2, 1, 5, 7, 6, 3, 4, 5, 6, 2, 4, 3, 1, 5, 7, 6, 2,\n",
    "                  4, 5, 6, 3, 4, 5, 2, 1, 5, 7]\n",
    "\n",
    "# Body Mass Index (BMI)\n",
    "bmi = [25.3, 28.1, 22.9, 30.5, 21.8, 24.7, 32.2, 27.6, 22.5, 19.6, 29.8, 26.4,\n",
    "       23.0, 18.9, 27.9, 33.1, 28.7, 21.3, 25.0, 26.6, 29.2, 23.4, 24.9, 20.6,\n",
    "       18.1, 28.3, 31.8, 28.6, 21.2, 24.5, 28.0, 29.1, 21.1, 24.0, 22.7, 18.3,\n",
    "       27.2, 32.0, 30.7, 20.9, 25.8, 28.9, 31.2, 22.8, 24.3, 27.5, 21.5, 18.7,\n",
    "       29.4, 32.5]\n",
    "\n",
    "# Calculate the Pearson correlation coefficient and p-value\n",
    "pearson_corr, pearson_p_value = pearsonr(exercise_hours, bmi)\n",
    "\n",
    "# Calculate the Spearman's rank correlation coefficient and p-value\n",
    "spearman_corr, spearman_p_value = spearmanr(exercise_hours, bmi)\n",
    "\n",
    "print(\"Pearson Correlation Coefficient:\", pearson_corr)\n",
    "print(\"Pearson P-value:\", pearson_p_value)\n",
    "print(\"Spearman's Rank Correlation Coefficient:\", spearman_corr)\n",
    "print(\"Spearman P-value:\", spearman_p_value)\n"
   ]
  },
  {
   "cell_type": "markdown",
   "id": "ee6b34db-0280-4fed-8676-264b56c3c24b",
   "metadata": {},
   "source": [
    "The Pearson correlation coefficient (pearson_corr) measures the linear relationship between the two variables, while the Spearman's rank correlation coefficient (spearman_corr) assesses the monotonic relationship. Here's how to interpret the results:\n",
    "\n",
    "If both pearson_corr and spearman_corr are close to 1, it indicates a strong positive relationship. As the number of hours of exercise per week increases, BMI tends to decrease (negative correlation).\n",
    "\n",
    "If both pearson_corr and spearman_corr are close to -1, it indicates a strong negative relationship. As the number of hours of exercise per week increases, BMI tends to increase (positive correlation).\n",
    "\n",
    "If both pearson_corr and spearman_corr are close to 0, it indicates a weak or no relationship between the variables.\n",
    "\n",
    "The pearson_p_value and spearman_p_value are measures of the statistical significance of the correlations. Small p-values (typically < 0.05) suggest that the observed correlations are unlikely to occur by random chance.\n",
    "\n",
    "Comparing the Pearson and Spearman correlations can provide insights into the type of relationship between the variables. If the relationship is linear, you would expect the Pearson correlation to be stronger. If the relationship is monotonic but not necessarily linear, the Spearman correlation might be stronger.\n",
    "\n",
    "\n",
    "\n",
    "\n",
    "\n"
   ]
  },
  {
   "cell_type": "code",
   "execution_count": 7,
   "id": "d6fbf878-2d03-4a47-8b2e-f7745c75b3bc",
   "metadata": {},
   "outputs": [],
   "source": [
    "#Answer 4"
   ]
  },
  {
   "cell_type": "code",
   "execution_count": 8,
   "id": "00a7710c-838d-4179-b6b9-2de3ef9ebd4a",
   "metadata": {},
   "outputs": [
    {
     "name": "stdout",
     "output_type": "stream",
     "text": [
      "Pearson Correlation Coefficient: 0.9317079134663578\n",
      "P-value: 9.461315251574156e-23\n"
     ]
    }
   ],
   "source": [
    "import numpy as np\n",
    "from scipy.stats import pearsonr\n",
    "\n",
    "# Number of hours watching television per day\n",
    "tv_hours = [3, 2, 4, 5, 6, 2, 1, 4, 3, 2, 5, 6, 3, 4, 2, 1, 5, 6, 3, 4,\n",
    "            2, 1, 5, 6, 3, 4, 2, 1, 5, 6, 3, 4, 2, 1, 5, 6, 3, 4, 2, 1,\n",
    "            5, 6, 3, 4, 2, 1, 5, 6, 3, 4]\n",
    "\n",
    "# Level of physical activity\n",
    "physical_activity = [2, 3, 1, 4, 5, 3, 2, 4, 3, 2, 4, 5, 3, 4, 2, 1, 5, 5, 3, 4,\n",
    "                     2, 1, 5, 6, 3, 4, 2, 1, 5, 5, 3, 4, 2, 1, 5, 6, 3, 4, 2, 1,\n",
    "                     5, 6, 3, 4, 2, 1, 5, 6, 3, 4]\n",
    "\n",
    "# Calculate the Pearson correlation coefficient and p-value\n",
    "corr_coefficient, p_value = pearsonr(tv_hours, physical_activity)\n",
    "\n",
    "print(\"Pearson Correlation Coefficient:\", corr_coefficient)\n",
    "print(\"P-value:\", p_value)\n"
   ]
  },
  {
   "cell_type": "markdown",
   "id": "fa1820af-943d-440c-85ba-a1188fba2602",
   "metadata": {},
   "source": [
    "The Pearson correlation coefficient corr_coefficient measures the linear relationship between the two variables. Here's how to interpret the result:\n",
    "\n",
    "If corr_coefficient is close to 1, it indicates a strong positive linear relationship. This means that as the number of hours individuals spend watching television per day increases, their level of physical activity tends to increase as well.\n",
    "\n",
    "If corr_coefficient is close to -1, it indicates a strong negative linear relationship. This means that as the number of hours individuals spend watching television per day increases, their level of physical activity tends to decrease.\n",
    "\n",
    "If corr_coefficient is close to 0, it indicates a weak or no linear relationship between the variables.\n",
    "\n",
    "The p_value is a measure of the statistical significance of the correlation. A small p-value (typically < 0.05) suggests that the observed correlation is unlikely to occur by random chance.\n",
    "\n",
    "Keep in mind that correlation does not imply causation. Even if you find a correlation between television watching and physical activity, it doesn't necessarily mean that one directly causes the other. Other factors could be at play.\n",
    "\n",
    "\n",
    "\n",
    "\n",
    "\n"
   ]
  },
  {
   "cell_type": "code",
   "execution_count": 9,
   "id": "d893615b-469a-4a14-af88-d27d7b1d8d4a",
   "metadata": {},
   "outputs": [],
   "source": [
    "#Answer 5 question is not completed in assignment question bank."
   ]
  },
  {
   "cell_type": "code",
   "execution_count": 10,
   "id": "bce8e6ca-df9b-48b4-b7d7-4c0ebf5479f4",
   "metadata": {},
   "outputs": [],
   "source": [
    "#Answer 6"
   ]
  },
  {
   "cell_type": "code",
   "execution_count": 11,
   "id": "bc220a91-3502-4d05-8b4f-a52685abd627",
   "metadata": {},
   "outputs": [
    {
     "name": "stdout",
     "output_type": "stream",
     "text": [
      "Pearson Correlation Coefficient: 0.9725880556680202\n",
      "P-value: 2.8015524830016137e-19\n"
     ]
    }
   ],
   "source": [
    "import numpy as np\n",
    "from scipy.stats import pearsonr\n",
    "\n",
    "# Number of sales calls made per day\n",
    "sales_calls_per_day = [20, 15, 25, 18, 23, 17, 22, 19, 16, 21,\n",
    "                       24, 18, 14, 26, 20, 23, 17, 22, 19, 16,\n",
    "                       21, 25, 18, 15, 24, 17, 22, 19, 16, 21]\n",
    "\n",
    "# Number of sales made per week\n",
    "sales_per_week = [5, 4, 7, 5, 6, 4, 6, 5, 4, 6,\n",
    "                  7, 5, 3, 8, 5, 6, 4, 6, 5, 4,\n",
    "                  6, 7, 5, 4, 7, 4, 6, 5, 4, 6]\n",
    "\n",
    "# Calculate the Pearson correlation coefficient and p-value\n",
    "corr_coefficient, p_value = pearsonr(sales_calls_per_day, sales_per_week)\n",
    "\n",
    "print(\"Pearson Correlation Coefficient:\", corr_coefficient)\n",
    "print(\"P-value:\", p_value)\n"
   ]
  },
  {
   "cell_type": "markdown",
   "id": "4a85e7ca-6e64-4b7b-8b8a-1a3a55eb4fe3",
   "metadata": {},
   "source": [
    "The Pearson correlation coefficient corr_coefficient measures the linear relationship between the two variables. Here's how to interpret the result:\n",
    "\n",
    "If corr_coefficient is close to 1, it indicates a strong positive linear relationship. This means that as the number of sales calls made per day increases, the number of sales made per week tends to increase as well.\n",
    "\n",
    "If corr_coefficient is close to -1, it indicates a strong negative linear relationship. This means that as the number of sales calls made per day increases, the number of sales made per week tends to decrease.\n",
    "\n",
    "If corr_coefficient is close to 0, it indicates a weak or no linear relationship between the variables.\n",
    "\n",
    "The p_value is a measure of the statistical significance of the correlation. A small p-value (typically < 0.05) suggests that the observed correlation is unlikely to occur by random chance.\n",
    "\n",
    "Keep in mind that correlation does not imply causation. Even if you find a correlation between sales calls and sales, it doesn't necessarily mean that more calls directly cause more sales. Other factors could be at play.\n",
    "\n",
    "\n",
    "\n",
    "\n",
    "\n"
   ]
  },
  {
   "cell_type": "code",
   "execution_count": null,
   "id": "812c1428-b9ea-438d-8401-4b8d4e6a1529",
   "metadata": {},
   "outputs": [],
   "source": []
  }
 ],
 "metadata": {
  "kernelspec": {
   "display_name": "Python 3 (ipykernel)",
   "language": "python",
   "name": "python3"
  },
  "language_info": {
   "codemirror_mode": {
    "name": "ipython",
    "version": 3
   },
   "file_extension": ".py",
   "mimetype": "text/x-python",
   "name": "python",
   "nbconvert_exporter": "python",
   "pygments_lexer": "ipython3",
   "version": "3.10.8"
  }
 },
 "nbformat": 4,
 "nbformat_minor": 5
}
