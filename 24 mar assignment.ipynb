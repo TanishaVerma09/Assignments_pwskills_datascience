{
 "cells": [
  {
   "cell_type": "code",
   "execution_count": 1,
   "id": "1eab73be-033b-4794-b4d3-3c6620d4433e",
   "metadata": {},
   "outputs": [],
   "source": [
    "#Answer 1"
   ]
  },
  {
   "cell_type": "code",
   "execution_count": 2,
   "id": "577749d0-d0d1-4a75-bb68-1593967803d4",
   "metadata": {},
   "outputs": [],
   "source": [
    "import seaborn as sns\n",
    "import pandas as pd\n",
    "import numpy as np\n",
    "import matplotlib.pyplot as plt"
   ]
  },
  {
   "cell_type": "code",
   "execution_count": 6,
   "id": "73e89ef0-f437-40f0-8983-751419526dfd",
   "metadata": {},
   "outputs": [],
   "source": [
    "wine_data=pd.read_csv(\"winequality-red.csv\")"
   ]
  },
  {
   "cell_type": "code",
   "execution_count": 8,
   "id": "1d09623a-548e-479d-a817-c0dbeac5d1bb",
   "metadata": {},
   "outputs": [
    {
     "data": {
      "text/html": [
       "<div>\n",
       "<style scoped>\n",
       "    .dataframe tbody tr th:only-of-type {\n",
       "        vertical-align: middle;\n",
       "    }\n",
       "\n",
       "    .dataframe tbody tr th {\n",
       "        vertical-align: top;\n",
       "    }\n",
       "\n",
       "    .dataframe thead th {\n",
       "        text-align: right;\n",
       "    }\n",
       "</style>\n",
       "<table border=\"1\" class=\"dataframe\">\n",
       "  <thead>\n",
       "    <tr style=\"text-align: right;\">\n",
       "      <th></th>\n",
       "      <th>fixed acidity</th>\n",
       "      <th>volatile acidity</th>\n",
       "      <th>citric acid</th>\n",
       "      <th>residual sugar</th>\n",
       "      <th>chlorides</th>\n",
       "      <th>free sulfur dioxide</th>\n",
       "      <th>total sulfur dioxide</th>\n",
       "      <th>density</th>\n",
       "      <th>pH</th>\n",
       "      <th>sulphates</th>\n",
       "      <th>alcohol</th>\n",
       "      <th>quality</th>\n",
       "    </tr>\n",
       "  </thead>\n",
       "  <tbody>\n",
       "    <tr>\n",
       "      <th>0</th>\n",
       "      <td>7.4</td>\n",
       "      <td>0.70</td>\n",
       "      <td>0.0</td>\n",
       "      <td>1.9</td>\n",
       "      <td>0.076</td>\n",
       "      <td>11.0</td>\n",
       "      <td>34.0</td>\n",
       "      <td>0.9978</td>\n",
       "      <td>3.51</td>\n",
       "      <td>0.56</td>\n",
       "      <td>9.4</td>\n",
       "      <td>5</td>\n",
       "    </tr>\n",
       "    <tr>\n",
       "      <th>1</th>\n",
       "      <td>7.8</td>\n",
       "      <td>0.88</td>\n",
       "      <td>0.0</td>\n",
       "      <td>2.6</td>\n",
       "      <td>0.098</td>\n",
       "      <td>25.0</td>\n",
       "      <td>67.0</td>\n",
       "      <td>0.9968</td>\n",
       "      <td>3.20</td>\n",
       "      <td>0.68</td>\n",
       "      <td>9.8</td>\n",
       "      <td>5</td>\n",
       "    </tr>\n",
       "  </tbody>\n",
       "</table>\n",
       "</div>"
      ],
      "text/plain": [
       "   fixed acidity  volatile acidity  citric acid  residual sugar  chlorides  \\\n",
       "0            7.4              0.70          0.0             1.9      0.076   \n",
       "1            7.8              0.88          0.0             2.6      0.098   \n",
       "\n",
       "   free sulfur dioxide  total sulfur dioxide  density    pH  sulphates  \\\n",
       "0                 11.0                  34.0   0.9978  3.51       0.56   \n",
       "1                 25.0                  67.0   0.9968  3.20       0.68   \n",
       "\n",
       "   alcohol  quality  \n",
       "0      9.4        5  \n",
       "1      9.8        5  "
      ]
     },
     "execution_count": 8,
     "metadata": {},
     "output_type": "execute_result"
    }
   ],
   "source": [
    "wine_data.head(2)"
   ]
  },
  {
   "cell_type": "markdown",
   "id": "efd9e6d1-7b01-4c8a-bb32-229958e9fe9e",
   "metadata": {},
   "source": [
    "key features of wine quality dataset are:"
   ]
  },
  {
   "cell_type": "code",
   "execution_count": 12,
   "id": "c5edcef8-f914-4725-8850-32ee60616dd8",
   "metadata": {},
   "outputs": [
    {
     "data": {
      "text/plain": [
       "Index(['fixed acidity', 'volatile acidity', 'citric acid', 'residual sugar',\n",
       "       'chlorides', 'free sulfur dioxide', 'total sulfur dioxide', 'density',\n",
       "       'pH', 'sulphates', 'alcohol', 'quality'],\n",
       "      dtype='object')"
      ]
     },
     "execution_count": 12,
     "metadata": {},
     "output_type": "execute_result"
    }
   ],
   "source": [
    "wine_data.columns"
   ]
  },
  {
   "cell_type": "markdown",
   "id": "203d2349-efe6-48b8-952a-896eec32c7dc",
   "metadata": {},
   "source": [
    "Each of these features plays a crucial role in determining the overall sensory experience and quality of a wine. Machine learning models can utilize these features to predict wine quality by learning the relationships between the features and the target variable. Through training, the model can identify patterns and correlations that allow it to make accurate predictions about the quality of wines based on their composition. The importance of each feature can vary depending on the dataset, the type of wine (red or white), and the specific machine learning algorithm being used."
   ]
  },
  {
   "cell_type": "code",
   "execution_count": 13,
   "id": "9a8591e7-bddf-4717-95bf-f663f0f1bd02",
   "metadata": {},
   "outputs": [],
   "source": [
    "#Answer 2"
   ]
  },
  {
   "cell_type": "code",
   "execution_count": 16,
   "id": "1aceaa03-5f26-43af-a4b8-1062f4c99ecb",
   "metadata": {},
   "outputs": [
    {
     "data": {
      "text/plain": [
       "fixed acidity           0\n",
       "volatile acidity        0\n",
       "citric acid             0\n",
       "residual sugar          0\n",
       "chlorides               0\n",
       "free sulfur dioxide     0\n",
       "total sulfur dioxide    0\n",
       "density                 0\n",
       "pH                      0\n",
       "sulphates               0\n",
       "alcohol                 0\n",
       "quality                 0\n",
       "dtype: int64"
      ]
     },
     "execution_count": 16,
     "metadata": {},
     "output_type": "execute_result"
    }
   ],
   "source": [
    "wine_data.isnull().sum()"
   ]
  },
  {
   "cell_type": "markdown",
   "id": "a4195733-a5f1-4c9b-ad4c-7bd968ffe8e2",
   "metadata": {},
   "source": [
    "There are no missing values in the wine quality dataset bbut if there were some missing values the they could be handled by the following ways :\n",
    "\n",
    ". Mean/Median Imputation:\n",
    "\n",
    "Advantages: Simple and easy to implement. Does not distort the distribution of the feature significantly.\n",
    "Disadvantages: Ignores potential relationships between variables. Can lead to underestimation of variability and covariance.\n",
    "2. Mode Imputation:\n",
    "\n",
    "Advantages: Suitable for categorical or discrete data. Preserves the mode of the distribution.\n",
    "Disadvantages: Ignores relationships between variables. May not accurately represent the underlying distribution.\n",
    "\n",
    "3. Random Imputation:\n",
    "\n",
    "Advantages: Preserves the variance of the variable. Can be a reasonable choice if the missing data is completely at random.\n",
    "Disadvantages: Can introduce randomness that might not reflect actual relationships. May not be suitable for small datasets.\n",
    "4. Interpolation Methods (Linear, Polynomial, etc.):\n",
    "\n",
    "Advantages: Preserves the underlying trend in the data. Can work well for time series or sequential data.\n",
    "Disadvantages: Assumes a linear or polynomial relationship, which might not always hold. May introduce noise or artifacts."
   ]
  },
  {
   "cell_type": "code",
   "execution_count": 17,
   "id": "f52555da-8452-421a-8cbf-8e9af0a1f88c",
   "metadata": {},
   "outputs": [],
   "source": [
    "#Answer 3"
   ]
  },
  {
   "cell_type": "code",
   "execution_count": 18,
   "id": "61d5633e-c7f4-4a3f-8d77-00ba460b58b0",
   "metadata": {},
   "outputs": [],
   "source": [
    "stud_data=pd.read_csv(\"stud.csv\")"
   ]
  },
  {
   "cell_type": "code",
   "execution_count": 19,
   "id": "03694963-a5a7-44b3-9b00-987db51fc9ad",
   "metadata": {},
   "outputs": [
    {
     "data": {
      "text/html": [
       "<div>\n",
       "<style scoped>\n",
       "    .dataframe tbody tr th:only-of-type {\n",
       "        vertical-align: middle;\n",
       "    }\n",
       "\n",
       "    .dataframe tbody tr th {\n",
       "        vertical-align: top;\n",
       "    }\n",
       "\n",
       "    .dataframe thead th {\n",
       "        text-align: right;\n",
       "    }\n",
       "</style>\n",
       "<table border=\"1\" class=\"dataframe\">\n",
       "  <thead>\n",
       "    <tr style=\"text-align: right;\">\n",
       "      <th></th>\n",
       "      <th>gender</th>\n",
       "      <th>race_ethnicity</th>\n",
       "      <th>parental_level_of_education</th>\n",
       "      <th>lunch</th>\n",
       "      <th>test_preparation_course</th>\n",
       "      <th>math_score</th>\n",
       "      <th>reading_score</th>\n",
       "      <th>writing_score</th>\n",
       "    </tr>\n",
       "  </thead>\n",
       "  <tbody>\n",
       "    <tr>\n",
       "      <th>0</th>\n",
       "      <td>female</td>\n",
       "      <td>group B</td>\n",
       "      <td>bachelor's degree</td>\n",
       "      <td>standard</td>\n",
       "      <td>none</td>\n",
       "      <td>72</td>\n",
       "      <td>72</td>\n",
       "      <td>74</td>\n",
       "    </tr>\n",
       "    <tr>\n",
       "      <th>1</th>\n",
       "      <td>female</td>\n",
       "      <td>group C</td>\n",
       "      <td>some college</td>\n",
       "      <td>standard</td>\n",
       "      <td>completed</td>\n",
       "      <td>69</td>\n",
       "      <td>90</td>\n",
       "      <td>88</td>\n",
       "    </tr>\n",
       "  </tbody>\n",
       "</table>\n",
       "</div>"
      ],
      "text/plain": [
       "   gender race_ethnicity parental_level_of_education     lunch  \\\n",
       "0  female        group B           bachelor's degree  standard   \n",
       "1  female        group C                some college  standard   \n",
       "\n",
       "  test_preparation_course  math_score  reading_score  writing_score  \n",
       "0                    none          72             72             74  \n",
       "1               completed          69             90             88  "
      ]
     },
     "execution_count": 19,
     "metadata": {},
     "output_type": "execute_result"
    }
   ],
   "source": [
    "stud_data.head(2)"
   ]
  },
  {
   "cell_type": "markdown",
   "id": "5255a139-292d-4b68-94f7-a8051bea813d",
   "metadata": {},
   "source": [
    "Key factors affecting student's performance are :"
   ]
  },
  {
   "cell_type": "code",
   "execution_count": 20,
   "id": "f90e8935-3265-4cfb-a1fb-bbded8692e20",
   "metadata": {},
   "outputs": [
    {
     "data": {
      "text/plain": [
       "Index(['gender', 'race_ethnicity', 'parental_level_of_education', 'lunch',\n",
       "       'test_preparation_course', 'math_score', 'reading_score',\n",
       "       'writing_score'],\n",
       "      dtype='object')"
      ]
     },
     "execution_count": 20,
     "metadata": {},
     "output_type": "execute_result"
    }
   ],
   "source": [
    "stud_data.columns"
   ]
  },
  {
   "cell_type": "markdown",
   "id": "363c7cee-aca9-4dae-8d3b-7f55d9e30db0",
   "metadata": {},
   "source": [
    "Analyzing the factors that affect students' performance in exams using the given variables involves a combination of exploratory data analysis (EDA) and statistical techniques. Here's a step-by-step approach to analyzing these factors:\n",
    "\n",
    "1. Data Exploration and Preprocessing:\n",
    "\n",
    "Load the dataset and examine its structure, including variable types, missing values, and data distribution.\n",
    "Handle missing values through imputation or removal, depending on the extent of missingness and the nature of the data.\n",
    "Encode categorical variables (e.g., 'gender', 'race_ethnicity', 'parental_level_of_education', 'lunch', 'test_preparation_course') using appropriate techniques such as one-hot encoding.\n",
    "2. Descriptive Statistics:\n",
    "\n",
    "Calculate summary statistics (mean, median, standard deviation, etc.) for the numerical variables ('math_score', 'reading_score', 'writing_score') to understand their central tendencies and variability.\n",
    "Generate frequency tables or bar charts for categorical variables to understand the distribution of student characteristics.\n",
    "3. Comparative Analysis:\n",
    "\n",
    "Conduct group comparisons to understand the impact of different categorical variables on exam scores. For example, compare mean scores based on gender, race/ethnicity, parental education, lunch status, and test preparation course.\n",
    "Use techniques like t-tests or analysis of variance (ANOVA) to test for significant differences between groups.\n",
    "4. Correlation Analysis:\n",
    "\n",
    "Calculate correlation coefficients (e.g., Pearson's correlation) between pairs of numerical variables ('math_score', 'reading_score', 'writing_score') to identify potential relationships among them.\n",
    "Visualize correlations using scatter plots or heatmap matrices.\n",
    "5. Regression Analysis:\n",
    "\n",
    "Perform regression analysis to model the relationship between the dependent variable (exam score) and independent variables (gender, race_ethnicity, parental_level_of_education, lunch, test_preparation_course).\n",
    "Use multiple linear regression or other appropriate regression techniques based on the nature of the data and research questions.\n",
    "Interpret coefficients to understand the impact of each independent variable on the dependent variable while controlling for other variables.\n",
    "6. Visualization:\n",
    "\n",
    "Create box plots, violin plots, or bar charts to visualize the distribution of exam scores across different categories of categorical variables.\n",
    "Generate scatter plots with regression lines to visualize the relationship between numerical variables and exam scores.\n",
    "7. Hypothesis Testing:\n",
    "\n",
    "Formulate hypotheses based on research questions (e.g., \"Is there a significant difference in exam scores between genders?\").\n",
    "Perform hypothesis tests (e.g., t-tests, ANOVA) to determine whether observed differences are statistically significant.\n",
    "8. Multivariate Analysis:\n",
    "\n",
    "Consider using multivariate techniques such as multivariate regression or multivariate analysis of covariance (MANCOVA) to analyze the combined effects of multiple independent variables on exam scores.\n",
    "9. Interpretation and Reporting:\n",
    "\n",
    "Interpret the results of your analyses in the context of the research questions and the dataset.\n",
    "Summarize findings, including significant relationships and effect sizes, in a clear and concise manner.\n",
    "Remember that the choice of statistical techniques depends on the research questions, the distribution of data, and assumptions underlying the analyses. Properly interpreting the results and avoiding common pitfalls (e.g., mistaking correlation for causation) is crucial for drawing meaningful conclusions about the factors influencing students' exam performance.\n",
    "\n",
    "\n",
    "\n",
    "\n",
    "\n"
   ]
  },
  {
   "cell_type": "code",
   "execution_count": 21,
   "id": "97501bc0-0d75-4dbe-9eae-ff7416cafa91",
   "metadata": {},
   "outputs": [],
   "source": [
    "#Answer 4"
   ]
  },
  {
   "cell_type": "code",
   "execution_count": 24,
   "id": "32b3390f-2754-43d6-a98e-624b6cda975a",
   "metadata": {},
   "outputs": [
    {
     "data": {
      "text/plain": [
       "gender                         0\n",
       "race_ethnicity                 0\n",
       "parental_level_of_education    0\n",
       "lunch                          0\n",
       "test_preparation_course        0\n",
       "math_score                     0\n",
       "reading_score                  0\n",
       "writing_score                  0\n",
       "dtype: int64"
      ]
     },
     "execution_count": 24,
     "metadata": {},
     "output_type": "execute_result"
    }
   ],
   "source": [
    "stud_data.isnull().sum()"
   ]
  },
  {
   "cell_type": "markdown",
   "id": "abc1be02-c394-4fc2-921f-0cffb7ee5b93",
   "metadata": {},
   "source": [
    "No missing values present in the dataset."
   ]
  },
  {
   "cell_type": "code",
   "execution_count": 27,
   "id": "2aa08759-9cc0-43ad-b1c1-ae7fbcdb471d",
   "metadata": {},
   "outputs": [
    {
     "data": {
      "text/plain": [
       "0"
      ]
     },
     "execution_count": 27,
     "metadata": {},
     "output_type": "execute_result"
    }
   ],
   "source": [
    "stud_data.duplicated().sum()"
   ]
  },
  {
   "cell_type": "markdown",
   "id": "7922908b-5923-4cb9-a0c6-2cf525c6bdec",
   "metadata": {},
   "source": [
    "No duplicated data is present."
   ]
  },
  {
   "cell_type": "code",
   "execution_count": 28,
   "id": "7bf41445-04c5-4e2e-bbc8-e3876ee15945",
   "metadata": {},
   "outputs": [
    {
     "data": {
      "text/plain": [
       "gender                         object\n",
       "race_ethnicity                 object\n",
       "parental_level_of_education    object\n",
       "lunch                          object\n",
       "test_preparation_course        object\n",
       "math_score                      int64\n",
       "reading_score                   int64\n",
       "writing_score                   int64\n",
       "dtype: object"
      ]
     },
     "execution_count": 28,
     "metadata": {},
     "output_type": "execute_result"
    }
   ],
   "source": [
    "stud_data.dtypes"
   ]
  },
  {
   "cell_type": "markdown",
   "id": "b8d59b27-44f1-4e97-b0ad-1894703f7aa3",
   "metadata": {},
   "source": [
    "There are 3 features which are numeric but 5 features which are of object type and need to be converted to numeric data type."
   ]
  },
  {
   "cell_type": "code",
   "execution_count": 30,
   "id": "a10d3190-5184-4d6d-b4a2-69e0526d1daf",
   "metadata": {},
   "outputs": [
    {
     "data": {
      "text/plain": [
       "gender                          2\n",
       "race_ethnicity                  5\n",
       "parental_level_of_education     6\n",
       "lunch                           2\n",
       "test_preparation_course         2\n",
       "math_score                     81\n",
       "reading_score                  72\n",
       "writing_score                  77\n",
       "dtype: int64"
      ]
     },
     "execution_count": 30,
     "metadata": {},
     "output_type": "execute_result"
    }
   ],
   "source": [
    "stud_data.nunique()"
   ]
  },
  {
   "cell_type": "markdown",
   "id": "3b0d0c88-7e83-4d30-8ddb-16d568aacd4e",
   "metadata": {},
   "source": [
    "A variety of unique data is present in the dataset."
   ]
  },
  {
   "cell_type": "code",
   "execution_count": 31,
   "id": "f55bf0ac-3010-469d-93b6-89b2b18ac3bf",
   "metadata": {},
   "outputs": [
    {
     "data": {
      "text/html": [
       "<div>\n",
       "<style scoped>\n",
       "    .dataframe tbody tr th:only-of-type {\n",
       "        vertical-align: middle;\n",
       "    }\n",
       "\n",
       "    .dataframe tbody tr th {\n",
       "        vertical-align: top;\n",
       "    }\n",
       "\n",
       "    .dataframe thead th {\n",
       "        text-align: right;\n",
       "    }\n",
       "</style>\n",
       "<table border=\"1\" class=\"dataframe\">\n",
       "  <thead>\n",
       "    <tr style=\"text-align: right;\">\n",
       "      <th></th>\n",
       "      <th>math_score</th>\n",
       "      <th>reading_score</th>\n",
       "      <th>writing_score</th>\n",
       "    </tr>\n",
       "  </thead>\n",
       "  <tbody>\n",
       "    <tr>\n",
       "      <th>count</th>\n",
       "      <td>1000.00000</td>\n",
       "      <td>1000.000000</td>\n",
       "      <td>1000.000000</td>\n",
       "    </tr>\n",
       "    <tr>\n",
       "      <th>mean</th>\n",
       "      <td>66.08900</td>\n",
       "      <td>69.169000</td>\n",
       "      <td>68.054000</td>\n",
       "    </tr>\n",
       "    <tr>\n",
       "      <th>std</th>\n",
       "      <td>15.16308</td>\n",
       "      <td>14.600192</td>\n",
       "      <td>15.195657</td>\n",
       "    </tr>\n",
       "    <tr>\n",
       "      <th>min</th>\n",
       "      <td>0.00000</td>\n",
       "      <td>17.000000</td>\n",
       "      <td>10.000000</td>\n",
       "    </tr>\n",
       "    <tr>\n",
       "      <th>25%</th>\n",
       "      <td>57.00000</td>\n",
       "      <td>59.000000</td>\n",
       "      <td>57.750000</td>\n",
       "    </tr>\n",
       "    <tr>\n",
       "      <th>50%</th>\n",
       "      <td>66.00000</td>\n",
       "      <td>70.000000</td>\n",
       "      <td>69.000000</td>\n",
       "    </tr>\n",
       "    <tr>\n",
       "      <th>75%</th>\n",
       "      <td>77.00000</td>\n",
       "      <td>79.000000</td>\n",
       "      <td>79.000000</td>\n",
       "    </tr>\n",
       "    <tr>\n",
       "      <th>max</th>\n",
       "      <td>100.00000</td>\n",
       "      <td>100.000000</td>\n",
       "      <td>100.000000</td>\n",
       "    </tr>\n",
       "  </tbody>\n",
       "</table>\n",
       "</div>"
      ],
      "text/plain": [
       "       math_score  reading_score  writing_score\n",
       "count  1000.00000    1000.000000    1000.000000\n",
       "mean     66.08900      69.169000      68.054000\n",
       "std      15.16308      14.600192      15.195657\n",
       "min       0.00000      17.000000      10.000000\n",
       "25%      57.00000      59.000000      57.750000\n",
       "50%      66.00000      70.000000      69.000000\n",
       "75%      77.00000      79.000000      79.000000\n",
       "max     100.00000     100.000000     100.000000"
      ]
     },
     "execution_count": 31,
     "metadata": {},
     "output_type": "execute_result"
    }
   ],
   "source": [
    "stud_data.describe()"
   ]
  },
  {
   "cell_type": "markdown",
   "id": "b2fa65bd-2e33-4d5e-8c15-ae900f7c2d54",
   "metadata": {},
   "source": [
    "1. There are 1000 records present in the dataset.\n",
    "2. Mean value ranges from approx 66 to 68 on all numeric features.\n",
    "3. Minimum math score is 0 and the maximum is 100."
   ]
  },
  {
   "cell_type": "markdown",
   "id": "a80a1fc9-18e1-4bc4-b8e5-d8cdc16f12dd",
   "metadata": {},
   "source": [
    "Feature engineering is a crucial step in the data preprocessing and model building process. It involves selecting, transforming, and creating new features from the raw data to improve the performance of a machine learning model. In the context of the student performance dataset, let's walk through the process of feature engineering:\n",
    "\n",
    "1. Variable Selection:\n",
    "\n",
    "Review the dataset and identify the variables that are relevant to the problem at hand (predicting student performance).\n",
    "In this case, the relevant variables are likely to be 'gender', 'race_ethnicity', 'parental_level_of_education', 'lunch', and 'test_preparation_course', as well as the three exam scores ('math_score', 'reading_score', 'writing_score').\n",
    "2. Handling Categorical Variables:\n",
    "\n",
    "Encode categorical variables into numerical form using techniques like one-hot encoding. This transformation allows the model to interpret categorical information.\n",
    "For example, 'gender' could be transformed into binary values (0 or 1) for male and female.\n",
    "\n",
    ". Creating New Features:\n",
    "\n",
    "You can create new features that might capture meaningful relationships. For example, you could calculate the average score of the three exams and use it as a new feature to represent overall academic performance.\n",
    "Interaction terms or ratios between features might also be useful. For instance, you could create a feature representing the ratio of 'writing_score' to 'reading_score' to capture writing proficiency relative to reading ability.\n",
    "4. Normalization/Scaling:\n",
    "\n",
    "Scale numerical features to a common range (e.g., 0 to 1) to prevent features with larger values from dominating the model's calculations. This is important for algorithms that are sensitive to the scale of features.\n",
    "5. Handling Missing Data:\n",
    "\n",
    "Address missing data in a way that makes sense for the problem. You might choose to impute missing values using techniques discussed earlier or remove instances with missing data if they are relatively few.\n",
    "6. Dimensionality Reduction:\n",
    "\n",
    "Perform dimensionality reduction techniques (e.g., Principal Component Analysis) if the dataset has a high number of features, to reduce noise and improve model efficiency.\n",
    "7. Domain-Specific Transformations:\n",
    "\n",
    "Apply domain-specific transformations if you have relevant knowledge about the data. For example, you might know that certain parental education levels have a stronger impact on student performance.\n",
    "8. Feature Importance and Selection:\n",
    "\n",
    "Use techniques like feature importance scores from tree-based models or recursive feature elimination to identify and select the most important features for your model.\n",
    "9. Validation and Iteration:\n",
    "\n",
    "Split the dataset into training and testing sets to validate the model's performance.\n",
    "Iteratively adjust and fine-tune feature engineering steps based on the model's performance on validation data.\n",
    "Feature engineering is both an art and a science. It requires a deep understanding of the data, the problem you're trying to solve, and the characteristics of the machine learning algorithms you plan to use. The goal is to create a set of features that captures relevant information, reduces noise, and enables the model to make accurate predictions about student performance.\n",
    "\n",
    "\n",
    "\n",
    "\n",
    "\n"
   ]
  },
  {
   "cell_type": "markdown",
   "id": "d3148508-0d88-45b5-bfe2-1ac4be63fa73",
   "metadata": {},
   "source": [
    "## Transforming categorical values to numerical values"
   ]
  },
  {
   "cell_type": "code",
   "execution_count": 32,
   "id": "a2f96f74-6848-4b39-9195-4631cf21776b",
   "metadata": {},
   "outputs": [],
   "source": [
    "from sklearn.preprocessing import OneHotEncoder"
   ]
  },
  {
   "cell_type": "code",
   "execution_count": 33,
   "id": "c308e88a-dbc9-49d9-9dc1-9a175bed5b47",
   "metadata": {},
   "outputs": [],
   "source": [
    "onehotencoder=OneHotEncoder()"
   ]
  },
  {
   "cell_type": "code",
   "execution_count": 42,
   "id": "5a8c26d7-3f3c-48c1-abc8-99cb0cc21579",
   "metadata": {},
   "outputs": [],
   "source": [
    "column_to_encode=['gender']"
   ]
  },
  {
   "cell_type": "code",
   "execution_count": 44,
   "id": "828e4bcc-53fa-473e-8b8a-0e254aa88667",
   "metadata": {},
   "outputs": [],
   "source": [
    "encoded=onehotencoder.fit_transform([column_to_encode]).toarray()"
   ]
  },
  {
   "cell_type": "code",
   "execution_count": 45,
   "id": "ec63fcdf-607b-426f-bbdc-e6b3c4e7df93",
   "metadata": {},
   "outputs": [],
   "source": [
    "encoded_df=pd.DataFrame(encoded,columns=onehotencoder.get_feature_names_out(column_to_encode))"
   ]
  },
  {
   "cell_type": "code",
   "execution_count": 46,
   "id": "28ef5d3f-f8f1-48ae-9c7a-b7e98e1834b5",
   "metadata": {},
   "outputs": [],
   "source": [
    "student_data=pd.concat([stud_data, encoded_df], axis=1)"
   ]
  },
  {
   "cell_type": "code",
   "execution_count": 47,
   "id": "1d7085eb-427f-4705-9264-408fd5e0ca76",
   "metadata": {},
   "outputs": [],
   "source": [
    "student_data.drop(column_to_encode, axis=1, inplace=True)"
   ]
  },
  {
   "cell_type": "code",
   "execution_count": 48,
   "id": "c611b41c-bb9f-4a35-a743-50aac693baec",
   "metadata": {},
   "outputs": [
    {
     "data": {
      "text/html": [
       "<div>\n",
       "<style scoped>\n",
       "    .dataframe tbody tr th:only-of-type {\n",
       "        vertical-align: middle;\n",
       "    }\n",
       "\n",
       "    .dataframe tbody tr th {\n",
       "        vertical-align: top;\n",
       "    }\n",
       "\n",
       "    .dataframe thead th {\n",
       "        text-align: right;\n",
       "    }\n",
       "</style>\n",
       "<table border=\"1\" class=\"dataframe\">\n",
       "  <thead>\n",
       "    <tr style=\"text-align: right;\">\n",
       "      <th></th>\n",
       "      <th>race_ethnicity</th>\n",
       "      <th>parental_level_of_education</th>\n",
       "      <th>lunch</th>\n",
       "      <th>test_preparation_course</th>\n",
       "      <th>math_score</th>\n",
       "      <th>reading_score</th>\n",
       "      <th>writing_score</th>\n",
       "      <th>gender_gender</th>\n",
       "    </tr>\n",
       "  </thead>\n",
       "  <tbody>\n",
       "    <tr>\n",
       "      <th>0</th>\n",
       "      <td>group B</td>\n",
       "      <td>bachelor's degree</td>\n",
       "      <td>standard</td>\n",
       "      <td>none</td>\n",
       "      <td>72</td>\n",
       "      <td>72</td>\n",
       "      <td>74</td>\n",
       "      <td>1.0</td>\n",
       "    </tr>\n",
       "  </tbody>\n",
       "</table>\n",
       "</div>"
      ],
      "text/plain": [
       "  race_ethnicity parental_level_of_education     lunch  \\\n",
       "0        group B           bachelor's degree  standard   \n",
       "\n",
       "  test_preparation_course  math_score  reading_score  writing_score  \\\n",
       "0                    none          72             72             74   \n",
       "\n",
       "   gender_gender  \n",
       "0            1.0  "
      ]
     },
     "execution_count": 48,
     "metadata": {},
     "output_type": "execute_result"
    }
   ],
   "source": [
    "student_data.head(1)"
   ]
  },
  {
   "cell_type": "code",
   "execution_count": 49,
   "id": "4051691c-88e1-454b-a0ce-78aecf9e3e4f",
   "metadata": {},
   "outputs": [
    {
     "data": {
      "text/plain": [
       "race_ethnicity                  object\n",
       "parental_level_of_education     object\n",
       "lunch                           object\n",
       "test_preparation_course         object\n",
       "math_score                       int64\n",
       "reading_score                    int64\n",
       "writing_score                    int64\n",
       "gender_gender                  float64\n",
       "dtype: object"
      ]
     },
     "execution_count": 49,
     "metadata": {},
     "output_type": "execute_result"
    }
   ],
   "source": [
    "student_data.dtypes"
   ]
  },
  {
   "cell_type": "markdown",
   "id": "1025e99f-b020-4c94-ae18-ac4a5a662b12",
   "metadata": {},
   "source": [
    "We selected one categorical value which is gender and transformed it into a numeric one by encoding technique from feature engineering."
   ]
  },
  {
   "cell_type": "code",
   "execution_count": 50,
   "id": "7db694dc-a6a8-4346-b19c-ae7782069a9a",
   "metadata": {},
   "outputs": [],
   "source": [
    "#Answer 5"
   ]
  },
  {
   "cell_type": "code",
   "execution_count": 51,
   "id": "db737daf-4159-4e71-a815-ed7ed675c61f",
   "metadata": {},
   "outputs": [
    {
     "data": {
      "text/plain": [
       "fixed acidity           0\n",
       "volatile acidity        0\n",
       "citric acid             0\n",
       "residual sugar          0\n",
       "chlorides               0\n",
       "free sulfur dioxide     0\n",
       "total sulfur dioxide    0\n",
       "density                 0\n",
       "pH                      0\n",
       "sulphates               0\n",
       "alcohol                 0\n",
       "quality                 0\n",
       "dtype: int64"
      ]
     },
     "execution_count": 51,
     "metadata": {},
     "output_type": "execute_result"
    }
   ],
   "source": [
    "wine_data.isnull().sum()"
   ]
  },
  {
   "cell_type": "markdown",
   "id": "52f462c6-e087-472c-9207-80392cf327d2",
   "metadata": {},
   "source": [
    "No missing values present"
   ]
  },
  {
   "cell_type": "code",
   "execution_count": 52,
   "id": "30cbd716-01a5-4b37-9ef4-63f6c3c46403",
   "metadata": {},
   "outputs": [
    {
     "data": {
      "text/plain": [
       "fixed acidity           float64\n",
       "volatile acidity        float64\n",
       "citric acid             float64\n",
       "residual sugar          float64\n",
       "chlorides               float64\n",
       "free sulfur dioxide     float64\n",
       "total sulfur dioxide    float64\n",
       "density                 float64\n",
       "pH                      float64\n",
       "sulphates               float64\n",
       "alcohol                 float64\n",
       "quality                   int64\n",
       "dtype: object"
      ]
     },
     "execution_count": 52,
     "metadata": {},
     "output_type": "execute_result"
    }
   ],
   "source": [
    "wine_data.dtypes"
   ]
  },
  {
   "cell_type": "markdown",
   "id": "c25a6d44-da0f-40ca-abca-4d569182ec64",
   "metadata": {},
   "source": [
    "Every feature is already in numeric form."
   ]
  },
  {
   "cell_type": "code",
   "execution_count": 56,
   "id": "fd5680f1-89d8-43a7-81f4-6d6cf76ce7f2",
   "metadata": {},
   "outputs": [
    {
     "data": {
      "text/plain": [
       "240"
      ]
     },
     "execution_count": 56,
     "metadata": {},
     "output_type": "execute_result"
    }
   ],
   "source": [
    "wine_data.duplicated().sum()"
   ]
  },
  {
   "cell_type": "markdown",
   "id": "7c2767be-d5e6-4c6a-ad83-16f8d9f8589e",
   "metadata": {},
   "source": [
    "There are 240 duplicated records present in the dataset."
   ]
  },
  {
   "cell_type": "code",
   "execution_count": 53,
   "id": "b5874585-358e-4df8-9f25-ebec2f4e2cfc",
   "metadata": {},
   "outputs": [
    {
     "data": {
      "text/html": [
       "<div>\n",
       "<style scoped>\n",
       "    .dataframe tbody tr th:only-of-type {\n",
       "        vertical-align: middle;\n",
       "    }\n",
       "\n",
       "    .dataframe tbody tr th {\n",
       "        vertical-align: top;\n",
       "    }\n",
       "\n",
       "    .dataframe thead th {\n",
       "        text-align: right;\n",
       "    }\n",
       "</style>\n",
       "<table border=\"1\" class=\"dataframe\">\n",
       "  <thead>\n",
       "    <tr style=\"text-align: right;\">\n",
       "      <th></th>\n",
       "      <th>fixed acidity</th>\n",
       "      <th>volatile acidity</th>\n",
       "      <th>citric acid</th>\n",
       "      <th>residual sugar</th>\n",
       "      <th>chlorides</th>\n",
       "      <th>free sulfur dioxide</th>\n",
       "      <th>total sulfur dioxide</th>\n",
       "      <th>density</th>\n",
       "      <th>pH</th>\n",
       "      <th>sulphates</th>\n",
       "      <th>alcohol</th>\n",
       "      <th>quality</th>\n",
       "    </tr>\n",
       "  </thead>\n",
       "  <tbody>\n",
       "    <tr>\n",
       "      <th>count</th>\n",
       "      <td>1599.000000</td>\n",
       "      <td>1599.000000</td>\n",
       "      <td>1599.000000</td>\n",
       "      <td>1599.000000</td>\n",
       "      <td>1599.000000</td>\n",
       "      <td>1599.000000</td>\n",
       "      <td>1599.000000</td>\n",
       "      <td>1599.000000</td>\n",
       "      <td>1599.000000</td>\n",
       "      <td>1599.000000</td>\n",
       "      <td>1599.000000</td>\n",
       "      <td>1599.000000</td>\n",
       "    </tr>\n",
       "    <tr>\n",
       "      <th>mean</th>\n",
       "      <td>8.319637</td>\n",
       "      <td>0.527821</td>\n",
       "      <td>0.270976</td>\n",
       "      <td>2.538806</td>\n",
       "      <td>0.087467</td>\n",
       "      <td>15.874922</td>\n",
       "      <td>46.467792</td>\n",
       "      <td>0.996747</td>\n",
       "      <td>3.311113</td>\n",
       "      <td>0.658149</td>\n",
       "      <td>10.422983</td>\n",
       "      <td>5.636023</td>\n",
       "    </tr>\n",
       "    <tr>\n",
       "      <th>std</th>\n",
       "      <td>1.741096</td>\n",
       "      <td>0.179060</td>\n",
       "      <td>0.194801</td>\n",
       "      <td>1.409928</td>\n",
       "      <td>0.047065</td>\n",
       "      <td>10.460157</td>\n",
       "      <td>32.895324</td>\n",
       "      <td>0.001887</td>\n",
       "      <td>0.154386</td>\n",
       "      <td>0.169507</td>\n",
       "      <td>1.065668</td>\n",
       "      <td>0.807569</td>\n",
       "    </tr>\n",
       "    <tr>\n",
       "      <th>min</th>\n",
       "      <td>4.600000</td>\n",
       "      <td>0.120000</td>\n",
       "      <td>0.000000</td>\n",
       "      <td>0.900000</td>\n",
       "      <td>0.012000</td>\n",
       "      <td>1.000000</td>\n",
       "      <td>6.000000</td>\n",
       "      <td>0.990070</td>\n",
       "      <td>2.740000</td>\n",
       "      <td>0.330000</td>\n",
       "      <td>8.400000</td>\n",
       "      <td>3.000000</td>\n",
       "    </tr>\n",
       "    <tr>\n",
       "      <th>25%</th>\n",
       "      <td>7.100000</td>\n",
       "      <td>0.390000</td>\n",
       "      <td>0.090000</td>\n",
       "      <td>1.900000</td>\n",
       "      <td>0.070000</td>\n",
       "      <td>7.000000</td>\n",
       "      <td>22.000000</td>\n",
       "      <td>0.995600</td>\n",
       "      <td>3.210000</td>\n",
       "      <td>0.550000</td>\n",
       "      <td>9.500000</td>\n",
       "      <td>5.000000</td>\n",
       "    </tr>\n",
       "    <tr>\n",
       "      <th>50%</th>\n",
       "      <td>7.900000</td>\n",
       "      <td>0.520000</td>\n",
       "      <td>0.260000</td>\n",
       "      <td>2.200000</td>\n",
       "      <td>0.079000</td>\n",
       "      <td>14.000000</td>\n",
       "      <td>38.000000</td>\n",
       "      <td>0.996750</td>\n",
       "      <td>3.310000</td>\n",
       "      <td>0.620000</td>\n",
       "      <td>10.200000</td>\n",
       "      <td>6.000000</td>\n",
       "    </tr>\n",
       "    <tr>\n",
       "      <th>75%</th>\n",
       "      <td>9.200000</td>\n",
       "      <td>0.640000</td>\n",
       "      <td>0.420000</td>\n",
       "      <td>2.600000</td>\n",
       "      <td>0.090000</td>\n",
       "      <td>21.000000</td>\n",
       "      <td>62.000000</td>\n",
       "      <td>0.997835</td>\n",
       "      <td>3.400000</td>\n",
       "      <td>0.730000</td>\n",
       "      <td>11.100000</td>\n",
       "      <td>6.000000</td>\n",
       "    </tr>\n",
       "    <tr>\n",
       "      <th>max</th>\n",
       "      <td>15.900000</td>\n",
       "      <td>1.580000</td>\n",
       "      <td>1.000000</td>\n",
       "      <td>15.500000</td>\n",
       "      <td>0.611000</td>\n",
       "      <td>72.000000</td>\n",
       "      <td>289.000000</td>\n",
       "      <td>1.003690</td>\n",
       "      <td>4.010000</td>\n",
       "      <td>2.000000</td>\n",
       "      <td>14.900000</td>\n",
       "      <td>8.000000</td>\n",
       "    </tr>\n",
       "  </tbody>\n",
       "</table>\n",
       "</div>"
      ],
      "text/plain": [
       "       fixed acidity  volatile acidity  citric acid  residual sugar  \\\n",
       "count    1599.000000       1599.000000  1599.000000     1599.000000   \n",
       "mean        8.319637          0.527821     0.270976        2.538806   \n",
       "std         1.741096          0.179060     0.194801        1.409928   \n",
       "min         4.600000          0.120000     0.000000        0.900000   \n",
       "25%         7.100000          0.390000     0.090000        1.900000   \n",
       "50%         7.900000          0.520000     0.260000        2.200000   \n",
       "75%         9.200000          0.640000     0.420000        2.600000   \n",
       "max        15.900000          1.580000     1.000000       15.500000   \n",
       "\n",
       "         chlorides  free sulfur dioxide  total sulfur dioxide      density  \\\n",
       "count  1599.000000          1599.000000           1599.000000  1599.000000   \n",
       "mean      0.087467            15.874922             46.467792     0.996747   \n",
       "std       0.047065            10.460157             32.895324     0.001887   \n",
       "min       0.012000             1.000000              6.000000     0.990070   \n",
       "25%       0.070000             7.000000             22.000000     0.995600   \n",
       "50%       0.079000            14.000000             38.000000     0.996750   \n",
       "75%       0.090000            21.000000             62.000000     0.997835   \n",
       "max       0.611000            72.000000            289.000000     1.003690   \n",
       "\n",
       "                pH    sulphates      alcohol      quality  \n",
       "count  1599.000000  1599.000000  1599.000000  1599.000000  \n",
       "mean      3.311113     0.658149    10.422983     5.636023  \n",
       "std       0.154386     0.169507     1.065668     0.807569  \n",
       "min       2.740000     0.330000     8.400000     3.000000  \n",
       "25%       3.210000     0.550000     9.500000     5.000000  \n",
       "50%       3.310000     0.620000    10.200000     6.000000  \n",
       "75%       3.400000     0.730000    11.100000     6.000000  \n",
       "max       4.010000     2.000000    14.900000     8.000000  "
      ]
     },
     "execution_count": 53,
     "metadata": {},
     "output_type": "execute_result"
    }
   ],
   "source": [
    "wine_data.describe()"
   ]
  },
  {
   "cell_type": "markdown",
   "id": "d7982b28-2b78-4a4f-9af5-5a9bc3af85eb",
   "metadata": {},
   "source": [
    "1. There are 1599 records present in the dataset out of which 240 are duplicated so the final records after data preprocessing will be 1359.\n",
    "2. There is no fixed pattern in the distribution of mean and standard deviation across all features.\n",
    "3. Wine quality has a mean of 5 which means average quality wine is max.\n",
    "4. Wine has a min quality of 3 and max of 8."
   ]
  },
  {
   "cell_type": "code",
   "execution_count": 16,
   "id": "707b63b9-4e0c-4382-bf1e-e8dd733e041b",
   "metadata": {},
   "outputs": [],
   "source": [
    "import pandas as pd\n",
    "wine_data=pd.read_csv(\"winequality-red.csv\")\n"
   ]
  },
  {
   "cell_type": "code",
   "execution_count": 20,
   "id": "8a72cf12-6d50-4e96-9428-28c4a7af258b",
   "metadata": {},
   "outputs": [
    {
     "name": "stdout",
     "output_type": "stream",
     "text": [
      "Index(['fixed acidity', 'volatile acidity', 'citric acid', 'residual sugar',\n",
      "       'chlorides', 'free sulfur dioxide', 'total sulfur dioxide', 'density',\n",
      "       'pH', 'sulphates', 'alcohol', 'quality'],\n",
      "      dtype='object')\n"
     ]
    }
   ],
   "source": [
    "numeric_features= wine_data.columns\n",
    "print(numeric_features)"
   ]
  },
  {
   "cell_type": "code",
   "execution_count": 24,
   "id": "8cb235d2-8f48-4559-82c6-1c3374f8c5b2",
   "metadata": {},
   "outputs": [
    {
     "name": "stderr",
     "output_type": "stream",
     "text": [
      "/tmp/ipykernel_2257/1388564865.py:10: FutureWarning: \n",
      "\n",
      "`shade` is now deprecated in favor of `fill`; setting `fill=True`.\n",
      "This will become an error in seaborn v0.14.0; please update your code.\n",
      "\n",
      "  sns.kdeplot(x=wine_data[numeric_features[i]],shade=True, color='b')\n",
      "/tmp/ipykernel_2257/1388564865.py:10: FutureWarning: \n",
      "\n",
      "`shade` is now deprecated in favor of `fill`; setting `fill=True`.\n",
      "This will become an error in seaborn v0.14.0; please update your code.\n",
      "\n",
      "  sns.kdeplot(x=wine_data[numeric_features[i]],shade=True, color='b')\n",
      "/tmp/ipykernel_2257/1388564865.py:10: FutureWarning: \n",
      "\n",
      "`shade` is now deprecated in favor of `fill`; setting `fill=True`.\n",
      "This will become an error in seaborn v0.14.0; please update your code.\n",
      "\n",
      "  sns.kdeplot(x=wine_data[numeric_features[i]],shade=True, color='b')\n",
      "/tmp/ipykernel_2257/1388564865.py:10: FutureWarning: \n",
      "\n",
      "`shade` is now deprecated in favor of `fill`; setting `fill=True`.\n",
      "This will become an error in seaborn v0.14.0; please update your code.\n",
      "\n",
      "  sns.kdeplot(x=wine_data[numeric_features[i]],shade=True, color='b')\n",
      "/tmp/ipykernel_2257/1388564865.py:10: FutureWarning: \n",
      "\n",
      "`shade` is now deprecated in favor of `fill`; setting `fill=True`.\n",
      "This will become an error in seaborn v0.14.0; please update your code.\n",
      "\n",
      "  sns.kdeplot(x=wine_data[numeric_features[i]],shade=True, color='b')\n",
      "/tmp/ipykernel_2257/1388564865.py:10: FutureWarning: \n",
      "\n",
      "`shade` is now deprecated in favor of `fill`; setting `fill=True`.\n",
      "This will become an error in seaborn v0.14.0; please update your code.\n",
      "\n",
      "  sns.kdeplot(x=wine_data[numeric_features[i]],shade=True, color='b')\n",
      "/tmp/ipykernel_2257/1388564865.py:10: FutureWarning: \n",
      "\n",
      "`shade` is now deprecated in favor of `fill`; setting `fill=True`.\n",
      "This will become an error in seaborn v0.14.0; please update your code.\n",
      "\n",
      "  sns.kdeplot(x=wine_data[numeric_features[i]],shade=True, color='b')\n",
      "/tmp/ipykernel_2257/1388564865.py:10: FutureWarning: \n",
      "\n",
      "`shade` is now deprecated in favor of `fill`; setting `fill=True`.\n",
      "This will become an error in seaborn v0.14.0; please update your code.\n",
      "\n",
      "  sns.kdeplot(x=wine_data[numeric_features[i]],shade=True, color='b')\n",
      "/tmp/ipykernel_2257/1388564865.py:10: FutureWarning: \n",
      "\n",
      "`shade` is now deprecated in favor of `fill`; setting `fill=True`.\n",
      "This will become an error in seaborn v0.14.0; please update your code.\n",
      "\n",
      "  sns.kdeplot(x=wine_data[numeric_features[i]],shade=True, color='b')\n",
      "/tmp/ipykernel_2257/1388564865.py:10: FutureWarning: \n",
      "\n",
      "`shade` is now deprecated in favor of `fill`; setting `fill=True`.\n",
      "This will become an error in seaborn v0.14.0; please update your code.\n",
      "\n",
      "  sns.kdeplot(x=wine_data[numeric_features[i]],shade=True, color='b')\n",
      "/tmp/ipykernel_2257/1388564865.py:10: FutureWarning: \n",
      "\n",
      "`shade` is now deprecated in favor of `fill`; setting `fill=True`.\n",
      "This will become an error in seaborn v0.14.0; please update your code.\n",
      "\n",
      "  sns.kdeplot(x=wine_data[numeric_features[i]],shade=True, color='b')\n",
      "/tmp/ipykernel_2257/1388564865.py:10: FutureWarning: \n",
      "\n",
      "`shade` is now deprecated in favor of `fill`; setting `fill=True`.\n",
      "This will become an error in seaborn v0.14.0; please update your code.\n",
      "\n",
      "  sns.kdeplot(x=wine_data[numeric_features[i]],shade=True, color='b')\n"
     ]
    },
    {
     "data": {
      "image/png": "[encoded data removed]",
      "text/plain": [
       "<Figure size 1500x1500 with 12 Axes>"
      ]
     },
     "metadata": {},
     "output_type": "display_data"
    }
   ],
   "source": [
    "import matplotlib.pyplot as plt\n",
    "import seaborn as sns\n",
    "\n",
    "\n",
    "plt.figure(figsize=(15, 15))\n",
    "plt.suptitle('Univariate Analysis of Numerical Features', fontsize=20, fontweight='bold', alpha=0.8, y=1.)\n",
    "\n",
    "for i in range(0, len(numeric_features)):\n",
    "    plt.subplot(5, 3, i+1)\n",
    "    sns.kdeplot(x=wine_data[numeric_features[i]],shade=True, color='b')\n",
    "    plt.xlabel(numeric_features[i])\n",
    "    plt.tight_layout()"
   ]
  },
  {
   "cell_type": "markdown",
   "id": "5d11134a-fe7b-4c9c-9648-abaaf11830ba",
   "metadata": {},
   "source": [
    "Features that exhibit non normality are :\n",
    "volatile acid,\n",
    "\n",
    "citric acidity,\n",
    "\n",
    "free sulphur dioxide,\n",
    "\n",
    "alcohol\n",
    "\n",
    "because of their skewness in distribution and some features has more than a single bell curve which is required for normality"
   ]
  },
  {
   "cell_type": "markdown",
   "id": "765e4d0a-8151-4887-a3e3-75c33f05efb9",
   "metadata": {},
   "source": [
    "Transformations can be applied to reduce non-normality in data distributions and make them more closely resemble a normal distribution. Here are some common transformations that can help achieve this:\n",
    "\n",
    "Logarithmic Transformation:\n",
    "\n",
    "A logarithmic transformation, such as the natural logarithm (ln) or the base 10 logarithm (log10), can be applied to right-skewed data.\n",
    "It compresses larger values and stretches smaller values, effectively reducing the impact of extreme values.\n",
    "This transformation is useful for data with multiplicative effects, like monetary amounts, population growth, or measurements involving exponential processes.\n",
    "Square Root Transformation:\n",
    "\n",
    "Applying the square root to right-skewed data can help reduce skewness by compressing the larger values.\n",
    "This transformation is less aggressive than the logarithmic transformation and can be suitable for variables that are moderately skewed.\n",
    "Reciprocal Transformation:\n",
    "\n",
    "Taking the reciprocal (1/x) of right-skewed data can help make the distribution closer to normal.\n",
    "It's particularly useful when data values follow a decreasing trend.\n",
    "Box-Cox Transformation:\n",
    "\n",
    "The Box-Cox transformation is a family of power transformations that includes logarithmic and square root transformations as special cases.\n",
    "It identifies the best transformation parameter λ that maximizes the normality of the data.\n",
    "The transformation can handle both positive and zero values, making it more versatile.\n",
    "Exponential Transformation:\n",
    "\n",
    "Applying the exponential function (e^x) to left-skewed data can help reduce skewness.\n",
    "This transformation is suitable when data values are primarily positive.\n",
    "Sigmoid (Logit) Transformation:\n",
    "\n",
    "The sigmoid or logit transformation is often used for data that are bounded between 0 and 1 (probabilities, proportions).\n",
    "It can help stabilize variance and make the data distribution more symmetrical.\n",
    "Power Transformation (Yeo-Johnson Transformation):\n",
    "\n",
    "Similar to Box-Cox, the Yeo-Johnson transformation can handle both positive and negative values.\n",
    "It provides flexibility in handling different types of data distributions.\n",
    "It's important to note that while these transformations can help reduce non-normality, they may not always be suitable for all types of data or all analyses. The choice of transformation depends on the characteristics of your data, the underlying relationships, and the objectives of your analysis. Additionally, the transformed data should be carefully interpreted in the context of the original domain and research question.\n",
    "\n",
    "\n",
    "\n",
    "\n",
    "\n"
   ]
  },
  {
   "cell_type": "code",
   "execution_count": 26,
   "id": "d3611eb8-4ed0-4726-a287-dc4f80a0112e",
   "metadata": {},
   "outputs": [],
   "source": [
    "#Answer 6"
   ]
  },
  {
   "cell_type": "code",
   "execution_count": 27,
   "id": "647b2286-bfc6-4da4-ab5e-8561114b8795",
   "metadata": {},
   "outputs": [],
   "source": [
    "import pandas as pd\n",
    "from sklearn.decomposition import PCA\n",
    "from sklearn.preprocessing import StandardScaler"
   ]
  },
  {
   "cell_type": "code",
   "execution_count": 28,
   "id": "25e0743f-08d2-4afe-97d4-c9e1a6b33249",
   "metadata": {},
   "outputs": [],
   "source": [
    "scaler = StandardScaler()\n",
    "scaled_data = scaler.fit_transform(wine_data)"
   ]
  },
  {
   "cell_type": "code",
   "execution_count": 30,
   "id": "63fd0795-dcfb-4782-ab12-ffb5f2558310",
   "metadata": {},
   "outputs": [],
   "source": [
    "# Initialize PCA with the number of components you want to retain\n",
    "n_components = 5\n",
    "pca = PCA(n_components=n_components)"
   ]
  },
  {
   "cell_type": "code",
   "execution_count": 31,
   "id": "be5be455-4546-4311-af45-b50c1061a422",
   "metadata": {},
   "outputs": [
    {
     "data": {
      "text/html": [
       "<style>#sk-container-id-1 {color: black;background-color: white;}#sk-container-id-1 pre{padding: 0;}#sk-container-id-1 div.sk-toggleable {background-color: white;}#sk-container-id-1 label.sk-toggleable__label {cursor: pointer;display: block;width: 100%;margin-bottom: 0;padding: 0.3em;box-sizing: border-box;text-align: center;}#sk-container-id-1 label.sk-toggleable__label-arrow:before {content: \"▸\";float: left;margin-right: 0.25em;color: #696969;}#sk-container-id-1 label.sk-toggleable__label-arrow:hover:before {color: black;}#sk-container-id-1 div.sk-estimator:hover label.sk-toggleable__label-arrow:before {color: black;}#sk-container-id-1 div.sk-toggleable__content {max-height: 0;max-width: 0;overflow: hidden;text-align: left;background-color: #f0f8ff;}#sk-container-id-1 div.sk-toggleable__content pre {margin: 0.2em;color: black;border-radius: 0.25em;background-color: #f0f8ff;}#sk-container-id-1 input.sk-toggleable__control:checked~div.sk-toggleable__content {max-height: 200px;max-width: 100%;overflow: auto;}#sk-container-id-1 input.sk-toggleable__control:checked~label.sk-toggleable__label-arrow:before {content: \"▾\";}#sk-container-id-1 div.sk-estimator input.sk-toggleable__control:checked~label.sk-toggleable__label {background-color: #d4ebff;}#sk-container-id-1 div.sk-label input.sk-toggleable__control:checked~label.sk-toggleable__label {background-color: #d4ebff;}#sk-container-id-1 input.sk-hidden--visually {border: 0;clip: rect(1px 1px 1px 1px);clip: rect(1px, 1px, 1px, 1px);height: 1px;margin: -1px;overflow: hidden;padding: 0;position: absolute;width: 1px;}#sk-container-id-1 div.sk-estimator {font-family: monospace;background-color: #f0f8ff;border: 1px dotted black;border-radius: 0.25em;box-sizing: border-box;margin-bottom: 0.5em;}#sk-container-id-1 div.sk-estimator:hover {background-color: #d4ebff;}#sk-container-id-1 div.sk-parallel-item::after {content: \"\";width: 100%;border-bottom: 1px solid gray;flex-grow: 1;}#sk-container-id-1 div.sk-label:hover label.sk-toggleable__label {background-color: #d4ebff;}#sk-container-id-1 div.sk-serial::before {content: \"\";position: absolute;border-left: 1px solid gray;box-sizing: border-box;top: 0;bottom: 0;left: 50%;z-index: 0;}#sk-container-id-1 div.sk-serial {display: flex;flex-direction: column;align-items: center;background-color: white;padding-right: 0.2em;padding-left: 0.2em;position: relative;}#sk-container-id-1 div.sk-item {position: relative;z-index: 1;}#sk-container-id-1 div.sk-parallel {display: flex;align-items: stretch;justify-content: center;background-color: white;position: relative;}#sk-container-id-1 div.sk-item::before, #sk-container-id-1 div.sk-parallel-item::before {content: \"\";position: absolute;border-left: 1px solid gray;box-sizing: border-box;top: 0;bottom: 0;left: 50%;z-index: -1;}#sk-container-id-1 div.sk-parallel-item {display: flex;flex-direction: column;z-index: 1;position: relative;background-color: white;}#sk-container-id-1 div.sk-parallel-item:first-child::after {align-self: flex-end;width: 50%;}#sk-container-id-1 div.sk-parallel-item:last-child::after {align-self: flex-start;width: 50%;}#sk-container-id-1 div.sk-parallel-item:only-child::after {width: 0;}#sk-container-id-1 div.sk-dashed-wrapped {border: 1px dashed gray;margin: 0 0.4em 0.5em 0.4em;box-sizing: border-box;padding-bottom: 0.4em;background-color: white;}#sk-container-id-1 div.sk-label label {font-family: monospace;font-weight: bold;display: inline-block;line-height: 1.2em;}#sk-container-id-1 div.sk-label-container {text-align: center;}#sk-container-id-1 div.sk-container {/* jupyter's `normalize.less` sets `[hidden] { display: none; }` but bootstrap.min.css set `[hidden] { display: none !important; }` so we also need the `!important` here to be able to override the default hidden behavior on the sphinx rendered scikit-learn.org. See: https://github.com/scikit-learn/scikit-learn/issues/21755 */display: inline-block !important;position: relative;}#sk-container-id-1 div.sk-text-repr-fallback {display: none;}</style><div id=\"sk-container-id-1\" class=\"sk-top-container\"><div class=\"sk-text-repr-fallback\"><pre>PCA(n_components=5)</pre><b>In a Jupyter environment, please rerun this cell to show the HTML representation or trust the notebook. <br />On GitHub, the HTML representation is unable to render, please try loading this page with nbviewer.org.</b></div><div class=\"sk-container\" hidden><div class=\"sk-item\"><div class=\"sk-estimator sk-toggleable\"><input class=\"sk-toggleable__control sk-hidden--visually\" id=\"sk-estimator-id-1\" type=\"checkbox\" checked><label for=\"sk-estimator-id-1\" class=\"sk-toggleable__label sk-toggleable__label-arrow\">PCA</label><div class=\"sk-toggleable__content\"><pre>PCA(n_components=5)</pre></div></div></div></div></div>"
      ],
      "text/plain": [
       "PCA(n_components=5)"
      ]
     },
     "execution_count": 31,
     "metadata": {},
     "output_type": "execute_result"
    }
   ],
   "source": [
    "pca.fit(scaled_data)"
   ]
  },
  {
   "cell_type": "code",
   "execution_count": 32,
   "id": "d0dcfcf9-65c8-4399-87ca-0e7a7d2cc14d",
   "metadata": {},
   "outputs": [],
   "source": [
    "reduced_data = pca.transform(scaled_data)"
   ]
  },
  {
   "cell_type": "code",
   "execution_count": 33,
   "id": "18051617-ea73-437a-9bfd-39a82673e23b",
   "metadata": {},
   "outputs": [],
   "source": [
    "reduced_df = pd.DataFrame(data=reduced_data, columns=[f'PC{i+1}' for i in range(n_components)])"
   ]
  },
  {
   "cell_type": "code",
   "execution_count": 34,
   "id": "c938b2de-6e45-4092-a803-f7ad03e31f7a",
   "metadata": {},
   "outputs": [
    {
     "data": {
      "text/html": [
       "<div>\n",
       "<style scoped>\n",
       "    .dataframe tbody tr th:only-of-type {\n",
       "        vertical-align: middle;\n",
       "    }\n",
       "\n",
       "    .dataframe tbody tr th {\n",
       "        vertical-align: top;\n",
       "    }\n",
       "\n",
       "    .dataframe thead th {\n",
       "        text-align: right;\n",
       "    }\n",
       "</style>\n",
       "<table border=\"1\" class=\"dataframe\">\n",
       "  <thead>\n",
       "    <tr style=\"text-align: right;\">\n",
       "      <th></th>\n",
       "      <th>PC1</th>\n",
       "      <th>PC2</th>\n",
       "      <th>PC3</th>\n",
       "      <th>PC4</th>\n",
       "      <th>PC5</th>\n",
       "    </tr>\n",
       "  </thead>\n",
       "  <tbody>\n",
       "    <tr>\n",
       "      <th>0</th>\n",
       "      <td>-1.779442</td>\n",
       "      <td>1.157303</td>\n",
       "      <td>-1.386581</td>\n",
       "      <td>-0.044944</td>\n",
       "      <td>0.233885</td>\n",
       "    </tr>\n",
       "    <tr>\n",
       "      <th>1</th>\n",
       "      <td>-1.004185</td>\n",
       "      <td>2.071838</td>\n",
       "      <td>0.007759</td>\n",
       "      <td>0.466119</td>\n",
       "      <td>0.182454</td>\n",
       "    </tr>\n",
       "    <tr>\n",
       "      <th>2</th>\n",
       "      <td>-0.915783</td>\n",
       "      <td>1.393434</td>\n",
       "      <td>-0.699286</td>\n",
       "      <td>0.345292</td>\n",
       "      <td>0.095210</td>\n",
       "    </tr>\n",
       "    <tr>\n",
       "      <th>3</th>\n",
       "      <td>2.404077</td>\n",
       "      <td>-0.213792</td>\n",
       "      <td>0.066381</td>\n",
       "      <td>-0.889182</td>\n",
       "      <td>-1.524742</td>\n",
       "    </tr>\n",
       "    <tr>\n",
       "      <th>4</th>\n",
       "      <td>-1.779442</td>\n",
       "      <td>1.157303</td>\n",
       "      <td>-1.386581</td>\n",
       "      <td>-0.044944</td>\n",
       "      <td>0.233885</td>\n",
       "    </tr>\n",
       "    <tr>\n",
       "      <th>...</th>\n",
       "      <td>...</td>\n",
       "      <td>...</td>\n",
       "      <td>...</td>\n",
       "      <td>...</td>\n",
       "      <td>...</td>\n",
       "    </tr>\n",
       "    <tr>\n",
       "      <th>1594</th>\n",
       "      <td>-2.241991</td>\n",
       "      <td>0.599594</td>\n",
       "      <td>0.795827</td>\n",
       "      <td>0.441059</td>\n",
       "      <td>-0.312981</td>\n",
       "    </tr>\n",
       "    <tr>\n",
       "      <th>1595</th>\n",
       "      <td>-2.122456</td>\n",
       "      <td>-0.370101</td>\n",
       "      <td>2.138539</td>\n",
       "      <td>0.454564</td>\n",
       "      <td>0.104124</td>\n",
       "    </tr>\n",
       "    <tr>\n",
       "      <th>1596</th>\n",
       "      <td>-1.366265</td>\n",
       "      <td>-0.517561</td>\n",
       "      <td>1.250696</td>\n",
       "      <td>0.514505</td>\n",
       "      <td>0.195916</td>\n",
       "    </tr>\n",
       "    <tr>\n",
       "      <th>1597</th>\n",
       "      <td>-2.367147</td>\n",
       "      <td>0.703545</td>\n",
       "      <td>0.899482</td>\n",
       "      <td>0.661956</td>\n",
       "      <td>0.021380</td>\n",
       "    </tr>\n",
       "    <tr>\n",
       "      <th>1598</th>\n",
       "      <td>-0.288776</td>\n",
       "      <td>-1.240846</td>\n",
       "      <td>1.218095</td>\n",
       "      <td>-0.306325</td>\n",
       "      <td>0.231121</td>\n",
       "    </tr>\n",
       "  </tbody>\n",
       "</table>\n",
       "<p>1599 rows × 5 columns</p>\n",
       "</div>"
      ],
      "text/plain": [
       "           PC1       PC2       PC3       PC4       PC5\n",
       "0    -1.779442  1.157303 -1.386581 -0.044944  0.233885\n",
       "1    -1.004185  2.071838  0.007759  0.466119  0.182454\n",
       "2    -0.915783  1.393434 -0.699286  0.345292  0.095210\n",
       "3     2.404077 -0.213792  0.066381 -0.889182 -1.524742\n",
       "4    -1.779442  1.157303 -1.386581 -0.044944  0.233885\n",
       "...        ...       ...       ...       ...       ...\n",
       "1594 -2.241991  0.599594  0.795827  0.441059 -0.312981\n",
       "1595 -2.122456 -0.370101  2.138539  0.454564  0.104124\n",
       "1596 -1.366265 -0.517561  1.250696  0.514505  0.195916\n",
       "1597 -2.367147  0.703545  0.899482  0.661956  0.021380\n",
       "1598 -0.288776 -1.240846  1.218095 -0.306325  0.231121\n",
       "\n",
       "[1599 rows x 5 columns]"
      ]
     },
     "execution_count": 34,
     "metadata": {},
     "output_type": "execute_result"
    }
   ],
   "source": [
    "reduced_df"
   ]
  },
  {
   "cell_type": "code",
   "execution_count": 35,
   "id": "75b261df-c052-4c4c-9d32-b2df04f0cd4e",
   "metadata": {},
   "outputs": [
    {
     "name": "stdout",
     "output_type": "stream",
     "text": [
      "Minimum number of principal components to explain 90% of variance: 5\n"
     ]
    }
   ],
   "source": [
    "import numpy as np\n",
    "from sklearn.decomposition import PCA\n",
    "pca = PCA()\n",
    "pca.fit(reduced_df)\n",
    "\n",
    "# Calculate the cumulative explained variance\n",
    "cumulative_variance = np.cumsum(pca.explained_variance_ratio_)\n",
    "\n",
    "# Find the index where cumulative variance exceeds or equals 90%\n",
    "min_components = np.argmax(cumulative_variance >= 0.90) + 1\n",
    "\n",
    "print(f\"Minimum number of principal components to explain 90% of variance: {min_components}\")\n"
   ]
  },
  {
   "cell_type": "code",
   "execution_count": null,
   "id": "da9b771f-a507-480b-aff4-eb32ac97dc6d",
   "metadata": {},
   "outputs": [],
   "source": []
  }
 ],
 "metadata": {
  "kernelspec": {
   "display_name": "Python 3 (ipykernel)",
   "language": "python",
   "name": "python3"
  },
  "language_info": {
   "codemirror_mode": {
    "name": "ipython",
    "version": 3
   },
   "file_extension": ".py",
   "mimetype": "text/x-python",
   "name": "python",
   "nbconvert_exporter": "python",
   "pygments_lexer": "ipython3",
   "version": "3.10.8"
  }
 },
 "nbformat": 4,
 "nbformat_minor": 5
}
