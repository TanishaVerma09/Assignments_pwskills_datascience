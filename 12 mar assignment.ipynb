{
 "cells": [
  {
   "cell_type": "code",
   "execution_count": 1,
   "id": "7d17eb31-977e-40e4-aa5b-380a2ee50b26",
   "metadata": {},
   "outputs": [],
   "source": [
    "#Answer 1"
   ]
  },
  {
   "cell_type": "code",
   "execution_count": 2,
   "id": "fc409ea3-ac68-44e7-ae55-687761a78d42",
   "metadata": {},
   "outputs": [
    {
     "name": "stdout",
     "output_type": "stream",
     "text": [
      "Sample Mean: 50\n",
      "Sample Standard Deviation: 5\n",
      "Sample Size: 100\n",
      "Confidence Level: 0.95\n",
      "Margin of Error: 0.979981992270027\n",
      "95% Confidence Interval: [49.02, 50.98]\n"
     ]
    }
   ],
   "source": [
    "import scipy.stats as stats\n",
    "\n",
    "# Given data\n",
    "sample_mean = 50\n",
    "sample_std_dev = 5\n",
    "confidence_level = 0.95\n",
    "sample_size = 100  # You should replace this with your actual sample size\n",
    "\n",
    "# Calculate the standard error\n",
    "standard_error = sample_std_dev / (sample_size ** 0.5)\n",
    "\n",
    "# Calculate the margin of error\n",
    "margin_of_error = stats.norm.ppf((1 + confidence_level) / 2) * standard_error\n",
    "\n",
    "# Calculate the confidence interval\n",
    "lower_bound = sample_mean - margin_of_error\n",
    "upper_bound = sample_mean + margin_of_error\n",
    "\n",
    "# Print the results\n",
    "print(\"Sample Mean:\", sample_mean)\n",
    "print(\"Sample Standard Deviation:\", sample_std_dev)\n",
    "print(\"Sample Size:\", sample_size)\n",
    "print(\"Confidence Level:\", confidence_level)\n",
    "print(\"Margin of Error:\", margin_of_error)\n",
    "print(\"95% Confidence Interval: [{:.2f}, {:.2f}]\".format(lower_bound, upper_bound))\n"
   ]
  },
  {
   "cell_type": "code",
   "execution_count": 3,
   "id": "6ef246c8-9c6b-43fb-ae72-3a420a3a24a1",
   "metadata": {},
   "outputs": [],
   "source": [
    "#Answer 2"
   ]
  },
  {
   "cell_type": "code",
   "execution_count": 4,
   "id": "cc56856a-dbb4-4406-a196-96fb8b104265",
   "metadata": {},
   "outputs": [
    {
     "name": "stdout",
     "output_type": "stream",
     "text": [
      "Chi-Square Statistic: 2.5\n",
      "P-value: 0.7764950711233227\n",
      "Fail to reject the null hypothesis: The distribution of colors matches the expected distribution.\n"
     ]
    }
   ],
   "source": [
    "import numpy as np\n",
    "import scipy.stats as stats\n",
    "\n",
    "# Observed frequencies of colors in the bag (replace with your actual data)\n",
    "observed_frequencies = np.array([50, 45, 55, 30, 25, 45])  # Blue, Orange, Green, Yellow, Red, Brown\n",
    "\n",
    "# Expected distribution percentages\n",
    "expected_percentages = np.array([0.20, 0.20, 0.20, 0.10, 0.10, 0.20])\n",
    "\n",
    "# Calculate the expected frequencies based on the total observations\n",
    "total_observed = np.sum(observed_frequencies)\n",
    "expected_frequencies = expected_percentages * total_observed\n",
    "\n",
    "# Perform the chi-square goodness of fit test\n",
    "chi_square_statistic, p_value = stats.chisquare(observed_frequencies, f_exp=expected_frequencies)\n",
    "\n",
    "# Significance level\n",
    "significance_level = 0.05\n",
    "\n",
    "# Print the results\n",
    "print(\"Chi-Square Statistic:\", chi_square_statistic)\n",
    "print(\"P-value:\", p_value)\n",
    "\n",
    "if p_value < significance_level:\n",
    "    print(\"Reject the null hypothesis: The distribution of colors does not match the expected distribution.\")\n",
    "else:\n",
    "    print(\"Fail to reject the null hypothesis: The distribution of colors matches the expected distribution.\")\n"
   ]
  },
  {
   "cell_type": "code",
   "execution_count": 5,
   "id": "0c252542-3a66-4ccb-b813-556d1f492f00",
   "metadata": {},
   "outputs": [],
   "source": [
    "#Answer 3"
   ]
  },
  {
   "cell_type": "code",
   "execution_count": 6,
   "id": "97563676-e5b8-441a-ac1a-aefc5b65632f",
   "metadata": {},
   "outputs": [
    {
     "name": "stdout",
     "output_type": "stream",
     "text": [
      "Chi-Square Statistic: 21.3265306122449\n",
      "P-value: 2.3388518787339978e-05\n",
      "Degrees of Freedom: 2\n",
      "Expected Frequencies:\n",
      " [[12.89473684  9.21052632 12.89473684]\n",
      " [22.10526316 15.78947368 22.10526316]]\n",
      "Reject the null hypothesis: There is a significant association between the groups and outcomes.\n"
     ]
    }
   ],
   "source": [
    "import numpy as np\n",
    "import scipy.stats as stats\n",
    "\n",
    "# Create the contingency table\n",
    "contingency_table = np.array([[20, 0, 15],\n",
    "                              [15, 25, 20]])\n",
    "\n",
    "# Perform the chi-square test\n",
    "chi_square_statistic, p_value, dof, expected = stats.chi2_contingency(contingency_table)\n",
    "\n",
    "# Print the results\n",
    "print(\"Chi-Square Statistic:\", chi_square_statistic)\n",
    "print(\"P-value:\", p_value)\n",
    "print(\"Degrees of Freedom:\", dof)\n",
    "print(\"Expected Frequencies:\\n\", expected)\n",
    "\n",
    "# Determine whether to reject the null hypothesis\n",
    "significance_level = 0.05\n",
    "if p_value < significance_level:\n",
    "    print(\"Reject the null hypothesis: There is a significant association between the groups and outcomes.\")\n",
    "else:\n",
    "    print(\"Fail to reject the null hypothesis: There is no significant association between the groups and outcomes.\")\n"
   ]
  },
  {
   "cell_type": "code",
   "execution_count": 7,
   "id": "cad1feea-f1dc-4a59-b834-66431cfba6ba",
   "metadata": {},
   "outputs": [],
   "source": [
    "#Answer 4"
   ]
  },
  {
   "cell_type": "code",
   "execution_count": 10,
   "id": "fba8afd8-89e5-41dc-b9e0-c732f97690a8",
   "metadata": {},
   "outputs": [
    {
     "name": "stdout",
     "output_type": "stream",
     "text": [
      "Sample Proportion: 0.12\n",
      "95% Confidence Interval: [0.0915, 0.1485]\n"
     ]
    }
   ],
   "source": [
    "import statsmodels.api as sm\n",
    "\n",
    "# Given data\n",
    "total_population = 500\n",
    "sample_smokers = 60\n",
    "confidence_level = 0.95\n",
    "\n",
    "# Calculate the sample proportion\n",
    "sample_proportion = sample_smokers / total_population\n",
    "\n",
    "# Calculate the standard error\n",
    "standard_error = (sample_proportion * (1 - sample_proportion) / total_population) ** 0.5\n",
    "\n",
    "# Calculate the margin of error\n",
    "conf_interval = sm.stats.proportion_confint(sample_smokers, total_population, alpha=1-confidence_level, method='normal')\n",
    "margin_of_error = (conf_interval[1] - conf_interval[0]) / 2\n",
    "\n",
    "# Calculate the confidence interval\n",
    "lower_bound = sample_proportion - margin_of_error\n",
    "upper_bound = sample_proportion + margin_of_error\n",
    "\n",
    "# Print the results\n",
    "print(\"Sample Proportion:\", sample_proportion)\n",
    "print(\"95% Confidence Interval: [{:.4f}, {:.4f}]\".format(lower_bound, upper_bound))\n"
   ]
  },
  {
   "cell_type": "code",
   "execution_count": 11,
   "id": "d82719d3-427f-4066-91f8-144099407de1",
   "metadata": {},
   "outputs": [],
   "source": [
    "#Answer 5"
   ]
  },
  {
   "cell_type": "code",
   "execution_count": 12,
   "id": "73be7144-918b-49d1-a3be-aab03120a657",
   "metadata": {},
   "outputs": [
    {
     "name": "stdout",
     "output_type": "stream",
     "text": [
      "Sample Mean: 75\n",
      "Sample Standard Deviation: 12\n",
      "Sample Size: 100\n",
      "Confidence Level: 0.9\n",
      "Margin of Error: 1.9738243523417665\n",
      "90% Confidence Interval: [73.03, 76.97]\n"
     ]
    }
   ],
   "source": [
    "import scipy.stats as stats\n",
    "\n",
    "# Given data\n",
    "sample_mean = 75\n",
    "sample_std_dev = 12\n",
    "confidence_level = 0.90\n",
    "sample_size = 100  # You should replace this with your actual sample size\n",
    "\n",
    "# Calculate the standard error\n",
    "standard_error = sample_std_dev / (sample_size ** 0.5)\n",
    "\n",
    "# Calculate the margin of error\n",
    "margin_of_error = stats.norm.ppf((1 + confidence_level) / 2) * standard_error\n",
    "\n",
    "# Calculate the confidence interval\n",
    "lower_bound = sample_mean - margin_of_error\n",
    "upper_bound = sample_mean + margin_of_error\n",
    "\n",
    "# Print the results\n",
    "print(\"Sample Mean:\", sample_mean)\n",
    "print(\"Sample Standard Deviation:\", sample_std_dev)\n",
    "print(\"Sample Size:\", sample_size)\n",
    "print(\"Confidence Level:\", confidence_level)\n",
    "print(\"Margin of Error:\", margin_of_error)\n",
    "print(\"90% Confidence Interval: [{:.2f}, {:.2f}]\".format(lower_bound, upper_bound))\n"
   ]
  },
  {
   "cell_type": "markdown",
   "id": "f6d88301-3e4c-4a5a-bd6e-32fc66bd37cf",
   "metadata": {},
   "source": [
    "Interpretation:\n",
    "\n",
    "The sample mean is 75.\n",
    "The sample standard deviation is 12.\n",
    "The sample size is the number of data points in your sample.\n",
    "The confidence level is 90%, meaning that we are 90% confident that the true population mean falls within the calculated confidence interval.\n",
    "The margin of error represents the maximum amount by which the sample mean might differ from the true population mean.\n",
    "The 90% confidence interval is a range of values between which we believe the true population mean lies with 90% confidence.\n",
    "For example, if the calculated confidence interval is [70.89, 79.11], it means that we are 90% confident that the true population mean lies somewhere between 70.89 and 79.11 based on the given sample data."
   ]
  },
  {
   "cell_type": "code",
   "execution_count": 13,
   "id": "d21c8ffe-7ffe-45ec-9ced-3848f4570548",
   "metadata": {},
   "outputs": [],
   "source": [
    "#Answer 6"
   ]
  },
  {
   "cell_type": "code",
   "execution_count": 14,
   "id": "b63df233-b287-4f8b-8a10-168577638d80",
   "metadata": {},
   "outputs": [
    {
     "data": {
      "image/png": "[encoded data removed]",
      "text/plain": [
       "<Figure size 800x600 with 1 Axes>"
      ]
     },
     "metadata": {},
     "output_type": "display_data"
    }
   ],
   "source": [
    "import numpy as np\n",
    "import matplotlib.pyplot as plt\n",
    "import scipy.stats as stats\n",
    "\n",
    "# Degrees of freedom\n",
    "df = 10\n",
    "\n",
    "# Generate x values for the plot\n",
    "x = np.linspace(0, 30, 1000)\n",
    "\n",
    "# Calculate the chi-square distribution for the given degrees of freedom\n",
    "chi_squared = stats.chi2.pdf(x, df)\n",
    "\n",
    "# Create the plot\n",
    "plt.figure(figsize=(8, 6))\n",
    "plt.plot(x, chi_squared, label=f\"Chi-Square Distribution (df = {df})\")\n",
    "plt.fill_between(x, chi_squared, where=(x >= 0) & (x <= 15), color='skyblue', alpha=0.5, label='Area for Chi-Square Statistic of 15')\n",
    "plt.xlabel(\"Chi-Square Statistic\")\n",
    "plt.ylabel(\"Probability Density\")\n",
    "plt.title(\"Chi-Square Distribution with Shaded Area\")\n",
    "plt.axvline(x=15, color='red', linestyle='--', label='Chi-Square Statistic = 15')\n",
    "plt.legend()\n",
    "plt.grid(True)\n",
    "plt.show()\n"
   ]
  },
  {
   "cell_type": "code",
   "execution_count": 15,
   "id": "7863e85f-2c92-4051-9836-bf68cceb828f",
   "metadata": {},
   "outputs": [],
   "source": [
    "#Answer 7"
   ]
  },
  {
   "cell_type": "code",
   "execution_count": 16,
   "id": "b852cc6d-2bc9-441a-a016-71f5e6ebcbed",
   "metadata": {},
   "outputs": [
    {
     "name": "stdout",
     "output_type": "stream",
     "text": [
      "Sample Proportion: 0.52\n",
      "99% Confidence Interval: [0.4793, 0.5607]\n"
     ]
    }
   ],
   "source": [
    "import scipy.stats as stats\n",
    "\n",
    "# Given data\n",
    "sample_proportion = 520 / 1000\n",
    "confidence_level = 0.99\n",
    "sample_size = 1000\n",
    "\n",
    "# Calculate the critical value (Z) for the desired confidence level\n",
    "critical_value = stats.norm.ppf((1 + confidence_level) / 2)\n",
    "\n",
    "# Calculate the standard error\n",
    "standard_error = (sample_proportion * (1 - sample_proportion) / sample_size) ** 0.5\n",
    "\n",
    "# Calculate the margin of error\n",
    "margin_of_error = critical_value * standard_error\n",
    "\n",
    "# Calculate the confidence interval\n",
    "lower_bound = sample_proportion - margin_of_error\n",
    "upper_bound = sample_proportion + margin_of_error\n",
    "\n",
    "# Print the results\n",
    "print(\"Sample Proportion:\", sample_proportion)\n",
    "print(\"99% Confidence Interval: [{:.4f}, {:.4f}]\".format(lower_bound, upper_bound))\n"
   ]
  },
  {
   "cell_type": "code",
   "execution_count": 17,
   "id": "d33b9eaf-b9cd-46e2-b813-b8bfc131e5fe",
   "metadata": {},
   "outputs": [],
   "source": [
    "#Answer 8"
   ]
  },
  {
   "cell_type": "code",
   "execution_count": 18,
   "id": "05573798-36be-4867-ad4d-e0e5a5ba6579",
   "metadata": {},
   "outputs": [
    {
     "name": "stdout",
     "output_type": "stream",
     "text": [
      "Chi-Square Statistic: 0.0\n",
      "P-value: 1.0\n",
      "Fail to reject the null hypothesis: The observed frequencies match the expected frequencies.\n"
     ]
    }
   ],
   "source": [
    "import numpy as np\n",
    "import scipy.stats as stats\n",
    "\n",
    "# Given data\n",
    "observed_tails = 45\n",
    "total_flips = 100\n",
    "expected_heads = total_flips - observed_tails\n",
    "expected_tails = observed_tails\n",
    "\n",
    "# Expected frequencies for a fair coin\n",
    "expected_frequencies = np.array([expected_heads, expected_tails])\n",
    "\n",
    "# Observed frequencies from the data\n",
    "observed_frequencies = np.array([total_flips - observed_tails, observed_tails])\n",
    "\n",
    "# Perform the chi-square goodness of fit test\n",
    "chi_square_statistic, p_value = stats.chisquare(observed_frequencies, f_exp=expected_frequencies)\n",
    "\n",
    "# Significance level\n",
    "significance_level = 0.05\n",
    "\n",
    "# Print the results\n",
    "print(\"Chi-Square Statistic:\", chi_square_statistic)\n",
    "print(\"P-value:\", p_value)\n",
    "\n",
    "if p_value < significance_level:\n",
    "    print(\"Reject the null hypothesis: The observed frequencies do not match the expected frequencies.\")\n",
    "else:\n",
    "    print(\"Fail to reject the null hypothesis: The observed frequencies match the expected frequencies.\")\n"
   ]
  },
  {
   "cell_type": "code",
   "execution_count": 19,
   "id": "d5497dc9-83bb-48c2-96f7-7b52b1d2b76f",
   "metadata": {},
   "outputs": [],
   "source": [
    "#Answer 9"
   ]
  },
  {
   "cell_type": "code",
   "execution_count": 20,
   "id": "33b6a584-ac62-4022-8630-b887e9b3914b",
   "metadata": {},
   "outputs": [
    {
     "name": "stdout",
     "output_type": "stream",
     "text": [
      "Chi-Square Statistic: 12.057347670250895\n",
      "P-value: 0.0005158863863703744\n",
      "Degrees of Freedom: 1\n",
      "Expected Frequencies:\n",
      " [[ 45.  45.]\n",
      " [155. 155.]]\n",
      "Reject the null hypothesis: There is a significant association between smoking status and lung cancer diagnosis.\n"
     ]
    }
   ],
   "source": [
    "import numpy as np\n",
    "import scipy.stats as stats\n",
    "\n",
    "# Given data\n",
    "observed_frequencies = np.array([[60, 30],\n",
    "                                 [140, 170]])\n",
    "\n",
    "# Perform the chi-square test for independence\n",
    "chi_square_statistic, p_value, dof, expected = stats.chi2_contingency(observed_frequencies)\n",
    "\n",
    "# Significance level\n",
    "significance_level = 0.05\n",
    "\n",
    "# Print the results\n",
    "print(\"Chi-Square Statistic:\", chi_square_statistic)\n",
    "print(\"P-value:\", p_value)\n",
    "print(\"Degrees of Freedom:\", dof)\n",
    "print(\"Expected Frequencies:\\n\", expected)\n",
    "\n",
    "if p_value < significance_level:\n",
    "    print(\"Reject the null hypothesis: There is a significant association between smoking status and lung cancer diagnosis.\")\n",
    "else:\n",
    "    print(\"Fail to reject the null hypothesis: There is no significant association between smoking status and lung cancer diagnosis.\")\n"
   ]
  },
  {
   "cell_type": "code",
   "execution_count": 21,
   "id": "f9153d01-0bd9-4c2c-8c26-759efc24e5cf",
   "metadata": {},
   "outputs": [],
   "source": [
    "#Answer 10"
   ]
  },
  {
   "cell_type": "code",
   "execution_count": 22,
   "id": "8e4aed6f-a48a-4607-9410-4d26641e82c0",
   "metadata": {},
   "outputs": [
    {
     "name": "stdout",
     "output_type": "stream",
     "text": [
      "Chi-Square Statistic: 13.393665158371041\n",
      "P-value: 0.0012348168997745918\n",
      "Degrees of Freedom: 2\n",
      "Expected Frequencies:\n",
      " [[212.5 212.5]\n",
      " [162.5 162.5]\n",
      " [125.  125. ]]\n",
      "Reject the null hypothesis: There is a significant association between chocolate preference and country of origin.\n"
     ]
    }
   ],
   "source": [
    "import numpy as np\n",
    "import scipy.stats as stats\n",
    "\n",
    "# Given data\n",
    "observed_frequencies = np.array([[200, 225],\n",
    "                                 [150, 175],\n",
    "                                 [150, 100]])\n",
    "\n",
    "# Perform the chi-square test for independence\n",
    "chi_square_statistic, p_value, dof, expected = stats.chi2_contingency(observed_frequencies)\n",
    "\n",
    "# Significance level\n",
    "significance_level = 0.01\n",
    "\n",
    "# Print the results\n",
    "print(\"Chi-Square Statistic:\", chi_square_statistic)\n",
    "print(\"P-value:\", p_value)\n",
    "print(\"Degrees of Freedom:\", dof)\n",
    "print(\"Expected Frequencies:\\n\", expected)\n",
    "\n",
    "if p_value < significance_level:\n",
    "    print(\"Reject the null hypothesis: There is a significant association between chocolate preference and country of origin.\")\n",
    "else:\n",
    "    print(\"Fail to reject the null hypothesis: There is no significant association between chocolate preference and country of origin.\")\n"
   ]
  },
  {
   "cell_type": "code",
   "execution_count": 23,
   "id": "ccaf993b-ebf5-4a29-9ca5-d02fa652c835",
   "metadata": {},
   "outputs": [],
   "source": [
    "#Answer 11"
   ]
  },
  {
   "cell_type": "code",
   "execution_count": 24,
   "id": "eef980fc-ec7b-494e-a8b9-6cc2833babe2",
   "metadata": {},
   "outputs": [
    {
     "name": "stdout",
     "output_type": "stream",
     "text": [
      "Fail to reject the null hypothesis: There is not enough evidence to conclude that the population mean is significantly different from 70.\n",
      "t-statistic: 1.0954451150103321\n",
      "Critical t-value: 2.045229642132703\n"
     ]
    }
   ],
   "source": [
    "import scipy.stats as stats\n",
    "\n",
    "# Given data\n",
    "sample_mean = 72\n",
    "sample_std_dev = 10\n",
    "sample_size = 30\n",
    "population_mean = 70\n",
    "significance_level = 0.05\n",
    "\n",
    "# Calculate the standard error\n",
    "standard_error = sample_std_dev / (sample_size ** 0.5)\n",
    "\n",
    "# Calculate the t-statistic\n",
    "t_statistic = (sample_mean - population_mean) / standard_error\n",
    "\n",
    "# Degrees of freedom for a one-sample t-test\n",
    "degrees_of_freedom = sample_size - 1\n",
    "\n",
    "# Calculate the critical t-value\n",
    "critical_t_value = stats.t.ppf(1 - significance_level / 2, df=degrees_of_freedom)\n",
    "\n",
    "# Perform the hypothesis test\n",
    "if abs(t_statistic) > critical_t_value:\n",
    "    print(\"Reject the null hypothesis: The population mean is significantly different from 70.\")\n",
    "else:\n",
    "    print(\"Fail to reject the null hypothesis: There is not enough evidence to conclude that the population mean is significantly different from 70.\")\n",
    "    \n",
    "print(\"t-statistic:\", t_statistic)\n",
    "print(\"Critical t-value:\", critical_t_value)\n"
   ]
  },
  {
   "cell_type": "code",
   "execution_count": null,
   "id": "d2d3fea6-b21b-4c45-aa04-b82f04748375",
   "metadata": {},
   "outputs": [],
   "source": []
  }
 ],
 "metadata": {
  "kernelspec": {
   "display_name": "Python 3 (ipykernel)",
   "language": "python",
   "name": "python3"
  },
  "language_info": {
   "codemirror_mode": {
    "name": "ipython",
    "version": 3
   },
   "file_extension": ".py",
   "mimetype": "text/x-python",
   "name": "python",
   "nbconvert_exporter": "python",
   "pygments_lexer": "ipython3",
   "version": "3.10.8"
  }
 },
 "nbformat": 4,
 "nbformat_minor": 5
}
