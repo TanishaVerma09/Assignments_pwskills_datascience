{
 "cells": [
  {
   "cell_type": "code",
   "execution_count": 1,
   "id": "7c4a96df-6a7a-4fe9-be78-108f72e2425a",
   "metadata": {},
   "outputs": [],
   "source": [
    "#Answer 1"
   ]
  },
  {
   "cell_type": "code",
   "execution_count": 7,
   "id": "4c87750b-07c6-44fb-8637-a5ba0b29af4d",
   "metadata": {},
   "outputs": [],
   "source": [
    "def check_password(password):\n",
    "    # Check length\n",
    "    if len(password) != 10:\n",
    "        return \"Invalid Password\"\n",
    "\n",
    "    # Count uppercase and lowercase letters\n",
    "    uppercase_count = sum(1 for char in password if char.isupper())\n",
    "    lowercase_count = sum(1 for char in password if char.islower())\n",
    "\n",
    "    # Count numbers and special characters\n",
    "    numbers_count = sum(1 for char in password if char.isdigit())\n",
    "    special_count = sum(1 for char in password if not char.isalnum())\n",
    "\n",
    "    # Check if all requirements are met\n",
    "    if uppercase_count >= 2 and lowercase_count >= 2 and numbers_count >= 1 and special_count >= 3:\n",
    "        return \"Valid Password\"\n",
    "    else:\n",
    "        return \"Invalid Password\"\n"
   ]
  },
  {
   "cell_type": "code",
   "execution_count": 8,
   "id": "34f9535b-a50c-4ea3-9b77-6a5eb4a7f0c6",
   "metadata": {},
   "outputs": [
    {
     "name": "stdin",
     "output_type": "stream",
     "text": [
      "Enter your password:  TAni@#$099\n"
     ]
    },
    {
     "name": "stdout",
     "output_type": "stream",
     "text": [
      "Valid Password\n"
     ]
    }
   ],
   "source": [
    "password = input(\"Enter your password: \")\n",
    "result = check_password(password)\n",
    "print(result)\n"
   ]
  },
  {
   "cell_type": "code",
   "execution_count": 6,
   "id": "50501c61-f3f6-43c1-8705-25d16f3a586f",
   "metadata": {},
   "outputs": [],
   "source": [
    "#Answer 2"
   ]
  },
  {
   "cell_type": "markdown",
   "id": "cfb6511f-e141-4f15-96ce-875d2c838901",
   "metadata": {},
   "source": [
    "Check if the string starts with a particular letter Y"
   ]
  },
  {
   "cell_type": "code",
   "execution_count": 14,
   "id": "bc7dc495-f3da-4d24-bba8-308c2233ed75",
   "metadata": {},
   "outputs": [
    {
     "name": "stdout",
     "output_type": "stream",
     "text": [
      "True\n"
     ]
    }
   ],
   "source": [
    "starts_with_Y = lambda s: s.startswith('Y')\n",
    "\n",
    "\n",
    "string1 = \"Yellow\"\n",
    "print(starts_with_Y(string1)) \n",
    "\n"
   ]
  },
  {
   "cell_type": "markdown",
   "id": "e60ff305-8be8-4b1a-9978-60640e84d465",
   "metadata": {},
   "source": [
    "Check if the string is numeric"
   ]
  },
  {
   "cell_type": "code",
   "execution_count": 20,
   "id": "45362a2b-7e20-45a1-a1e2-74af9d43656a",
   "metadata": {},
   "outputs": [
    {
     "name": "stdout",
     "output_type": "stream",
     "text": [
      "True\n",
      "False\n"
     ]
    }
   ],
   "source": [
    "is_numeric = lambda s: s.isdigit()\n",
    "\n",
    "print(is_numeric(\"12345\"))  \n",
    "print(is_numeric(\"abc\"))    \n"
   ]
  },
  {
   "cell_type": "markdown",
   "id": "1ec5fa48-8879-4b03-a775-0d9eb4cb1223",
   "metadata": {},
   "source": [
    "Sort a list of tuples having fruit names and their quantity. [(\"mango\",99),(\"orange\",80), (\"grapes\", 1000)]"
   ]
  },
  {
   "cell_type": "code",
   "execution_count": 21,
   "id": "e5ff49ae-e2a2-43a8-88db-78522e883ec8",
   "metadata": {},
   "outputs": [
    {
     "name": "stdout",
     "output_type": "stream",
     "text": [
      "[('orange', 80), ('mango', 99), ('grapes', 1000)]\n"
     ]
    }
   ],
   "source": [
    "fruits = [(\"mango\", 99), (\"orange\", 80), (\"grapes\", 1000)]\n",
    "\n",
    "sorted_fruits = sorted(fruits, key=lambda x: x[1])\n",
    "\n",
    "print(sorted_fruits)\n"
   ]
  },
  {
   "cell_type": "markdown",
   "id": "6157d6d4-3907-4c3a-abfc-3981188aaf0a",
   "metadata": {},
   "source": [
    "Find the squares of numbers from 1 to 10"
   ]
  },
  {
   "cell_type": "code",
   "execution_count": 25,
   "id": "495ac716-fb63-41a9-8cf7-17826e99a762",
   "metadata": {},
   "outputs": [
    {
     "data": {
      "text/plain": [
       "[1, 4, 9, 16, 25, 36, 49, 64, 81, 100]"
      ]
     },
     "execution_count": 25,
     "metadata": {},
     "output_type": "execute_result"
    }
   ],
   "source": [
    "[x**2 for x in range(1,11) ]"
   ]
  },
  {
   "cell_type": "markdown",
   "id": "a29d6dc4-fc74-4370-8ff6-626834d09ffe",
   "metadata": {},
   "source": [
    "Find the cube root of numbers from 1 to 10"
   ]
  },
  {
   "cell_type": "code",
   "execution_count": 26,
   "id": "fb5021b4-97fe-4e56-a021-673414f7aefb",
   "metadata": {},
   "outputs": [
    {
     "data": {
      "text/plain": [
       "[1, 8, 27, 64, 125, 216, 343, 512, 729, 1000]"
      ]
     },
     "execution_count": 26,
     "metadata": {},
     "output_type": "execute_result"
    }
   ],
   "source": [
    "[x**3 for x in range(1,11) ]"
   ]
  },
  {
   "cell_type": "markdown",
   "id": "b8d23cba-fa69-419b-8bcd-ad2e3f7404fd",
   "metadata": {},
   "source": [
    "Check if a given number is even"
   ]
  },
  {
   "cell_type": "code",
   "execution_count": 29,
   "id": "2869a410-c416-4a08-90ee-f5151a96b5df",
   "metadata": {},
   "outputs": [
    {
     "name": "stdout",
     "output_type": "stream",
     "text": [
      "True\n"
     ]
    }
   ],
   "source": [
    "is_even=lambda x: x%2==0\n",
    "print(is_even(4))"
   ]
  },
  {
   "cell_type": "markdown",
   "id": "bdc9421f-d5c8-449a-a6ac-b7576b11f3f6",
   "metadata": {},
   "source": [
    "Filter odd numbers from the given list.\n",
    "[1,2,3,4,5,6,7,8,9,10]"
   ]
  },
  {
   "cell_type": "code",
   "execution_count": 30,
   "id": "4a993ff3-58b4-4856-90af-3ae5c1cbedd4",
   "metadata": {},
   "outputs": [
    {
     "data": {
      "text/plain": [
       "[3, 6, 9]"
      ]
     },
     "execution_count": 30,
     "metadata": {},
     "output_type": "execute_result"
    }
   ],
   "source": [
    "lst=[1,2,3,4,5,6,7,8,9,10]\n",
    "[x for x in lst if x%3==0]"
   ]
  },
  {
   "cell_type": "markdown",
   "id": "30727e35-4023-4e8b-b933-95c6fe02fb45",
   "metadata": {},
   "source": [
    "Sort a list of integers into positive and negative integers lists.\n",
    "[1,2,3,4,5,6,-1,-2,-3,-4,-5,0]"
   ]
  },
  {
   "cell_type": "code",
   "execution_count": 31,
   "id": "d598c872-c0db-42d4-b2cc-de9479d045a3",
   "metadata": {},
   "outputs": [
    {
     "name": "stdout",
     "output_type": "stream",
     "text": [
      "[1, 2, 3, 4, 5, 6, 0]\n",
      "[-1, -2, -3, -4, -5]\n"
     ]
    }
   ],
   "source": [
    "list=[1,2,3,4,5,6,-1,-2,-3,-4,-5,0]\n",
    "list_pos=[x for x in list if x>=0]\n",
    "list_neg=[x for x in list if x<0]\n",
    "print(list_pos)\n",
    "print(list_neg)\n"
   ]
  },
  {
   "cell_type": "code",
   "execution_count": null,
   "id": "d2ca6f0e-0545-4ffb-b1e8-2361184e38bb",
   "metadata": {},
   "outputs": [],
   "source": []
  }
 ],
 "metadata": {
  "kernelspec": {
   "display_name": "Python 3 (ipykernel)",
   "language": "python",
   "name": "python3"
  },
  "language_info": {
   "codemirror_mode": {
    "name": "ipython",
    "version": 3
   },
   "file_extension": ".py",
   "mimetype": "text/x-python",
   "name": "python",
   "nbconvert_exporter": "python",
   "pygments_lexer": "ipython3",
   "version": "3.10.8"
  }
 },
 "nbformat": 4,
 "nbformat_minor": 5
}
