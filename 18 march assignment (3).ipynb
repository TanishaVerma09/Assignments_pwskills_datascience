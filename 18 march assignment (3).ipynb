{
 "cells": [
  {
   "cell_type": "raw",
   "id": "856700ba-f2c9-42db-a3cd-570327d48068",
   "metadata": {},
   "source": [
    "## It will be covered later  as told by sir in class"
   ]
  },
  {
   "cell_type": "raw",
   "id": "2d0f88cc-14a3-45b9-8d99-11c4071d9820",
   "metadata": {},
   "source": []
  }
 ],
 "metadata": {
  "kernelspec": {
   "display_name": "Python 3 (ipykernel)",
   "language": "python",
   "name": "python3"
  },
  "language_info": {
   "codemirror_mode": {
    "name": "ipython",
    "version": 3
   },
   "file_extension": ".py",
   "mimetype": "text/x-python",
   "name": "python",
   "nbconvert_exporter": "python",
   "pygments_lexer": "ipython3",
   "version": "3.10.8"
  }
 },
 "nbformat": 4,
 "nbformat_minor": 5
}
