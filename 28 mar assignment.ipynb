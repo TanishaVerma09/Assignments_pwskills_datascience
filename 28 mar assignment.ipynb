{
 "cells": [
  {
   "cell_type": "code",
   "execution_count": 1,
   "id": "e99a24e3-aae8-4566-a0b5-70e961348615",
   "metadata": {},
   "outputs": [],
   "source": [
    "#Answer 1\n",
    "# What is Ridge Regression, and how does it differ from ordinary least squares regression?"
   ]
  },
  {
   "cell_type": "markdown",
   "id": "667856e4-8c1e-4c0a-a6c1-9ebe3e65b66a",
   "metadata": {},
   "source": [
    "Ridge Regression, also known as Tikhonov regularization or L2 regularization, is a technique used in statistical modeling and machine learning to address the issues of multicollinearity and overfitting in linear regression models. It is an extension of the ordinary least squares (OLS) regression method.\n",
    "\n",
    "In ordinary least squares regression, the goal is to find the coefficients of the regression equation that minimize the sum of the squared differences between the observed values and the predicted values. However, when dealing with datasets that have multicollinearity (high correlation between predictor variables) or a large number of predictors relative to the number of observations, the OLS method can produce unstable and unreliable coefficient estimates.\n",
    "\n",
    "Ridge Regression introduces a regularization term to the linear regression equation, which penalizes large coefficients. The regularization term is a multiple of the L2 norm (Euclidean norm) of the coefficient vector, and it is added to the least squares objective function. The resulting Ridge Regression objective function is as follows:\n",
    "\n",
    "Objective = Sum of squared differences + λ * ||coefficients||²\n",
    "\n",
    "Here, λ (lambda) is the regularization parameter that controls the strength of the regularization. A higher value of λ leads to greater regularization and more shrinkage of coefficient values toward zero.\n",
    "\n",
    "Differences between Ridge Regression and Ordinary Least Squares Regression:\n",
    "\n",
    "Regularization: Ridge Regression adds a regularization term to the least squares objective function, while OLS does not have any regularization. This regularization term encourages smaller coefficient values.\n",
    "\n",
    "Shrinkage: Ridge Regression applies shrinkage to the coefficient estimates by forcing them to be smaller. This helps mitigate the impact of multicollinearity and reduces the tendency to overfit the data.\n",
    "\n",
    "Multicollinearity: Ridge Regression can handle multicollinearity more effectively than OLS by stabilizing the coefficient estimates. This is because the regularization term prevents coefficients from becoming too large, even when predictors are highly correlated.\n",
    "\n",
    "Bias-Variance Trade-off: Ridge Regression introduces a bias in the coefficient estimates in exchange for reduced variance. This can lead to better generalization to new data points.\n",
    "\n",
    "Solution: While OLS has a closed-form solution, Ridge Regression requires numerical optimization techniques to find the optimal coefficients. However, these optimization techniques are readily available in most machine learning libraries.\n",
    "\n",
    "Coefficient Shrinkage: In Ridge Regression, the magnitude of the coefficients is reduced but not set exactly to zero (except in cases of perfect multicollinearity). This means that Ridge Regression retains all the predictors in the model but with reduced impact on the outcome.\n",
    "\n",
    "In summary, Ridge Regression is a technique used to improve the stability and generalization performance of linear regression models by adding a regularization term to the least squares objective function. This regularization helps address multicollinearity issues and prevents overfitting by shrinking the coefficients.\n",
    "\n",
    "\n",
    "\n",
    "\n",
    "\n"
   ]
  },
  {
   "cell_type": "code",
   "execution_count": 2,
   "id": "08a3a794-72c9-49d0-8e31-75c7c58c62a8",
   "metadata": {},
   "outputs": [],
   "source": [
    "#Answer 2\n",
    "# What are the assumptions of Ridge Regression?"
   ]
  },
  {
   "cell_type": "markdown",
   "id": "c0d86309-ed86-4d0e-9f7a-46709e449e27",
   "metadata": {},
   "source": [
    "Ridge Regression is an extension of ordinary least squares (OLS) regression, and it shares many of the same assumptions with OLS. However, due to the introduction of the regularization term, Ridge Regression also has additional assumptions related to the regularization process. Here are the main assumptions of Ridge Regression:\n",
    "\n",
    "Linearity: The relationship between the predictor variables and the response variable is assumed to be linear. Ridge Regression, like OLS, operates under the assumption that the true relationship can be adequately approximated by a linear equation.\n",
    "\n",
    "Independence: The observations are assumed to be independent of each other. This assumption ensures that the errors for different observations are not systematically related.\n",
    "\n",
    "Homoscedasticity: The variance of the errors (residuals) should be constant across all levels of the predictor variables. In Ridge Regression, this assumption applies similarly to the residuals of the model.\n",
    "\n",
    "Multicollinearity: While Ridge Regression is specifically used to address multicollinearity, it is still assumed that multicollinearity may be present to some extent in the dataset. The regularization term helps stabilize the coefficient estimates when multicollinearity is present.\n",
    "\n",
    "Normality of Errors: Ridge Regression, like OLS, assumes that the errors (residuals) of the model are normally distributed. However, Ridge Regression is generally more robust to violations of this assumption compared to OLS due to the regularization effect.\n",
    "\n",
    "Zero-Centered Predictors: For the regularization term to work effectively, the predictor variables should be centered around zero. This means that the mean of each predictor variable should be subtracted from its individual values.\n",
    "\n",
    "Independently Distributed Errors: The errors are assumed to be independently and identically distributed (i.i.d.) with a mean of zero and constant variance. This assumption is important for the reliability of statistical inference.\n",
    "\n",
    "Regularization Parameter: The regularization parameter (λ) should be appropriately chosen. This parameter controls the trade-off between fitting the data well and regularizing the coefficients. The choice of λ can impact the effectiveness of Ridge Regression in terms of reducing overfitting and improving generalization.\n",
    "\n",
    "It's important to note that while these assumptions provide a foundation for Ridge Regression, it is possible to apply Ridge Regression even when some of these assumptions are not fully met. Ridge Regression's regularization property often makes it more robust to certain violations of assumptions, such as multicollinearity and non-normality of errors. However, as with any statistical method, careful consideration of the assumptions and their potential impact on the results is essential.\n",
    "\n",
    "\n",
    "\n",
    "\n",
    "\n"
   ]
  },
  {
   "cell_type": "code",
   "execution_count": 3,
   "id": "38a247fd-8600-46b8-ad6b-8fa399634ba6",
   "metadata": {},
   "outputs": [],
   "source": [
    "#Answer 3\n",
    "# How do you select the value of the tuning parameter (lambda) in Ridge Regression?"
   ]
  },
  {
   "cell_type": "markdown",
   "id": "b9ff14ed-27da-41d8-850b-76dff2bc2a84",
   "metadata": {},
   "source": [
    "Selecting the optimal value of the tuning parameter (λ) in Ridge Regression is crucial for achieving the right balance between fitting the model to the data and controlling the regularization strength. The goal is to choose a value of λ that minimizes the overall prediction error, often assessed using techniques like cross-validation. Here are some common approaches to selecting the value of λ in Ridge Regression:\n",
    "\n",
    "Grid Search: One of the simplest methods is to perform a grid search over a range of λ values. You specify a set of potential λ values and then evaluate the model's performance (e.g., using cross-validation) for each value. The λ that results in the best performance (e.g., lowest cross-validated error) is chosen as the optimal λ.\n",
    "\n",
    "Cross-Validation: Cross-validation is a widely used technique to estimate a model's performance on new, unseen data. One common approach is k-fold cross-validation. In Ridge Regression, you split your dataset into k subsets (folds), and in each iteration, you train the model on k-1 folds and validate it on the remaining fold. This process is repeated for different values of λ, and the λ that yields the best average validation performance across all folds is selected.\n",
    "\n",
    "Leave-One-Out Cross-Validation (LOOCV): This is a special case of k-fold cross-validation where each data point serves as its own validation set, while the rest of the data is used for training. LOOCV can be computationally expensive, but it provides an unbiased estimate of model performance.\n",
    "\n",
    "Information Criteria: Information criteria, such as Akaike Information Criterion (AIC) and Bayesian Information Criterion (BIC), provide a quantitative measure of model fit while penalizing the number of parameters. In Ridge Regression, you could use these criteria to help choose an appropriate λ.\n",
    "\n",
    "Regularization Path: You can compute the coefficients of the Ridge Regression model for a range of λ values and plot how the coefficients change as λ varies. This visualization, known as the \"regularization path,\" can help you understand the impact of regularization on different coefficients and might guide you in selecting an appropriate value of λ.\n",
    "\n",
    "Nested Cross-Validation: If you're using cross-validation to select λ, it's important to avoid bias in the estimate of performance. Nested cross-validation involves an outer loop for model selection (choosing λ) and an inner loop for performance estimation (cross-validation to estimate prediction error).\n",
    "\n",
    "Use of Domain Knowledge: In some cases, domain knowledge or prior information about the problem can guide the choice of λ. If you have a good understanding of the relationship between variables and the potential range of coefficient magnitudes, you might choose λ accordingly.\n",
    "\n",
    "It's important to note that the choice of λ depends on the specific dataset and problem at hand. While methods like cross-validation are widely used, there's no one-size-fits-all answer. It's a good practice to try different methods and ranges of λ values to ensure robustness in your model selection process.\n",
    "\n",
    "\n",
    "\n",
    "\n",
    "\n"
   ]
  },
  {
   "cell_type": "code",
   "execution_count": 4,
   "id": "35b1cd7a-0884-4238-b32c-4fecb7335c88",
   "metadata": {},
   "outputs": [],
   "source": [
    "#Answer 4\n",
    "# Can Ridge Regression be used for feature selection? If yes, how?"
   ]
  },
  {
   "cell_type": "markdown",
   "id": "93bed960-257d-43d9-a0b4-cd25e650bfdd",
   "metadata": {},
   "source": [
    "Yes, Ridge Regression can be used as a form of feature selection, although it approaches feature selection differently compared to methods that explicitly aim to select a subset of features. Ridge Regression, by design, does not lead to exactly zero coefficients for any feature (except in cases of perfect multicollinearity). However, it can still indirectly perform feature selection by shrinking the coefficients of less important features toward zero.\n",
    "\n",
    "Here's how Ridge Regression can be used for feature selection:\n",
    "\n",
    "Coefficient Shrinking: Ridge Regression penalizes large coefficient values, which means that it reduces the impact of less important features on the outcome. As the value of the regularization parameter (λ) increases, the coefficients of less relevant features approach zero. This essentially reduces the influence of those features on the model.\n",
    "\n",
    "Relative Importance: The magnitude of the coefficients after Ridge Regression indicates the relative importance of each feature in predicting the response variable. Features with larger post-regularization coefficients are considered more important, while those with smaller coefficients are less important.\n",
    "\n",
    "Regularization Path: By examining the regularization path (how coefficients change across a range of λ values), you can identify the point at which certain coefficients become very small. This point indicates where features are effectively being excluded from the model due to the strong regularization.\n",
    "\n",
    "Comparative Analysis: You can fit Ridge Regression models with different values of λ and compare the resulting coefficients. This allows you to observe which features consistently have larger coefficients across multiple regularization levels, suggesting their importance.\n",
    "\n",
    "Domain Knowledge: While Ridge Regression doesn't entirely eliminate features, you can still make informed decisions about which features to include or exclude based on a combination of domain knowledge and the regularization path analysis.\n",
    "\n",
    "It's important to note that Ridge Regression's approach to feature selection is different from techniques like Lasso Regression (L1 regularization), which can drive coefficients exactly to zero and thus perform more explicit feature selection. If your primary goal is aggressive feature selection, Lasso Regression might be a more suitable choice. Alternatively, you can also consider Elastic Net Regression, which combines both L1 and L2 regularization to strike a balance between coefficient shrinkage and feature selection.\n",
    "\n",
    "In summary, while Ridge Regression doesn't lead to true feature selection in the sense of eliminating features entirely, it can still be used for feature selection by reducing the impact of less important features and highlighting the most influential ones. The choice of Ridge Regression versus other regularization techniques depends on the specific goals and characteristics of your dataset.\n",
    "\n",
    "\n",
    "\n",
    "\n",
    "\n"
   ]
  },
  {
   "cell_type": "code",
   "execution_count": 5,
   "id": "1287ca17-ac26-4249-9fbc-927e031e6af8",
   "metadata": {},
   "outputs": [],
   "source": [
    "#Answer 5\n",
    "# How does the Ridge Regression model perform in the presence of multicollinearity?"
   ]
  },
  {
   "cell_type": "markdown",
   "id": "f0fee883-caab-415a-8216-f50bb1ee3947",
   "metadata": {},
   "source": [
    "Ridge Regression is particularly useful in the presence of multicollinearity, a situation where predictor variables are highly correlated with each other. In fact, one of the primary motivations for using Ridge Regression is to address the issues caused by multicollinearity in linear regression models. Here's how Ridge Regression performs in the presence of multicollinearity:\n",
    "\n",
    "Stability of Coefficient Estimates: In the presence of multicollinearity, the coefficients estimated by ordinary least squares (OLS) regression can become highly sensitive to small changes in the data. Ridge Regression introduces a regularization term that prevents the coefficients from becoming too large. This helps stabilize the coefficient estimates, making them less sensitive to fluctuations in the data caused by multicollinearity.\n",
    "\n",
    "Reduced Variance: Multicollinearity can inflate the variance of coefficient estimates in OLS regression. Ridge Regression's regularization term reduces this variance, which in turn can lead to more reliable and interpretable coefficient estimates.\n",
    "\n",
    "Shrinkage towards Zero: The regularization term in Ridge Regression pushes the coefficient estimates towards zero. While it doesn't typically set coefficients exactly to zero (except in cases of perfect multicollinearity), it does significantly reduce the impact of less important predictors. This means that Ridge Regression effectively assigns more equal importance to correlated predictors, which can help mitigate the problems caused by multicollinearity.\n",
    "\n",
    "Improved Generalization: Ridge Regression's ability to reduce overfitting is particularly valuable when multicollinearity is present. By controlling the magnitudes of coefficients, Ridge Regression can improve the model's generalization performance to new, unseen data.\n",
    "\n",
    "Handling Correlated Predictors: Ridge Regression is designed to handle cases where predictors are correlated with each other. Unlike OLS, which can produce unstable or unreliable estimates in the presence of high multicollinearity, Ridge Regression remains stable and can still provide meaningful results.\n",
    "\n",
    "Impact on Prediction: Ridge Regression's regularization can sometimes lead to a slight bias in the coefficient estimates. However, this bias is often outweighed by the reduction in variance, resulting in improved overall prediction accuracy.\n",
    "\n",
    "Tuning Parameter: The choice of the regularization parameter (λ) in Ridge Regression also plays a role. By increasing λ, you can increase the degree of regularization and further mitigate the impact of multicollinearity.\n",
    "\n",
    "It's important to note that while Ridge Regression is effective in handling multicollinearity, it doesn't eliminate the need for proper data preprocessing and feature engineering. If multicollinearity is suspected, it's still a good practice to explore and potentially address the issue through techniques like feature scaling, dimensionality reduction, or even domain-specific knowledge. However, Ridge Regression provides a robust modeling approach in scenarios where multicollinearity is a concern.\n",
    "\n",
    "\n",
    "\n",
    "\n",
    "\n"
   ]
  },
  {
   "cell_type": "code",
   "execution_count": 6,
   "id": "415008fb-0d3e-4961-b1bb-26fcb2699d2e",
   "metadata": {},
   "outputs": [],
   "source": [
    "#Answer 6\n",
    "# Can Ridge Regression handle both categorical and continuous independent variables?"
   ]
  },
  {
   "cell_type": "markdown",
   "id": "1e1be448-9ab9-464a-8299-8c3bf38bccc5",
   "metadata": {},
   "source": [
    "Yes, Ridge Regression can handle both categorical and continuous independent variables, but some additional considerations and steps might be needed for dealing with categorical variables.\n",
    "\n",
    "Here's how Ridge Regression can be applied when you have a mix of categorical and continuous independent variables:\n",
    "\n",
    "Continuous Variables: Continuous independent variables can be directly included in the Ridge Regression model without any special preprocessing. The regularization process will shrink the coefficients of these variables as needed.\n",
    "\n",
    "Categorical Variables: Categorical variables, which have discrete values representing different categories, need to be converted into numerical format before being used in Ridge Regression. This conversion is typically achieved through a process called \"dummy coding\" or \"one-hot encoding.\"\n",
    "\n",
    "Dummy Coding: For a categorical variable with 'k' categories, 'k-1' dummy variables are created. Each dummy variable represents one category, and it takes a value of 1 if the original categorical variable belongs to that category and 0 otherwise. This avoids multicollinearity issues where perfectly correlated dummy variables would add up to a constant (all 1s).\n",
    "Scaling: Before applying Ridge Regression, it's a good practice to scale the continuous variables to have a mean of zero and a standard deviation of one. This ensures that all variables are on a similar scale, which helps the regularization process work effectively.\n",
    "\n",
    "Choosing Lambda: When selecting the regularization parameter (λ) for Ridge Regression, you can perform cross-validation using both the continuous and categorical variables. Keep in mind that the scale of the coefficients will differ between continuous and categorical variables due to the dummy coding. Therefore, the choice of λ should take this into consideration.\n",
    "\n",
    "Regularization Impact: Ridge Regression will shrink the coefficients of both continuous and categorical variables. For categorical variables, Ridge Regression will distribute the regularization impact among the dummy variables, helping to stabilize their effects on the outcome.\n",
    "\n",
    "Interpretation: Interpretation of the coefficients becomes important, especially for categorical variables. The coefficient of a categorical variable represents the change in the response variable when that category is compared to the reference category (which is encoded as all zeros in the dummy variables).\n",
    "\n",
    "Remember that Ridge Regression assumes a linear relationship between the predictors and the response variable. For categorical variables, this means that the impact of a category on the response is assumed to be constant across all levels of the other variables. If this assumption doesn't hold, more complex techniques might be needed.\n",
    "\n",
    "In summary, Ridge Regression can handle both continuous and categorical independent variables, but you need to preprocess categorical variables through dummy coding, consider the scale of coefficients, and interpret the results carefully, especially for categorical variables.\n",
    "\n",
    "\n",
    "\n",
    "\n",
    "\n"
   ]
  },
  {
   "cell_type": "code",
   "execution_count": 7,
   "id": "00436b9d-55bd-477b-a92a-92ffac8638db",
   "metadata": {},
   "outputs": [],
   "source": [
    "#Answer 7\n",
    "# How do you interpret the coefficients of Ridge Regression?"
   ]
  },
  {
   "cell_type": "markdown",
   "id": "060de94e-5e5d-4498-bff7-a169be9a090f",
   "metadata": {},
   "source": [
    "Interpreting the coefficients of Ridge Regression is similar to interpreting coefficients in ordinary least squares (OLS) regression, but with a few additional considerations due to the regularization introduced by Ridge Regression. Here's how you can interpret the coefficients of Ridge Regression:\n",
    "\n",
    "Magnitude: The magnitude of the coefficient for a particular predictor variable indicates the strength of its association with the response variable. Larger magnitudes imply stronger effects, both positive and negative.\n",
    "\n",
    "Sign: The sign of the coefficient (positive or negative) indicates the direction of the relationship between the predictor and the response. A positive coefficient means that an increase in the predictor's value is associated with an increase in the response, while a negative coefficient indicates the opposite.\n",
    "\n",
    "Relative Importance: In Ridge Regression, the coefficients are regularized and can be shrunk towards zero. The larger the coefficient, the more important the corresponding predictor is in influencing the response variable. Conversely, smaller coefficients indicate less important predictors.\n",
    "\n",
    "Impact of Scaling: Keep in mind that the interpretation of coefficients can be influenced by the scaling of predictor variables. Ridge Regression involves a penalty term that depends on the square of the coefficient magnitudes, which means that the scale of the coefficients can differ for predictors with different scales.\n",
    "\n",
    "Comparison across Models: You can compare the relative importance of predictors across different Ridge Regression models with varying levels of regularization (different values of λ). A predictor that consistently has a larger coefficient across multiple models might be more robustly associated with the response.\n",
    "\n",
    "Interactions and Categorical Variables: If you have interaction terms or categorical variables with dummy coding, the interpretation extends to the impact of those interactions or categories relative to a reference level.\n",
    "\n",
    "Domain Knowledge: Context and domain knowledge are crucial for interpreting coefficients. Understanding the variables, their relationships, and potential nonlinear effects can provide a deeper understanding of the results.\n",
    "\n",
    "Unit Change: If the predictor variables have been scaled (e.g., standardized to have a mean of zero and a standard deviation of one), a one-unit change in a predictor corresponds to a change of one standard deviation.\n",
    "\n",
    "It's important to note that while Ridge Regression's coefficients provide valuable insights, they might not always provide a complete picture, especially if the relationships between predictors and the response are complex. Interpreting coefficients should be done alongside other techniques like visualizations, domain expertise, and model evaluation to ensure a comprehensive understanding of the results.\n",
    "\n",
    "\n",
    "\n",
    "\n",
    "\n"
   ]
  },
  {
   "cell_type": "code",
   "execution_count": 8,
   "id": "342b6570-e94f-4880-8d64-4b65b7fc5146",
   "metadata": {},
   "outputs": [],
   "source": [
    "#Answer 8\n",
    "# Can Ridge Regression be used for time-series data analysis? If yes, how?"
   ]
  },
  {
   "cell_type": "markdown",
   "id": "435c9bb8-4ed4-47a9-9e49-f0a7de653a3e",
   "metadata": {},
   "source": [
    "Yes, Ridge Regression can be used for time-series data analysis, but it requires some careful considerations and adaptations to account for the temporal nature of the data. Time-series data is characterized by observations collected over time, where the order of observations matters. When applying Ridge Regression to time-series data, here are some important steps to take:\n",
    "\n",
    "Temporal Order: Respect the temporal order of the data. Unlike independent and identically distributed (i.i.d.) data points, time-series data points are often correlated with their immediate predecessors or lagged values. It's essential to maintain the sequence of observations and avoid shuffling or randomizing the order.\n",
    "\n",
    "Stationarity: Many time-series models, including Ridge Regression, assume stationarity, which means that the statistical properties of the data remain constant over time. If your data exhibits trends, seasonality, or other non-stationary patterns, consider preprocessing steps like differencing or detrending to achieve stationarity.\n",
    "\n",
    "Lagged Variables: Incorporate lagged values of the dependent and independent variables as predictors in the Ridge Regression model. Lagged variables can capture the temporal dependencies present in time-series data. Experiment with different lag values to determine the most relevant ones.\n",
    "\n",
    "Feature Engineering: Alongside lagged values, you might want to engineer additional features that capture relevant time-dependent patterns. This could include moving averages, exponential smoothing, or other domain-specific features.\n",
    "\n",
    "Cross-Validation: Traditional k-fold cross-validation might not work well for time-series data due to its temporal structure. Instead, consider using time-based cross-validation methods like rolling cross-validation or expanding window cross-validation. These methods ensure that training and validation sets maintain the chronological order of the data.\n",
    "\n",
    "Regularization Parameter Selection: When selecting the regularization parameter (λ), you'll need to consider the temporal aspect. As you cross-validate to choose λ, ensure that you're not using future information to predict past values. This might require some additional scripting or careful consideration in your cross-validation process.\n",
    "\n",
    "Model Evaluation: Evaluate the performance of your Ridge Regression model on time-series data using appropriate metrics like mean squared error (MSE), root mean squared error (RMSE), or other relevant metrics that consider the temporal aspect.\n",
    "\n",
    "Seasonality and Trends: If your time-series data exhibits seasonality or trends, consider incorporating these components into your model, possibly through additional predictors or using more advanced time-series models like ARIMA (AutoRegressive Integrated Moving Average) or its variations.\n",
    "\n",
    "Remember that while Ridge Regression can be a useful tool for time-series analysis, it might not capture all the complexities of time-dependent relationships. Depending on the characteristics of your data, more specialized time-series models might provide better results. Always assess the appropriateness of the chosen method in the context of your specific data and problem.\n",
    "\n",
    "\n",
    "\n",
    "\n",
    "\n"
   ]
  },
  {
   "cell_type": "code",
   "execution_count": null,
   "id": "405e7a01-3313-4d0c-bb44-4ac828792e29",
   "metadata": {},
   "outputs": [],
   "source": []
  }
 ],
 "metadata": {
  "kernelspec": {
   "display_name": "Python 3 (ipykernel)",
   "language": "python",
   "name": "python3"
  },
  "language_info": {
   "codemirror_mode": {
    "name": "ipython",
    "version": 3
   },
   "file_extension": ".py",
   "mimetype": "text/x-python",
   "name": "python",
   "nbconvert_exporter": "python",
   "pygments_lexer": "ipython3",
   "version": "3.10.8"
  }
 },
 "nbformat": 4,
 "nbformat_minor": 5
}
