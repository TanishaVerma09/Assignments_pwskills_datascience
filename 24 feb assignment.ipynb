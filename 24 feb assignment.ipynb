{
 "cells": [
  {
   "cell_type": "code",
   "execution_count": 1,
   "id": "d8cf6e2e-769d-4b48-a98d-9de8de4ef27a",
   "metadata": {},
   "outputs": [],
   "source": [
    "#Answer 1"
   ]
  },
  {
   "cell_type": "markdown",
   "id": "6499e124-cfa6-40d6-baee-d4f82bcd3618",
   "metadata": {},
   "source": [
    "Five functions of pandas library with execution are:\n",
    "1. head()\n",
    "It displays the first few rows of the dataframe.\n",
    "for example-\n",
    "    "
   ]
  },
  {
   "cell_type": "code",
   "execution_count": 7,
   "id": "9a732114-24d8-42eb-8d03-e8bfe82e70f6",
   "metadata": {},
   "outputs": [],
   "source": [
    "import pandas as pd"
   ]
  },
  {
   "cell_type": "code",
   "execution_count": 10,
   "id": "82be283e-a12c-4d3f-9721-7900525dec48",
   "metadata": {},
   "outputs": [
    {
     "name": "stdout",
     "output_type": "stream",
     "text": [
      "      Name  Age  Marks\n",
      "0  tanisha   25     12\n",
      "1    teena   14     14\n",
      "2   Fatima   63     20\n",
      "3   garima   23      8\n",
      "4    rohan   18      5\n",
      "5    manya   45     16\n"
     ]
    }
   ],
   "source": [
    "name=['tanisha','teena','Fatima','garima','rohan','manya']\n",
    "age=[25,14,63,23,18,45]\n",
    "marks=[12,14,20,8,5,16]\n",
    "data={'Name': name,'Age': age,'Marks': marks}\n",
    "\n",
    "df=pd.DataFrame(data)\n",
    "print(df)\n",
    "\n"
   ]
  },
  {
   "cell_type": "code",
   "execution_count": 11,
   "id": "e248bcec-114d-4d55-863b-3f6c193c324a",
   "metadata": {},
   "outputs": [
    {
     "data": {
      "text/html": [
       "<div>\n",
       "<style scoped>\n",
       "    .dataframe tbody tr th:only-of-type {\n",
       "        vertical-align: middle;\n",
       "    }\n",
       "\n",
       "    .dataframe tbody tr th {\n",
       "        vertical-align: top;\n",
       "    }\n",
       "\n",
       "    .dataframe thead th {\n",
       "        text-align: right;\n",
       "    }\n",
       "</style>\n",
       "<table border=\"1\" class=\"dataframe\">\n",
       "  <thead>\n",
       "    <tr style=\"text-align: right;\">\n",
       "      <th></th>\n",
       "      <th>Name</th>\n",
       "      <th>Age</th>\n",
       "      <th>Marks</th>\n",
       "    </tr>\n",
       "  </thead>\n",
       "  <tbody>\n",
       "    <tr>\n",
       "      <th>0</th>\n",
       "      <td>tanisha</td>\n",
       "      <td>25</td>\n",
       "      <td>12</td>\n",
       "    </tr>\n",
       "    <tr>\n",
       "      <th>1</th>\n",
       "      <td>teena</td>\n",
       "      <td>14</td>\n",
       "      <td>14</td>\n",
       "    </tr>\n",
       "    <tr>\n",
       "      <th>2</th>\n",
       "      <td>Fatima</td>\n",
       "      <td>63</td>\n",
       "      <td>20</td>\n",
       "    </tr>\n",
       "    <tr>\n",
       "      <th>3</th>\n",
       "      <td>garima</td>\n",
       "      <td>23</td>\n",
       "      <td>8</td>\n",
       "    </tr>\n",
       "    <tr>\n",
       "      <th>4</th>\n",
       "      <td>rohan</td>\n",
       "      <td>18</td>\n",
       "      <td>5</td>\n",
       "    </tr>\n",
       "  </tbody>\n",
       "</table>\n",
       "</div>"
      ],
      "text/plain": [
       "      Name  Age  Marks\n",
       "0  tanisha   25     12\n",
       "1    teena   14     14\n",
       "2   Fatima   63     20\n",
       "3   garima   23      8\n",
       "4    rohan   18      5"
      ]
     },
     "execution_count": 11,
     "metadata": {},
     "output_type": "execute_result"
    }
   ],
   "source": [
    "df.head()"
   ]
  },
  {
   "cell_type": "markdown",
   "id": "d9d12c14-8c8c-4f6e-9b97-3b5b757f6d39",
   "metadata": {},
   "source": [
    "2.tail()\n",
    "It displays last few rows of the dataframe.for example"
   ]
  },
  {
   "cell_type": "code",
   "execution_count": 12,
   "id": "99607ced-3dbd-4714-87c2-e04490f70b63",
   "metadata": {},
   "outputs": [
    {
     "data": {
      "text/html": [
       "<div>\n",
       "<style scoped>\n",
       "    .dataframe tbody tr th:only-of-type {\n",
       "        vertical-align: middle;\n",
       "    }\n",
       "\n",
       "    .dataframe tbody tr th {\n",
       "        vertical-align: top;\n",
       "    }\n",
       "\n",
       "    .dataframe thead th {\n",
       "        text-align: right;\n",
       "    }\n",
       "</style>\n",
       "<table border=\"1\" class=\"dataframe\">\n",
       "  <thead>\n",
       "    <tr style=\"text-align: right;\">\n",
       "      <th></th>\n",
       "      <th>Name</th>\n",
       "      <th>Age</th>\n",
       "      <th>Marks</th>\n",
       "    </tr>\n",
       "  </thead>\n",
       "  <tbody>\n",
       "    <tr>\n",
       "      <th>1</th>\n",
       "      <td>teena</td>\n",
       "      <td>14</td>\n",
       "      <td>14</td>\n",
       "    </tr>\n",
       "    <tr>\n",
       "      <th>2</th>\n",
       "      <td>Fatima</td>\n",
       "      <td>63</td>\n",
       "      <td>20</td>\n",
       "    </tr>\n",
       "    <tr>\n",
       "      <th>3</th>\n",
       "      <td>garima</td>\n",
       "      <td>23</td>\n",
       "      <td>8</td>\n",
       "    </tr>\n",
       "    <tr>\n",
       "      <th>4</th>\n",
       "      <td>rohan</td>\n",
       "      <td>18</td>\n",
       "      <td>5</td>\n",
       "    </tr>\n",
       "    <tr>\n",
       "      <th>5</th>\n",
       "      <td>manya</td>\n",
       "      <td>45</td>\n",
       "      <td>16</td>\n",
       "    </tr>\n",
       "  </tbody>\n",
       "</table>\n",
       "</div>"
      ],
      "text/plain": [
       "     Name  Age  Marks\n",
       "1   teena   14     14\n",
       "2  Fatima   63     20\n",
       "3  garima   23      8\n",
       "4   rohan   18      5\n",
       "5   manya   45     16"
      ]
     },
     "execution_count": 12,
     "metadata": {},
     "output_type": "execute_result"
    }
   ],
   "source": [
    "df.tail()"
   ]
  },
  {
   "cell_type": "markdown",
   "id": "71823b9e-5d8a-4cb6-aa71-aa8d5ec99cc3",
   "metadata": {},
   "source": [
    "3.describe()\n",
    "It displays some description about the dataframe.If it has combined integer or float and string values it will display some information regarding int or float type like count , mean, deviation etc. for example"
   ]
  },
  {
   "cell_type": "code",
   "execution_count": 13,
   "id": "628545da-a4f2-4dd8-a6d3-4a13ab75c6c0",
   "metadata": {},
   "outputs": [
    {
     "data": {
      "text/html": [
       "<div>\n",
       "<style scoped>\n",
       "    .dataframe tbody tr th:only-of-type {\n",
       "        vertical-align: middle;\n",
       "    }\n",
       "\n",
       "    .dataframe tbody tr th {\n",
       "        vertical-align: top;\n",
       "    }\n",
       "\n",
       "    .dataframe thead th {\n",
       "        text-align: right;\n",
       "    }\n",
       "</style>\n",
       "<table border=\"1\" class=\"dataframe\">\n",
       "  <thead>\n",
       "    <tr style=\"text-align: right;\">\n",
       "      <th></th>\n",
       "      <th>Age</th>\n",
       "      <th>Marks</th>\n",
       "    </tr>\n",
       "  </thead>\n",
       "  <tbody>\n",
       "    <tr>\n",
       "      <th>count</th>\n",
       "      <td>6.000000</td>\n",
       "      <td>6.00000</td>\n",
       "    </tr>\n",
       "    <tr>\n",
       "      <th>mean</th>\n",
       "      <td>31.333333</td>\n",
       "      <td>12.50000</td>\n",
       "    </tr>\n",
       "    <tr>\n",
       "      <th>std</th>\n",
       "      <td>18.853824</td>\n",
       "      <td>5.43139</td>\n",
       "    </tr>\n",
       "    <tr>\n",
       "      <th>min</th>\n",
       "      <td>14.000000</td>\n",
       "      <td>5.00000</td>\n",
       "    </tr>\n",
       "    <tr>\n",
       "      <th>25%</th>\n",
       "      <td>19.250000</td>\n",
       "      <td>9.00000</td>\n",
       "    </tr>\n",
       "    <tr>\n",
       "      <th>50%</th>\n",
       "      <td>24.000000</td>\n",
       "      <td>13.00000</td>\n",
       "    </tr>\n",
       "    <tr>\n",
       "      <th>75%</th>\n",
       "      <td>40.000000</td>\n",
       "      <td>15.50000</td>\n",
       "    </tr>\n",
       "    <tr>\n",
       "      <th>max</th>\n",
       "      <td>63.000000</td>\n",
       "      <td>20.00000</td>\n",
       "    </tr>\n",
       "  </tbody>\n",
       "</table>\n",
       "</div>"
      ],
      "text/plain": [
       "             Age     Marks\n",
       "count   6.000000   6.00000\n",
       "mean   31.333333  12.50000\n",
       "std    18.853824   5.43139\n",
       "min    14.000000   5.00000\n",
       "25%    19.250000   9.00000\n",
       "50%    24.000000  13.00000\n",
       "75%    40.000000  15.50000\n",
       "max    63.000000  20.00000"
      ]
     },
     "execution_count": 13,
     "metadata": {},
     "output_type": "execute_result"
    }
   ],
   "source": [
    "df.describe()"
   ]
  },
  {
   "cell_type": "markdown",
   "id": "cb3454ad-5dd2-416b-9ac7-b75b98da5e86",
   "metadata": {},
   "source": [
    "4. groupby()\n",
    "This function is used to group columns of our choice to perform specific operations only on those columns.for example"
   ]
  },
  {
   "cell_type": "code",
   "execution_count": 15,
   "id": "79db8411-e598-4ee3-a1ac-915c02ed7ae1",
   "metadata": {},
   "outputs": [
    {
     "name": "stderr",
     "output_type": "stream",
     "text": [
      "/tmp/ipykernel_70/349349070.py:1: FutureWarning: The default value of numeric_only in DataFrameGroupBy.mean is deprecated. In a future version, numeric_only will default to False. Either specify numeric_only or select only columns which should be valid for the function.\n",
      "  df.groupby('Marks').mean()\n"
     ]
    },
    {
     "data": {
      "text/html": [
       "<div>\n",
       "<style scoped>\n",
       "    .dataframe tbody tr th:only-of-type {\n",
       "        vertical-align: middle;\n",
       "    }\n",
       "\n",
       "    .dataframe tbody tr th {\n",
       "        vertical-align: top;\n",
       "    }\n",
       "\n",
       "    .dataframe thead th {\n",
       "        text-align: right;\n",
       "    }\n",
       "</style>\n",
       "<table border=\"1\" class=\"dataframe\">\n",
       "  <thead>\n",
       "    <tr style=\"text-align: right;\">\n",
       "      <th></th>\n",
       "      <th>Age</th>\n",
       "    </tr>\n",
       "    <tr>\n",
       "      <th>Marks</th>\n",
       "      <th></th>\n",
       "    </tr>\n",
       "  </thead>\n",
       "  <tbody>\n",
       "    <tr>\n",
       "      <th>5</th>\n",
       "      <td>18.0</td>\n",
       "    </tr>\n",
       "    <tr>\n",
       "      <th>8</th>\n",
       "      <td>23.0</td>\n",
       "    </tr>\n",
       "    <tr>\n",
       "      <th>12</th>\n",
       "      <td>25.0</td>\n",
       "    </tr>\n",
       "    <tr>\n",
       "      <th>14</th>\n",
       "      <td>14.0</td>\n",
       "    </tr>\n",
       "    <tr>\n",
       "      <th>16</th>\n",
       "      <td>45.0</td>\n",
       "    </tr>\n",
       "    <tr>\n",
       "      <th>20</th>\n",
       "      <td>63.0</td>\n",
       "    </tr>\n",
       "  </tbody>\n",
       "</table>\n",
       "</div>"
      ],
      "text/plain": [
       "        Age\n",
       "Marks      \n",
       "5      18.0\n",
       "8      23.0\n",
       "12     25.0\n",
       "14     14.0\n",
       "16     45.0\n",
       "20     63.0"
      ]
     },
     "execution_count": 15,
     "metadata": {},
     "output_type": "execute_result"
    }
   ],
   "source": [
    "df.groupby('Marks').mean()"
   ]
  },
  {
   "cell_type": "markdown",
   "id": "97e3eb96-4f5c-423a-be50-bc3486fd1ce4",
   "metadata": {},
   "source": [
    "5.to_csv\n",
    "This function converts the contents of a dataframe to a csv file.for example"
   ]
  },
  {
   "cell_type": "code",
   "execution_count": 17,
   "id": "eb4e2687-b44b-4ea5-9afa-e8dc1acb6074",
   "metadata": {},
   "outputs": [],
   "source": [
    "df.to_csv('practise.csv',index=False)"
   ]
  },
  {
   "cell_type": "code",
   "execution_count": 18,
   "id": "16e70db0-e400-4dce-861c-d70a7559c107",
   "metadata": {},
   "outputs": [],
   "source": [
    "#Answer 2"
   ]
  },
  {
   "cell_type": "code",
   "execution_count": 30,
   "id": "d7ddf62a-7879-4378-9f67-7e120ab56329",
   "metadata": {},
   "outputs": [
    {
     "name": "stdout",
     "output_type": "stream",
     "text": [
      "    A   B   C\n",
      "1  10  40  70\n",
      "3  20  50  80\n",
      "5  30  60  90\n"
     ]
    }
   ],
   "source": [
    "import pandas as pd\n",
    "\n",
    "def reindex_with_increment(df):\n",
    "    # Resetting the index to default integer index (0, 1, 2, ...)\n",
    "    df_reset = df.reset_index(drop=True)\n",
    "\n",
    "    # Creating a new index starting from 1 and incrementing by 2\n",
    "    new_index = pd.RangeIndex(start=1, stop=2*len(df_reset), step=2)\n",
    "\n",
    "    # Assigning the new index to the DataFrame\n",
    "    df_reset.index = new_index\n",
    "\n",
    "    return df_reset\n",
    "\n",
    "# Example usage:\n",
    "# Assuming 'df' is your original DataFrame with columns 'A', 'B', and 'C'\n",
    "df = pd.DataFrame({'A': [10, 20, 30], 'B': [40, 50, 60], 'C': [70, 80, 90]})\n",
    "reindexed_df = reindex_with_increment(df)\n",
    "print(reindexed_df)\n"
   ]
  },
  {
   "cell_type": "code",
   "execution_count": 31,
   "id": "4539ce40-7c6a-491a-8224-8ca93047ec9d",
   "metadata": {},
   "outputs": [],
   "source": [
    "#Answer 3"
   ]
  },
  {
   "cell_type": "code",
   "execution_count": 52,
   "id": "4d629cfd-7e22-441c-ae45-adf95a09fccd",
   "metadata": {},
   "outputs": [
    {
     "name": "stdout",
     "output_type": "stream",
     "text": [
      "Sum of the first three values: 6\n"
     ]
    }
   ],
   "source": [
    "import pandas as pd\n",
    "def sum_values(df):\n",
    "    summ = 0\n",
    "    for i in df['Values']:\n",
    "        summ = summ + i\n",
    "        if i == 3:\n",
    "            break\n",
    "    return summ\n",
    "values = [1, 2, 3, 4, 5]\n",
    "df = pd.DataFrame({'Values': values})\n",
    "sum_of_values = sum_values(df)\n",
    "print(\"Sum of the first three values:\", sum_of_values)\n"
   ]
  },
  {
   "cell_type": "code",
   "execution_count": 55,
   "id": "a7171e34-dfb1-40c7-89b2-12c9e2629593",
   "metadata": {},
   "outputs": [],
   "source": [
    "#Answer 4"
   ]
  },
  {
   "cell_type": "code",
   "execution_count": 65,
   "id": "9cf5440e-b0a1-42c0-9f01-976861e2c107",
   "metadata": {},
   "outputs": [
    {
     "name": "stdout",
     "output_type": "stream",
     "text": [
      "      Text  Word_Count\n",
      "0  Tanisha           1\n"
     ]
    }
   ],
   "source": [
    "import pandas as pd\n",
    "def new_col(df):\n",
    "    word_count= lambda text:len(text.split())\n",
    "    df['Word_Count']=df['Text'].apply(word_count)\n",
    "    \n",
    "    return df\n",
    "    \n",
    "    \n",
    "text= ['Tanisha']\n",
    "df = pd.DataFrame({'Text': text})\n",
    "df1=new_col(df)\n",
    "print(df1)"
   ]
  },
  {
   "cell_type": "code",
   "execution_count": 59,
   "id": "bb69f264-90bf-4187-b7db-4903b84c3a3a",
   "metadata": {},
   "outputs": [],
   "source": [
    "#Answer 5"
   ]
  },
  {
   "cell_type": "markdown",
   "id": "68f81bc9-7a3a-406e-9823-b11434e4ec8d",
   "metadata": {},
   "source": [
    "DataFrame.size():\n",
    "\n",
    "DataFrame.size() returns the total number of elements in the DataFrame.\n",
    "It counts both rows and columns, so the returned value is the product of the number of rows and the number of columns.\n",
    "The returned value is an integer representing the total number of elements in the DataFrame"
   ]
  },
  {
   "cell_type": "code",
   "execution_count": 60,
   "id": "47c70cc2-7922-4de9-852c-74eea3be35be",
   "metadata": {},
   "outputs": [
    {
     "name": "stdout",
     "output_type": "stream",
     "text": [
      "6\n"
     ]
    }
   ],
   "source": [
    "import pandas as pd\n",
    "\n",
    "# Creating a DataFrame\n",
    "data = {'A': [1, 2, 3], 'B': [4, 5, 6]}\n",
    "df = pd.DataFrame(data)\n",
    "\n",
    "# Getting the size of the DataFrame\n",
    "size = df.size\n",
    "print(size)  # Output: 6\n"
   ]
  },
  {
   "cell_type": "markdown",
   "id": "ac520f78-b430-493e-a8cf-2accee42a7d3",
   "metadata": {},
   "source": [
    "DataFrame.shape():\n",
    "\n",
    "DataFrame.shape() returns a tuple that represents the dimensions of the DataFrame.\n",
    "It provides information about the number of rows and the number of columns in the DataFrame.\n",
    "The returned value is in the format (rows, columns)."
   ]
  },
  {
   "cell_type": "code",
   "execution_count": 61,
   "id": "0fe4c62c-536c-4811-8c3d-61b7605718e0",
   "metadata": {},
   "outputs": [
    {
     "name": "stdout",
     "output_type": "stream",
     "text": [
      "(3, 2)\n"
     ]
    }
   ],
   "source": [
    "import pandas as pd\n",
    "\n",
    "# Creating a DataFrame\n",
    "data = {'A': [1, 2, 3], 'B': [4, 5, 6]}\n",
    "df = pd.DataFrame(data)\n",
    "\n",
    "# Getting the shape of the DataFrame\n",
    "shape = df.shape\n",
    "print(shape)  # Output: (3, 2)\n"
   ]
  },
  {
   "cell_type": "code",
   "execution_count": 62,
   "id": "fbda7e10-4e50-436a-8d90-7def716b38ba",
   "metadata": {},
   "outputs": [],
   "source": [
    "#Answer 6"
   ]
  },
  {
   "cell_type": "markdown",
   "id": "9bfcf4e7-0881-44e6-897a-a54756d3de4f",
   "metadata": {},
   "source": [
    "pandas.read_excel() function- This function is specifically designed to read data from Excel files and create a DataFrame."
   ]
  },
  {
   "cell_type": "raw",
   "id": "c4b06686-a693-446f-a11d-85b309257520",
   "metadata": {},
   "source": [
    "import pandas as pd\n",
    "\n",
    "# Reading an Excel file and creating a DataFrame\n",
    "df = pd.read_excel('file.xlsx')\n",
    "\n",
    "# Printing the DataFrame\n",
    "print(df)\n"
   ]
  },
  {
   "cell_type": "code",
   "execution_count": 64,
   "id": "9c52cd43-5a12-43bc-8a7d-84aa8555c5cb",
   "metadata": {},
   "outputs": [],
   "source": [
    "#Answer 7"
   ]
  },
  {
   "cell_type": "code",
   "execution_count": 67,
   "id": "8304791b-ac77-49a8-bec4-0f3645c5743b",
   "metadata": {},
   "outputs": [
    {
     "name": "stdout",
     "output_type": "stream",
     "text": [
      "               Email Username\n",
      "0  tanisha@gmail.com  tanisha\n",
      "1    teena@gmail.com    teena\n"
     ]
    }
   ],
   "source": [
    "import pandas as pd\n",
    "def add_col(df):\n",
    "    \n",
    "    df['Username']=df['Email'].str.split('@').str.get(0)\n",
    "    return df\n",
    "    \n",
    "    \n",
    "email= ['tanisha@gmail.com','teena@gmail.com']\n",
    "df = pd.DataFrame({'Email': email})\n",
    "df1=add_col(df)\n",
    "print(df1)"
   ]
  },
  {
   "cell_type": "code",
   "execution_count": 68,
   "id": "5cdf01fc-0be4-4a26-9ab2-b67669f6e75d",
   "metadata": {},
   "outputs": [],
   "source": [
    "#Answer 8"
   ]
  },
  {
   "cell_type": "code",
   "execution_count": 8,
   "id": "ab5cd993-25d2-4d94-bb9b-da9d76445279",
   "metadata": {},
   "outputs": [
    {
     "name": "stdout",
     "output_type": "stream",
     "text": [
      "   A  B  C\n",
      "1  8  2  7\n",
      "2  6  9  4\n",
      "4  9  1  2\n"
     ]
    }
   ],
   "source": [
    "import pandas as pd\n",
    "def new_df(df):\n",
    "    \n",
    "    df1=df[(df['A']>5) & (df['B']<10)]\n",
    "    return df1\n",
    "\n",
    "a=[3,8,6,2,9]\n",
    "b=[5,2,9,3,1]\n",
    "c=[1,7,4,5,2]\n",
    "data={'A':a,'B':b,'C':c}\n",
    "df= pd.DataFrame(data)\n",
    "df1=new_df(df)\n",
    "print(df1)\n"
   ]
  },
  {
   "cell_type": "code",
   "execution_count": 9,
   "id": "e4623b2f-67db-4687-a8fc-e14e76600c06",
   "metadata": {},
   "outputs": [],
   "source": [
    "#Answer 9"
   ]
  },
  {
   "cell_type": "code",
   "execution_count": 31,
   "id": "0f9b6ae5-8780-488f-94fd-5ad572581d47",
   "metadata": {},
   "outputs": [
    {
     "name": "stdout",
     "output_type": "stream",
     "text": [
      "('Mean is ', 3.0, 'Median is', 3.0, 'Standard deviation is', 1.5811388300841898)\n"
     ]
    }
   ],
   "source": [
    "import pandas as pd\n",
    "def mmd(df):\n",
    "    mean=df['Values'].mean()\n",
    "    median =df['Values'].median()\n",
    "    std_dev=df['Values'].std()\n",
    "    return ('Mean is ' ,mean,'Median is' ,median,'Standard deviation is' ,std_dev)\n",
    "values = [1, 2, 3, 4, 5]\n",
    "df = pd.DataFrame({'Values': values})\n",
    "df1=mmd(df)\n",
    "print(df1)\n"
   ]
  },
  {
   "cell_type": "code",
   "execution_count": 33,
   "id": "369d88cf-e5ee-4e40-a1b1-75e5e82665b8",
   "metadata": {},
   "outputs": [],
   "source": [
    "#Answer 10 not done"
   ]
  },
  {
   "cell_type": "code",
   "execution_count": 34,
   "id": "7dd43888-add2-4f19-badf-f4ef5a56dd24",
   "metadata": {},
   "outputs": [],
   "source": [
    "#Answer 11"
   ]
  },
  {
   "cell_type": "code",
   "execution_count": 35,
   "id": "5db0ccb9-a287-4ef3-8781-3eb9bfb4e16e",
   "metadata": {},
   "outputs": [
    {
     "name": "stdout",
     "output_type": "stream",
     "text": [
      "Collecting datetime\n",
      "  Downloading DateTime-5.1-py3-none-any.whl (52 kB)\n",
      "\u001b[2K     \u001b[90m━━━━━━━━━━━━━━━━━━━━━━━━━━━━━━━━━━━━━━━━\u001b[0m \u001b[32m52.1/52.1 kB\u001b[0m \u001b[31m8.1 MB/s\u001b[0m eta \u001b[36m0:00:00\u001b[0m\n",
      "\u001b[?25hCollecting zope.interface\n",
      "  Downloading zope.interface-6.0-cp310-cp310-manylinux_2_5_x86_64.manylinux1_x86_64.manylinux_2_17_x86_64.manylinux2014_x86_64.whl (246 kB)\n",
      "\u001b[2K     \u001b[90m━━━━━━━━━━━━━━━━━━━━━━━━━━━━━━━━━━━━━━\u001b[0m \u001b[32m247.0/247.0 kB\u001b[0m \u001b[31m33.8 MB/s\u001b[0m eta \u001b[36m0:00:00\u001b[0m\n",
      "\u001b[?25hRequirement already satisfied: pytz in /opt/conda/lib/python3.10/site-packages (from datetime) (2022.6)\n",
      "Requirement already satisfied: setuptools in /opt/conda/lib/python3.10/site-packages (from zope.interface->datetime) (65.5.1)\n",
      "Installing collected packages: zope.interface, datetime\n",
      "Successfully installed datetime-5.1 zope.interface-6.0\n",
      "Note: you may need to restart the kernel to use updated packages.\n"
     ]
    }
   ],
   "source": [
    "pip install datetime"
   ]
  },
  {
   "cell_type": "code",
   "execution_count": 44,
   "id": "60e5b132-b212-4f76-ac33-32f87f857a7b",
   "metadata": {},
   "outputs": [
    {
     "ename": "AttributeError",
     "evalue": "'Series' object has no attribute 'strftime'",
     "output_type": "error",
     "traceback": [
      "\u001b[0;31m---------------------------------------------------------------------------\u001b[0m",
      "\u001b[0;31mAttributeError\u001b[0m                            Traceback (most recent call last)",
      "Cell \u001b[0;32mIn[44], line 9\u001b[0m\n\u001b[1;32m      5\u001b[0m     \u001b[38;5;28;01mreturn\u001b[39;00m df\n\u001b[1;32m      6\u001b[0m df \u001b[38;5;241m=\u001b[39m pd\u001b[38;5;241m.\u001b[39mDataFrame({\n\u001b[1;32m      7\u001b[0m     \u001b[38;5;124m'\u001b[39m\u001b[38;5;124mDate\u001b[39m\u001b[38;5;124m'\u001b[39m: pd\u001b[38;5;241m.\u001b[39mto_datetime([\u001b[38;5;124m'\u001b[39m\u001b[38;5;124m2023-01-01\u001b[39m\u001b[38;5;124m'\u001b[39m, \u001b[38;5;124m'\u001b[39m\u001b[38;5;124m2023-01-02\u001b[39m\u001b[38;5;124m'\u001b[39m, \u001b[38;5;124m'\u001b[39m\u001b[38;5;124m2023-01-03\u001b[39m\u001b[38;5;124m'\u001b[39m, \u001b[38;5;124m'\u001b[39m\u001b[38;5;124m2023-01-04\u001b[39m\u001b[38;5;124m'\u001b[39m, \u001b[38;5;124m'\u001b[39m\u001b[38;5;124m2023-01-05\u001b[39m\u001b[38;5;124m'\u001b[39m])\n\u001b[1;32m      8\u001b[0m })\n\u001b[0;32m----> 9\u001b[0m df1 \u001b[38;5;241m=\u001b[39m \u001b[43madd_weekday_column\u001b[49m\u001b[43m(\u001b[49m\u001b[43mdf\u001b[49m\u001b[43m)\u001b[49m\n\u001b[1;32m     10\u001b[0m \u001b[38;5;28mprint\u001b[39m(df1)\n",
      "Cell \u001b[0;32mIn[44], line 4\u001b[0m, in \u001b[0;36madd_weekday_column\u001b[0;34m(df)\u001b[0m\n\u001b[1;32m      3\u001b[0m \u001b[38;5;28;01mdef\u001b[39;00m \u001b[38;5;21madd_weekday_column\u001b[39m(df):\n\u001b[0;32m----> 4\u001b[0m     df[\u001b[38;5;124m'\u001b[39m\u001b[38;5;124mWeekday\u001b[39m\u001b[38;5;124m'\u001b[39m] \u001b[38;5;241m=\u001b[39m \u001b[43mdf\u001b[49m\u001b[43m[\u001b[49m\u001b[38;5;124;43m'\u001b[39;49m\u001b[38;5;124;43mDate\u001b[39;49m\u001b[38;5;124;43m'\u001b[39;49m\u001b[43m]\u001b[49m\u001b[38;5;241;43m.\u001b[39;49m\u001b[43mstrftime\u001b[49m(\u001b[38;5;124m'\u001b[39m\u001b[38;5;124m%\u001b[39m\u001b[38;5;124mA\u001b[39m\u001b[38;5;124m'\u001b[39m)\n\u001b[1;32m      5\u001b[0m     \u001b[38;5;28;01mreturn\u001b[39;00m df\n",
      "File \u001b[0;32m/opt/conda/lib/python3.10/site-packages/pandas/core/generic.py:5902\u001b[0m, in \u001b[0;36mNDFrame.__getattr__\u001b[0;34m(self, name)\u001b[0m\n\u001b[1;32m   5895\u001b[0m \u001b[38;5;28;01mif\u001b[39;00m (\n\u001b[1;32m   5896\u001b[0m     name \u001b[38;5;129;01mnot\u001b[39;00m \u001b[38;5;129;01min\u001b[39;00m \u001b[38;5;28mself\u001b[39m\u001b[38;5;241m.\u001b[39m_internal_names_set\n\u001b[1;32m   5897\u001b[0m     \u001b[38;5;129;01mand\u001b[39;00m name \u001b[38;5;129;01mnot\u001b[39;00m \u001b[38;5;129;01min\u001b[39;00m \u001b[38;5;28mself\u001b[39m\u001b[38;5;241m.\u001b[39m_metadata\n\u001b[1;32m   5898\u001b[0m     \u001b[38;5;129;01mand\u001b[39;00m name \u001b[38;5;129;01mnot\u001b[39;00m \u001b[38;5;129;01min\u001b[39;00m \u001b[38;5;28mself\u001b[39m\u001b[38;5;241m.\u001b[39m_accessors\n\u001b[1;32m   5899\u001b[0m     \u001b[38;5;129;01mand\u001b[39;00m \u001b[38;5;28mself\u001b[39m\u001b[38;5;241m.\u001b[39m_info_axis\u001b[38;5;241m.\u001b[39m_can_hold_identifiers_and_holds_name(name)\n\u001b[1;32m   5900\u001b[0m ):\n\u001b[1;32m   5901\u001b[0m     \u001b[38;5;28;01mreturn\u001b[39;00m \u001b[38;5;28mself\u001b[39m[name]\n\u001b[0;32m-> 5902\u001b[0m \u001b[38;5;28;01mreturn\u001b[39;00m \u001b[38;5;28;43mobject\u001b[39;49m\u001b[38;5;241;43m.\u001b[39;49m\u001b[38;5;21;43m__getattribute__\u001b[39;49m\u001b[43m(\u001b[49m\u001b[38;5;28;43mself\u001b[39;49m\u001b[43m,\u001b[49m\u001b[43m \u001b[49m\u001b[43mname\u001b[49m\u001b[43m)\u001b[49m\n",
      "\u001b[0;31mAttributeError\u001b[0m: 'Series' object has no attribute 'strftime'"
     ]
    }
   ],
   "source": [
    "import pandas as pd\n",
    "import datetime\n",
    "def add_weekday_column(df):\n",
    "    df['Weekday'] = df['Date'].strftime('%A')\n",
    "    return df\n",
    "df = pd.DataFrame({\n",
    "    'Date': pd.to_datetime(['2023-01-01', '2023-01-02', '2023-01-03', '2023-01-04', '2023-01-05'])\n",
    "})\n",
    "df1 = add_weekday_column(df)\n",
    "print(df1)\n"
   ]
  },
  {
   "cell_type": "code",
   "execution_count": 48,
   "id": "4205cc4e-9472-4b64-bb2a-b08a97cc94e7",
   "metadata": {},
   "outputs": [],
   "source": [
    "#Answer 12"
   ]
  },
  {
   "cell_type": "code",
   "execution_count": 50,
   "id": "544e59d3-bdd9-4414-8514-038ba1ee9ce7",
   "metadata": {},
   "outputs": [
    {
     "name": "stdout",
     "output_type": "stream",
     "text": [
      "         Date  Value\n",
      "0  2023-01-01      0\n",
      "1  2023-01-02      1\n",
      "2  2023-01-03      2\n",
      "3  2023-01-04      3\n",
      "4  2023-01-05      4\n",
      "5  2023-01-06      5\n",
      "6  2023-01-07      6\n",
      "7  2023-01-08      7\n",
      "8  2023-01-09      8\n",
      "9  2023-01-10      9\n",
      "10 2023-01-11     10\n",
      "11 2023-01-12     11\n",
      "12 2023-01-13     12\n",
      "13 2023-01-14     13\n",
      "14 2023-01-15     14\n",
      "15 2023-01-16     15\n",
      "16 2023-01-17     16\n",
      "17 2023-01-18     17\n",
      "18 2023-01-19     18\n",
      "19 2023-01-20     19\n",
      "20 2023-01-21     20\n",
      "21 2023-01-22     21\n",
      "22 2023-01-23     22\n",
      "23 2023-01-24     23\n",
      "24 2023-01-25     24\n",
      "25 2023-01-26     25\n",
      "26 2023-01-27     26\n",
      "27 2023-01-28     27\n",
      "28 2023-01-29     28\n",
      "29 2023-01-30     29\n",
      "30 2023-01-31     30\n"
     ]
    }
   ],
   "source": [
    "import pandas as pd\n",
    "\n",
    "def select_rows_between_dates(df):\n",
    "    start_date = '2023-01-01'\n",
    "    end_date = '2023-01-31'\n",
    "    mask = (df['Date'] >= start_date) & (df['Date'] <= end_date)\n",
    "    selected_rows = df[mask]\n",
    "    return selected_rows\n",
    "\n",
    "# Example DataFrame\n",
    "df = pd.DataFrame({\n",
    "    'Date': pd.date_range(start='2023-01-01', periods=60),\n",
    "    'Value': range(60)\n",
    "})\n",
    "\n",
    "# Select rows between dates\n",
    "selected_df = select_rows_between_dates(df)\n",
    "\n",
    "# Print the selected DataFrame\n",
    "print(selected_df)\n"
   ]
  },
  {
   "cell_type": "code",
   "execution_count": 46,
   "id": "8d69253d-1ca6-4406-b044-fc522fcc8ee0",
   "metadata": {},
   "outputs": [],
   "source": [
    "#Answer 13"
   ]
  },
  {
   "cell_type": "markdown",
   "id": "e6271c29-6238-4131-9233-a5c61885603e",
   "metadata": {},
   "source": [
    "pandas library itself"
   ]
  }
 ],
 "metadata": {
  "kernelspec": {
   "display_name": "Python 3 (ipykernel)",
   "language": "python",
   "name": "python3"
  },
  "language_info": {
   "codemirror_mode": {
    "name": "ipython",
    "version": 3
   },
   "file_extension": ".py",
   "mimetype": "text/x-python",
   "name": "python",
   "nbconvert_exporter": "python",
   "pygments_lexer": "ipython3",
   "version": "3.10.8"
  }
 },
 "nbformat": 4,
 "nbformat_minor": 5
}
