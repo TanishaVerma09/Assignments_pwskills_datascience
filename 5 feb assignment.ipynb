{
 "cells": [
  {
   "cell_type": "code",
   "execution_count": 1,
   "id": "404ff5e5-77f8-4022-a356-02ebae4b183d",
   "metadata": {},
   "outputs": [],
   "source": [
    "#Answer 1"
   ]
  },
  {
   "cell_type": "markdown",
   "id": "a7c446d4-71c9-4f2c-a2fe-d742d9db12f6",
   "metadata": {},
   "source": [
    "A class is a blueprint for creating objects.An object is an instance/variable of a class through which we inherit the properties of a class"
   ]
  },
  {
   "cell_type": "code",
   "execution_count": 13,
   "id": "2e7ee123-e569-4175-b9f7-202ca2b8ccf2",
   "metadata": {},
   "outputs": [],
   "source": [
    "#example of class and object\n",
    "class pwskills: #class as a blueprint\n",
    "    def __init__(self,phonenumber,stud_id):\n",
    "        self.phonenumber=phonenumber\n",
    "        self.stud_id=stud_id\n",
    "    def student_details(self):\n",
    "        return self.phonenumber,self.stud_id\n",
    "    "
   ]
  },
  {
   "cell_type": "code",
   "execution_count": 14,
   "id": "ddc6434b-45b2-48e1-a494-e15f65478245",
   "metadata": {},
   "outputs": [],
   "source": [
    "tanisha=pwskills(8796541,1)       #here tanisha is an object/variable/instance of the class 'pwskills'"
   ]
  },
  {
   "cell_type": "code",
   "execution_count": 15,
   "id": "633be40f-3ace-460c-88d0-60dd490381ab",
   "metadata": {},
   "outputs": [
    {
     "data": {
      "text/plain": [
       "1"
      ]
     },
     "execution_count": 15,
     "metadata": {},
     "output_type": "execute_result"
    }
   ],
   "source": [
    "tanisha.stud_id"
   ]
  },
  {
   "cell_type": "code",
   "execution_count": 16,
   "id": "b5269f90-c802-4141-afee-26fe0a8dfbd4",
   "metadata": {},
   "outputs": [],
   "source": [
    "#Answer 2"
   ]
  },
  {
   "cell_type": "markdown",
   "id": "cdd6e245-5821-40ef-ba1d-0b1185a2f0e7",
   "metadata": {},
   "source": [
    "The four pillars of the OOPs are \n",
    "1. Inheritance\n",
    "2. Polymorphism\n",
    "3. Encapsulation\n",
    "4. Abstraction"
   ]
  },
  {
   "cell_type": "code",
   "execution_count": 18,
   "id": "033d525d-8490-4757-a1aa-e096e0ee4828",
   "metadata": {},
   "outputs": [],
   "source": [
    "#Answer 3"
   ]
  },
  {
   "cell_type": "markdown",
   "id": "2856b3d8-da8f-45aa-946f-ef1e7c3bf8d3",
   "metadata": {},
   "source": [
    "'__init__' is a constructor of the class. It is used when we have to input values for objects in a class. It lets a class initialize object's attributes."
   ]
  },
  {
   "cell_type": "code",
   "execution_count": 19,
   "id": "ecd721d3-aeb0-4c54-ad51-664618de4712",
   "metadata": {},
   "outputs": [],
   "source": [
    "#example of __init__\n",
    "class pwskills: #class as a blueprint\n",
    "    def __init__(self,phonenumber,stud_id):\n",
    "        self.phonenumber=phonenumber\n",
    "        self.stud_id=stud_id\n",
    "    def student_details(self):\n",
    "        return self.phonenumber,self.stud_id"
   ]
  },
  {
   "cell_type": "code",
   "execution_count": 20,
   "id": "9dd5cb75-68cf-4bea-bf71-d5792dc30a59",
   "metadata": {},
   "outputs": [],
   "source": [
    "#Answer 4"
   ]
  },
  {
   "cell_type": "markdown",
   "id": "e52aa48e-397a-40ef-aca5-765546364801",
   "metadata": {},
   "source": [
    "Self is used to represent instance of the class."
   ]
  },
  {
   "cell_type": "code",
   "execution_count": 21,
   "id": "6f38cf11-6216-49fa-9029-76f0660d90f4",
   "metadata": {},
   "outputs": [],
   "source": [
    "#Answer 5"
   ]
  },
  {
   "cell_type": "markdown",
   "id": "26a11b65-5b37-4d10-8d9e-0459061773e9",
   "metadata": {},
   "source": [
    "Inheritance is defined as a mechanism to inherit base class properties to child class.\n",
    "it is of 5 types:\n",
    "1. Single Inheritance\n",
    "It enables a derived class to inherit properties from a single parent.\n",
    "# Base class\n",
    "class Parent:\n",
    "    def func1(self):\n",
    "        print(\"This function is in parent class.\")\n",
    " \n",
    "# Derived class\n",
    " \n",
    " \n",
    "class Child(Parent):\n",
    "    def func2(self):\n",
    "        print(\"This function is in child class.\")\n",
    " \n",
    " \n",
    "# Driver's code\n",
    "object = Child()\n",
    "object.func1()\n",
    "object.func2()\n",
    "\n",
    "2. Multiple inheritance\n",
    "When a class can be derived from more than one base class this type of inheritance is called multiple inheritances.\n",
    "# Base class1\n",
    "class Mother:\n",
    "    mothername = \"\"\n",
    " \n",
    "    def mother(self):\n",
    "        print(self.mothername)\n",
    " \n",
    "# Base class2\n",
    " \n",
    " \n",
    "class Father:\n",
    "    fathername = \"\"\n",
    " \n",
    "    def father(self):\n",
    "        print(self.fathername)\n",
    " \n",
    "# Derived class\n",
    " \n",
    " \n",
    "class Son(Mother, Father):\n",
    "    def parents(self):\n",
    "        print(\"Father :\", self.fathername)\n",
    "        print(\"Mother :\", self.mothername)\n",
    " \n",
    " \n",
    "# Driver's code\n",
    "s1 = Son()\n",
    "s1.fathername = \"RAM\"\n",
    "s1.mothername = \"SITA\"\n",
    "s1.parents()\n",
    "\n",
    "3. Multilevel Inheritance\n",
    "In multilevel inheritance, features of the base class and the derived class are further inherited into the new derived class. This is similar to a relationship representing a child and a grandfather.\n",
    "# Base class\n",
    " \n",
    " \n",
    "class Grandfather:\n",
    " \n",
    "    def __init__(self, grandfathername):\n",
    "        self.grandfathername = grandfathername\n",
    " \n",
    "# Intermediate class\n",
    " \n",
    " \n",
    "class Father(Grandfather):\n",
    "    def __init__(self, fathername, grandfathername):\n",
    "        self.fathername = fathername\n",
    " \n",
    "        # invoking constructor of Grandfather class\n",
    "        Grandfather.__init__(self, grandfathername)\n",
    " \n",
    "# Derived class\n",
    " \n",
    " \n",
    "class Son(Father):\n",
    "    def __init__(self, sonname, fathername, grandfathername):\n",
    "        self.sonname = sonname\n",
    " \n",
    "        # invoking constructor of Father class\n",
    "        Father.__init__(self, fathername, grandfathername)\n",
    " \n",
    "    def print_name(self):\n",
    "        print('Grandfather name :', self.grandfathername)\n",
    "        print(\"Father name :\", self.fathername)\n",
    "        print(\"Son name :\", self.sonname)\n",
    " \n",
    " \n",
    "#  Driver code\n",
    "s1 = Son('Prince', 'Rampal', 'Lal mani')\n",
    "print(s1.grandfathername)\n",
    "s1.print_name()\n",
    "\n",
    "4. Hierarchical Inheritance\n"
   ]
  }
 ],
 "metadata": {
  "kernelspec": {
   "display_name": "Python 3 (ipykernel)",
   "language": "python",
   "name": "python3"
  },
  "language_info": {
   "codemirror_mode": {
    "name": "ipython",
    "version": 3
   },
   "file_extension": ".py",
   "mimetype": "text/x-python",
   "name": "python",
   "nbconvert_exporter": "python",
   "pygments_lexer": "ipython3",
   "version": "3.10.8"
  }
 },
 "nbformat": 4,
 "nbformat_minor": 5
}
