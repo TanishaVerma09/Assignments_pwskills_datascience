{
 "cells": [
  {
   "cell_type": "code",
   "execution_count": 1,
   "id": "93b2dba5-bad0-4446-91fe-f89bab337f8c",
   "metadata": {},
   "outputs": [],
   "source": [
    "#Answer 1"
   ]
  },
  {
   "cell_type": "markdown",
   "id": "3ecf9237-6d88-4c3c-91e4-f39baaa7de0b",
   "metadata": {},
   "source": [
    "The Probability Density Function (PDF) is a concept used in probability theory and statistics to describe the likelihood of a continuous random variable taking on a particular value within a given range. In other words, the PDF provides the probability distribution of a continuous random variable.\n",
    "\n",
    "For a continuous random variable X, the PDF is denoted as f(x) and satisfies the following properties:\n",
    "\n",
    "The PDF is non-negative: f(x) ≥ 0 for all x.\n",
    "The area under the curve of the PDF over the entire range is equal to 1: ∫f(x) dx = 1, where the integral is taken over the entire range of x.\n",
    "Mathematically, the probability that the random variable X falls within a specific interval [a, b] can be calculated by integrating the PDF over that interval:\n",
    "\n",
    "P(a ≤ X ≤ b) = ∫[a, b] f(x) dx\n",
    "\n",
    "The PDF is a fundamental concept in probability and statistics, and it helps us understand the distribution of continuous random variables, make predictions, and perform various statistical analyses. Different types of continuous distributions, such as the normal distribution, exponential distribution, and uniform distribution, have their own specific PDFs that describe how the values are distributed across their respective ranges."
   ]
  },
  {
   "cell_type": "code",
   "execution_count": 3,
   "id": "3f2646a5-e977-40ad-94a2-fa59f2d47ae4",
   "metadata": {},
   "outputs": [],
   "source": [
    "#Answer 2"
   ]
  },
  {
   "cell_type": "markdown",
   "id": "23c15a10-45c5-4ddf-95d6-bf168d2e9065",
   "metadata": {},
   "source": [
    "Normal Distribution (Gaussian Distribution): This is one of the most well-known distributions. It is characterized by a symmetric bell-shaped curve and is often used to model naturally occurring phenomena like heights, weights, and errors in measurements.\n",
    "\n",
    "Uniform Distribution: In this distribution, all outcomes are equally likely. It is often used to represent situations where each value in a range is equally probable, like rolling a fair die.\n",
    "\n",
    "Exponential Distribution: This distribution is often used to model the time between events in a process known as the memoryless property. It's commonly used for modeling lifetimes, waiting times, and reliability analysis.\n",
    "\n",
    "Poisson Distribution: This distribution is used to model the number of events occurring in a fixed interval of time or space. It's often used in situations where events are rare and random, such as the number of phone calls at a call center in a given hour.\n",
    "\n",
    "Binomial Distribution: It represents the number of successes in a fixed number of independent Bernoulli trials. Bernoulli trials are experiments with two possible outcomes, like flipping a coin.\n",
    "\n",
    "Negative Binomial Distribution: Similar to the binomial distribution, but it models the number of trials needed to achieve a fixed number of successes.\n",
    "\n",
    "Geometric Distribution: A special case of the negative binomial distribution, it models the number of trials needed to achieve the first success.\n",
    "\n",
    "Chi-Square Distribution: It arises in statistical inference and hypothesis testing, particularly in tests of independence and goodness of fit.\n",
    "\n",
    "Student's t-Distribution: This distribution is used in hypothesis testing when the sample size is small or the population standard deviation is unknown.\n",
    "\n",
    "F-Distribution: This distribution is commonly used in ANOVA (analysis of variance) to compare variances of multiple groups.\n",
    "\n",
    "Log-Normal Distribution: It's often used to model variables that are the product of many small independent factors, like financial returns.\n",
    "\n",
    "Weibull Distribution: This distribution is often used to model lifetimes or failure rates of mechanical and electronic systems."
   ]
  },
  {
   "cell_type": "code",
   "execution_count": 4,
   "id": "f7a3bf3e-3ede-470d-946f-0a8a7a293ea2",
   "metadata": {},
   "outputs": [],
   "source": [
    "#Answer 3"
   ]
  },
  {
   "cell_type": "code",
   "execution_count": 5,
   "id": "9354eb35-9b89-403e-a6e3-bf589252fd0f",
   "metadata": {},
   "outputs": [
    {
     "name": "stdout",
     "output_type": "stream",
     "text": [
      "Requirement already satisfied: scipy in /opt/conda/lib/python3.10/site-packages (1.9.3)\n",
      "Requirement already satisfied: numpy<1.26.0,>=1.18.5 in /opt/conda/lib/python3.10/site-packages (from scipy) (1.23.5)\n",
      "Note: you may need to restart the kernel to use updated packages.\n"
     ]
    }
   ],
   "source": [
    "pip install scipy"
   ]
  },
  {
   "cell_type": "code",
   "execution_count": 1,
   "id": "57e6dca2-8202-40a2-ba22-ff169f3758c2",
   "metadata": {},
   "outputs": [
    {
     "name": "stdout",
     "output_type": "stream",
     "text": [
      "PDF at x = 1.5: 0.12951759566589174\n"
     ]
    }
   ],
   "source": [
    "import scipy.stats as stats\n",
    "\n",
    "def normal_pdf(mean, std_dev, x):\n",
    "    \n",
    "    pdf_value = stats.norm.pdf(x, loc=mean, scale=std_dev)\n",
    "    return pdf_value\n",
    "\n",
    "# Example \n",
    "mean = 0  # Mean of the normal distribution\n",
    "std_dev = 1  # Standard deviation of the normal distribution\n",
    "x_value = 1.5  # Point at which to evaluate the PDF\n",
    "\n",
    "pdf_at_x = normal_pdf(mean, std_dev, x_value)\n",
    "print(f\"PDF at x = {x_value}: {pdf_at_x}\")\n"
   ]
  },
  {
   "cell_type": "code",
   "execution_count": 2,
   "id": "7b3118c0-9001-4dea-b6a3-7ddf20c18abd",
   "metadata": {},
   "outputs": [],
   "source": [
    "#Answer 4"
   ]
  },
  {
   "cell_type": "markdown",
   "id": "fe591ba1-dfd2-4a86-902b-f3560d2a1512",
   "metadata": {},
   "source": [
    "The Binomial distribution is a discrete probability distribution that describes the number of successes in a fixed number of independent Bernoulli trials. Here are some key properties of the Binomial distribution:\n",
    "\n",
    "Fixed Number of Trials (n): The distribution is defined for a fixed number of trials or experiments, denoted by 'n'.\n",
    "\n",
    "Independent Trials: Each trial is independent of the others, meaning the outcome of one trial does not affect the outcome of the others.\n",
    "\n",
    "Two Possible Outcomes: Each trial has two possible outcomes: success (usually denoted by 'S') or failure (usually denoted by 'F').\n",
    "\n",
    "Constant Probability of Success (p): The probability of success remains constant for each trial. It's denoted by 'p'.\n",
    "\n",
    "Discrete Random Variable: The random variable in a Binomial distribution is discrete, representing the count of successes in the 'n' trials.\n",
    "\n",
    "Probability Mass Function: The probability of observing exactly 'k' successes in 'n' trials is given by the Binomial probability mass function: P(X = k) = C(n, k) * p^k * (1 - p)^(n - k), where C(n, k) is the binomial coefficient.\n",
    "\n",
    "Mean and Variance: The mean (expected value) of a Binomial distribution is μ = n * p, and the variance is σ^2 = n * p * (1 - p).\n",
    "\n",
    "Examples of events where the Binomial distribution can be applied:\n",
    "\n",
    "Coin Flips: Consider flipping a fair coin ('heads' as success and 'tails' as failure) multiple times. The number of times 'heads' occurs in a fixed number of coin flips follows a Binomial distribution.\n",
    "\n",
    "Quality Control: In a manufacturing process, a product is classified as either defective ('success') or non-defective ('failure'). The number of defective products in a batch of 'n' products can follow a Binomial distribution.\n",
    "\n",
    "Survey Responses: In a survey where respondents answer yes ('success') or no ('failure') to a specific question, the number of 'yes' responses out of a fixed number of participants can follow a Binomial distribution.\n",
    "\n",
    "Website Click-Through Rates: Consider a digital marketing campaign where users can either click ('success') or not click ('failure') on an online ad. The number of clicks in a fixed number of ad views can be modeled using a Binomial distribution."
   ]
  },
  {
   "cell_type": "code",
   "execution_count": null,
   "id": "468debbc-7cfc-4df6-84b1-001cda980d50",
   "metadata": {},
   "outputs": [],
   "source": [
    "#Answer 5"
   ]
  },
  {
   "cell_type": "code",
   "execution_count": 4,
   "id": "6d69aa1c-2635-405f-aca0-1ffdd0ff2d0a",
   "metadata": {},
   "outputs": [
    {
     "data": {
      "image/png": "[encoded data removed]",
      "text/plain": [
       "<Figure size 640x480 with 1 Axes>"
      ]
     },
     "metadata": {},
     "output_type": "display_data"
    }
   ],
   "source": [
    "import numpy as np\n",
    "import matplotlib.pyplot as plt\n",
    "\n",
    "# Parameters for the binomial distribution\n",
    "n = 1000  # Number of trials\n",
    "p = 0.4   # Probability of success\n",
    "\n",
    "# Generate a random sample from the binomial distribution\n",
    "random_sample = np.random.binomial(n, p, size=1000)\n",
    "\n",
    "# Plot a histogram of the random sample\n",
    "plt.hist(random_sample,density=True, alpha=0.6, color='b')\n",
    "plt.title('Histogram of Random Sample from Binomial Distribution')\n",
    "plt.xlabel('Number of Successes')\n",
    "plt.ylabel('Probability Density')\n",
    "plt.grid(True)\n",
    "plt.show()\n"
   ]
  },
  {
   "cell_type": "code",
   "execution_count": 5,
   "id": "0fac2507-f78b-4b31-a412-c52719ec69b8",
   "metadata": {},
   "outputs": [],
   "source": [
    "#Answer 6"
   ]
  },
  {
   "cell_type": "code",
   "execution_count": 6,
   "id": "1fd7a3dc-a046-4d48-b192-48983104f897",
   "metadata": {},
   "outputs": [
    {
     "name": "stdout",
     "output_type": "stream",
     "text": [
      "CDF at x = 2: 0.32084719886213414\n"
     ]
    }
   ],
   "source": [
    "import scipy.stats as stats\n",
    "\n",
    "def poisson_cdf(mean, x):\n",
    "    \n",
    "    cdf_value = stats.poisson.cdf(x, mu=mean)\n",
    "    return cdf_value\n",
    "\n",
    "# Example usage\n",
    "mean = 3.5  # Mean of the Poisson distribution\n",
    "x_value = 2  # Point at which to evaluate the CDF\n",
    "\n",
    "cdf_at_x = poisson_cdf(mean, x_value)\n",
    "print(f\"CDF at x = {x_value}: {cdf_at_x}\")\n"
   ]
  },
  {
   "cell_type": "code",
   "execution_count": 7,
   "id": "0d690f13-f13a-4a83-a972-0d25e754f15e",
   "metadata": {},
   "outputs": [],
   "source": [
    "#Answer 7"
   ]
  },
  {
   "cell_type": "markdown",
   "id": "ba20a59b-73fe-42ce-9a4a-9406d4051285",
   "metadata": {},
   "source": [
    "The Binomial and Poisson distributions are both probability distributions used to model discrete random variables in different scenarios. While they share some similarities, they are distinct in terms of their assumptions and characteristics. Here's how they differ:\n",
    "\n",
    "Number of Trials:\n",
    "\n",
    "Binomial Distribution: The Binomial distribution is used when there is a fixed number of independent trials, denoted as 'n', each with two possible outcomes (success or failure).\n",
    "Poisson Distribution: The Poisson distribution is used when events occur randomly over a continuous interval of time or space. There is no fixed number of trials; events can happen an arbitrary number of times.\n",
    "Nature of Outcomes:\n",
    "\n",
    "Binomial Distribution: Each trial in the Binomial distribution results in one of two possible outcomes, typically labeled as success and failure.\n",
    "Poisson Distribution: The Poisson distribution models the number of events occurring within a fixed interval of time or space. The outcomes are counts of occurrences rather than success/failure.\n",
    "\n",
    "Probability of Success:\n",
    "\n",
    "Binomial Distribution: In each trial, the probability of success (usually denoted as 'p') remains constant.\n",
    "Poisson Distribution: The Poisson distribution does not involve a fixed probability of success. Instead, it is characterized by an average rate of occurrence (λ).\n",
    "Assumptions:\n",
    "\n",
    "Binomial Distribution: Assumes a fixed number of trials, each with a constant probability of success, and that the trials are independent of each other.\n",
    "Poisson Distribution: Assumes that events occur independently and at a constant average rate within a fixed interval.\n",
    "Use Cases:\n",
    "\n",
    "Binomial Distribution: Used for situations where there are a fixed number of trials with two possible outcomes, such as coin flips, repeated independent experiments, or counting successes in a sample.\n",
    "Poisson Distribution: Used for modeling the number of rare events occurring in a fixed interval, such as the number of phone calls received at a call center in an hour or the number of accidents at an intersection in a day.\n",
    "\n",
    "Mean and Variance:\n",
    "\n",
    "Binomial Distribution: The mean (expected value) is μ = n * p, and the variance is σ^2 = n * p * (1 - p).\n",
    "Poisson Distribution: The mean (expected value) and variance are both equal to the average rate of occurrence, i.e., μ = λ and σ^2 = λ.\n",
    "Relationship:\n",
    "\n",
    "The Poisson distribution can be thought of as a limit of the Binomial distribution when the number of trials becomes very large (n → ∞) and the probability of success becomes very small (p → 0), while keeping the product n * p constant.\n",
    "In summary, the Binomial distribution is used for scenarios with a fixed number of trials and a constant probability of success, whereas the Poisson distribution is used for modeling the number of rare events occurring over a continuous interval of time or space."
   ]
  },
  {
   "cell_type": "code",
   "execution_count": 9,
   "id": "80a94179-82f9-4a51-91a4-2caeffefbb06",
   "metadata": {},
   "outputs": [],
   "source": [
    "#Answer 8"
   ]
  },
  {
   "cell_type": "code",
   "execution_count": 16,
   "id": "77e2b319-cbb3-4bdc-9068-62f6572f8f6c",
   "metadata": {},
   "outputs": [
    {
     "name": "stdout",
     "output_type": "stream",
     "text": [
      "Sample Mean: 5.108\n",
      "Sample Variance: 5.291627627627627\n"
     ]
    }
   ],
   "source": [
    "import numpy as np\n",
    "\n",
    "mean = 5 \n",
    "random_sample = np.random.poisson(mean, size=1000)\n",
    "sample_mean = np.mean(random_sample)\n",
    "sample_variance = np.var(random_sample, ddof=1)  # ddof=1 for unbiased estimator\n",
    "\n",
    "print(f\"Sample Mean: {sample_mean}\")\n",
    "print(f\"Sample Variance: {sample_variance}\")\n"
   ]
  },
  {
   "cell_type": "code",
   "execution_count": 17,
   "id": "826e2b3f-78a9-4f1c-bbec-d007a7302d13",
   "metadata": {},
   "outputs": [],
   "source": [
    "#Answer 9"
   ]
  },
  {
   "cell_type": "markdown",
   "id": "a8c2da8a-54b7-4b51-8878-82af336d581e",
   "metadata": {},
   "source": [
    "In both the Binomial and Poisson distributions, the relationship between the mean and variance is influenced by the properties and characteristics of each distribution. However, the nature of this relationship differs between the two distributions.\n",
    "\n",
    "Binomial Distribution:\n",
    "\n",
    "For a Binomial distribution with parameters 'n' (number of trials) and 'p' (probability of success in each trial):\n",
    "\n",
    "Mean (Expected Value): μ = n * p\n",
    "Variance: σ^2 = n * p * (1 - p)\n",
    "In the Binomial distribution, the variance is influenced by both the number of trials 'n' and the probability of success 'p'. As 'p' approaches 0 or 1, the variance decreases, reaching its lowest value when 'p' is exactly 0 or 1. When 'p' is close to 0.5, the variance is maximized.\n",
    "\n",
    "Poisson Distribution:\n",
    "\n",
    "For a Poisson distribution with parameter 'λ' (average rate of occurrence):\n",
    "\n",
    "Mean (Expected Value): μ = λ\n",
    "Variance: σ^2 = λ\n",
    "\n",
    "In the Poisson distribution, the variance is equal to the mean, regardless of the value of 'λ'. Unlike the Binomial distribution, where the variance depends on both 'n' and 'p', the variance in the Poisson distribution is solely determined by the average rate of occurrence 'λ'.\n",
    "\n",
    "Comparison:\n",
    "\n",
    "In summary, for the Binomial distribution, the variance depends on both the number of trials and the probability of success, whereas for the Poisson distribution, the variance is solely determined by the mean (average rate of occurrence). This means that in the Binomial distribution, the variance can vary more widely depending on the value of 'p' and 'n', while in the Poisson distribution, the variance is directly tied to the mean 'λ'."
   ]
  },
  {
   "cell_type": "code",
   "execution_count": 18,
   "id": "6f2fb288-3fd3-453d-8883-4b41df4e5474",
   "metadata": {},
   "outputs": [],
   "source": [
    "#Answer 10"
   ]
  },
  {
   "cell_type": "markdown",
   "id": "5b13c383-caa1-4117-80f2-dd571731180f",
   "metadata": {},
   "source": [
    "In a normal distribution, the data is symmetrically distributed around the mean. This means that the least frequent data points appear in the tails of the distribution, farthest from the mean.\n",
    "\n",
    "Specifically, the data points that are located in the tails of the normal distribution, which are the extreme values, are less frequent compared to the data points that are closer to the mean. The tails of the normal distribution represent the values that are farther away from the center and have lower probabilities of occurring.\n",
    "\n",
    "In a standard normal distribution (a normal distribution with a mean of 0 and a standard deviation of 1), the least frequent data points would appear in the tails, which extend to both the left (negative values) and the right (positive values) of the mean. The farther away from the mean, the less frequent the data points are in a normal distribution."
   ]
  },
  {
   "cell_type": "code",
   "execution_count": null,
   "id": "f3b63409-a71f-4b65-81a8-4fa05416b912",
   "metadata": {},
   "outputs": [],
   "source": []
  }
 ],
 "metadata": {
  "kernelspec": {
   "display_name": "Python 3 (ipykernel)",
   "language": "python",
   "name": "python3"
  },
  "language_info": {
   "codemirror_mode": {
    "name": "ipython",
    "version": 3
   },
   "file_extension": ".py",
   "mimetype": "text/x-python",
   "name": "python",
   "nbconvert_exporter": "python",
   "pygments_lexer": "ipython3",
   "version": "3.10.8"
  }
 },
 "nbformat": 4,
 "nbformat_minor": 5
}
