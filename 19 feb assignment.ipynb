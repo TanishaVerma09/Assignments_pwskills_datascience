{
 "cells": [
  {
   "cell_type": "code",
   "execution_count": 1,
   "id": "5770e450-a692-4530-a1b3-d3db963b5985",
   "metadata": {},
   "outputs": [],
   "source": [
    "#Answer 1"
   ]
  },
  {
   "cell_type": "markdown",
   "id": "547dcfc3-f258-4637-9934-df49d77789a0",
   "metadata": {},
   "source": [
    "Flask is a micro web framework written in Python. It is designed to be simple, lightweight, and flexible, allowing developers to build web applications quickly and easily. Flask does not enforce any specific project structure or dependencies, giving developers the freedom to choose the tools and libraries they prefer.\n",
    "\n",
    "Advantages of using Flask Framework include:\n",
    "Python Integration: Flask is written in Python and leverages its power and simplicity. Developers can take advantage of the rich ecosystem of Python libraries and tools to enhance their Flask applications.\n",
    "\n",
    "Easy to Get Started: Flask provides a simple and intuitive API that makes it easy to get started with web development. The documentation is comprehensive and beginner-friendly, and there are many tutorials and resources available to help newcomers.\n",
    "\n",
    "Scalability: While Flask is designed for small to medium-sized applications, it can be scaled up to handle larger projects by leveraging additional tools and technologies. Flask applications can be easily integrated with other frameworks or microservices as needed.\n",
    "\n",
    "Testing and Debugging: Flask provides a built-in development server and a powerful debugger that simplifies the process of testing and debugging applications. This helps in identifying and fixing issues quickly.\n",
    "\n",
    "Large Community and Ecosystem: Flask has a large and active community of developers, which means there is extensive community support, resources, and a wide range of third-party extensions available. This allows developers to leverage existing solutions and get help when needed."
   ]
  },
  {
   "cell_type": "code",
   "execution_count": 2,
   "id": "993896e3-b36f-4aec-af89-28c150f7dfdf",
   "metadata": {},
   "outputs": [],
   "source": [
    "#Answer 2"
   ]
  },
  {
   "cell_type": "code",
   "execution_count": 1,
   "id": "75d4ebde-dd28-4088-8580-962b6e57f818",
   "metadata": {},
   "outputs": [
    {
     "name": "stdout",
     "output_type": "stream",
     "text": [
      "Requirement already satisfied: flask in /opt/conda/lib/python3.10/site-packages (2.3.2)\n",
      "Requirement already satisfied: itsdangerous>=2.1.2 in /opt/conda/lib/python3.10/site-packages (from flask) (2.1.2)\n",
      "Requirement already satisfied: Werkzeug>=2.3.3 in /opt/conda/lib/python3.10/site-packages (from flask) (2.3.6)\n",
      "Requirement already satisfied: click>=8.1.3 in /opt/conda/lib/python3.10/site-packages (from flask) (8.1.3)\n",
      "Requirement already satisfied: Jinja2>=3.1.2 in /opt/conda/lib/python3.10/site-packages (from flask) (3.1.2)\n",
      "Requirement already satisfied: blinker>=1.6.2 in /opt/conda/lib/python3.10/site-packages (from flask) (1.6.2)\n",
      "Requirement already satisfied: MarkupSafe>=2.0 in /opt/conda/lib/python3.10/site-packages (from Jinja2>=3.1.2->flask) (2.1.1)\n",
      "Note: you may need to restart the kernel to use updated packages.\n"
     ]
    }
   ],
   "source": [
    "pip install flask\n"
   ]
  },
  {
   "cell_type": "code",
   "execution_count": null,
   "id": "8b4926e3-4169-4591-a774-df17777c4762",
   "metadata": {},
   "outputs": [
    {
     "name": "stdout",
     "output_type": "stream",
     "text": [
      " * Serving Flask app '__main__'\n",
      " * Debug mode: off\n"
     ]
    },
    {
     "name": "stderr",
     "output_type": "stream",
     "text": [
      "WARNING: This is a development server. Do not use it in a production deployment. Use a production WSGI server instead.\n",
      " * Running on all addresses (0.0.0.0)\n",
      " * Running on http://127.0.0.1:5000\n",
      " * Running on http://172.18.0.8:5000\n",
      "Press CTRL+C to quit\n",
      "172.18.0.2 - - [02/Jul/2023 15:06:34] \"GET / HTTP/1.1\" 200 -\n",
      "172.18.0.2 - - [02/Jul/2023 15:06:34] \"GET /favicon.ico HTTP/1.1\" 404 -\n"
     ]
    }
   ],
   "source": [
    "from flask import Flask\n",
    "\n",
    "app = Flask(__name__)\n",
    "\n",
    "@app.route(\"/\")\n",
    "def hello_world():\n",
    "    return \"Hello World!!\"\n",
    "\n",
    "if __name__==\"__main__\":\n",
    "    app.run(host=\"0.0.0.0\")\n"
   ]
  },
  {
   "cell_type": "markdown",
   "id": "03830c88-ee20-4e29-bc43-633bade69713",
   "metadata": {},
   "source": [
    "![](output.png)"
   ]
  },
  {
   "cell_type": "code",
   "execution_count": 17,
   "id": "2149ead2-39c1-4d05-865c-221295e69bf2",
   "metadata": {},
   "outputs": [],
   "source": [
    "#Answer 3"
   ]
  },
  {
   "cell_type": "markdown",
   "id": "2d2f4595-f54f-4310-a3de-0b5b7cbaa498",
   "metadata": {},
   "source": [
    "In Flask, app routing refers to the process of mapping URLs to specific functions or views within a Flask application. It determines how different URLs or routes are handled and what response is returned to the client.\n",
    "\n",
    "In Flask, we use app routes to define the different pages or endpoints of our web application. Each route is associated with a specific URL and specifies the function that should be executed when that URL is requested. These functions are often referred to as view functions.\n",
    "\n",
    "Here are a few reasons why we use app routes in Flask:\n",
    "\n",
    "URL Mapping: App routes allow us to define the mapping between URLs and the corresponding functions or views that handle those URLs. This makes it easy to organize and structure our application based on different routes.\n",
    "\n",
    "Request Handling: By using app routes, we can define how the Flask application responds to different HTTP requests, such as GET, POST, PUT, DELETE, etc. Each route can have specific handling logic based on the request method.\n",
    "\n",
    "Dynamic Content: App routes enable us to create dynamic routes that accept parameters in the URL. These parameters can be used to pass data to the view function and generate dynamic content based on user input or other factors.\n",
    "\n",
    "URL Generation: Flask provides URL generation capabilities that allow us to generate URLs dynamically based on the route definitions. This makes it easier to link different pages or endpoints within our application.\n",
    "\n",
    "Separation of Concerns: By using app routes, we can separate different functionalities or features of our application into different view functions. This promotes code organization and maintainability by keeping related code together."
   ]
  },
  {
   "cell_type": "code",
   "execution_count": 18,
   "id": "d28aae2e-9fa2-4036-a4d1-dc87a119a3a6",
   "metadata": {},
   "outputs": [],
   "source": [
    "#Answer 4"
   ]
  },
  {
   "cell_type": "code",
   "execution_count": 20,
   "id": "464a2160-8173-4dad-af8c-28c7479fec5e",
   "metadata": {},
   "outputs": [
    {
     "name": "stdout",
     "output_type": "stream",
     "text": [
      "Collecting flask\n",
      "  Downloading Flask-2.3.2-py3-none-any.whl (96 kB)\n",
      "\u001b[2K     \u001b[90m━━━━━━━━━━━━━━━━━━━━━━━━━━━━━━━━━━━━━━━━\u001b[0m \u001b[32m96.9/96.9 kB\u001b[0m \u001b[31m5.5 MB/s\u001b[0m eta \u001b[36m0:00:00\u001b[0m\n",
      "\u001b[?25hCollecting blinker>=1.6.2\n",
      "  Downloading blinker-1.6.2-py3-none-any.whl (13 kB)\n",
      "Requirement already satisfied: click>=8.1.3 in /opt/conda/lib/python3.10/site-packages (from flask) (8.1.3)\n",
      "Collecting Werkzeug>=2.3.3\n",
      "  Downloading Werkzeug-2.3.6-py3-none-any.whl (242 kB)\n",
      "\u001b[2K     \u001b[90m━━━━━━━━━━━━━━━━━━━━━━━━━━━━━━━━━━━━━━\u001b[0m \u001b[32m242.5/242.5 kB\u001b[0m \u001b[31m28.6 MB/s\u001b[0m eta \u001b[36m0:00:00\u001b[0m\n",
      "\u001b[?25hRequirement already satisfied: Jinja2>=3.1.2 in /opt/conda/lib/python3.10/site-packages (from flask) (3.1.2)\n",
      "Collecting itsdangerous>=2.1.2\n",
      "  Downloading itsdangerous-2.1.2-py3-none-any.whl (15 kB)\n",
      "Requirement already satisfied: MarkupSafe>=2.0 in /opt/conda/lib/python3.10/site-packages (from Jinja2>=3.1.2->flask) (2.1.1)\n",
      "Installing collected packages: Werkzeug, itsdangerous, blinker, flask\n",
      "  Attempting uninstall: blinker\n",
      "    Found existing installation: blinker 1.5\n",
      "    Uninstalling blinker-1.5:\n",
      "      Successfully uninstalled blinker-1.5\n",
      "Successfully installed Werkzeug-2.3.6 blinker-1.6.2 flask-2.3.2 itsdangerous-2.1.2\n",
      "Note: you may need to restart the kernel to use updated packages.\n"
     ]
    }
   ],
   "source": [
    "pip install flask"
   ]
  },
  {
   "cell_type": "code",
   "execution_count": null,
   "id": "9bbc9436-43cb-4f79-a436-81246342e20d",
   "metadata": {},
   "outputs": [
    {
     "name": "stdout",
     "output_type": "stream",
     "text": [
      " * Serving Flask app '__main__'\n",
      " * Debug mode: off\n"
     ]
    },
    {
     "name": "stderr",
     "output_type": "stream",
     "text": [
      "WARNING: This is a development server. Do not use it in a production deployment. Use a production WSGI server instead.\n",
      " * Running on all addresses (0.0.0.0)\n",
      " * Running on http://127.0.0.1:5000\n",
      " * Running on http://172.18.0.7:5000\n",
      "Press CTRL+C to quit\n",
      "172.18.0.2 - - [02/Jul/2023 16:53:13] \"GET / HTTP/1.1\" 200 -\n"
     ]
    }
   ],
   "source": [
    "from flask import Flask\n",
    "\n",
    "obj = Flask(__name__)\n",
    "\n",
    "@obj.route(\"/welcome\")\n",
    "def message():\n",
    "    return \"Welcome to ABC Corporation\"\n",
    "\n",
    "@obj.route(\"/\")\n",
    "def details():\n",
    "    return \"Company Name: ABC Corporation, Location: India, Contact Detail: 999-999-9999\"\n",
    "\n",
    "\n",
    "if __name__==\"__main__\":\n",
    "    obj.run(host=\"0.0.0.0\")\n"
   ]
  },
  {
   "cell_type": "markdown",
   "id": "bcdcafec-c4ed-432d-a4ac-ca9396f74b0b",
   "metadata": {},
   "source": [
    "![](ques4_output.png)"
   ]
  },
  {
   "cell_type": "markdown",
   "id": "722f4dff-6b0e-47db-822f-0ef2a0f0cea7",
   "metadata": {},
   "source": [
    "![](ques4_2ndoutput.png)"
   ]
  },
  {
   "cell_type": "code",
   "execution_count": null,
   "id": "590343c0-17a2-47c6-9e10-18295fe06f8d",
   "metadata": {},
   "outputs": [],
   "source": [
    "#Answer 5"
   ]
  },
  {
   "cell_type": "code",
   "execution_count": 1,
   "id": "0a9cd24c-12d1-4392-942d-bd56a4b34e35",
   "metadata": {},
   "outputs": [
    {
     "name": "stdout",
     "output_type": "stream",
     "text": [
      "Requirement already satisfied: flask in /opt/conda/lib/python3.10/site-packages (2.3.2)\n",
      "Requirement already satisfied: Jinja2>=3.1.2 in /opt/conda/lib/python3.10/site-packages (from flask) (3.1.2)\n",
      "Requirement already satisfied: click>=8.1.3 in /opt/conda/lib/python3.10/site-packages (from flask) (8.1.3)\n",
      "Requirement already satisfied: blinker>=1.6.2 in /opt/conda/lib/python3.10/site-packages (from flask) (1.6.2)\n",
      "Requirement already satisfied: Werkzeug>=2.3.3 in /opt/conda/lib/python3.10/site-packages (from flask) (2.3.6)\n",
      "Requirement already satisfied: itsdangerous>=2.1.2 in /opt/conda/lib/python3.10/site-packages (from flask) (2.1.2)\n",
      "Requirement already satisfied: MarkupSafe>=2.0 in /opt/conda/lib/python3.10/site-packages (from Jinja2>=3.1.2->flask) (2.1.1)\n",
      "Note: you may need to restart the kernel to use updated packages.\n"
     ]
    }
   ],
   "source": [
    "pip install flask"
   ]
  },
  {
   "cell_type": "markdown",
   "id": "1fce5e16-1c5b-4f76-85f9-0c91cdffb626",
   "metadata": {},
   "source": [
    "In Flask, the url_for() function is used for URL building. It generates a URL for a specific function based on its name and arguments. It is commonly used to create URLs for routes within your Flask application."
   ]
  },
  {
   "cell_type": "code",
   "execution_count": 2,
   "id": "bc853ef3-9bbf-4058-87f9-5d4f4d94f5f5",
   "metadata": {},
   "outputs": [
    {
     "name": "stdout",
     "output_type": "stream",
     "text": [
      "Home URL: /\n",
      "About URL: /about\n",
      "Contact URL: /contact\n"
     ]
    }
   ],
   "source": [
    "from flask import Flask, url_for\n",
    "\n",
    "app = Flask(__name__)\n",
    "\n",
    "@app.route('/')\n",
    "def home():\n",
    "    return 'Welcome to the home page!'\n",
    "\n",
    "@app.route('/about')\n",
    "def about():\n",
    "    return 'This is the about page.'\n",
    "\n",
    "@app.route('/contact')\n",
    "def contact():\n",
    "    return 'You can contact us here.'\n",
    "\n",
    "if __name__ == '__main__':\n",
    "    with app.test_request_context():\n",
    "        # Generate URLs using url_for()\n",
    "        home_url = url_for('home')\n",
    "        about_url = url_for('about')\n",
    "        contact_url = url_for('contact')\n",
    "\n",
    "        # Print the generated URLs\n",
    "        print('Home URL:', home_url)\n",
    "        print('About URL:', about_url)\n",
    "        print('Contact URL:', contact_url)\n"
   ]
  },
  {
   "cell_type": "code",
   "execution_count": null,
   "id": "4a8e8d2e-dede-4c7a-b775-3bf3bb7c12ab",
   "metadata": {},
   "outputs": [],
   "source": []
  }
 ],
 "metadata": {
  "kernelspec": {
   "display_name": "Python 3 (ipykernel)",
   "language": "python",
   "name": "python3"
  },
  "language_info": {
   "codemirror_mode": {
    "name": "ipython",
    "version": 3
   },
   "file_extension": ".py",
   "mimetype": "text/x-python",
   "name": "python",
   "nbconvert_exporter": "python",
   "pygments_lexer": "ipython3",
   "version": "3.10.8"
  }
 },
 "nbformat": 4,
 "nbformat_minor": 5
}
